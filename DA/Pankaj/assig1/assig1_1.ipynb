{
 "cells": [
  {
   "metadata": {
    "ExecuteTime": {
     "end_time": "2025-10-07T14:49:33.341126Z",
     "start_time": "2025-10-07T14:49:33.158120Z"
    }
   },
   "cell_type": "code",
   "source": [
    "import numpy as np\n",
    "from fontTools.misc.arrayTools import vectorLength\n",
    "from numpy.ma.core import masked_print_option"
   ],
   "id": "210ae65fdb3fad2c",
   "outputs": [],
   "execution_count": 1
  },
  {
   "metadata": {
    "ExecuteTime": {
     "end_time": "2025-10-07T14:49:33.377943Z",
     "start_time": "2025-10-07T14:49:33.371045Z"
    }
   },
   "cell_type": "code",
   "source": "arr = np.array([-1,0,1,2,3,4,5,6,7,8,9,20,34,67,float('nan'),float('inf'),float('-inf'),3+2j])",
   "id": "30be70efb106e24b",
   "outputs": [],
   "execution_count": 2
  },
  {
   "cell_type": "code",
   "id": "initial_id",
   "metadata": {
    "ExecuteTime": {
     "end_time": "2025-10-07T14:49:33.471129Z",
     "start_time": "2025-10-07T14:49:33.408241Z"
    }
   },
   "source": [
    "# Write a NumPy program to get the numpy version and show numpy build configuration.\n",
    "print(np.__version__, np.show_config())"
   ],
   "outputs": [
    {
     "name": "stdout",
     "output_type": "stream",
     "text": [
      "Build Dependencies:\n",
      "  blas:\n",
      "    detection method: pkgconfig\n",
      "    found: true\n",
      "    include directory: C:/Users/runneradmin/AppData/Local/Temp/cibw-run-5t0hy_xh/cp313-win_amd64/build/venv/Lib/site-packages/scipy_openblas64/include\n",
      "    lib directory: C:/Users/runneradmin/AppData/Local/Temp/cibw-run-5t0hy_xh/cp313-win_amd64/build/venv/Lib/site-packages/scipy_openblas64/lib\n",
      "    name: scipy-openblas\n",
      "    openblas configuration: OpenBLAS 0.3.30  USE64BITINT DYNAMIC_ARCH NO_AFFINITY\n",
      "      Haswell MAX_THREADS=24\n",
      "    pc file directory: D:/a/numpy-release/numpy-release/.openblas\n",
      "    version: 0.3.30\n",
      "  lapack:\n",
      "    detection method: pkgconfig\n",
      "    found: true\n",
      "    include directory: C:/Users/runneradmin/AppData/Local/Temp/cibw-run-5t0hy_xh/cp313-win_amd64/build/venv/Lib/site-packages/scipy_openblas64/include\n",
      "    lib directory: C:/Users/runneradmin/AppData/Local/Temp/cibw-run-5t0hy_xh/cp313-win_amd64/build/venv/Lib/site-packages/scipy_openblas64/lib\n",
      "    name: scipy-openblas\n",
      "    openblas configuration: OpenBLAS 0.3.30  USE64BITINT DYNAMIC_ARCH NO_AFFINITY\n",
      "      Haswell MAX_THREADS=24\n",
      "    pc file directory: D:/a/numpy-release/numpy-release/.openblas\n",
      "    version: 0.3.30\n",
      "Compilers:\n",
      "  c:\n",
      "    commands: cl\n",
      "    linker: link\n",
      "    name: msvc\n",
      "    version: 19.44.35215\n",
      "  c++:\n",
      "    commands: cl\n",
      "    linker: link\n",
      "    name: msvc\n",
      "    version: 19.44.35215\n",
      "  cython:\n",
      "    commands: cython\n",
      "    linker: cython\n",
      "    name: cython\n",
      "    version: 3.1.3\n",
      "Machine Information:\n",
      "  build:\n",
      "    cpu: x86_64\n",
      "    endian: little\n",
      "    family: x86_64\n",
      "    system: windows\n",
      "  host:\n",
      "    cpu: x86_64\n",
      "    endian: little\n",
      "    family: x86_64\n",
      "    system: windows\n",
      "Python Information:\n",
      "  path: C:\\Users\\runneradmin\\AppData\\Local\\Temp\\build-env-q3zde7n4\\Scripts\\python.exe\n",
      "  version: '3.13'\n",
      "SIMD Extensions:\n",
      "  baseline:\n",
      "  - SSE\n",
      "  - SSE2\n",
      "  - SSE3\n",
      "  found:\n",
      "  - SSSE3\n",
      "  - SSE41\n",
      "  - POPCNT\n",
      "  - SSE42\n",
      "  - AVX\n",
      "  - F16C\n",
      "  - FMA3\n",
      "  - AVX2\n",
      "  - AVX512F\n",
      "  - AVX512CD\n",
      "  - AVX512_SKX\n",
      "  - AVX512_CLX\n",
      "  not found:\n",
      "  - AVX512_CNL\n",
      "  - AVX512_ICL\n",
      "\n",
      "2.3.3 None\n"
     ]
    }
   ],
   "execution_count": 3
  },
  {
   "metadata": {
    "ExecuteTime": {
     "end_time": "2025-10-07T14:49:33.515242Z",
     "start_time": "2025-10-07T14:49:33.505277Z"
    }
   },
   "cell_type": "code",
   "source": [
    "# Write a NumPy program to get help on the add function.\n",
    "print(help(np.add))"
   ],
   "id": "22a3afed426e12f5",
   "outputs": [
    {
     "name": "stdout",
     "output_type": "stream",
     "text": [
      "Help on ufunc in module numpy:\n",
      "\n",
      "add = <ufunc 'add'>\n",
      "    add(x1, x2, /, out=None, *, where=True, casting='same_kind', order='K', dtype=None, subok=True[, signature])\n",
      "\n",
      "    Add arguments element-wise.\n",
      "\n",
      "    Parameters\n",
      "    ----------\n",
      "    x1, x2 : array_like\n",
      "        The arrays to be added.\n",
      "        If ``x1.shape != x2.shape``, they must be broadcastable to a common\n",
      "        shape (which becomes the shape of the output).\n",
      "    out : ndarray, None, or tuple of ndarray and None, optional\n",
      "        A location into which the result is stored. If provided, it must have\n",
      "        a shape that the inputs broadcast to. If not provided or None,\n",
      "        a freshly-allocated array is returned. A tuple (possible only as a\n",
      "        keyword argument) must have length equal to the number of outputs.\n",
      "    where : array_like, optional\n",
      "        This condition is broadcast over the input. At locations where the\n",
      "        condition is True, the `out` array will be set to the ufunc result.\n",
      "        Elsewhere, the `out` array will retain its original value.\n",
      "        Note that if an uninitialized `out` array is created via the default\n",
      "        ``out=None``, locations within it where the condition is False will\n",
      "        remain uninitialized.\n",
      "    **kwargs\n",
      "        For other keyword-only arguments, see the\n",
      "        :ref:`ufunc docs <ufuncs.kwargs>`.\n",
      "\n",
      "    Returns\n",
      "    -------\n",
      "    add : ndarray or scalar\n",
      "        The sum of `x1` and `x2`, element-wise.\n",
      "        This is a scalar if both `x1` and `x2` are scalars.\n",
      "\n",
      "    Notes\n",
      "    -----\n",
      "    Equivalent to `x1` + `x2` in terms of array broadcasting.\n",
      "\n",
      "    Examples\n",
      "    --------\n",
      "    >>> import numpy as np\n",
      "    >>> np.add(1.0, 4.0)\n",
      "    5.0\n",
      "    >>> x1 = np.arange(9.0).reshape((3, 3))\n",
      "    >>> x2 = np.arange(3.0)\n",
      "    >>> np.add(x1, x2)\n",
      "    array([[  0.,   2.,   4.],\n",
      "           [  3.,   5.,   7.],\n",
      "           [  6.,   8.,  10.]])\n",
      "\n",
      "    The ``+`` operator can be used as a shorthand for ``np.add`` on ndarrays.\n",
      "\n",
      "    >>> x1 = np.arange(9.0).reshape((3, 3))\n",
      "    >>> x2 = np.arange(3.0)\n",
      "    >>> x1 + x2\n",
      "    array([[ 0.,  2.,  4.],\n",
      "           [ 3.,  5.,  7.],\n",
      "           [ 6.,  8., 10.]])\n",
      "\n",
      "None\n"
     ]
    }
   ],
   "execution_count": 4
  },
  {
   "metadata": {
    "ExecuteTime": {
     "end_time": "2025-10-07T14:49:33.639522Z",
     "start_time": "2025-10-07T14:49:33.629441Z"
    }
   },
   "cell_type": "code",
   "source": [
    "# Write a NumPy program to test whether none of the elements of a given array is zero.\n",
    "print(\"It contains zero element/s\") if((arr==0).any())  else print(\"It doesn't contain any zero\")"
   ],
   "id": "4b021dd136d6d359",
   "outputs": [
    {
     "name": "stdout",
     "output_type": "stream",
     "text": [
      "It contains zero element/s\n"
     ]
    }
   ],
   "execution_count": 5
  },
  {
   "metadata": {
    "ExecuteTime": {
     "end_time": "2025-10-07T14:49:33.792167Z",
     "start_time": "2025-10-07T14:49:33.782927Z"
    }
   },
   "cell_type": "code",
   "source": [
    "# Write a NumPy program to test whether any of the elements of a given array is non-zero.\n",
    "print(\"It has non-zero element/s\") if((arr!=0).any())  else print(\"It doesn't contain non-zero elements\")"
   ],
   "id": "9142bcb7861b8c4e",
   "outputs": [
    {
     "name": "stdout",
     "output_type": "stream",
     "text": [
      "It has non-zero element/s\n"
     ]
    }
   ],
   "execution_count": 6
  },
  {
   "metadata": {
    "ExecuteTime": {
     "end_time": "2025-10-07T14:49:33.915654Z",
     "start_time": "2025-10-07T14:49:33.904921Z"
    }
   },
   "cell_type": "code",
   "source": [
    "# Write a NumPy program to test a given array element-wise for finiteness (not infinity or not a\n",
    "# Number).\n",
    "print(\"Contains infinity or not a number\") if(np.any(np.isinf(arr)) or np.any(np.isna(arr))) else print(\"Doesnt contain infinity or NaN\")"
   ],
   "id": "2108cd05cd813e2e",
   "outputs": [
    {
     "name": "stdout",
     "output_type": "stream",
     "text": [
      "Contains infinity or not a number\n"
     ]
    }
   ],
   "execution_count": 7
  },
  {
   "metadata": {
    "ExecuteTime": {
     "end_time": "2025-10-07T14:49:33.978997Z",
     "start_time": "2025-10-07T14:49:33.961290Z"
    }
   },
   "cell_type": "code",
   "source": [
    "# Write a NumPy program to test element-wise for positive or negative infinity.\n",
    "arr2 = [True if np.isinf(n) else False for n in arr]\n",
    "arr2"
   ],
   "id": "939686c51ea2210c",
   "outputs": [
    {
     "data": {
      "text/plain": [
       "[False,\n",
       " False,\n",
       " False,\n",
       " False,\n",
       " False,\n",
       " False,\n",
       " False,\n",
       " False,\n",
       " False,\n",
       " False,\n",
       " False,\n",
       " False,\n",
       " False,\n",
       " False,\n",
       " False,\n",
       " True,\n",
       " True,\n",
       " False]"
      ]
     },
     "execution_count": 8,
     "metadata": {},
     "output_type": "execute_result"
    }
   ],
   "execution_count": 8
  },
  {
   "metadata": {
    "ExecuteTime": {
     "end_time": "2025-10-07T14:49:34.089150Z",
     "start_time": "2025-10-07T14:49:34.077526Z"
    }
   },
   "cell_type": "code",
   "source": [
    "# Write a NumPy program to test element-wise for NaN of a given array.\n",
    "arr2 = [True if np.isnan(n) else False for n in arr]\n",
    "arr2"
   ],
   "id": "4a6e04c8513ecff5",
   "outputs": [
    {
     "data": {
      "text/plain": [
       "[False,\n",
       " False,\n",
       " False,\n",
       " False,\n",
       " False,\n",
       " False,\n",
       " False,\n",
       " False,\n",
       " False,\n",
       " False,\n",
       " False,\n",
       " False,\n",
       " False,\n",
       " False,\n",
       " True,\n",
       " False,\n",
       " False,\n",
       " False]"
      ]
     },
     "execution_count": 9,
     "metadata": {},
     "output_type": "execute_result"
    }
   ],
   "execution_count": 9
  },
  {
   "metadata": {
    "ExecuteTime": {
     "end_time": "2025-10-07T14:49:34.135557Z",
     "start_time": "2025-10-07T14:49:34.129541Z"
    }
   },
   "cell_type": "code",
   "source": [
    "# Write a NumPy program to test element-wise for complex number, real number of a given array.\n",
    "arr2 = [True if np.iscomplex(n) else False for n in arr]\n",
    "arr2"
   ],
   "id": "84b099bd6ce9fbd8",
   "outputs": [
    {
     "data": {
      "text/plain": [
       "[False,\n",
       " False,\n",
       " False,\n",
       " False,\n",
       " False,\n",
       " False,\n",
       " False,\n",
       " False,\n",
       " False,\n",
       " False,\n",
       " False,\n",
       " False,\n",
       " False,\n",
       " False,\n",
       " False,\n",
       " False,\n",
       " False,\n",
       " True]"
      ]
     },
     "execution_count": 10,
     "metadata": {},
     "output_type": "execute_result"
    }
   ],
   "execution_count": 10
  },
  {
   "metadata": {
    "ExecuteTime": {
     "end_time": "2025-10-07T14:49:34.205675Z",
     "start_time": "2025-10-07T14:49:34.195173Z"
    }
   },
   "cell_type": "code",
   "source": [
    "# Also test whether a given number is a scalar type or not.\n",
    "arri2 = [1,2,3,'python',[1,2,3],[1,2]]\n",
    "print(True if np.isscalar(arri2) else False)"
   ],
   "id": "ca5a4baa159567a",
   "outputs": [
    {
     "name": "stdout",
     "output_type": "stream",
     "text": [
      "False\n"
     ]
    }
   ],
   "execution_count": 11
  },
  {
   "metadata": {
    "ExecuteTime": {
     "end_time": "2025-10-07T14:49:34.253072Z",
     "start_time": "2025-10-07T14:49:34.239356Z"
    }
   },
   "cell_type": "code",
   "source": [
    "# Write a NumPy program to create an element-wise comparison (greater, greater_equal, less and\n",
    "# less_equal) of two given arrays.\n",
    "arri3 = np.array([1,2,3,4,5,6])\n",
    "arri4 = np.array([5,68,39,1,0,-1])\n",
    "# print(np.equal(arri3,arri4))\n",
    "# print(np.less(arri3,arri4))\n",
    "[True if n >m else False for n,m in zip(arri3,arri4)],[True if n >= m else False for n,m in zip(arri3,arri4)],[True if n < m else False for n,m in zip(arri3,arri4)],[True if n <=m else False for n,m in zip(arri3,arri4)]"
   ],
   "id": "d49b4b4e32d77dc5",
   "outputs": [
    {
     "data": {
      "text/plain": [
       "([False, False, False, True, True, True],\n",
       " [False, False, False, True, True, True],\n",
       " [True, True, True, False, False, False],\n",
       " [True, True, True, False, False, False])"
      ]
     },
     "execution_count": 12,
     "metadata": {},
     "output_type": "execute_result"
    }
   ],
   "execution_count": 12
  },
  {
   "metadata": {
    "ExecuteTime": {
     "end_time": "2025-10-07T14:49:34.320372Z",
     "start_time": "2025-10-07T14:49:34.308155Z"
    }
   },
   "cell_type": "code",
   "source": [
    "# Write a NumPy program to create an array with the values 1, 7, 13, 105 and determine the size of\n",
    "# the memory occupied by the array.\n",
    "arri3 = np.array([1, 7, 13, 105])\n",
    "arri3.nbytes"
   ],
   "id": "698fb32c5c336629",
   "outputs": [
    {
     "data": {
      "text/plain": [
       "32"
      ]
     },
     "execution_count": 13,
     "metadata": {},
     "output_type": "execute_result"
    }
   ],
   "execution_count": 13
  },
  {
   "metadata": {
    "ExecuteTime": {
     "end_time": "2025-10-07T14:49:34.366992Z",
     "start_time": "2025-10-07T14:49:34.355078Z"
    }
   },
   "cell_type": "code",
   "source": [
    "# Write a NumPy program to create an array of 10 zeros,10 ones, 10 fives.\n",
    "np.hstack([np.zeros(10),np.ones(10),np.full(10,5)])"
   ],
   "id": "97914669e492abdd",
   "outputs": [
    {
     "data": {
      "text/plain": [
       "array([0., 0., 0., 0., 0., 0., 0., 0., 0., 0., 1., 1., 1., 1., 1., 1., 1.,\n",
       "       1., 1., 1., 5., 5., 5., 5., 5., 5., 5., 5., 5., 5.])"
      ]
     },
     "execution_count": 14,
     "metadata": {},
     "output_type": "execute_result"
    }
   ],
   "execution_count": 14
  },
  {
   "metadata": {
    "ExecuteTime": {
     "end_time": "2025-10-07T14:49:34.402824Z",
     "start_time": "2025-10-07T14:49:34.395560Z"
    }
   },
   "cell_type": "code",
   "source": [
    "# Write a NumPy program to create an array of the integers from 30 to70.\n",
    "np.arange(30,71)"
   ],
   "id": "ae8abeff7f54dbab",
   "outputs": [
    {
     "data": {
      "text/plain": [
       "array([30, 31, 32, 33, 34, 35, 36, 37, 38, 39, 40, 41, 42, 43, 44, 45, 46,\n",
       "       47, 48, 49, 50, 51, 52, 53, 54, 55, 56, 57, 58, 59, 60, 61, 62, 63,\n",
       "       64, 65, 66, 67, 68, 69, 70])"
      ]
     },
     "execution_count": 15,
     "metadata": {},
     "output_type": "execute_result"
    }
   ],
   "execution_count": 15
  },
  {
   "metadata": {
    "ExecuteTime": {
     "end_time": "2025-10-07T14:49:34.463094Z",
     "start_time": "2025-10-07T14:49:34.450761Z"
    }
   },
   "cell_type": "code",
   "source": [
    "# Write a NumPy program to create an array of all the even integers from 30 to 70.\n",
    "#print(np.arange(30,71,2))\n",
    "arro2 = np.arange(30,71)\n",
    "arro2[arro2%2==0]"
   ],
   "id": "42f0f19a99ddb5a6",
   "outputs": [
    {
     "data": {
      "text/plain": [
       "array([30, 32, 34, 36, 38, 40, 42, 44, 46, 48, 50, 52, 54, 56, 58, 60, 62,\n",
       "       64, 66, 68, 70])"
      ]
     },
     "execution_count": 16,
     "metadata": {},
     "output_type": "execute_result"
    }
   ],
   "execution_count": 16
  },
  {
   "metadata": {
    "ExecuteTime": {
     "end_time": "2025-10-07T14:49:34.497076Z",
     "start_time": "2025-10-07T14:49:34.489515Z"
    }
   },
   "cell_type": "code",
   "source": [
    "# Write a NumPy program to create a 3x3 identity matrix.\n",
    "np.eye(3,3)"
   ],
   "id": "bf17c6f587728304",
   "outputs": [
    {
     "data": {
      "text/plain": [
       "array([[1., 0., 0.],\n",
       "       [0., 1., 0.],\n",
       "       [0., 0., 1.]])"
      ]
     },
     "execution_count": 17,
     "metadata": {},
     "output_type": "execute_result"
    }
   ],
   "execution_count": 17
  },
  {
   "metadata": {
    "ExecuteTime": {
     "end_time": "2025-10-07T14:49:34.644426Z",
     "start_time": "2025-10-07T14:49:34.566476Z"
    }
   },
   "cell_type": "code",
   "source": [
    "# Write a NumPy program to generate a random number between 0 and 1.\n",
    "np.random.random()"
   ],
   "id": "7362c7d9c71cf084",
   "outputs": [
    {
     "data": {
      "text/plain": [
       "0.8156892805596375"
      ]
     },
     "execution_count": 18,
     "metadata": {},
     "output_type": "execute_result"
    }
   ],
   "execution_count": 18
  },
  {
   "metadata": {
    "ExecuteTime": {
     "end_time": "2025-10-07T14:49:36.415163Z",
     "start_time": "2025-10-07T14:49:36.400847Z"
    }
   },
   "cell_type": "code",
   "source": [
    "# Write a NumPy program to generate an array of 15 random numbers from a standard normal\n",
    "# distribution.\n",
    "np.random.normal(loc=0, scale=1, size=15)"
   ],
   "id": "961f10898e2bbc01",
   "outputs": [
    {
     "data": {
      "text/plain": [
       "array([-0.3786421 ,  0.00503379,  0.30502676,  1.47166865,  0.94409794,\n",
       "       -0.00295276,  0.29173773,  0.73357808,  0.92678848,  0.39730277,\n",
       "        0.57777517,  0.86995311,  1.82038861, -0.85368733, -0.18959936])"
      ]
     },
     "execution_count": 19,
     "metadata": {},
     "output_type": "execute_result"
    }
   ],
   "execution_count": 19
  },
  {
   "metadata": {
    "ExecuteTime": {
     "end_time": "2025-10-07T14:49:36.795320Z",
     "start_time": "2025-10-07T14:49:36.787042Z"
    }
   },
   "cell_type": "code",
   "source": [
    "# Write a NumPy program to create a vector with values ranging from 15 to 55 and print all values\n",
    "# except the first and last.\n",
    "# np.linspace(15,55,39.5)\n",
    "arro2 = np.arange(15,56)\n",
    "arro2[1:-1]"
   ],
   "id": "e8484386d4d331cb",
   "outputs": [
    {
     "data": {
      "text/plain": [
       "array([16, 17, 18, 19, 20, 21, 22, 23, 24, 25, 26, 27, 28, 29, 30, 31, 32,\n",
       "       33, 34, 35, 36, 37, 38, 39, 40, 41, 42, 43, 44, 45, 46, 47, 48, 49,\n",
       "       50, 51, 52, 53, 54])"
      ]
     },
     "execution_count": 20,
     "metadata": {},
     "output_type": "execute_result"
    }
   ],
   "execution_count": 20
  },
  {
   "metadata": {
    "ExecuteTime": {
     "end_time": "2025-10-07T14:49:37.147584Z",
     "start_time": "2025-10-07T14:49:37.140428Z"
    }
   },
   "cell_type": "code",
   "source": [
    "# Write a NumPy program to create a 3X4 array using and iterate over it.\n",
    "arro2 = np.array([[1,2,3,4],[2,3,4,5],[3,4,5,6]])\n",
    "# print([i for n in arro2 for i in n])\n",
    "for n in np.nditer(arro2): print(n, end=' ')"
   ],
   "id": "712dfb6df60b2e7c",
   "outputs": [
    {
     "name": "stdout",
     "output_type": "stream",
     "text": [
      "1 2 3 4 2 3 4 5 3 4 5 6 "
     ]
    }
   ],
   "execution_count": 21
  },
  {
   "metadata": {
    "ExecuteTime": {
     "end_time": "2025-10-07T14:49:37.313562Z",
     "start_time": "2025-10-07T14:49:37.306275Z"
    }
   },
   "cell_type": "code",
   "source": [
    "# Write a NumPy program to create a vector of length 10 with values evenly distributed between 5\n",
    "# and 50.\n",
    "np.linspace(5,50,10)"
   ],
   "id": "fca0e5a2fe7ad925",
   "outputs": [
    {
     "data": {
      "text/plain": [
       "array([ 5., 10., 15., 20., 25., 30., 35., 40., 45., 50.])"
      ]
     },
     "execution_count": 22,
     "metadata": {},
     "output_type": "execute_result"
    }
   ],
   "execution_count": 22
  },
  {
   "metadata": {
    "ExecuteTime": {
     "end_time": "2025-10-07T14:49:37.413467Z",
     "start_time": "2025-10-07T14:49:37.395424Z"
    }
   },
   "cell_type": "code",
   "source": [
    "# Write a NumPy program to create a vector with values from 0 to 20 and change the sign of the\n",
    "# numbers in the range from 9 to 15.\n",
    "vector= np.arange(0,21)\n",
    "vector = vector[(vector>=9) & (vector<=15)]*-1\n",
    "vector\n",
    "\n",
    "vector = np.arange(0,21)\n",
    "np.where((vector>=9) & (vector<=15),-vector,vector)\n",
    "\n",
    "#np.negative()"
   ],
   "id": "4f08a24abb3a5685",
   "outputs": [
    {
     "data": {
      "text/plain": [
       "array([  0,   1,   2,   3,   4,   5,   6,   7,   8,  -9, -10, -11, -12,\n",
       "       -13, -14, -15,  16,  17,  18,  19,  20])"
      ]
     },
     "execution_count": 23,
     "metadata": {},
     "output_type": "execute_result"
    }
   ],
   "execution_count": 23
  },
  {
   "metadata": {
    "ExecuteTime": {
     "end_time": "2025-10-07T14:49:37.484821Z",
     "start_time": "2025-10-07T14:49:37.470776Z"
    }
   },
   "cell_type": "code",
   "source": [
    "# Write a NumPy program to create a vector of length 5 filled with arbitrary integers from 0 to 10.\n",
    "# np.random.choice(['he','she','me','they'],size=2)\n",
    "np.random.randint(0,11,size =5)"
   ],
   "id": "d981fe146490582b",
   "outputs": [
    {
     "data": {
      "text/plain": [
       "array([4, 4, 3, 5, 0], dtype=int32)"
      ]
     },
     "execution_count": 24,
     "metadata": {},
     "output_type": "execute_result"
    }
   ],
   "execution_count": 24
  },
  {
   "metadata": {
    "ExecuteTime": {
     "end_time": "2025-10-07T14:49:37.569142Z",
     "start_time": "2025-10-07T14:49:37.555237Z"
    }
   },
   "cell_type": "code",
   "source": [
    "# Write a NumPy program to multiply the values of two given vectors.\n",
    "arri3 = np.array([1,2,3,4])\n",
    "arri4 = np.array([4,3,2,1])\n",
    "# np.multiply(arri3,arri4)\n",
    "arri3 * arri4"
   ],
   "id": "9c93b3e1b39e761b",
   "outputs": [
    {
     "data": {
      "text/plain": [
       "array([4, 6, 6, 4])"
      ]
     },
     "execution_count": 25,
     "metadata": {},
     "output_type": "execute_result"
    }
   ],
   "execution_count": 25
  },
  {
   "metadata": {},
   "cell_type": "code",
   "source": [
    "# Write a NumPy program to create a 3x4 matrix filled with values from 10 to 21.\n",
    "arro2 = np.random.choice(range(10,22),(3,4),replace=False)"
   ],
   "id": "733b28004b714a8c",
   "execution_count": null,
   "outputs": []
  },
  {
   "metadata": {},
   "cell_type": "code",
   "source": [
    "# Write a NumPy program to find the number of rows and columns of a given matrix.\n",
    "np.size(arro2,0)\n",
    "np.size(arro2,1)"
   ],
   "id": "2a49132fc15c9c94",
   "execution_count": null,
   "outputs": []
  },
  {
   "metadata": {},
   "cell_type": "code",
   "source": [
    "# Write a NumPy program to create a 3x3 identity matrix, i.e. diagonal elements are 1, the rest are 0\n",
    "np.eye(3,3)"
   ],
   "id": "513db78cb29e1059",
   "execution_count": null,
   "outputs": []
  },
  {
   "metadata": {},
   "cell_type": "code",
   "source": [
    "# Write a NumPy program to create a 10x10 matrix, in which the elements on the borders will be\n",
    "# equal to 1, and inside 0.\n",
    "matrix = np.zeros((10,10),dtype = int)\n",
    "matrix[[0,-1],:]=1\n",
    "matrix[:,[0,-1]] = 1\n",
    "print(matrix)"
   ],
   "id": "c159968c50300e75",
   "execution_count": null,
   "outputs": []
  },
  {
   "metadata": {
    "ExecuteTime": {
     "end_time": "2025-10-07T15:23:06.233970Z",
     "start_time": "2025-10-07T15:23:06.227603Z"
    }
   },
   "cell_type": "code",
   "source": [
    "# Write a NumPy program to create a 5x5 zero matrix with elements on the main diagonal equal to 1,\n",
    "# 2, 3, 4, 5.\n",
    "matrix = np.eye(5,5)\n",
    "# for i in range(len(matrix)):\n",
    "    # matrix[i]*=(i+1)\n",
    "\n",
    "#matrix = np.diag([1,2,3,4,5])\n",
    "\n",
    "matrix = np.eye(5)*np.array([1,2,3,4,5])\n",
    "print(matrix)\n",
    "\n"
   ],
   "id": "ca1c40ba5c3b1c68",
   "outputs": [
    {
     "name": "stdout",
     "output_type": "stream",
     "text": [
      "[[1. 0. 0. 0. 0.]\n",
      " [0. 2. 0. 0. 0.]\n",
      " [0. 0. 3. 0. 0.]\n",
      " [0. 0. 0. 4. 0.]\n",
      " [0. 0. 0. 0. 5.]]\n"
     ]
    }
   ],
   "execution_count": 42
  },
  {
   "metadata": {
    "ExecuteTime": {
     "end_time": "2025-10-07T15:47:04.901917Z",
     "start_time": "2025-10-07T15:47:04.893437Z"
    }
   },
   "cell_type": "code",
   "source": [
    "# Write a NumPy program to create a 4x4 matrix in which 0 and 1 are staggered, with zeros on the\n",
    "# main diagonal.\n",
    "row_mat,col_mat = np.ogrid[:4,:4]\n",
    "matrix = (row_mat+col_mat)%2\n",
    "print(matrix)"
   ],
   "id": "b0e4b4c889222a1",
   "outputs": [
    {
     "name": "stdout",
     "output_type": "stream",
     "text": [
      "[[0 1 0 1]\n",
      " [1 0 1 0]\n",
      " [0 1 0 1]\n",
      " [1 0 1 0]]\n"
     ]
    }
   ],
   "execution_count": 48
  },
  {
   "metadata": {
    "ExecuteTime": {
     "end_time": "2025-10-07T15:51:15.646568Z",
     "start_time": "2025-10-07T15:51:15.585216Z"
    }
   },
   "cell_type": "code",
   "source": [
    "# Write a NumPy program to create a 3x3x3 array filled with arbitrary values.\n",
    "np.random.randint(0,size= (3,3,3))\n",
    "# Write a NumPy program to compute sum of all elements, sum of each column and sum of each row\n",
    "# of a given array.\n",
    "# Write a NumPy program to compute the inner product of two given vectors.\n",
    "# Write a NumPy program to add a vector to each row of a given matrix.\n",
    "# Write a NumPy program to compute the x and y coordinates for points on a sine curve and plot the\n",
    "# points using matplotlib.\n",
    "# Write a NumPy program to convert numpy dtypes to native python types.\n",
    "# Write a NumPy program to find the missing data in a given array.\n",
    "# Write a NumPy program to sort a given array by row and column in ascending order.\n",
    "# Write a NumPy program to extract all numbers from a given array which are less and greater than a\n",
    "# specified number.\n",
    "# Write a NumPy program to replace all numbers in a given array which is equal, less and greater to a\n",
    "# given number.\n",
    "# Write a NumPy program to create an array of equal shape and data type of a given array.\n",
    "# Write a NumPy program to create a three-dimension array with shape (3,5,4) and set to a variable.\n",
    "# Write a NumPy program to multiply two given arrays of same size element-by-element."
   ],
   "id": "660c4abe8d5f376b",
   "outputs": [
    {
     "ename": "ValueError",
     "evalue": "high <= 0",
     "output_type": "error",
     "traceback": [
      "\u001B[31m---------------------------------------------------------------------------\u001B[39m",
      "\u001B[31mValueError\u001B[39m                                Traceback (most recent call last)",
      "\u001B[36mCell\u001B[39m\u001B[36m \u001B[39m\u001B[32mIn[49]\u001B[39m\u001B[32m, line 2\u001B[39m\n\u001B[32m      1\u001B[39m \u001B[38;5;66;03m# Write a NumPy program to create a 3x3x3 array filled with arbitrary values.\u001B[39;00m\n\u001B[32m----> \u001B[39m\u001B[32m2\u001B[39m \u001B[43mnp\u001B[49m\u001B[43m.\u001B[49m\u001B[43mrandom\u001B[49m\u001B[43m.\u001B[49m\u001B[43mrandint\u001B[49m\u001B[43m(\u001B[49m\u001B[32;43m0\u001B[39;49m\u001B[43m,\u001B[49m\u001B[43msize\u001B[49m\u001B[43m=\u001B[49m\u001B[43m \u001B[49m\u001B[43m(\u001B[49m\u001B[32;43m3\u001B[39;49m\u001B[43m,\u001B[49m\u001B[32;43m3\u001B[39;49m\u001B[43m,\u001B[49m\u001B[32;43m3\u001B[39;49m\u001B[43m)\u001B[49m\u001B[43m)\u001B[49m\n\u001B[32m      3\u001B[39m \u001B[38;5;66;03m# Write a NumPy program to compute sum of all elements, sum of each column and sum of each row\u001B[39;00m\n\u001B[32m      4\u001B[39m \u001B[38;5;66;03m# of a given array.\u001B[39;00m\n\u001B[32m      5\u001B[39m \u001B[38;5;66;03m# Write a NumPy program to compute the inner product of two given vectors.\u001B[39;00m\n\u001B[32m   (...)\u001B[39m\u001B[32m     17\u001B[39m \u001B[38;5;66;03m# Write a NumPy program to create a three-dimension array with shape (3,5,4) and set to a variable.\u001B[39;00m\n\u001B[32m     18\u001B[39m \u001B[38;5;66;03m# Write a NumPy program to multiply two given arrays of same size element-by-element.\u001B[39;00m\n",
      "\u001B[36mFile \u001B[39m\u001B[32mnumpy/random/mtrand.pyx:794\u001B[39m, in \u001B[36mnumpy.random.mtrand.RandomState.randint\u001B[39m\u001B[34m()\u001B[39m\n",
      "\u001B[36mFile \u001B[39m\u001B[32mnumpy/random/_bounded_integers.pyx:2885\u001B[39m, in \u001B[36mnumpy.random._bounded_integers._rand_int32\u001B[39m\u001B[34m()\u001B[39m\n",
      "\u001B[31mValueError\u001B[39m: high <= 0"
     ]
    }
   ],
   "execution_count": 49
  },
  {
   "metadata": {
    "ExecuteTime": {
     "end_time": "2025-10-07T14:49:37.711930Z",
     "start_time": "2025-10-07T14:49:37.706294Z"
    }
   },
   "cell_type": "code",
   "source": "",
   "id": "2180e796f21074d2",
   "outputs": [],
   "execution_count": null
  },
  {
   "metadata": {
    "ExecuteTime": {
     "end_time": "2025-10-07T14:49:37.762812Z",
     "start_time": "2025-10-07T14:49:37.756954Z"
    }
   },
   "cell_type": "code",
   "source": "",
   "id": "bf06019c5dfae199",
   "outputs": [],
   "execution_count": null
  }
 ],
 "metadata": {
  "kernelspec": {
   "display_name": "Python 3",
   "language": "python",
   "name": "python3"
  },
  "language_info": {
   "codemirror_mode": {
    "name": "ipython",
    "version": 2
   },
   "file_extension": ".py",
   "mimetype": "text/x-python",
   "name": "python",
   "nbconvert_exporter": "python",
   "pygments_lexer": "ipython2",
   "version": "2.7.6"
  }
 },
 "nbformat": 4,
 "nbformat_minor": 5
}
