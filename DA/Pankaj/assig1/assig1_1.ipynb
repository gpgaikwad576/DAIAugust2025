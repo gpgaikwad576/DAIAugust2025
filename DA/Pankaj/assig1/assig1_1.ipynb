{
 "cells": [
  {
   "metadata": {
    "ExecuteTime": {
     "end_time": "2025-10-04T17:31:56.319653Z",
     "start_time": "2025-10-04T17:31:56.178815Z"
    }
   },
   "cell_type": "code",
   "source": "import numpy as np",
   "id": "210ae65fdb3fad2c",
   "outputs": [],
   "execution_count": 2
  },
  {
   "metadata": {
    "ExecuteTime": {
     "end_time": "2025-10-04T17:55:05.393892Z",
     "start_time": "2025-10-04T17:55:05.388368Z"
    }
   },
   "cell_type": "code",
   "source": "arr = np.array([-1,0,1,2,3,4,5,6,7,8,9,20,34,67,float('nan'),float('inf')])",
   "id": "30be70efb106e24b",
   "outputs": [],
   "execution_count": 16
  },
  {
   "cell_type": "code",
   "id": "initial_id",
   "metadata": {
    "collapsed": true,
    "ExecuteTime": {
     "end_time": "2025-10-04T17:44:51.238628Z",
     "start_time": "2025-10-04T17:44:51.229785Z"
    }
   },
   "source": [
    "# Write a NumPy program to get the numpy version and show numpy build configuration.\n",
    "# print(np.__version__, np.show_config())\n",
    "\n",
    "# Write a NumPy program to get help on the add function.\n",
    "# print(help(np.add))\n",
    "\n",
    "# Write a NumPy program to test whether none of the elements of a given array is zero.\n",
    "\n",
    "print(\"It contains zero element/s\") if((arr==0).any())  else print(\"It doesn't contain any zero\")\n",
    "\n",
    "# Write a NumPy program to test whether any of the elements of a given array is non-zero.\n",
    "print(\"It has non-zero element/s\") if((arr!=0).any())  else print(\"It doesn't contain non-zero elements\")\n",
    "\n",
    "# Write a NumPy program to test a given array element-wise for finiteness (not infinity or not a\n",
    "# Number).\n",
    "print() if(arr.isinf() or ) else\n",
    "# Write a NumPy program to test element-wise for positive or negative infinity.\n",
    "# Write a NumPy program to test element-wise for NaN of a given array.\n",
    "# Write a NumPy program to test element-wise for complex number, real number of a given array.\n",
    "# Also test whether a given number is a scalar type or not.\n",
    "# Write a NumPy program to create an element-wise comparison (greater, greater_equal, less and\n",
    "# less_equal) of two given arrays.\n",
    "# Write a NumPy program to create an array with the values 1, 7, 13, 105 and determine the size of\n",
    "# the memory occupied by the array.\n",
    "# Write a NumPy program to create an array of 10 zeros,10 ones, 10 fives.\n",
    "# Write a NumPy program to create an array of the integers from 30 to70.\n",
    "# Write a NumPy program to create an array of all the even integers from 30 to 70.\n",
    "# Write a NumPy program to create a 3x3 identity matrix.\n",
    "# Write a NumPy program to generate a random number between 0 and 1.\n",
    "# Write a NumPy program to generate an array of 15 random numbers from a standard normal\n",
    "# distribution.\n",
    "# Write a NumPy program to create a vector with values ranging from 15 to 55 and print all values\n",
    "# except the first and last.\n",
    "# Write a NumPy program to create a 3X4 array using and iterate over it.\n",
    "# Write a NumPy program to create a vector of length 10 with values evenly distributed between 5\n",
    "# and 50.\n",
    "# Write a NumPy program to create a vector with values from 0 to 20 and change the sign of the\n",
    "# numbers in the range from 9 to 15.\n",
    "# Write a NumPy program to create a vector of length 5 filled with arbitrary integers from 0 to 10.\n",
    "# Write a NumPy program to multiply the values of two given vectors.\n",
    "#\n",
    "# Write a NumPy program to create a 3x4 matrix filled with values from 10 to 21.\n",
    "# Write a NumPy program to find the number of rows and columns of a given matrix.\n",
    "# Write a NumPy program to create a 3x3 identity matrix, i.e. diagonal elements are 1, the rest are 0.\n",
    "# Write a NumPy program to create a 10x10 matrix, in which the elements on the borders will be\n",
    "# equal to 1, and inside 0.\n",
    "# Write a NumPy program to create a 5x5 zero matrix with elements on the main diagonal equal to 1,\n",
    "# 2, 3, 4, 5.\n",
    "# Write a NumPy program to create a 4x4 matrix in which 0 and 1 are staggered, with zeros on the\n",
    "# main diagonal.\n",
    "# Write a NumPy program to create a 3x3x3 array filled with arbitrary values.\n",
    "# Write a NumPy program to compute sum of all elements, sum of each column and sum of each row\n",
    "# of a given array.\n",
    "# Write a NumPy program to compute the inner product of two given vectors.\n",
    "# Write a NumPy program to add a vector to each row of a given matrix.\n",
    "# Write a NumPy program to compute the x and y coordinates for points on a sine curve and plot the\n",
    "# points using matplotlib.\n",
    "# Write a NumPy program to convert numpy dtypes to native python types.\n",
    "# Write a NumPy program to find the missing data in a given array.\n",
    "# Write a NumPy program to sort a given array by row and column in ascending order.\n",
    "# Write a NumPy program to extract all numbers from a given array which are less and greater than a\n",
    "# specified number.\n",
    "# Write a NumPy program to replace all numbers in a given array which is equal, less and greater to a\n",
    "# given number.\n",
    "# Write a NumPy program to create an array of equal shape and data type of a given array.\n",
    "# Write a NumPy program to create a three-dimension array with shape (3,5,4) and set to a variable.\n",
    "# Write a NumPy program to multiply two given arrays of same size element-by-element."
   ],
   "outputs": [
    {
     "name": "stdout",
     "output_type": "stream",
     "text": [
      "It contains zero element/s\n"
     ]
    }
   ],
   "execution_count": 15
  },
  {
   "metadata": {
    "ExecuteTime": {
     "end_time": "2025-10-04T17:22:13.911921Z",
     "start_time": "2025-10-04T17:22:13.907944Z"
    }
   },
   "cell_type": "code",
   "source": "",
   "id": "34bd171cfdcb45df",
   "outputs": [],
   "execution_count": null
  }
 ],
 "metadata": {
  "kernelspec": {
   "display_name": "Python 3",
   "language": "python",
   "name": "python3"
  },
  "language_info": {
   "codemirror_mode": {
    "name": "ipython",
    "version": 2
   },
   "file_extension": ".py",
   "mimetype": "text/x-python",
   "name": "python",
   "nbconvert_exporter": "python",
   "pygments_lexer": "ipython2",
   "version": "2.7.6"
  }
 },
 "nbformat": 4,
 "nbformat_minor": 5
}
