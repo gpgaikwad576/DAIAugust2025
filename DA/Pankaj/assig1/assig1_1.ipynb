{
 "cells": [
  {
   "metadata": {
    "ExecuteTime": {
     "end_time": "2025-10-06T14:36:36.503445Z",
     "start_time": "2025-10-06T14:36:36.498722Z"
    }
   },
   "cell_type": "code",
   "source": "import numpy as np",
   "id": "210ae65fdb3fad2c",
   "outputs": [],
   "execution_count": 29
  },
  {
   "metadata": {
    "ExecuteTime": {
     "end_time": "2025-10-06T14:36:36.519894Z",
     "start_time": "2025-10-06T14:36:36.515413Z"
    }
   },
   "cell_type": "code",
   "source": "arr = np.array([-1,0,1,2,3,4,5,6,7,8,9,20,34,67,float('nan'),float('inf'),float('-inf'),3+2j])",
   "id": "30be70efb106e24b",
   "outputs": [],
   "execution_count": 30
  },
  {
   "cell_type": "code",
   "id": "initial_id",
   "metadata": {
    "ExecuteTime": {
     "end_time": "2025-10-06T14:36:36.543360Z",
     "start_time": "2025-10-06T14:36:36.529519Z"
    }
   },
   "source": [
    "# Write a NumPy program to get the numpy version and show numpy build configuration.\n",
    "print(np.__version__, np.show_config())"
   ],
   "outputs": [
    {
     "name": "stdout",
     "output_type": "stream",
     "text": [
      "Build Dependencies:\n",
      "  blas:\n",
      "    detection method: pkgconfig\n",
      "    found: true\n",
      "    include directory: C:/Users/runneradmin/AppData/Local/Temp/cibw-run-5t0hy_xh/cp313-win_amd64/build/venv/Lib/site-packages/scipy_openblas64/include\n",
      "    lib directory: C:/Users/runneradmin/AppData/Local/Temp/cibw-run-5t0hy_xh/cp313-win_amd64/build/venv/Lib/site-packages/scipy_openblas64/lib\n",
      "    name: scipy-openblas\n",
      "    openblas configuration: OpenBLAS 0.3.30  USE64BITINT DYNAMIC_ARCH NO_AFFINITY\n",
      "      Haswell MAX_THREADS=24\n",
      "    pc file directory: D:/a/numpy-release/numpy-release/.openblas\n",
      "    version: 0.3.30\n",
      "  lapack:\n",
      "    detection method: pkgconfig\n",
      "    found: true\n",
      "    include directory: C:/Users/runneradmin/AppData/Local/Temp/cibw-run-5t0hy_xh/cp313-win_amd64/build/venv/Lib/site-packages/scipy_openblas64/include\n",
      "    lib directory: C:/Users/runneradmin/AppData/Local/Temp/cibw-run-5t0hy_xh/cp313-win_amd64/build/venv/Lib/site-packages/scipy_openblas64/lib\n",
      "    name: scipy-openblas\n",
      "    openblas configuration: OpenBLAS 0.3.30  USE64BITINT DYNAMIC_ARCH NO_AFFINITY\n",
      "      Haswell MAX_THREADS=24\n",
      "    pc file directory: D:/a/numpy-release/numpy-release/.openblas\n",
      "    version: 0.3.30\n",
      "Compilers:\n",
      "  c:\n",
      "    commands: cl\n",
      "    linker: link\n",
      "    name: msvc\n",
      "    version: 19.44.35215\n",
      "  c++:\n",
      "    commands: cl\n",
      "    linker: link\n",
      "    name: msvc\n",
      "    version: 19.44.35215\n",
      "  cython:\n",
      "    commands: cython\n",
      "    linker: cython\n",
      "    name: cython\n",
      "    version: 3.1.3\n",
      "Machine Information:\n",
      "  build:\n",
      "    cpu: x86_64\n",
      "    endian: little\n",
      "    family: x86_64\n",
      "    system: windows\n",
      "  host:\n",
      "    cpu: x86_64\n",
      "    endian: little\n",
      "    family: x86_64\n",
      "    system: windows\n",
      "Python Information:\n",
      "  path: C:\\Users\\runneradmin\\AppData\\Local\\Temp\\build-env-q3zde7n4\\Scripts\\python.exe\n",
      "  version: '3.13'\n",
      "SIMD Extensions:\n",
      "  baseline:\n",
      "  - SSE\n",
      "  - SSE2\n",
      "  - SSE3\n",
      "  found:\n",
      "  - SSSE3\n",
      "  - SSE41\n",
      "  - POPCNT\n",
      "  - SSE42\n",
      "  - AVX\n",
      "  - F16C\n",
      "  - FMA3\n",
      "  - AVX2\n",
      "  - AVX512F\n",
      "  - AVX512CD\n",
      "  - AVX512_SKX\n",
      "  - AVX512_CLX\n",
      "  not found:\n",
      "  - AVX512_CNL\n",
      "  - AVX512_ICL\n",
      "\n",
      "2.3.3 None\n"
     ]
    }
   ],
   "execution_count": 31
  },
  {
   "metadata": {
    "ExecuteTime": {
     "end_time": "2025-10-06T14:36:36.565772Z",
     "start_time": "2025-10-06T14:36:36.560431Z"
    }
   },
   "cell_type": "code",
   "source": [
    "# Write a NumPy program to get help on the add function.\n",
    "print(help(np.add))"
   ],
   "id": "22a3afed426e12f5",
   "outputs": [
    {
     "name": "stdout",
     "output_type": "stream",
     "text": [
      "Help on ufunc in module numpy:\n",
      "\n",
      "add = <ufunc 'add'>\n",
      "    add(x1, x2, /, out=None, *, where=True, casting='same_kind', order='K', dtype=None, subok=True[, signature])\n",
      "\n",
      "    Add arguments element-wise.\n",
      "\n",
      "    Parameters\n",
      "    ----------\n",
      "    x1, x2 : array_like\n",
      "        The arrays to be added.\n",
      "        If ``x1.shape != x2.shape``, they must be broadcastable to a common\n",
      "        shape (which becomes the shape of the output).\n",
      "    out : ndarray, None, or tuple of ndarray and None, optional\n",
      "        A location into which the result is stored. If provided, it must have\n",
      "        a shape that the inputs broadcast to. If not provided or None,\n",
      "        a freshly-allocated array is returned. A tuple (possible only as a\n",
      "        keyword argument) must have length equal to the number of outputs.\n",
      "    where : array_like, optional\n",
      "        This condition is broadcast over the input. At locations where the\n",
      "        condition is True, the `out` array will be set to the ufunc result.\n",
      "        Elsewhere, the `out` array will retain its original value.\n",
      "        Note that if an uninitialized `out` array is created via the default\n",
      "        ``out=None``, locations within it where the condition is False will\n",
      "        remain uninitialized.\n",
      "    **kwargs\n",
      "        For other keyword-only arguments, see the\n",
      "        :ref:`ufunc docs <ufuncs.kwargs>`.\n",
      "\n",
      "    Returns\n",
      "    -------\n",
      "    add : ndarray or scalar\n",
      "        The sum of `x1` and `x2`, element-wise.\n",
      "        This is a scalar if both `x1` and `x2` are scalars.\n",
      "\n",
      "    Notes\n",
      "    -----\n",
      "    Equivalent to `x1` + `x2` in terms of array broadcasting.\n",
      "\n",
      "    Examples\n",
      "    --------\n",
      "    >>> import numpy as np\n",
      "    >>> np.add(1.0, 4.0)\n",
      "    5.0\n",
      "    >>> x1 = np.arange(9.0).reshape((3, 3))\n",
      "    >>> x2 = np.arange(3.0)\n",
      "    >>> np.add(x1, x2)\n",
      "    array([[  0.,   2.,   4.],\n",
      "           [  3.,   5.,   7.],\n",
      "           [  6.,   8.,  10.]])\n",
      "\n",
      "    The ``+`` operator can be used as a shorthand for ``np.add`` on ndarrays.\n",
      "\n",
      "    >>> x1 = np.arange(9.0).reshape((3, 3))\n",
      "    >>> x2 = np.arange(3.0)\n",
      "    >>> x1 + x2\n",
      "    array([[ 0.,  2.,  4.],\n",
      "           [ 3.,  5.,  7.],\n",
      "           [ 6.,  8., 10.]])\n",
      "\n",
      "None\n"
     ]
    }
   ],
   "execution_count": 32
  },
  {
   "metadata": {
    "ExecuteTime": {
     "end_time": "2025-10-06T14:36:36.623856Z",
     "start_time": "2025-10-06T14:36:36.596238Z"
    }
   },
   "cell_type": "code",
   "source": [
    "# Write a NumPy program to test whether none of the elements of a given array is zero.\n",
    "print(\"It contains zero element/s\") if((arr==0).any())  else print(\"It doesn't contain any zero\")"
   ],
   "id": "4b021dd136d6d359",
   "outputs": [
    {
     "name": "stdout",
     "output_type": "stream",
     "text": [
      "It contains zero element/s\n"
     ]
    }
   ],
   "execution_count": 33
  },
  {
   "metadata": {
    "ExecuteTime": {
     "end_time": "2025-10-06T14:36:36.692980Z",
     "start_time": "2025-10-06T14:36:36.684804Z"
    }
   },
   "cell_type": "code",
   "source": [
    "# Write a NumPy program to test whether any of the elements of a given array is non-zero.\n",
    "print(\"It has non-zero element/s\") if((arr!=0).any())  else print(\"It doesn't contain non-zero elements\")"
   ],
   "id": "9142bcb7861b8c4e",
   "outputs": [
    {
     "name": "stdout",
     "output_type": "stream",
     "text": [
      "It has non-zero element/s\n"
     ]
    }
   ],
   "execution_count": 34
  },
  {
   "metadata": {
    "ExecuteTime": {
     "end_time": "2025-10-06T14:36:36.769884Z",
     "start_time": "2025-10-06T14:36:36.759764Z"
    }
   },
   "cell_type": "code",
   "source": [
    "# Write a NumPy program to test a given array element-wise for finiteness (not infinity or not a\n",
    "# Number).\n",
    "print(\"Contains infinity or not a number\") if(np.any(np.isinf(arr)) or np.any(np.isna(arr))) else print(\"Doesnt contain infinity or NaN\")"
   ],
   "id": "2108cd05cd813e2e",
   "outputs": [
    {
     "name": "stdout",
     "output_type": "stream",
     "text": [
      "Contains infinity or not a number\n"
     ]
    }
   ],
   "execution_count": 35
  },
  {
   "metadata": {
    "ExecuteTime": {
     "end_time": "2025-10-06T14:36:36.817187Z",
     "start_time": "2025-10-06T14:36:36.805763Z"
    }
   },
   "cell_type": "code",
   "source": [
    "# Write a NumPy program to test element-wise for positive or negative infinity.\n",
    "arr2 = [True if np.isinf(n) else False for n in arr]\n",
    "arr2"
   ],
   "id": "939686c51ea2210c",
   "outputs": [
    {
     "data": {
      "text/plain": [
       "[False,\n",
       " False,\n",
       " False,\n",
       " False,\n",
       " False,\n",
       " False,\n",
       " False,\n",
       " False,\n",
       " False,\n",
       " False,\n",
       " False,\n",
       " False,\n",
       " False,\n",
       " False,\n",
       " False,\n",
       " True,\n",
       " True,\n",
       " False]"
      ]
     },
     "execution_count": 36,
     "metadata": {},
     "output_type": "execute_result"
    }
   ],
   "execution_count": 36
  },
  {
   "metadata": {
    "ExecuteTime": {
     "end_time": "2025-10-06T14:36:36.841430Z",
     "start_time": "2025-10-06T14:36:36.831668Z"
    }
   },
   "cell_type": "code",
   "source": [
    "# Write a NumPy program to test element-wise for NaN of a given array.\n",
    "arr2 = [True if np.isnan(n) else False for n in arr]\n",
    "arr2"
   ],
   "id": "4a6e04c8513ecff5",
   "outputs": [
    {
     "data": {
      "text/plain": [
       "[False,\n",
       " False,\n",
       " False,\n",
       " False,\n",
       " False,\n",
       " False,\n",
       " False,\n",
       " False,\n",
       " False,\n",
       " False,\n",
       " False,\n",
       " False,\n",
       " False,\n",
       " False,\n",
       " True,\n",
       " False,\n",
       " False,\n",
       " False]"
      ]
     },
     "execution_count": 37,
     "metadata": {},
     "output_type": "execute_result"
    }
   ],
   "execution_count": 37
  },
  {
   "metadata": {
    "ExecuteTime": {
     "end_time": "2025-10-06T14:36:36.861985Z",
     "start_time": "2025-10-06T14:36:36.854511Z"
    }
   },
   "cell_type": "code",
   "source": [
    "# Write a NumPy program to test element-wise for complex number, real number of a given array.\n",
    "arr2 = [True if np.iscomplex(n) else False for n in arr]\n",
    "arr2"
   ],
   "id": "84b099bd6ce9fbd8",
   "outputs": [
    {
     "data": {
      "text/plain": [
       "[False,\n",
       " False,\n",
       " False,\n",
       " False,\n",
       " False,\n",
       " False,\n",
       " False,\n",
       " False,\n",
       " False,\n",
       " False,\n",
       " False,\n",
       " False,\n",
       " False,\n",
       " False,\n",
       " False,\n",
       " False,\n",
       " False,\n",
       " True]"
      ]
     },
     "execution_count": 38,
     "metadata": {},
     "output_type": "execute_result"
    }
   ],
   "execution_count": 38
  },
  {
   "metadata": {},
   "cell_type": "code",
   "source": [
    "# Also test whether a given number is a scalar type or not.\n",
    "arri2 = [1,2,3,'python',[1,2,3],[1,2]]\n",
    "print(True if np.isscalar(arri2) else False)"
   ],
   "id": "ca5a4baa159567a",
   "execution_count": null,
   "outputs": []
  },
  {
   "metadata": {
    "ExecuteTime": {
     "end_time": "2025-10-06T16:14:41.745238Z",
     "start_time": "2025-10-06T16:14:41.735669Z"
    }
   },
   "cell_type": "code",
   "source": [
    "# Write a NumPy program to create an element-wise comparison (greater, greater_equal, less and\n",
    "# less_equal) of two given arrays.\n",
    "arri3 = np.array([1,2,3,4,5,6])\n",
    "arri4 = np.array([5,68,39,1,0,-1])\n",
    "np.array_equal(arri3,arri4)\n",
    "# Write a NumPy program to create an array with the values 1, 7, 13, 105 and determine the size of\n",
    "# the memory occupied by the array.\n",
    "# Write a NumPy program to create an array of 10 zeros,10 ones, 10 fives.\n",
    "# Write a NumPy program to create an array of the integers from 30 to70.\n",
    "# Write a NumPy program to create an array of all the even integers from 30 to 70.\n",
    "# Write a NumPy program to create a 3x3 identity matrix.\n",
    "# Write a NumPy program to generate a random number between 0 and 1.\n",
    "# Write a NumPy program to generate an array of 15 random numbers from a standard normal\n",
    "# distribution.\n",
    "# Write a NumPy program to create a vector with values ranging from 15 to 55 and print all values\n",
    "# except the first and last.\n",
    "# Write a NumPy program to create a 3X4 array using and iterate over it.\n",
    "# Write a NumPy program to create a vector of length 10 with values evenly distributed between 5\n",
    "# and 50.\n",
    "# Write a NumPy program to create a vector with values from 0 to 20 and change the sign of the\n",
    "# numbers in the range from 9 to 15.\n",
    "# Write a NumPy program to create a vector of length 5 filled with arbitrary integers from 0 to 10.\n",
    "# Write a NumPy program to multiply the values of two given vectors.\n",
    "#\n",
    "# Write a NumPy program to create a 3x4 matrix filled with values from 10 to 21.\n",
    "# Write a NumPy program to find the number of rows and columns of a given matrix.\n",
    "# Write a NumPy program to create a 3x3 identity matrix, i.e. diagonal elements are 1, the rest are 0.\n",
    "# Write a NumPy program to create a 10x10 matrix, in which the elements on the borders will be\n",
    "# equal to 1, and inside 0.\n",
    "# Write a NumPy program to create a 5x5 zero matrix with elements on the main diagonal equal to 1,\n",
    "# 2, 3, 4, 5.\n",
    "# Write a NumPy program to create a 4x4 matrix in which 0 and 1 are staggered, with zeros on the\n",
    "# main diagonal.\n",
    "# Write a NumPy program to create a 3x3x3 array filled with arbitrary values.\n",
    "# Write a NumPy program to compute sum of all elements, sum of each column and sum of each row\n",
    "# of a given array.\n",
    "# Write a NumPy program to compute the inner product of two given vectors.\n",
    "# Write a NumPy program to add a vector to each row of a given matrix.\n",
    "# Write a NumPy program to compute the x and y coordinates for points on a sine curve and plot the\n",
    "# points using matplotlib.\n",
    "# Write a NumPy program to convert numpy dtypes to native python types.\n",
    "# Write a NumPy program to find the missing data in a given array.\n",
    "# Write a NumPy program to sort a given array by row and column in ascending order.\n",
    "# Write a NumPy program to extract all numbers from a given array which are less and greater than a\n",
    "# specified number.\n",
    "# Write a NumPy program to replace all numbers in a given array which is equal, less and greater to a\n",
    "# given number.\n",
    "# Write a NumPy program to create an array of equal shape and data type of a given array.\n",
    "# Write a NumPy program to create a three-dimension array with shape (3,5,4) and set to a variable.\n",
    "# Write a NumPy program to multiply two given arrays of same size element-by-element."
   ],
   "id": "d49b4b4e32d77dc5",
   "outputs": [
    {
     "data": {
      "text/plain": [
       "False"
      ]
     },
     "execution_count": 44,
     "metadata": {},
     "output_type": "execute_result"
    }
   ],
   "execution_count": 44
  },
  {
   "metadata": {
    "ExecuteTime": {
     "end_time": "2025-10-06T14:36:36.975535Z",
     "start_time": "2025-10-06T14:36:36.972778Z"
    }
   },
   "cell_type": "code",
   "source": "",
   "id": "2180e796f21074d2",
   "outputs": [],
   "execution_count": null
  }
 ],
 "metadata": {
  "kernelspec": {
   "display_name": "Python 3",
   "language": "python",
   "name": "python3"
  },
  "language_info": {
   "codemirror_mode": {
    "name": "ipython",
    "version": 2
   },
   "file_extension": ".py",
   "mimetype": "text/x-python",
   "name": "python",
   "nbconvert_exporter": "python",
   "pygments_lexer": "ipython2",
   "version": "2.7.6"
  }
 },
 "nbformat": 4,
 "nbformat_minor": 5
}
