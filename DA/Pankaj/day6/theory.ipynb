{
 "cells": [
  {
   "metadata": {
    "ExecuteTime": {
     "end_time": "2025-10-11T03:14:19.897464Z",
     "start_time": "2025-10-11T03:14:17.928420Z"
    }
   },
   "cell_type": "code",
   "source": [
    "import pandas as pd\n",
    "import numpy as np"
   ],
   "id": "6bae5f40d155ae51",
   "outputs": [],
   "execution_count": 3
  },
  {
   "cell_type": "code",
   "id": "initial_id",
   "metadata": {
    "collapsed": true,
    "ExecuteTime": {
     "end_time": "2025-10-11T03:21:05.153640Z",
     "start_time": "2025-10-11T03:21:04.450612Z"
    }
   },
   "source": [
    "df_2015 = pd.read_csv('C:\\\\Users\\\\dai\\\\Downloads\\\\marathon_results_2015.csv')\n",
    "df_2016 = pd.read_csv('C:\\\\Users\\\\dai\\\\Downloads\\\\marathon_results_2016.csv')\n",
    "df_2017 = pd.read_csv('C:\\\\Users\\\\dai\\\\Downloads\\\\marathon_results_2017.csv')"
   ],
   "outputs": [],
   "execution_count": 4
  },
  {
   "metadata": {
    "ExecuteTime": {
     "end_time": "2025-10-11T03:21:07.044795Z",
     "start_time": "2025-10-11T03:21:07.016305Z"
    }
   },
   "cell_type": "code",
   "source": [
    "df = pd.concat([df_2015,df_2016,df_2017])\n",
    "original_row_count = len(df)"
   ],
   "id": "f21f6a46d05eb37d",
   "outputs": [],
   "execution_count": 5
  },
  {
   "metadata": {},
   "cell_type": "markdown",
   "source": "### simple",
   "id": "11e4969924216ca7"
  },
  {
   "metadata": {
    "ExecuteTime": {
     "end_time": "2025-10-11T03:25:13.082141Z",
     "start_time": "2025-10-11T03:25:13.059899Z"
    }
   },
   "cell_type": "code",
   "source": [
    "#simple\n",
    "sample_df = df.sample(frac=0.1,random_state = 42)"
   ],
   "id": "215dfaea93a8392f",
   "outputs": [],
   "execution_count": 9
  },
  {
   "metadata": {},
   "cell_type": "markdown",
   "source": "### systematic",
   "id": "4bbe8091a3867448"
  },
  {
   "metadata": {
    "ExecuteTime": {
     "end_time": "2025-10-11T03:25:14.622171Z",
     "start_time": "2025-10-11T03:25:14.615267Z"
    }
   },
   "cell_type": "code",
   "source": [
    "#systematic\n",
    "sample_df =df.iloc[::7,:]"
   ],
   "id": "5a57c2d6bf557a8",
   "outputs": [],
   "execution_count": 10
  },
  {
   "metadata": {},
   "cell_type": "markdown",
   "source": "### startified",
   "id": "917742f8696ebd5c"
  },
  {
   "metadata": {
    "ExecuteTime": {
     "end_time": "2025-10-11T03:46:24.685543Z",
     "start_time": "2025-10-11T03:46:24.621374Z"
    }
   },
   "cell_type": "code",
   "source": [
    "#stratified\n",
    "total_males = len(df[df['M/F']=='M'])\n",
    "total_females = len(df[df['M/F'] == 'F'])"
   ],
   "id": "66bbc0fac2d24716",
   "outputs": [],
   "execution_count": 14
  },
  {
   "metadata": {
    "ExecuteTime": {
     "end_time": "2025-10-11T03:46:28.981490Z",
     "start_time": "2025-10-11T03:46:28.976355Z"
    }
   },
   "cell_type": "code",
   "source": [
    "sample_size = int(0.1 * original_row_count)\n",
    "sample_males = int(0.1 * total_males)\n",
    "sample_females = int(0.1*total_females)\n",
    "print(sample_size,sample_males,sample_females)"
   ],
   "id": "4a37fec45cccc7e5",
   "outputs": [
    {
     "name": "stdout",
     "output_type": "stream",
     "text": [
      "7963 4348 3615\n"
     ]
    }
   ],
   "execution_count": 15
  },
  {
   "metadata": {},
   "cell_type": "code",
   "outputs": [],
   "execution_count": null,
   "source": [
    "male_sample = df[df['M/F']=='M'].sample(n = sample_males,random_state = 42)\n",
    "female_sample = df[df['M/F'] == 'F'].sample(n=sample_females,random_state = 42)"
   ],
   "id": "fa4d9ead56bf30f3"
  },
  {
   "metadata": {},
   "cell_type": "code",
   "outputs": [],
   "execution_count": null,
   "source": "sample_df = pd.concat([male_sample,female_sample])",
   "id": "17b97304f8e100f3"
  },
  {
   "metadata": {},
   "cell_type": "markdown",
   "source": "### cluster",
   "id": "5bcbcc0e147f3417"
  },
  {
   "metadata": {
    "ExecuteTime": {
     "end_time": "2025-10-11T04:00:25.136291Z",
     "start_time": "2025-10-11T04:00:25.126041Z"
    }
   },
   "cell_type": "code",
   "source": [
    "unique_countries = df['Country'].unique()\n",
    "num_countries = len(unique_countries)"
   ],
   "id": "a089e4d5b863265",
   "outputs": [],
   "execution_count": 22
  },
  {
   "metadata": {
    "ExecuteTime": {
     "end_time": "2025-10-11T04:00:26.643030Z",
     "start_time": "2025-10-11T04:00:26.636325Z"
    }
   },
   "cell_type": "code",
   "source": "len(unique_countries)",
   "id": "3c359e79e56ab839",
   "outputs": [
    {
     "data": {
      "text/plain": [
       "105"
      ]
     },
     "execution_count": 23,
     "metadata": {},
     "output_type": "execute_result"
    }
   ],
   "execution_count": 23
  },
  {
   "metadata": {
    "ExecuteTime": {
     "end_time": "2025-10-11T04:00:28.697381Z",
     "start_time": "2025-10-11T04:00:28.692912Z"
    }
   },
   "cell_type": "code",
   "source": "np.random.seed(42)",
   "id": "bca8d161ca231ad2",
   "outputs": [],
   "execution_count": 24
  },
  {
   "metadata": {
    "ExecuteTime": {
     "end_time": "2025-10-11T04:00:29.275817Z",
     "start_time": "2025-10-11T04:00:29.268541Z"
    }
   },
   "cell_type": "code",
   "source": [
    "selected_countries = np.random.choice(unique_countries,size = num_countries //2, replace = False)\n",
    "selected_countries"
   ],
   "id": "e948ec8900365082",
   "outputs": [
    {
     "data": {
      "text/plain": [
       "array(['COL', 'JAM', 'EST', 'IND', 'PAN', 'SMR', 'NGR', 'LUX', 'NZL',\n",
       "       'ETH', 'SWE', 'SUI', 'BDI', 'ALG', 'UGA', 'RSA', 'TWN', 'AUT',\n",
       "       'AUS', 'CHI', 'GRN', 'ARG', 'DEN', 'PHI', 'SIN', 'BAH', 'ECU',\n",
       "       'TPE', 'KOR', 'BEL', 'ALB', 'BLR', 'MGL', 'QAT', 'FIN', 'ZIM',\n",
       "       'ITA', 'URU', 'ESA', 'NOR', 'FRA', 'GER', 'UAE', 'NED', 'JPN',\n",
       "       'PER', 'TUR', 'LAT', 'GUA', 'BRA', 'JOR', 'ISL'], dtype=object)"
      ]
     },
     "execution_count": 25,
     "metadata": {},
     "output_type": "execute_result"
    }
   ],
   "execution_count": 25
  },
  {
   "metadata": {
    "ExecuteTime": {
     "end_time": "2025-10-11T04:00:49.945294Z",
     "start_time": "2025-10-11T04:00:49.927102Z"
    }
   },
   "cell_type": "code",
   "source": [
    "sample_df = df[df['Country'].isin(selected_countries)]\n",
    "sample_row_count = len(sample_df)"
   ],
   "id": "933bb600c738bf8",
   "outputs": [],
   "execution_count": 26
  },
  {
   "metadata": {},
   "cell_type": "code",
   "outputs": [],
   "execution_count": null,
   "source": [
    "df.head()\n",
    "sample_df.head()"
   ],
   "id": "ae321f74de1a359f"
  },
  {
   "metadata": {},
   "cell_type": "code",
   "outputs": [],
   "execution_count": null,
   "source": "",
   "id": "5a0a688b13b7059a"
  },
  {
   "metadata": {},
   "cell_type": "markdown",
   "source": "### common",
   "id": "8acaf59e09178702"
  },
  {
   "metadata": {
    "ExecuteTime": {
     "end_time": "2025-10-11T03:25:15.915467Z",
     "start_time": "2025-10-11T03:25:15.892790Z"
    }
   },
   "cell_type": "code",
   "source": [
    "sample_row_count = len(sample_df)\n",
    "df.head()"
   ],
   "id": "9b3446596b11db14",
   "outputs": [
    {
     "data": {
      "text/plain": [
       "   Unnamed: 0 Bib                   Name  Age M/F         City State Country  \\\n",
       "0         0.0   3         Desisa, Lelisa   25   M         Ambo   NaN     ETH   \n",
       "1         1.0   4  Tsegay, Yemane Adhane   30   M  Addis Ababa   NaN     ETH   \n",
       "2         2.0   8         Chebet, Wilson   29   M     Marakwet   NaN     KEN   \n",
       "3         3.0  11       Kipyego, Bernard   28   M      Eldoret   NaN     KEN   \n",
       "4         4.0  10          Korir, Wesley   32   M       Kitale   NaN     KEN   \n",
       "\n",
       "  Citizen Unnamed: 9  ...      30K      35K      40K     Pace Proj Time  \\\n",
       "0     NaN        NaN  ...  1:32:00  1:47:59  2:02:39  0:04:56         -   \n",
       "1     NaN        NaN  ...  1:31:59  1:47:59  2:02:42  0:04:58         -   \n",
       "2     NaN        NaN  ...  1:32:00  1:47:59  2:03:01  0:04:59         -   \n",
       "3     NaN        NaN  ...  1:32:00  1:48:03  2:03:47  0:05:00         -   \n",
       "4     NaN        NaN  ...  1:32:00  1:47:59  2:03:27  0:05:00         -   \n",
       "\n",
       "  Official Time Overall Gender Division Unnamed: 8  \n",
       "0       2:09:17       1      1        1        NaN  \n",
       "1       2:09:48       2      2        2        NaN  \n",
       "2       2:10:22       3      3        3        NaN  \n",
       "3       2:10:47       4      4        4        NaN  \n",
       "4       2:10:49       5      5        5        NaN  \n",
       "\n",
       "[5 rows x 26 columns]"
      ],
      "text/html": [
       "<div>\n",
       "<style scoped>\n",
       "    .dataframe tbody tr th:only-of-type {\n",
       "        vertical-align: middle;\n",
       "    }\n",
       "\n",
       "    .dataframe tbody tr th {\n",
       "        vertical-align: top;\n",
       "    }\n",
       "\n",
       "    .dataframe thead th {\n",
       "        text-align: right;\n",
       "    }\n",
       "</style>\n",
       "<table border=\"1\" class=\"dataframe\">\n",
       "  <thead>\n",
       "    <tr style=\"text-align: right;\">\n",
       "      <th></th>\n",
       "      <th>Unnamed: 0</th>\n",
       "      <th>Bib</th>\n",
       "      <th>Name</th>\n",
       "      <th>Age</th>\n",
       "      <th>M/F</th>\n",
       "      <th>City</th>\n",
       "      <th>State</th>\n",
       "      <th>Country</th>\n",
       "      <th>Citizen</th>\n",
       "      <th>Unnamed: 9</th>\n",
       "      <th>...</th>\n",
       "      <th>30K</th>\n",
       "      <th>35K</th>\n",
       "      <th>40K</th>\n",
       "      <th>Pace</th>\n",
       "      <th>Proj Time</th>\n",
       "      <th>Official Time</th>\n",
       "      <th>Overall</th>\n",
       "      <th>Gender</th>\n",
       "      <th>Division</th>\n",
       "      <th>Unnamed: 8</th>\n",
       "    </tr>\n",
       "  </thead>\n",
       "  <tbody>\n",
       "    <tr>\n",
       "      <th>0</th>\n",
       "      <td>0.0</td>\n",
       "      <td>3</td>\n",
       "      <td>Desisa, Lelisa</td>\n",
       "      <td>25</td>\n",
       "      <td>M</td>\n",
       "      <td>Ambo</td>\n",
       "      <td>NaN</td>\n",
       "      <td>ETH</td>\n",
       "      <td>NaN</td>\n",
       "      <td>NaN</td>\n",
       "      <td>...</td>\n",
       "      <td>1:32:00</td>\n",
       "      <td>1:47:59</td>\n",
       "      <td>2:02:39</td>\n",
       "      <td>0:04:56</td>\n",
       "      <td>-</td>\n",
       "      <td>2:09:17</td>\n",
       "      <td>1</td>\n",
       "      <td>1</td>\n",
       "      <td>1</td>\n",
       "      <td>NaN</td>\n",
       "    </tr>\n",
       "    <tr>\n",
       "      <th>1</th>\n",
       "      <td>1.0</td>\n",
       "      <td>4</td>\n",
       "      <td>Tsegay, Yemane Adhane</td>\n",
       "      <td>30</td>\n",
       "      <td>M</td>\n",
       "      <td>Addis Ababa</td>\n",
       "      <td>NaN</td>\n",
       "      <td>ETH</td>\n",
       "      <td>NaN</td>\n",
       "      <td>NaN</td>\n",
       "      <td>...</td>\n",
       "      <td>1:31:59</td>\n",
       "      <td>1:47:59</td>\n",
       "      <td>2:02:42</td>\n",
       "      <td>0:04:58</td>\n",
       "      <td>-</td>\n",
       "      <td>2:09:48</td>\n",
       "      <td>2</td>\n",
       "      <td>2</td>\n",
       "      <td>2</td>\n",
       "      <td>NaN</td>\n",
       "    </tr>\n",
       "    <tr>\n",
       "      <th>2</th>\n",
       "      <td>2.0</td>\n",
       "      <td>8</td>\n",
       "      <td>Chebet, Wilson</td>\n",
       "      <td>29</td>\n",
       "      <td>M</td>\n",
       "      <td>Marakwet</td>\n",
       "      <td>NaN</td>\n",
       "      <td>KEN</td>\n",
       "      <td>NaN</td>\n",
       "      <td>NaN</td>\n",
       "      <td>...</td>\n",
       "      <td>1:32:00</td>\n",
       "      <td>1:47:59</td>\n",
       "      <td>2:03:01</td>\n",
       "      <td>0:04:59</td>\n",
       "      <td>-</td>\n",
       "      <td>2:10:22</td>\n",
       "      <td>3</td>\n",
       "      <td>3</td>\n",
       "      <td>3</td>\n",
       "      <td>NaN</td>\n",
       "    </tr>\n",
       "    <tr>\n",
       "      <th>3</th>\n",
       "      <td>3.0</td>\n",
       "      <td>11</td>\n",
       "      <td>Kipyego, Bernard</td>\n",
       "      <td>28</td>\n",
       "      <td>M</td>\n",
       "      <td>Eldoret</td>\n",
       "      <td>NaN</td>\n",
       "      <td>KEN</td>\n",
       "      <td>NaN</td>\n",
       "      <td>NaN</td>\n",
       "      <td>...</td>\n",
       "      <td>1:32:00</td>\n",
       "      <td>1:48:03</td>\n",
       "      <td>2:03:47</td>\n",
       "      <td>0:05:00</td>\n",
       "      <td>-</td>\n",
       "      <td>2:10:47</td>\n",
       "      <td>4</td>\n",
       "      <td>4</td>\n",
       "      <td>4</td>\n",
       "      <td>NaN</td>\n",
       "    </tr>\n",
       "    <tr>\n",
       "      <th>4</th>\n",
       "      <td>4.0</td>\n",
       "      <td>10</td>\n",
       "      <td>Korir, Wesley</td>\n",
       "      <td>32</td>\n",
       "      <td>M</td>\n",
       "      <td>Kitale</td>\n",
       "      <td>NaN</td>\n",
       "      <td>KEN</td>\n",
       "      <td>NaN</td>\n",
       "      <td>NaN</td>\n",
       "      <td>...</td>\n",
       "      <td>1:32:00</td>\n",
       "      <td>1:47:59</td>\n",
       "      <td>2:03:27</td>\n",
       "      <td>0:05:00</td>\n",
       "      <td>-</td>\n",
       "      <td>2:10:49</td>\n",
       "      <td>5</td>\n",
       "      <td>5</td>\n",
       "      <td>5</td>\n",
       "      <td>NaN</td>\n",
       "    </tr>\n",
       "  </tbody>\n",
       "</table>\n",
       "<p>5 rows × 26 columns</p>\n",
       "</div>"
      ]
     },
     "execution_count": 11,
     "metadata": {},
     "output_type": "execute_result"
    }
   ],
   "execution_count": 11
  },
  {
   "metadata": {
    "ExecuteTime": {
     "end_time": "2025-10-11T03:25:20.544857Z",
     "start_time": "2025-10-11T03:25:20.538694Z"
    }
   },
   "cell_type": "code",
   "source": "original_row_count,sample_row_count",
   "id": "4a9beeac0f1ec50a",
   "outputs": [
    {
     "data": {
      "text/plain": [
       "(79638, 11377)"
      ]
     },
     "execution_count": 12,
     "metadata": {},
     "output_type": "execute_result"
    }
   ],
   "execution_count": 12
  }
 ],
 "metadata": {
  "kernelspec": {
   "display_name": "Python 3",
   "language": "python",
   "name": "python3"
  },
  "language_info": {
   "codemirror_mode": {
    "name": "ipython",
    "version": 2
   },
   "file_extension": ".py",
   "mimetype": "text/x-python",
   "name": "python",
   "nbconvert_exporter": "python",
   "pygments_lexer": "ipython2",
   "version": "2.7.6"
  }
 },
 "nbformat": 4,
 "nbformat_minor": 5
}
