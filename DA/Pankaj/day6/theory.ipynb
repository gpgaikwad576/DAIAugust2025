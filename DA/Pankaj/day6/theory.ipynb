{
 "cells": [
  {
   "cell_type": "code",
   "id": "initial_id",
   "metadata": {
    "collapsed": true,
    "ExecuteTime": {
     "end_time": "2025-10-10T04:25:53.259541Z",
     "start_time": "2025-10-10T04:25:50.916646Z"
    }
   },
   "source": [
    "from pandas import read_csv\n",
    "!pip install scikit-learn"
   ],
   "outputs": [
    {
     "name": "stdout",
     "output_type": "stream",
     "text": [
      "Requirement already satisfied: scikit-learn in d:\\daiaugust2025\\python\\pankaj\\.venv\\lib\\site-packages (1.7.2)\n",
      "Requirement already satisfied: numpy>=1.22.0 in d:\\daiaugust2025\\python\\pankaj\\.venv\\lib\\site-packages (from scikit-learn) (2.3.3)\n",
      "Requirement already satisfied: scipy>=1.8.0 in d:\\daiaugust2025\\python\\pankaj\\.venv\\lib\\site-packages (from scikit-learn) (1.16.2)\n",
      "Requirement already satisfied: joblib>=1.2.0 in d:\\daiaugust2025\\python\\pankaj\\.venv\\lib\\site-packages (from scikit-learn) (1.5.2)\n",
      "Requirement already satisfied: threadpoolctl>=3.1.0 in d:\\daiaugust2025\\python\\pankaj\\.venv\\lib\\site-packages (from scikit-learn) (3.6.0)\n"
     ]
    },
    {
     "name": "stderr",
     "output_type": "stream",
     "text": [
      "\n",
      "[notice] A new release of pip is available: 25.1.1 -> 25.2\n",
      "[notice] To update, run: python.exe -m pip install --upgrade pip\n"
     ]
    }
   ],
   "execution_count": 15
  },
  {
   "metadata": {
    "ExecuteTime": {
     "end_time": "2025-10-10T04:25:53.316094Z",
     "start_time": "2025-10-10T04:25:53.310035Z"
    }
   },
   "cell_type": "code",
   "source": [
    "import pandas as pd\n",
    "import numpy as np\n",
    "from sklearn.model_selection import train_test_split,KFold,cross_val_score,cross_val_predict\n",
    "from sklearn.utils import resample\n",
    "from sklearn.linear_model import LogisticRegression\n",
    "from sklearn.metrics import accuracy_score\n",
    "from sklearn.preprocessing import LabelEncoder\n",
    "import seaborn as sns"
   ],
   "id": "cd5e9cfcac002ee1",
   "outputs": [],
   "execution_count": 16
  },
  {
   "metadata": {
    "ExecuteTime": {
     "end_time": "2025-10-10T04:25:53.341934Z",
     "start_time": "2025-10-10T04:25:53.328069Z"
    }
   },
   "cell_type": "code",
   "source": [
    "df =pd.read_csv('C:\\\\Users\\\\dai\\\\Downloads\\\\titanic.csv')\n",
    "df  = df[['survived','pclass','gender','age','sibsp','fare']].dropna()"
   ],
   "id": "8b8e1ade398a0fb2",
   "outputs": [],
   "execution_count": 17
  },
  {
   "metadata": {
    "ExecuteTime": {
     "end_time": "2025-10-10T04:25:53.356302Z",
     "start_time": "2025-10-10T04:25:53.350638Z"
    }
   },
   "cell_type": "code",
   "source": [
    "le = LabelEncoder()\n",
    "df['gender'] = le.fit_transform(df['gender'])"
   ],
   "id": "75d1a334d02794d5",
   "outputs": [],
   "execution_count": 18
  },
  {
   "metadata": {
    "ExecuteTime": {
     "end_time": "2025-10-10T04:25:53.373537Z",
     "start_time": "2025-10-10T04:25:53.368225Z"
    }
   },
   "cell_type": "code",
   "source": [
    "X = df.drop('survived',axis =1)\n",
    "y = df['survived']"
   ],
   "id": "616919983875bde0",
   "outputs": [],
   "execution_count": 19
  },
  {
   "metadata": {
    "ExecuteTime": {
     "end_time": "2025-10-10T04:25:53.389716Z",
     "start_time": "2025-10-10T04:25:53.384472Z"
    }
   },
   "cell_type": "code",
   "source": [
    "n_iterations =100\n",
    "n_size = int(len(X)*0.8)\n",
    "bootstrap_scores = []"
   ],
   "id": "efdcc81ac500296b",
   "outputs": [],
   "execution_count": 20
  },
  {
   "metadata": {
    "ExecuteTime": {
     "end_time": "2025-10-10T04:25:57.223357Z",
     "start_time": "2025-10-10T04:25:53.403464Z"
    }
   },
   "cell_type": "code",
   "source": [
    "for i in range(n_iterations):\n",
    "    X_resample, y_resample = resample(X,y,n_samples = n_size,random_state = i)\n",
    "    X_train,X_test,y_train,y_test = train_test_split(X_resample,y_resample,test_size = 0.2)\n",
    "    model = LogisticRegression(max_iter = 500)\n",
    "    model.fit(X_train,y_train)\n",
    "    y_pred = model.predict(X_test)\n",
    "    acc = accuracy_score(y_test,y_pred)\n",
    "    bootstrap_scores.append(acc)\n"
   ],
   "id": "f58907b6c0ffae71",
   "outputs": [],
   "execution_count": 21
  },
  {
   "metadata": {
    "ExecuteTime": {
     "end_time": "2025-10-10T04:29:13.821891Z",
     "start_time": "2025-10-10T04:29:13.815090Z"
    }
   },
   "cell_type": "code",
   "source": "print(f'iterations{n_iterations} meanb score: {np.mean(bootstrap_scores):.3f}')",
   "id": "941c2cdc29806e50",
   "outputs": [
    {
     "name": "stdout",
     "output_type": "stream",
     "text": [
      "iterations100 meanb score: 0.804\n"
     ]
    }
   ],
   "execution_count": 23
  },
  {
   "metadata": {
    "ExecuteTime": {
     "end_time": "2025-10-10T04:52:38.338776Z",
     "start_time": "2025-10-10T04:52:38.334107Z"
    }
   },
   "cell_type": "code",
   "source": [
    "#kfld cross\n",
    "kf = KFold(n_splits =5,shuffle =True,random_state = 1)\n",
    "#kf = ShuffleSplit(n_splits =5,test_size=0.4,random_state =1)\n",
    "model =LogisticRegression(max_iter = 500)\n",
    "\n",
    "\n",
    "cv_scores = cross_val_score(model,X,y,cv = kf,scoring ='accuracy')\n",
    "print(\"for each fold: \",cv_scores)\n",
    "print(\"m\")"
   ],
   "id": "1a1571272a0554e6",
   "outputs": [],
   "execution_count": 24
  },
  {
   "metadata": {
    "ExecuteTime": {
     "end_time": "2025-10-10T05:04:40.688185Z",
     "start_time": "2025-10-10T05:04:40.679270Z"
    }
   },
   "cell_type": "code",
   "source": [
    "##understanding\n",
    "from sklearn.model_selection import KFold\n",
    "import numpy as np\n",
    "\n",
    "# Create sample data\n",
    "X = np.array([[1, 2], [3, 4], [5, 6], [7, 8], [9, 10]])\n",
    "y = np.array([1, 2, 3, 4, 5])\n",
    "\n",
    "# KFold without random_state - different splits each time\n",
    "kf = KFold(n_splits=5, shuffle=True)\n",
    "\n",
    "for train_index, test_index in kf.split(X):\n",
    "    print(f\"Train: {train_index}, Test: {test_index}\")"
   ],
   "id": "dffdd541cfc7e717",
   "outputs": [
    {
     "name": "stdout",
     "output_type": "stream",
     "text": [
      "Train: [0 1 3 4], Test: [2]\n",
      "Train: [0 1 2 3], Test: [4]\n",
      "Train: [0 1 2 4], Test: [3]\n",
      "Train: [0 2 3 4], Test: [1]\n",
      "Train: [1 2 3 4], Test: [0]\n"
     ]
    }
   ],
   "execution_count": 26
  },
  {
   "metadata": {
    "ExecuteTime": {
     "end_time": "2025-10-10T05:10:03.319206Z",
     "start_time": "2025-10-10T05:10:02.899590Z"
    }
   },
   "cell_type": "code",
   "source": [
    "#SMOTE\n",
    "from sklearn.metrics import accuracy_score,confusion_matrix\n",
    "from imblearn.over_sampling import SMOTE"
   ],
   "id": "d1941c76567cffa6",
   "outputs": [],
   "execution_count": 28
  },
  {
   "metadata": {},
   "cell_type": "code",
   "source": [
    "X = df.drop('survived',axis =1)\n",
    "y = df['survived']"
   ],
   "id": "924ca6f02efa2c99",
   "execution_count": null,
   "outputs": []
  },
  {
   "metadata": {
    "ExecuteTime": {
     "end_time": "2025-10-10T05:10:16.082794Z",
     "start_time": "2025-10-10T05:10:16.074944Z"
    }
   },
   "cell_type": "code",
   "source": [
    "#class distrib before SMOTE\n",
    "y.value_counts()"
   ],
   "id": "5a215bab08fe1e41",
   "outputs": [
    {
     "data": {
      "text/plain": [
       "survived\n",
       "0    424\n",
       "1    290\n",
       "Name: count, dtype: int64"
      ]
     },
     "execution_count": 30,
     "metadata": {},
     "output_type": "execute_result"
    }
   ],
   "execution_count": 30
  },
  {
   "metadata": {
    "ExecuteTime": {
     "end_time": "2025-10-10T05:15:12.673443Z",
     "start_time": "2025-10-10T05:15:12.610568Z"
    }
   },
   "cell_type": "code",
   "source": [
    "X_train,X_test,y_train,y_test = train_test_split(X,y,test_size = 0.3,random_state = 42)\n",
    "smote = SMOTE(random_state =42)\n",
    "X_train_res, y_train_res = smote.fit_resample(X_train,y_train)"
   ],
   "id": "e889c1f8aa577c89",
   "outputs": [],
   "execution_count": 31
  },
  {
   "metadata": {
    "ExecuteTime": {
     "end_time": "2025-10-10T05:25:04.108581Z",
     "start_time": "2025-10-10T05:25:04.098913Z"
    }
   },
   "cell_type": "code",
   "source": [
    "#check class distri after SMOTE\n",
    "pd.Series(y_train_res).value_counts()"
   ],
   "id": "b722bc96c880d034",
   "outputs": [
    {
     "data": {
      "text/plain": [
       "survived\n",
       "0    298\n",
       "1    298\n",
       "Name: count, dtype: int64"
      ]
     },
     "execution_count": 32,
     "metadata": {},
     "output_type": "execute_result"
    }
   ],
   "execution_count": 32
  },
  {
   "metadata": {},
   "cell_type": "code",
   "outputs": [],
   "execution_count": null,
   "source": "",
   "id": "9634e33717b2606f"
  }
 ],
 "metadata": {
  "kernelspec": {
   "display_name": "Python 3",
   "language": "python",
   "name": "python3"
  },
  "language_info": {
   "codemirror_mode": {
    "name": "ipython",
    "version": 2
   },
   "file_extension": ".py",
   "mimetype": "text/x-python",
   "name": "python",
   "nbconvert_exporter": "python",
   "pygments_lexer": "ipython2",
   "version": "2.7.6"
  }
 },
 "nbformat": 4,
 "nbformat_minor": 5
}
