{
 "cells": [
  {
   "cell_type": "code",
   "id": "initial_id",
   "metadata": {
    "collapsed": true,
    "ExecuteTime": {
     "end_time": "2025-10-03T11:06:04.471705Z",
     "start_time": "2025-10-03T11:06:03.563965Z"
    }
   },
   "source": "import numpy as np",
   "outputs": [],
   "execution_count": 1
  },
  {
   "metadata": {
    "ExecuteTime": {
     "end_time": "2025-10-03T11:15:45.650136Z",
     "start_time": "2025-10-03T11:15:45.644261Z"
    }
   },
   "cell_type": "code",
   "source": [
    "#from list\n",
    "arr1 = np.array([1,2,3,4])\n",
    "arr2 = np.array([[1,2,3,],[4,5,6]])\n",
    "arr3 = np.array((7,8,9))\n",
    "print(arr1,\"\\n\",arr2,\"\\n\",arr3)"
   ],
   "id": "7e377b6ea78f828b",
   "outputs": [
    {
     "name": "stdout",
     "output_type": "stream",
     "text": [
      "[1 2 3 4] \n",
      " [[1 2 3]\n",
      " [4 5 6]] \n",
      " [7 8 9]\n"
     ]
    }
   ],
   "execution_count": 10
  },
  {
   "metadata": {
    "ExecuteTime": {
     "end_time": "2025-10-03T11:09:38.758740Z",
     "start_time": "2025-10-03T11:09:38.747161Z"
    }
   },
   "cell_type": "code",
   "source": [
    "#from functions\n",
    "zeros = np.zeros((2,3))\n",
    "ones = np.ones((3,2))\n",
    "identity =np.eye(3)\n",
    "zeros,ones,identity"
   ],
   "id": "2b4491ce6323307f",
   "outputs": [
    {
     "data": {
      "text/plain": [
       "(array([[0., 0., 0.],\n",
       "        [0., 0., 0.]]),\n",
       " array([[1., 1.],\n",
       "        [1., 1.],\n",
       "        [1., 1.]]),\n",
       " array([[1., 0., 0.],\n",
       "        [0., 1., 0.],\n",
       "        [0., 0., 1.]]))"
      ]
     },
     "execution_count": 5,
     "metadata": {},
     "output_type": "execute_result"
    }
   ],
   "execution_count": 5
  },
  {
   "metadata": {
    "ExecuteTime": {
     "end_time": "2025-10-03T11:16:32.455027Z",
     "start_time": "2025-10-03T11:16:32.448016Z"
    }
   },
   "cell_type": "code",
   "source": [
    "#uninitialized\n",
    "empty = np.empty((2,2))\n",
    "full = np.full((2,2),7)\n",
    "empty,full\n"
   ],
   "id": "69d910aee7c8cee8",
   "outputs": [
    {
     "data": {
      "text/plain": [
       "(array([[4.9e-324, 9.9e-324],\n",
       "        [1.5e-323, 2.0e-323]]),\n",
       " array([[7, 7],\n",
       "        [7, 7]]))"
      ]
     },
     "execution_count": 11,
     "metadata": {},
     "output_type": "execute_result"
    }
   ],
   "execution_count": 11
  },
  {
   "metadata": {
    "ExecuteTime": {
     "end_time": "2025-10-03T11:18:53.010396Z",
     "start_time": "2025-10-03T11:18:53.003203Z"
    }
   },
   "cell_type": "code",
   "source": [
    "#arange:steps, last one is not included for computation\n",
    "#linspace: number of points, last one is included\n",
    "arange_ex = np.arange(0,10,2)\n",
    "linspace_ex = np.linspace(0,1,5)\n",
    "arange_ex,linspace_ex"
   ],
   "id": "d5405275a2283855",
   "outputs": [
    {
     "data": {
      "text/plain": [
       "(array([0, 2, 4, 6, 8]), array([0.  , 0.25, 0.5 , 0.75, 1.  ]))"
      ]
     },
     "execution_count": 13,
     "metadata": {},
     "output_type": "execute_result"
    }
   ],
   "execution_count": 13
  },
  {
   "metadata": {},
   "cell_type": "code",
   "outputs": [],
   "execution_count": null,
   "source": [
    "#Random arrays\n",
    "rand = np.random.rand(2,3) #between 0 and 1\n",
    "np.random.uniform(1,100,10) # 1 to 100,reasonably uniformed\n",
    "np.random.randint(1,10,(2,2)) #1 to 10\n",
    "np.random.randn(2,3)  #normal dist\n",
    "np.random.normal(5,2,(2,3)) #mean =5,std =2\n"
   ],
   "id": "f83dd5f921a3b21d"
  }
 ],
 "metadata": {
  "kernelspec": {
   "display_name": "Python 3",
   "language": "python",
   "name": "python3"
  },
  "language_info": {
   "codemirror_mode": {
    "name": "ipython",
    "version": 2
   },
   "file_extension": ".py",
   "mimetype": "text/x-python",
   "name": "python",
   "nbconvert_exporter": "python",
   "pygments_lexer": "ipython2",
   "version": "2.7.6"
  }
 },
 "nbformat": 4,
 "nbformat_minor": 5
}
