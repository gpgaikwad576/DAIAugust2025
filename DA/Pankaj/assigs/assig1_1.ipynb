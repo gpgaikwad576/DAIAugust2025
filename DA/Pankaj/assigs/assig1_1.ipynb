{
 "cells": [
  {
   "metadata": {
    "ExecuteTime": {
     "end_time": "2025-10-08T11:44:23.535124Z",
     "start_time": "2025-10-08T11:44:23.531017Z"
    }
   },
   "cell_type": "code",
   "source": [
    "import numpy as np\n",
    "from matplotlib import pyplot as plt"
   ],
   "id": "210ae65fdb3fad2c",
   "outputs": [],
   "execution_count": 87
  },
  {
   "metadata": {
    "ExecuteTime": {
     "end_time": "2025-10-08T11:44:23.562178Z",
     "start_time": "2025-10-08T11:44:23.553594Z"
    }
   },
   "cell_type": "code",
   "source": "arr = np.array([-1,0,1,2,3,4,5,6,7,8,9,20,34,67,float('nan'),float('inf'),float('-inf'),3+2j])",
   "id": "30be70efb106e24b",
   "outputs": [],
   "execution_count": 88
  },
  {
   "cell_type": "code",
   "id": "initial_id",
   "metadata": {
    "ExecuteTime": {
     "end_time": "2025-10-08T11:44:23.597018Z",
     "start_time": "2025-10-08T11:44:23.580545Z"
    }
   },
   "source": [
    "# Write a NumPy program to get the numpy version and show numpy build configuration.\n",
    "print(np.__version__, np.show_config())"
   ],
   "outputs": [
    {
     "name": "stdout",
     "output_type": "stream",
     "text": [
      "Build Dependencies:\n",
      "  blas:\n",
      "    detection method: pkgconfig\n",
      "    found: true\n",
      "    include directory: C:/Users/runneradmin/AppData/Local/Temp/cibw-run-5t0hy_xh/cp313-win_amd64/build/venv/Lib/site-packages/scipy_openblas64/include\n",
      "    lib directory: C:/Users/runneradmin/AppData/Local/Temp/cibw-run-5t0hy_xh/cp313-win_amd64/build/venv/Lib/site-packages/scipy_openblas64/lib\n",
      "    name: scipy-openblas\n",
      "    openblas configuration: OpenBLAS 0.3.30  USE64BITINT DYNAMIC_ARCH NO_AFFINITY\n",
      "      Haswell MAX_THREADS=24\n",
      "    pc file directory: D:/a/numpy-release/numpy-release/.openblas\n",
      "    version: 0.3.30\n",
      "  lapack:\n",
      "    detection method: pkgconfig\n",
      "    found: true\n",
      "    include directory: C:/Users/runneradmin/AppData/Local/Temp/cibw-run-5t0hy_xh/cp313-win_amd64/build/venv/Lib/site-packages/scipy_openblas64/include\n",
      "    lib directory: C:/Users/runneradmin/AppData/Local/Temp/cibw-run-5t0hy_xh/cp313-win_amd64/build/venv/Lib/site-packages/scipy_openblas64/lib\n",
      "    name: scipy-openblas\n",
      "    openblas configuration: OpenBLAS 0.3.30  USE64BITINT DYNAMIC_ARCH NO_AFFINITY\n",
      "      Haswell MAX_THREADS=24\n",
      "    pc file directory: D:/a/numpy-release/numpy-release/.openblas\n",
      "    version: 0.3.30\n",
      "Compilers:\n",
      "  c:\n",
      "    commands: cl\n",
      "    linker: link\n",
      "    name: msvc\n",
      "    version: 19.44.35215\n",
      "  c++:\n",
      "    commands: cl\n",
      "    linker: link\n",
      "    name: msvc\n",
      "    version: 19.44.35215\n",
      "  cython:\n",
      "    commands: cython\n",
      "    linker: cython\n",
      "    name: cython\n",
      "    version: 3.1.3\n",
      "Machine Information:\n",
      "  build:\n",
      "    cpu: x86_64\n",
      "    endian: little\n",
      "    family: x86_64\n",
      "    system: windows\n",
      "  host:\n",
      "    cpu: x86_64\n",
      "    endian: little\n",
      "    family: x86_64\n",
      "    system: windows\n",
      "Python Information:\n",
      "  path: C:\\Users\\runneradmin\\AppData\\Local\\Temp\\build-env-q3zde7n4\\Scripts\\python.exe\n",
      "  version: '3.13'\n",
      "SIMD Extensions:\n",
      "  baseline:\n",
      "  - SSE\n",
      "  - SSE2\n",
      "  - SSE3\n",
      "  found:\n",
      "  - SSSE3\n",
      "  - SSE41\n",
      "  - POPCNT\n",
      "  - SSE42\n",
      "  - AVX\n",
      "  - F16C\n",
      "  - FMA3\n",
      "  - AVX2\n",
      "  - AVX512F\n",
      "  - AVX512CD\n",
      "  - AVX512_SKX\n",
      "  - AVX512_CLX\n",
      "  not found:\n",
      "  - AVX512_CNL\n",
      "  - AVX512_ICL\n",
      "\n",
      "2.3.3 None\n"
     ]
    }
   ],
   "execution_count": 89
  },
  {
   "metadata": {
    "ExecuteTime": {
     "end_time": "2025-10-08T11:44:23.615114Z",
     "start_time": "2025-10-08T11:44:23.608610Z"
    }
   },
   "cell_type": "code",
   "source": [
    "# Write a NumPy program to get help on the add function.\n",
    "print(help(np.add))"
   ],
   "id": "22a3afed426e12f5",
   "outputs": [
    {
     "name": "stdout",
     "output_type": "stream",
     "text": [
      "Help on ufunc in module numpy:\n",
      "\n",
      "add = <ufunc 'add'>\n",
      "    add(x1, x2, /, out=None, *, where=True, casting='same_kind', order='K', dtype=None, subok=True[, signature])\n",
      "\n",
      "    Add arguments element-wise.\n",
      "\n",
      "    Parameters\n",
      "    ----------\n",
      "    x1, x2 : array_like\n",
      "        The arrays to be added.\n",
      "        If ``x1.shape != x2.shape``, they must be broadcastable to a common\n",
      "        shape (which becomes the shape of the output).\n",
      "    out : ndarray, None, or tuple of ndarray and None, optional\n",
      "        A location into which the result is stored. If provided, it must have\n",
      "        a shape that the inputs broadcast to. If not provided or None,\n",
      "        a freshly-allocated array is returned. A tuple (possible only as a\n",
      "        keyword argument) must have length equal to the number of outputs.\n",
      "    where : array_like, optional\n",
      "        This condition is broadcast over the input. At locations where the\n",
      "        condition is True, the `out` array will be set to the ufunc result.\n",
      "        Elsewhere, the `out` array will retain its original value.\n",
      "        Note that if an uninitialized `out` array is created via the default\n",
      "        ``out=None``, locations within it where the condition is False will\n",
      "        remain uninitialized.\n",
      "    **kwargs\n",
      "        For other keyword-only arguments, see the\n",
      "        :ref:`ufunc docs <ufuncs.kwargs>`.\n",
      "\n",
      "    Returns\n",
      "    -------\n",
      "    add : ndarray or scalar\n",
      "        The sum of `x1` and `x2`, element-wise.\n",
      "        This is a scalar if both `x1` and `x2` are scalars.\n",
      "\n",
      "    Notes\n",
      "    -----\n",
      "    Equivalent to `x1` + `x2` in terms of array broadcasting.\n",
      "\n",
      "    Examples\n",
      "    --------\n",
      "    >>> import numpy as np\n",
      "    >>> np.add(1.0, 4.0)\n",
      "    5.0\n",
      "    >>> x1 = np.arange(9.0).reshape((3, 3))\n",
      "    >>> x2 = np.arange(3.0)\n",
      "    >>> np.add(x1, x2)\n",
      "    array([[  0.,   2.,   4.],\n",
      "           [  3.,   5.,   7.],\n",
      "           [  6.,   8.,  10.]])\n",
      "\n",
      "    The ``+`` operator can be used as a shorthand for ``np.add`` on ndarrays.\n",
      "\n",
      "    >>> x1 = np.arange(9.0).reshape((3, 3))\n",
      "    >>> x2 = np.arange(3.0)\n",
      "    >>> x1 + x2\n",
      "    array([[ 0.,  2.,  4.],\n",
      "           [ 3.,  5.,  7.],\n",
      "           [ 6.,  8., 10.]])\n",
      "\n",
      "None\n"
     ]
    }
   ],
   "execution_count": 90
  },
  {
   "metadata": {
    "ExecuteTime": {
     "end_time": "2025-10-08T11:44:23.649392Z",
     "start_time": "2025-10-08T11:44:23.641826Z"
    }
   },
   "cell_type": "code",
   "source": [
    "# Write a NumPy program to test whether none of the elements of a given array is zero.\n",
    "print(\"It contains zero element/s\") if((arr==0).any())  else print(\"It doesn't contain any zero\")"
   ],
   "id": "4b021dd136d6d359",
   "outputs": [
    {
     "name": "stdout",
     "output_type": "stream",
     "text": [
      "It contains zero element/s\n"
     ]
    }
   ],
   "execution_count": 91
  },
  {
   "metadata": {
    "ExecuteTime": {
     "end_time": "2025-10-08T11:44:23.748608Z",
     "start_time": "2025-10-08T11:44:23.738473Z"
    }
   },
   "cell_type": "code",
   "source": [
    "# Write a NumPy program to test whether any of the elements of a given array is non-zero.\n",
    "print(\"It has non-zero element/s\") if((arr!=0).any())  else print(\"It doesn't contain non-zero elements\")"
   ],
   "id": "9142bcb7861b8c4e",
   "outputs": [
    {
     "name": "stdout",
     "output_type": "stream",
     "text": [
      "It has non-zero element/s\n"
     ]
    }
   ],
   "execution_count": 92
  },
  {
   "metadata": {
    "ExecuteTime": {
     "end_time": "2025-10-08T11:44:23.801596Z",
     "start_time": "2025-10-08T11:44:23.794662Z"
    }
   },
   "cell_type": "code",
   "source": [
    "# Write a NumPy program to test a given array element-wise for finiteness (not infinity or not a\n",
    "# Number).\n",
    "print(\"Contains infinity or not a number\") if(np.any(np.isinf(arr)) or np.any(np.isna(arr))) else print(\"Doesnt contain infinity or NaN\")"
   ],
   "id": "2108cd05cd813e2e",
   "outputs": [
    {
     "name": "stdout",
     "output_type": "stream",
     "text": [
      "Contains infinity or not a number\n"
     ]
    }
   ],
   "execution_count": 93
  },
  {
   "metadata": {
    "ExecuteTime": {
     "end_time": "2025-10-08T11:44:23.841125Z",
     "start_time": "2025-10-08T11:44:23.832650Z"
    }
   },
   "cell_type": "code",
   "source": [
    "# Write a NumPy program to test element-wise for positive or negative infinity.\n",
    "arr2 = [True if np.isinf(n) else False for n in arr]\n",
    "arr2"
   ],
   "id": "939686c51ea2210c",
   "outputs": [
    {
     "data": {
      "text/plain": [
       "[False,\n",
       " False,\n",
       " False,\n",
       " False,\n",
       " False,\n",
       " False,\n",
       " False,\n",
       " False,\n",
       " False,\n",
       " False,\n",
       " False,\n",
       " False,\n",
       " False,\n",
       " False,\n",
       " False,\n",
       " True,\n",
       " True,\n",
       " False]"
      ]
     },
     "execution_count": 94,
     "metadata": {},
     "output_type": "execute_result"
    }
   ],
   "execution_count": 94
  },
  {
   "metadata": {
    "ExecuteTime": {
     "end_time": "2025-10-08T11:44:23.915530Z",
     "start_time": "2025-10-08T11:44:23.901877Z"
    }
   },
   "cell_type": "code",
   "source": [
    "# Write a NumPy program to test element-wise for NaN of a given array.\n",
    "arr2 = [True if np.isnan(n) else False for n in arr]\n",
    "arr2"
   ],
   "id": "4a6e04c8513ecff5",
   "outputs": [
    {
     "data": {
      "text/plain": [
       "[False,\n",
       " False,\n",
       " False,\n",
       " False,\n",
       " False,\n",
       " False,\n",
       " False,\n",
       " False,\n",
       " False,\n",
       " False,\n",
       " False,\n",
       " False,\n",
       " False,\n",
       " False,\n",
       " True,\n",
       " False,\n",
       " False,\n",
       " False]"
      ]
     },
     "execution_count": 95,
     "metadata": {},
     "output_type": "execute_result"
    }
   ],
   "execution_count": 95
  },
  {
   "metadata": {
    "ExecuteTime": {
     "end_time": "2025-10-08T11:44:24.035852Z",
     "start_time": "2025-10-08T11:44:24.024189Z"
    }
   },
   "cell_type": "code",
   "source": [
    "# Write a NumPy program to test element-wise for complex number, real number of a given array.\n",
    "arr2 = [True if np.iscomplex(n) else False for n in arr]\n",
    "arr2"
   ],
   "id": "84b099bd6ce9fbd8",
   "outputs": [
    {
     "data": {
      "text/plain": [
       "[False,\n",
       " False,\n",
       " False,\n",
       " False,\n",
       " False,\n",
       " False,\n",
       " False,\n",
       " False,\n",
       " False,\n",
       " False,\n",
       " False,\n",
       " False,\n",
       " False,\n",
       " False,\n",
       " False,\n",
       " False,\n",
       " False,\n",
       " True]"
      ]
     },
     "execution_count": 96,
     "metadata": {},
     "output_type": "execute_result"
    }
   ],
   "execution_count": 96
  },
  {
   "metadata": {
    "ExecuteTime": {
     "end_time": "2025-10-08T11:44:24.101189Z",
     "start_time": "2025-10-08T11:44:24.093195Z"
    }
   },
   "cell_type": "code",
   "source": [
    "# Also test whether a given number is a scalar type or not.\n",
    "arri2 = [1,2,3,'python',[1,2,3],[1,2]]\n",
    "print(True if np.isscalar(arri2) else False)"
   ],
   "id": "ca5a4baa159567a",
   "outputs": [
    {
     "name": "stdout",
     "output_type": "stream",
     "text": [
      "False\n"
     ]
    }
   ],
   "execution_count": 97
  },
  {
   "metadata": {
    "ExecuteTime": {
     "end_time": "2025-10-08T11:44:24.157672Z",
     "start_time": "2025-10-08T11:44:24.144523Z"
    }
   },
   "cell_type": "code",
   "source": [
    "# Write a NumPy program to create an element-wise comparison (greater, greater_equal, less and\n",
    "# less_equal) of two given arrays.\n",
    "arri3 = np.array([1,2,3,4,5,6])\n",
    "arri4 = np.array([5,68,39,1,0,-1])\n",
    "# print(np.equal(arri3,arri4))\n",
    "# print(np.less(arri3,arri4))\n",
    "[True if n >m else False for n,m in zip(arri3,arri4)],[True if n >= m else False for n,m in zip(arri3,arri4)],[True if n < m else False for n,m in zip(arri3,arri4)],[True if n <=m else False for n,m in zip(arri3,arri4)]"
   ],
   "id": "d49b4b4e32d77dc5",
   "outputs": [
    {
     "data": {
      "text/plain": [
       "([False, False, False, True, True, True],\n",
       " [False, False, False, True, True, True],\n",
       " [True, True, True, False, False, False],\n",
       " [True, True, True, False, False, False])"
      ]
     },
     "execution_count": 98,
     "metadata": {},
     "output_type": "execute_result"
    }
   ],
   "execution_count": 98
  },
  {
   "metadata": {
    "ExecuteTime": {
     "end_time": "2025-10-08T11:44:24.206247Z",
     "start_time": "2025-10-08T11:44:24.196719Z"
    }
   },
   "cell_type": "code",
   "source": [
    "# Write a NumPy program to create an array with the values 1, 7, 13, 105 and determine the size of\n",
    "# the memory occupied by the array.\n",
    "arri3 = np.array([1, 7, 13, 105])\n",
    "arri3.nbytes"
   ],
   "id": "698fb32c5c336629",
   "outputs": [
    {
     "data": {
      "text/plain": [
       "32"
      ]
     },
     "execution_count": 99,
     "metadata": {},
     "output_type": "execute_result"
    }
   ],
   "execution_count": 99
  },
  {
   "metadata": {
    "ExecuteTime": {
     "end_time": "2025-10-08T11:44:24.238165Z",
     "start_time": "2025-10-08T11:44:24.228818Z"
    }
   },
   "cell_type": "code",
   "source": [
    "# Write a NumPy program to create an array of 10 zeros,10 ones, 10 fives.\n",
    "np.hstack([np.zeros(10),np.ones(10),np.full(10,5)])"
   ],
   "id": "97914669e492abdd",
   "outputs": [
    {
     "data": {
      "text/plain": [
       "array([0., 0., 0., 0., 0., 0., 0., 0., 0., 0., 1., 1., 1., 1., 1., 1., 1.,\n",
       "       1., 1., 1., 5., 5., 5., 5., 5., 5., 5., 5., 5., 5.])"
      ]
     },
     "execution_count": 100,
     "metadata": {},
     "output_type": "execute_result"
    }
   ],
   "execution_count": 100
  },
  {
   "metadata": {
    "ExecuteTime": {
     "end_time": "2025-10-08T11:44:24.266792Z",
     "start_time": "2025-10-08T11:44:24.259836Z"
    }
   },
   "cell_type": "code",
   "source": [
    "# Write a NumPy program to create an array of the integers from 30 to70.\n",
    "np.arange(30,71)"
   ],
   "id": "ae8abeff7f54dbab",
   "outputs": [
    {
     "data": {
      "text/plain": [
       "array([30, 31, 32, 33, 34, 35, 36, 37, 38, 39, 40, 41, 42, 43, 44, 45, 46,\n",
       "       47, 48, 49, 50, 51, 52, 53, 54, 55, 56, 57, 58, 59, 60, 61, 62, 63,\n",
       "       64, 65, 66, 67, 68, 69, 70])"
      ]
     },
     "execution_count": 101,
     "metadata": {},
     "output_type": "execute_result"
    }
   ],
   "execution_count": 101
  },
  {
   "metadata": {
    "ExecuteTime": {
     "end_time": "2025-10-08T11:44:24.317750Z",
     "start_time": "2025-10-08T11:44:24.309593Z"
    }
   },
   "cell_type": "code",
   "source": [
    "# Write a NumPy program to create an array of all the even integers from 30 to 70.\n",
    "#print(np.arange(30,71,2))\n",
    "arro2 = np.arange(30,71)\n",
    "arro2[arro2%2==0]"
   ],
   "id": "42f0f19a99ddb5a6",
   "outputs": [
    {
     "data": {
      "text/plain": [
       "array([30, 32, 34, 36, 38, 40, 42, 44, 46, 48, 50, 52, 54, 56, 58, 60, 62,\n",
       "       64, 66, 68, 70])"
      ]
     },
     "execution_count": 102,
     "metadata": {},
     "output_type": "execute_result"
    }
   ],
   "execution_count": 102
  },
  {
   "metadata": {
    "ExecuteTime": {
     "end_time": "2025-10-08T11:44:24.376115Z",
     "start_time": "2025-10-08T11:44:24.364599Z"
    }
   },
   "cell_type": "code",
   "source": [
    "# Write a NumPy program to create a 3x3 identity matrix.\n",
    "np.eye(3,3)"
   ],
   "id": "bf17c6f587728304",
   "outputs": [
    {
     "data": {
      "text/plain": [
       "array([[1., 0., 0.],\n",
       "       [0., 1., 0.],\n",
       "       [0., 0., 1.]])"
      ]
     },
     "execution_count": 103,
     "metadata": {},
     "output_type": "execute_result"
    }
   ],
   "execution_count": 103
  },
  {
   "metadata": {
    "ExecuteTime": {
     "end_time": "2025-10-08T11:44:24.456153Z",
     "start_time": "2025-10-08T11:44:24.449979Z"
    }
   },
   "cell_type": "code",
   "source": [
    "# Write a NumPy program to generate a random number between 0 and 1.\n",
    "np.random.random()"
   ],
   "id": "7362c7d9c71cf084",
   "outputs": [
    {
     "data": {
      "text/plain": [
       "0.26845527259613744"
      ]
     },
     "execution_count": 104,
     "metadata": {},
     "output_type": "execute_result"
    }
   ],
   "execution_count": 104
  },
  {
   "metadata": {
    "ExecuteTime": {
     "end_time": "2025-10-08T11:44:24.625736Z",
     "start_time": "2025-10-08T11:44:24.619500Z"
    }
   },
   "cell_type": "code",
   "source": [
    "# Write a NumPy program to generate an array of 15 random numbers from a standard normal\n",
    "# distribution.\n",
    "np.random.normal(loc=0, scale=1, size=15)"
   ],
   "id": "961f10898e2bbc01",
   "outputs": [
    {
     "data": {
      "text/plain": [
       "array([ 1.40657496, -0.3711372 , -0.71952471, -0.04743367, -0.93963894,\n",
       "       -0.51990171, -0.44775001, -0.58474542, -0.47193547, -0.62517494,\n",
       "       -0.60111541,  1.98335384,  0.18912749,  0.94497083, -0.06018826])"
      ]
     },
     "execution_count": 105,
     "metadata": {},
     "output_type": "execute_result"
    }
   ],
   "execution_count": 105
  },
  {
   "metadata": {
    "ExecuteTime": {
     "end_time": "2025-10-08T11:44:24.732976Z",
     "start_time": "2025-10-08T11:44:24.721651Z"
    }
   },
   "cell_type": "code",
   "source": [
    "# Write a NumPy program to create a vector with values ranging from 15 to 55 and print all values\n",
    "# except the first and last.\n",
    "# np.linspace(15,55,39.5)\n",
    "arro2 = np.arange(15,56)\n",
    "arro2[1:-1]"
   ],
   "id": "e8484386d4d331cb",
   "outputs": [
    {
     "data": {
      "text/plain": [
       "array([16, 17, 18, 19, 20, 21, 22, 23, 24, 25, 26, 27, 28, 29, 30, 31, 32,\n",
       "       33, 34, 35, 36, 37, 38, 39, 40, 41, 42, 43, 44, 45, 46, 47, 48, 49,\n",
       "       50, 51, 52, 53, 54])"
      ]
     },
     "execution_count": 106,
     "metadata": {},
     "output_type": "execute_result"
    }
   ],
   "execution_count": 106
  },
  {
   "metadata": {
    "ExecuteTime": {
     "end_time": "2025-10-08T11:44:24.771183Z",
     "start_time": "2025-10-08T11:44:24.763009Z"
    }
   },
   "cell_type": "code",
   "source": [
    "# Write a NumPy program to create a 3X4 array using and iterate over it.\n",
    "arro2 = np.array([[1,2,3,4],[2,3,4,5],[3,4,5,6]])\n",
    "# print([i for n in arro2 for i in n])\n",
    "for n in np.nditer(arro2): print(n, end=' ')"
   ],
   "id": "712dfb6df60b2e7c",
   "outputs": [
    {
     "name": "stdout",
     "output_type": "stream",
     "text": [
      "1 2 3 4 2 3 4 5 3 4 5 6 "
     ]
    }
   ],
   "execution_count": 107
  },
  {
   "metadata": {
    "ExecuteTime": {
     "end_time": "2025-10-08T11:44:24.815802Z",
     "start_time": "2025-10-08T11:44:24.807326Z"
    }
   },
   "cell_type": "code",
   "source": [
    "# Write a NumPy program to create a vector of length 10 with values evenly distributed between 5\n",
    "# and 50.\n",
    "np.linspace(5,50,10)"
   ],
   "id": "fca0e5a2fe7ad925",
   "outputs": [
    {
     "data": {
      "text/plain": [
       "array([ 5., 10., 15., 20., 25., 30., 35., 40., 45., 50.])"
      ]
     },
     "execution_count": 108,
     "metadata": {},
     "output_type": "execute_result"
    }
   ],
   "execution_count": 108
  },
  {
   "metadata": {
    "ExecuteTime": {
     "end_time": "2025-10-08T11:44:24.848170Z",
     "start_time": "2025-10-08T11:44:24.833254Z"
    }
   },
   "cell_type": "code",
   "source": [
    "# Write a NumPy program to create a vector with values from 0 to 20 and change the sign of the\n",
    "# numbers in the range from 9 to 15.\n",
    "vector= np.arange(0,21)\n",
    "vector = vector[(vector>=9) & (vector<=15)]*-1\n",
    "vector\n",
    "\n",
    "vector = np.arange(0,21)\n",
    "np.where((vector>=9) & (vector<=15),-vector,vector)\n",
    "\n",
    "#np.negative()"
   ],
   "id": "4f08a24abb3a5685",
   "outputs": [
    {
     "data": {
      "text/plain": [
       "array([  0,   1,   2,   3,   4,   5,   6,   7,   8,  -9, -10, -11, -12,\n",
       "       -13, -14, -15,  16,  17,  18,  19,  20])"
      ]
     },
     "execution_count": 109,
     "metadata": {},
     "output_type": "execute_result"
    }
   ],
   "execution_count": 109
  },
  {
   "metadata": {
    "ExecuteTime": {
     "end_time": "2025-10-08T11:44:24.868601Z",
     "start_time": "2025-10-08T11:44:24.861255Z"
    }
   },
   "cell_type": "code",
   "source": [
    "# Write a NumPy program to create a vector of length 5 filled with arbitrary integers from 0 to 10.\n",
    "# np.random.choice(['he','she','me','they'],size=2)\n",
    "np.random.randint(0,11,size =5)"
   ],
   "id": "d981fe146490582b",
   "outputs": [
    {
     "data": {
      "text/plain": [
       "array([2, 8, 2, 2, 9], dtype=int32)"
      ]
     },
     "execution_count": 110,
     "metadata": {},
     "output_type": "execute_result"
    }
   ],
   "execution_count": 110
  },
  {
   "metadata": {
    "ExecuteTime": {
     "end_time": "2025-10-08T11:44:24.898725Z",
     "start_time": "2025-10-08T11:44:24.892229Z"
    }
   },
   "cell_type": "code",
   "source": [
    "# Write a NumPy program to multiply the values of two given vectors.\n",
    "arri3 = np.array([1,2,3,4])\n",
    "arri4 = np.array([4,3,2,1])\n",
    "# np.multiply(arri3,arri4)\n",
    "arri3 * arri4"
   ],
   "id": "9c93b3e1b39e761b",
   "outputs": [
    {
     "data": {
      "text/plain": [
       "array([4, 6, 6, 4])"
      ]
     },
     "execution_count": 111,
     "metadata": {},
     "output_type": "execute_result"
    }
   ],
   "execution_count": 111
  },
  {
   "metadata": {
    "ExecuteTime": {
     "end_time": "2025-10-08T11:44:24.920626Z",
     "start_time": "2025-10-08T11:44:24.916736Z"
    }
   },
   "cell_type": "code",
   "source": [
    "# Write a NumPy program to create a 3x4 matrix filled with values from 10 to 21.\n",
    "arro2 = np.random.choice(range(10,22),(3,4),replace=False)"
   ],
   "id": "733b28004b714a8c",
   "outputs": [],
   "execution_count": 112
  },
  {
   "metadata": {
    "ExecuteTime": {
     "end_time": "2025-10-08T11:44:24.951925Z",
     "start_time": "2025-10-08T11:44:24.946100Z"
    }
   },
   "cell_type": "code",
   "source": [
    "# Write a NumPy program to find the number of rows and columns of a given matrix.\n",
    "np.size(arro2,0)\n",
    "np.size(arro2,1)"
   ],
   "id": "2a49132fc15c9c94",
   "outputs": [
    {
     "data": {
      "text/plain": [
       "4"
      ]
     },
     "execution_count": 113,
     "metadata": {},
     "output_type": "execute_result"
    }
   ],
   "execution_count": 113
  },
  {
   "metadata": {
    "ExecuteTime": {
     "end_time": "2025-10-08T11:44:24.986962Z",
     "start_time": "2025-10-08T11:44:24.981001Z"
    }
   },
   "cell_type": "code",
   "source": [
    "# Write a NumPy program to create a 3x3 identity matrix, i.e. diagonal elements are 1, the rest are 0\n",
    "np.eye(3,3)"
   ],
   "id": "513db78cb29e1059",
   "outputs": [
    {
     "data": {
      "text/plain": [
       "array([[1., 0., 0.],\n",
       "       [0., 1., 0.],\n",
       "       [0., 0., 1.]])"
      ]
     },
     "execution_count": 114,
     "metadata": {},
     "output_type": "execute_result"
    }
   ],
   "execution_count": 114
  },
  {
   "metadata": {
    "ExecuteTime": {
     "end_time": "2025-10-08T11:44:25.082143Z",
     "start_time": "2025-10-08T11:44:25.075517Z"
    }
   },
   "cell_type": "code",
   "source": [
    "# Write a NumPy program to create a 10x10 matrix, in which the elements on the borders will be\n",
    "# equal to 1, and inside 0.\n",
    "matrix = np.zeros((10,10),dtype = int)\n",
    "matrix[[0,-1],:]=1\n",
    "matrix[:,[0,-1]] = 1\n",
    "print(matrix)"
   ],
   "id": "c159968c50300e75",
   "outputs": [
    {
     "name": "stdout",
     "output_type": "stream",
     "text": [
      "[[1 1 1 1 1 1 1 1 1 1]\n",
      " [1 0 0 0 0 0 0 0 0 1]\n",
      " [1 0 0 0 0 0 0 0 0 1]\n",
      " [1 0 0 0 0 0 0 0 0 1]\n",
      " [1 0 0 0 0 0 0 0 0 1]\n",
      " [1 0 0 0 0 0 0 0 0 1]\n",
      " [1 0 0 0 0 0 0 0 0 1]\n",
      " [1 0 0 0 0 0 0 0 0 1]\n",
      " [1 0 0 0 0 0 0 0 0 1]\n",
      " [1 1 1 1 1 1 1 1 1 1]]\n"
     ]
    }
   ],
   "execution_count": 115
  },
  {
   "metadata": {
    "ExecuteTime": {
     "end_time": "2025-10-08T11:44:25.248563Z",
     "start_time": "2025-10-08T11:44:25.243657Z"
    }
   },
   "cell_type": "code",
   "source": [
    "# Write a NumPy program to create a 5x5 zero matrix with elements on the main diagonal equal to 1,\n",
    "# 2, 3, 4, 5.\n",
    "matrix = np.eye(5,5)\n",
    "# for i in range(len(matrix)):\n",
    "    # matrix[i]*=(i+1)\n",
    "\n",
    "#matrix = np.diag([1,2,3,4,5])\n",
    "\n",
    "matrix = np.eye(5)*np.array([1,2,3,4,5])\n",
    "print(matrix)\n",
    "\n"
   ],
   "id": "ca1c40ba5c3b1c68",
   "outputs": [
    {
     "name": "stdout",
     "output_type": "stream",
     "text": [
      "[[1. 0. 0. 0. 0.]\n",
      " [0. 2. 0. 0. 0.]\n",
      " [0. 0. 3. 0. 0.]\n",
      " [0. 0. 0. 4. 0.]\n",
      " [0. 0. 0. 0. 5.]]\n"
     ]
    }
   ],
   "execution_count": 116
  },
  {
   "metadata": {
    "ExecuteTime": {
     "end_time": "2025-10-08T11:44:25.342353Z",
     "start_time": "2025-10-08T11:44:25.332987Z"
    }
   },
   "cell_type": "code",
   "source": [
    "# Write a NumPy program to create a 4x4 matrix in which 0 and 1 are staggered, with zeros on the\n",
    "# main diagonal.\n",
    "row_mat,col_mat = np.ogrid[:4,:4]\n",
    "matrix = (row_mat+col_mat)%2\n",
    "print(matrix)"
   ],
   "id": "b0e4b4c889222a1",
   "outputs": [
    {
     "name": "stdout",
     "output_type": "stream",
     "text": [
      "[[0 1 0 1]\n",
      " [1 0 1 0]\n",
      " [0 1 0 1]\n",
      " [1 0 1 0]]\n"
     ]
    }
   ],
   "execution_count": 117
  },
  {
   "metadata": {
    "ExecuteTime": {
     "end_time": "2025-10-08T11:44:25.399727Z",
     "start_time": "2025-10-08T11:44:25.385564Z"
    }
   },
   "cell_type": "code",
   "source": [
    "# Write a NumPy program to create a 3x3x3 array filled with arbitrary values.\n",
    "np.random.random((3,3,3))"
   ],
   "id": "660c4abe8d5f376b",
   "outputs": [
    {
     "data": {
      "text/plain": [
       "array([[[0.29590722, 0.37871077, 0.58622841],\n",
       "        [0.22155042, 0.10335088, 0.36995822],\n",
       "        [0.48776617, 0.68445589, 0.2189253 ]],\n",
       "\n",
       "       [[0.627724  , 0.84138419, 0.57235071],\n",
       "        [0.7360068 , 0.78977793, 0.16463732],\n",
       "        [0.9688694 , 0.91561154, 0.38427237]],\n",
       "\n",
       "       [[0.49894527, 0.92690911, 0.69422144],\n",
       "        [0.09735339, 0.38275237, 0.32815205],\n",
       "        [0.51074328, 0.29935681, 0.68958134]]])"
      ]
     },
     "execution_count": 118,
     "metadata": {},
     "output_type": "execute_result"
    }
   ],
   "execution_count": 118
  },
  {
   "metadata": {
    "ExecuteTime": {
     "end_time": "2025-10-08T11:44:25.430667Z",
     "start_time": "2025-10-08T11:44:25.419031Z"
    }
   },
   "cell_type": "code",
   "source": [
    "# Write a NumPy program to compute sum of all elements, sum of each column and sum of each row\n",
    "# of a given array.\n",
    "arr = np.array([[1,2,3],[2,3,4],[3,4,5]])\n",
    "np.sum(arr),np.sum(arr,axis =0),np.sum(arr,axis =1)"
   ],
   "id": "8bf3e937f6009347",
   "outputs": [
    {
     "data": {
      "text/plain": [
       "(np.int64(27), array([ 6,  9, 12]), array([ 6,  9, 12]))"
      ]
     },
     "execution_count": 119,
     "metadata": {},
     "output_type": "execute_result"
    }
   ],
   "execution_count": 119
  },
  {
   "metadata": {
    "ExecuteTime": {
     "end_time": "2025-10-08T11:44:25.460681Z",
     "start_time": "2025-10-08T11:44:25.450871Z"
    }
   },
   "cell_type": "code",
   "source": [
    "# Write a NumPy program to compute the inner product of two given vectors.\n",
    "arr = np.array([1,2,3,4,5])\n",
    "arr2 = np.array([2,3,4,5,6])\n",
    "np.inner(arr,arr2)"
   ],
   "id": "f23a33282f7591d3",
   "outputs": [
    {
     "data": {
      "text/plain": [
       "np.int64(70)"
      ]
     },
     "execution_count": 120,
     "metadata": {},
     "output_type": "execute_result"
    }
   ],
   "execution_count": 120
  },
  {
   "metadata": {
    "ExecuteTime": {
     "end_time": "2025-10-08T11:44:25.486129Z",
     "start_time": "2025-10-08T11:44:25.478656Z"
    }
   },
   "cell_type": "code",
   "source": [
    "# Write a NumPy program to add a vector to each row of a given matrix.\n",
    "arr = np.array([[1,2,3],[2,3,4],[3,4,5]])\n",
    "print(arr)\n",
    "arr2 = np.add(arr,[4,5,6])\n",
    "arr2"
   ],
   "id": "5107da66e9173ada",
   "outputs": [
    {
     "name": "stdout",
     "output_type": "stream",
     "text": [
      "[[1 2 3]\n",
      " [2 3 4]\n",
      " [3 4 5]]\n"
     ]
    },
    {
     "data": {
      "text/plain": [
       "array([[ 5,  7,  9],\n",
       "       [ 6,  8, 10],\n",
       "       [ 7,  9, 11]])"
      ]
     },
     "execution_count": 121,
     "metadata": {},
     "output_type": "execute_result"
    }
   ],
   "execution_count": 121
  },
  {
   "metadata": {
    "ExecuteTime": {
     "end_time": "2025-10-08T11:44:25.782061Z",
     "start_time": "2025-10-08T11:44:25.582735Z"
    }
   },
   "cell_type": "code",
   "source": [
    "# Write a NumPy program to compute the x and y coordinates for points on a sine curve and plot the\n",
    "# points using matplotlib.\n",
    "x= np.linspace(0,2*np.pi,100)\n",
    "y = np.sin(x)\n",
    "print(\"First 10 coordinates: \")\n",
    "print(\"x: \",x[:10])\n",
    "print(\"y: \",y[:10])\n",
    "\n",
    "plt.figure(figsize = (10,6))\n",
    "plt.plot(x,y,'b-',linewidth = 2,label = 'sin(x)')\n",
    "\n",
    "plt.title('Sine Curve', fontsize = 14)\n",
    "plt.xlabel('angle')\n",
    "plt.ylabel('sin(x)')\n",
    "plt.grid(True,alpha =0.3)\n",
    "plt.legend()\n",
    "\n",
    "plt.xticks([0,np.pi/2,np.pi,3*np.pi/2,2*np.pi],['0','pi/2','pi','3pi/2','2pi'])\n",
    "plt.show()"
   ],
   "id": "10429b070d6e6b42",
   "outputs": [
    {
     "name": "stdout",
     "output_type": "stream",
     "text": [
      "First 10 coordinates: \n",
      "x:  [0.         0.06346652 0.12693304 0.19039955 0.25386607 0.31733259\n",
      " 0.38079911 0.44426563 0.50773215 0.57119866]\n",
      "y:  [0.         0.06342392 0.12659245 0.18925124 0.25114799 0.31203345\n",
      " 0.37166246 0.42979491 0.48619674 0.54064082]\n"
     ]
    },
    {
     "data": {
      "text/plain": [
       "<Figure size 1000x600 with 1 Axes>"
      ],
      "image/png": "[encoded data removed]"
     },
     "metadata": {},
     "output_type": "display_data",
     "jetTransient": {
      "display_id": null
     }
    }
   ],
   "execution_count": 122
  },
  {
   "metadata": {
    "ExecuteTime": {
     "end_time": "2025-10-08T11:44:25.870661Z",
     "start_time": "2025-10-08T11:44:25.862971Z"
    }
   },
   "cell_type": "code",
   "source": [
    "# Write a NumPy program to convert numpy dtypes to native python types.\n",
    "np_int = np.int64(42)\n",
    "type(np_int.item()),type(int(np_int))"
   ],
   "id": "2c7c74966c935d15",
   "outputs": [
    {
     "data": {
      "text/plain": [
       "(int, int)"
      ]
     },
     "execution_count": 123,
     "metadata": {},
     "output_type": "execute_result"
    }
   ],
   "execution_count": 123
  },
  {
   "metadata": {
    "ExecuteTime": {
     "end_time": "2025-10-08T11:44:25.935750Z",
     "start_time": "2025-10-08T11:44:25.924750Z"
    }
   },
   "cell_type": "code",
   "source": [
    "# Write a NumPy program to find the missing data in a given array.\n",
    "# arr = np.array([1,2,3,float('nan')])\n",
    "# np.where(np.isnan(arr))[0].item()\n",
    "\n",
    "print(np.argwhere(np.isnan(arr)).flatten())\n",
    "\n",
    "# arr_2d = np.array([[1, 2, np.nan],\n",
    "#                    [4, np.nan, 6],\n",
    "#                    [np.nan, 8, 9]])\n",
    "# missing_2d = np.isnan(arr_2d)\n",
    "# np.argwhere(missing_2d)"
   ],
   "id": "6c330469e5027145",
   "outputs": [
    {
     "name": "stdout",
     "output_type": "stream",
     "text": [
      "[]\n"
     ]
    }
   ],
   "execution_count": 124
  },
  {
   "metadata": {
    "ExecuteTime": {
     "end_time": "2025-10-08T11:44:25.974448Z",
     "start_time": "2025-10-08T11:44:25.964207Z"
    }
   },
   "cell_type": "code",
   "source": [
    "# Write a NumPy program to sort a given array by row and column in ascending order\n",
    "arr = np.array([[1,23,3],[25,3,26],[3,4,50]])\n",
    "np.sort(arr,axis =1).tolist(),np.sort(arr,axis =0).tolist()"
   ],
   "id": "ef91f3a8c4076d35",
   "outputs": [
    {
     "data": {
      "text/plain": [
       "([[1, 3, 23], [3, 25, 26], [3, 4, 50]], [[1, 3, 3], [3, 4, 26], [25, 23, 50]])"
      ]
     },
     "execution_count": 125,
     "metadata": {},
     "output_type": "execute_result"
    }
   ],
   "execution_count": 125
  },
  {
   "metadata": {
    "ExecuteTime": {
     "end_time": "2025-10-08T11:44:25.998672Z",
     "start_time": "2025-10-08T11:44:25.992231Z"
    }
   },
   "cell_type": "code",
   "source": [
    "# Write a NumPy program to extract all numbers from a given array which are less and greater than a\n",
    "# specified number.\n",
    "arr = np.array([1,2,3,4,5])\n",
    "arr[(arr>3) | (arr<3)].tolist()"
   ],
   "id": "36bf16d0ab17d0d0",
   "outputs": [
    {
     "data": {
      "text/plain": [
       "[1, 2, 4, 5]"
      ]
     },
     "execution_count": 126,
     "metadata": {},
     "output_type": "execute_result"
    }
   ],
   "execution_count": 126
  },
  {
   "metadata": {
    "ExecuteTime": {
     "end_time": "2025-10-08T11:44:26.027915Z",
     "start_time": "2025-10-08T11:44:26.020952Z"
    }
   },
   "cell_type": "code",
   "source": [
    "# Write a NumPy program to replace all numbers in a given array which is equal, less and greater to a\n",
    "# given number.\n",
    "arr = np.array([1,2,3,4,5])\n",
    "arr[arr == 3].item()"
   ],
   "id": "e2a689bc354761cc",
   "outputs": [
    {
     "data": {
      "text/plain": [
       "3"
      ]
     },
     "execution_count": 127,
     "metadata": {},
     "output_type": "execute_result"
    }
   ],
   "execution_count": 127
  },
  {
   "metadata": {
    "ExecuteTime": {
     "end_time": "2025-10-08T11:44:26.075340Z",
     "start_time": "2025-10-08T11:44:26.068422Z"
    }
   },
   "cell_type": "code",
   "source": [
    "# Write a NumPy program to create an array of equal shape and data type of a given array.\n",
    "np.full_like([[1,23,3,4],[25,3,26,7],[3,4,50,8]],fill_value = 5)"
   ],
   "id": "3e3c69a6aacf7f05",
   "outputs": [
    {
     "data": {
      "text/plain": [
       "array([[5, 5, 5, 5],\n",
       "       [5, 5, 5, 5],\n",
       "       [5, 5, 5, 5]])"
      ]
     },
     "execution_count": 128,
     "metadata": {},
     "output_type": "execute_result"
    }
   ],
   "execution_count": 128
  },
  {
   "metadata": {
    "ExecuteTime": {
     "end_time": "2025-10-08T11:44:26.179858Z",
     "start_time": "2025-10-08T11:44:26.170805Z"
    }
   },
   "cell_type": "code",
   "source": [
    "# Write a NumPy program to create a three-dimension array with shape (3,5,4) and set to a variable.\n",
    "var =5\n",
    "np.full((3,5,4),var)"
   ],
   "id": "3a3c94c3a083a382",
   "outputs": [
    {
     "data": {
      "text/plain": [
       "array([[[5, 5, 5, 5],\n",
       "        [5, 5, 5, 5],\n",
       "        [5, 5, 5, 5],\n",
       "        [5, 5, 5, 5],\n",
       "        [5, 5, 5, 5]],\n",
       "\n",
       "       [[5, 5, 5, 5],\n",
       "        [5, 5, 5, 5],\n",
       "        [5, 5, 5, 5],\n",
       "        [5, 5, 5, 5],\n",
       "        [5, 5, 5, 5]],\n",
       "\n",
       "       [[5, 5, 5, 5],\n",
       "        [5, 5, 5, 5],\n",
       "        [5, 5, 5, 5],\n",
       "        [5, 5, 5, 5],\n",
       "        [5, 5, 5, 5]]])"
      ]
     },
     "execution_count": 129,
     "metadata": {},
     "output_type": "execute_result"
    }
   ],
   "execution_count": 129
  },
  {
   "metadata": {
    "ExecuteTime": {
     "end_time": "2025-10-08T11:44:26.344376Z",
     "start_time": "2025-10-08T11:44:26.338432Z"
    }
   },
   "cell_type": "code",
   "source": [
    "# Write a NumPy program to multiply two given arrays of same size element-by-element.\n",
    "arr1 = np.array([1,2,3,4])\n",
    "arr2 = np.array([2,3,4,5])\n",
    "arr1 * arr2"
   ],
   "id": "bce35496473248f0",
   "outputs": [
    {
     "data": {
      "text/plain": [
       "array([ 2,  6, 12, 20])"
      ]
     },
     "execution_count": 130,
     "metadata": {},
     "output_type": "execute_result"
    }
   ],
   "execution_count": 130
  }
 ],
 "metadata": {
  "kernelspec": {
   "display_name": "Python 3",
   "language": "python",
   "name": "python3"
  },
  "language_info": {
   "codemirror_mode": {
    "name": "ipython",
    "version": 2
   },
   "file_extension": ".py",
   "mimetype": "text/x-python",
   "name": "python",
   "nbconvert_exporter": "python",
   "pygments_lexer": "ipython2",
   "version": "2.7.6"
  }
 },
 "nbformat": 4,
 "nbformat_minor": 5
}
