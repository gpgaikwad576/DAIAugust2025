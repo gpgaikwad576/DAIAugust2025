{
 "cells": [
  {
   "metadata": {},
   "cell_type": "code",
   "outputs": [],
   "execution_count": null,
   "source": [
    "import pandas as pd\n",
    "import numpy as np"
   ],
   "id": "8b3568194657f92e"
  },
  {
   "metadata": {},
   "cell_type": "code",
   "outputs": [],
   "execution_count": null,
   "source": [
    "#### 1.  Write a Pandas program to create and display a one-dimensional array-like object containing an array of data using Pandas module\n",
    "pd.array([1,2,3,3,40]).tolist()"
   ],
   "id": "ebeb75feaefb05ea"
  },
  {
   "metadata": {},
   "cell_type": "code",
   "outputs": [],
   "execution_count": null,
   "source": [
    "#### 2.  Write a Pandas program to convert a Panda module Series to Python list and it's type\n",
    "arr = pd.Series([1,2,3,3,4,4,5,5]).tolist()\n",
    "type(arr)"
   ],
   "id": "f0e01c79e9b2527b"
  },
  {
   "metadata": {},
   "cell_type": "code",
   "outputs": [],
   "execution_count": null,
   "source": [
    "#### 3.  Write a Pandas program to add, subtract, multiple and divide two Pandas Series.\n",
    "arr = pd.Series([2, 4, 6, 8, 10])\n",
    "arr2 = pd.Series([1, 3, 5, 7, 10])\n",
    "(arr + arr2).tolist(),(arr - arr2).tolist(),(arr * arr2).tolist(),(arr/arr2).tolist()"
   ],
   "id": "30eb2ec33369d908"
  },
  {
   "metadata": {},
   "cell_type": "code",
   "outputs": [],
   "execution_count": null,
   "source": [
    "#### 4.  Write a Pandas program to compare the elements of the two Pandas Series.\n",
    "####     Sample Series: \\[2, 4, 6, 8, 10\\], \\[1, 3, 5, 7, 10\\]\n",
    "arr = pd.Series([2, 4, 6, 8, 10])\n",
    "arr2 = pd.Series([1, 3, 5, 7, 10])\n",
    "(arr-arr2).tolist() #comparative analysis"
   ],
   "id": "2443e9b4b26a6cd1"
  },
  {
   "metadata": {},
   "cell_type": "code",
   "outputs": [],
   "execution_count": null,
   "source": [
    "#### 5.  Write a Pandas program to convert a dictionary to a Pandas series.\n",
    "####     Sample Series:\n",
    "####     Original dictionary:\n",
    "d ={'a': 100, 'b': 200, 'c': 300, 'd': 400, 'e': 800}\n",
    "pd.Series(d.values(),index= d.keys())"
   ],
   "id": "65308e61de2f2bdd"
  },
  {
   "metadata": {},
   "cell_type": "code",
   "outputs": [],
   "execution_count": null,
   "source": [
    "#### 6.  Write a Pandas program to convert a NumPy array to a Pandas series\n",
    "arr = np.array([10, 20, 30, 40, 50])\n",
    "pd.Series(arr)"
   ],
   "id": "f5516fae63ba0cae"
  },
  {
   "metadata": {},
   "cell_type": "code",
   "outputs": [],
   "execution_count": null,
   "source": [
    "#### 7.  Write a Pandas program to change the data type of given a column or a Series.\n",
    "arr = pd.Series([100,200,'python',300.12,400])\n",
    "arr2 = pd.to_numeric(arr,errors ='coerce')\n",
    "arr3 = arr.astype('str')\n",
    "arr2,arr3"
   ],
   "id": "161e7a80fba18776"
  },
  {
   "metadata": {},
   "cell_type": "code",
   "outputs": [],
   "execution_count": null,
   "source": [
    "#### 8.  Write a Pandas program to convert the first column of a DataFrame as a Series.\n",
    "####     Sample Output:\n",
    "####     Original DataFrame\n",
    "####     coll col2 col3\n",
    "####     0 1 4 7\n",
    "####     1 2 5 5\n",
    "####     2 3 6 8\n",
    "####     3 4 9 12\n",
    "####     4 7 5 1\n",
    "####     5 11 0 11\n",
    "df = pd.DataFrame([[0, 1, 4, 7],[1, 2, 5, 5],[2, 3, 6, 8]])\n",
    "sr = pd.Series(df[0])\n",
    "sr"
   ],
   "id": "da3bca4f91b2fc6c"
  },
  {
   "metadata": {},
   "cell_type": "code",
   "outputs": [],
   "execution_count": null,
   "source": [
    "#### 9.  Write a Pandas program to convert a given Series to an array.\n",
    "####     Sample Output:\n",
    "####     Original Data Series:\n",
    "####     0 100\n",
    "####     1 200\n",
    "####     2 python\n",
    "####     3 300.12\n",
    "####     4 400\n",
    "####     dtype: object\n",
    "sr = pd.Series([100,200,'python',300.12,400])\n",
    "arr = sr.values\n",
    "arr.tolist()"
   ],
   "id": "50aead14844292f9"
  },
  {
   "metadata": {},
   "cell_type": "code",
   "outputs": [],
   "execution_count": null,
   "source": [
    "#### 10. Write a Pandas program to convert Series of lists to one Series\n",
    "sr = pd.Series([['Red', 'Green', 'White'],['Red', 'Black'],['Yellow']])\n",
    "np.concatenate(sr)"
   ],
   "id": "c6d9f2b45a77b2ae"
  },
  {
   "metadata": {},
   "cell_type": "code",
   "outputs": [],
   "execution_count": null,
   "source": [
    "#### 11. Write a Pandas program to sort a given Series.\n",
    "# sr = pd.Series([100,200,'python',300.12,400]).astype(str)\n",
    "# np.sort(sr)\n",
    "sr = pd.Series([100,200,'python',300.12,400])\n",
    "sr.sort_values(key= lambda x:x.astype(str))"
   ],
   "id": "3be7eecae1534903"
  },
  {
   "metadata": {},
   "cell_type": "code",
   "outputs": [],
   "execution_count": null,
   "source": [
    "#### 12. Write a Pandas program to add some data to an existing Series\n",
    "sr = pd.Series([100,200,'python',300.12,400])\n",
    "new_data = pd.Series(['php',200])\n",
    "pd.concat([sr,new_data],ignore_index=True)"
   ],
   "id": "1e125d93b50708ed"
  },
  {
   "metadata": {},
   "cell_type": "code",
   "outputs": [],
   "execution_count": null,
   "source": [
    "#### 13. Write a Pandas program to create a subset of a given series based on value and condition.\n",
    "####     Sample Output:\n",
    "####     Original Data Series:\n",
    "####     0 0\n",
    "####     1 1\n",
    "####     2 2\n",
    "####     9 9\n",
    "####     10 10\n",
    "####     dtype: int64\n",
    "sr = pd.Series([0,1,2,3,4,5,6,7,8,9,10])\n",
    "sr[sr>5]"
   ],
   "id": "1e084199116393ae"
  },
  {
   "metadata": {},
   "cell_type": "code",
   "outputs": [],
   "execution_count": null,
   "source": [
    "#### 14. Write a Pandas program to change the order of index of a given series.\n",
    "####     Sample Output:\n",
    "####     Original Data Series:\n",
    "####     A 1\n",
    "####     B 2\n",
    "####     C 3\n",
    "####     D 4\n",
    "####     E 5\n",
    "####     dtype: int64\n",
    "sr = pd.Series([1,2,3,4,5], index = ['A','B','C','D','E'])\n",
    "nsr = sr.reindex(['C','A','E','B','D'])\n",
    "nsr"
   ],
   "id": "3a19f7b5c668ad20"
  },
  {
   "metadata": {},
   "cell_type": "code",
   "outputs": [],
   "execution_count": null,
   "source": [
    "#### 15. Write a Pandas program to create the mean and standard deviation of the data of a given Series\n",
    "sr = pd.Series([1,2,3,8,9,5,3])\n",
    "sr.mean().item(),sr.std().item()"
   ],
   "id": "8ef5951eb94a6536"
  },
  {
   "metadata": {},
   "cell_type": "code",
   "outputs": [],
   "execution_count": null,
   "source": [
    "#### 16. Write a Pandas program to get the items of a given series not present in another given series\n",
    "sr = pd.Series([1,2,3,4,5])\n",
    "sr2 = pd.Series([2,4,6,8,10])\n",
    "# sr[~sr.isin(sr2)]\n",
    "sr[sr.apply(lambda x: x not in sr2.values)]"
   ],
   "id": "6f864170241743a5"
  },
  {
   "metadata": {},
   "cell_type": "code",
   "outputs": [],
   "execution_count": null,
   "source": [
    "#### 17. Write a Pandas program to get the items which are not common of two given series.\n",
    "####     Sample Output:\n",
    "####     Original Series:\n",
    "####     sr1:\n",
    "####     0 1\n",
    "####     1 2\n",
    "####     2 3\n",
    "####     3 4\n",
    "####     4 5\n",
    "####     dtype: int64\n",
    "####     sr2:\n",
    "####     0 2\n",
    "####     1 4\n",
    "####     2 6\n",
    "####     3 8\n",
    "####     4 10\n",
    "####     dtype: int64\n",
    "sr = pd.Series([1,2,3,4,5])\n",
    "sr2 = pd.Series([2,4,6,8,10])\n",
    "sr[sr.apply(lambda x: x not in sr2.values)]\n",
    "sr[sr.isin(sr2)]"
   ],
   "id": "1a7cb5909b61de28"
  },
  {
   "metadata": {},
   "cell_type": "code",
   "outputs": [],
   "execution_count": null,
   "source": [
    "#### 18. Write a Pandas program to compute the minimum, 25th percentile, median, 75th, and maximum of a given series.\n",
    "####     Sample Output:\n",
    "####     Original Series:\n",
    "####     0 3.000938\n",
    "####     1 11.370722\n",
    "####     2 14.612143\n",
    "####     17 14.118931\n",
    "####     18 8.247458\n",
    "####     19 5.526727\n",
    "####     dtype: float64\n",
    "sr = pd.Series([3.000938,11.370722,14.612143,8.247458,5.526727])\n",
    "sr.quantile([0,0.25,0.50,0.75,1])"
   ],
   "id": "554eae1ca7f91ff6"
  },
  {
   "metadata": {},
   "cell_type": "code",
   "outputs": [],
   "execution_count": null,
   "source": [
    "#### 19. Write a Pandas program to calculate the frequency counts of each unique value of a given series.\n",
    "####     Sample Output:\n",
    "####     Original Series:\n",
    "####     0 1\n",
    "####     1 7\n",
    "####     2 1\n",
    "####     3 6\n",
    "####     37 0\n",
    "####     38 4\n",
    "####     39 8\n",
    "####     dtype: object\n",
    "sr = pd.Series([1,7,1,6])\n",
    "sr.value_counts()"
   ],
   "id": "18f67e36016e7550"
  },
  {
   "metadata": {},
   "cell_type": "code",
   "outputs": [],
   "execution_count": null,
   "source": [
    "#### 20. Write a Pandas program to display most frequent value in a given series and replace everything else as 'Other' in the series.\n",
    "####     Sample Output:\n",
    "####     Original Series:\n",
    "####     0 3\n",
    "####     1 1\n",
    "####     2 1\n",
    "####     3 3\n",
    "####     12 2\n",
    "####     13 3\n",
    "####     14 3\n",
    "####     dtype: int64\n",
    "sr = pd.Series([3,1,1,3,2,3,3])\n",
    "most_freq = sr.mode().iloc[0]\n",
    "sr.where(sr == most_freq,'Other' )"
   ],
   "id": "faf3ad222cd7c736"
  },
  {
   "metadata": {},
   "cell_type": "code",
   "outputs": [],
   "execution_count": null,
   "source": [
    "#### 21. Write a Pandas program to find the positions of numbers that are multiples of 5 of a given series.\n",
    "####     Sample Output:\n",
    "####     Original Series:\n",
    "####     01 19\n",
    "####     28 36\n",
    "####     49 57\n",
    "####     61 71\n",
    "####     81\n",
    "####     dtype: int64\n",
    "sr = pd.Series([3,5,10,4,15,50])\n",
    "sr[sr%5==0].index.tolist()"
   ],
   "id": "d8c119d0cb5bb72b"
  },
  {
   "metadata": {},
   "cell_type": "code",
   "outputs": [],
   "execution_count": null,
   "source": [
    "#### 22. Write a Pandas program to extract items at given positions of a given series.\n",
    "####     Sample Output:\n",
    "####     Original Series:\n",
    "####     0 2\n",
    "####     1 3\n",
    "####     2 9\n",
    "####     3 0\n",
    "####     4 2\n",
    "####     5 3\n",
    "####     19 0\n",
    "####     20 2\n",
    "####     21 3\n",
    "####     dtype: object\n",
    "sr = pd.Series([3,1,1,3,2,3,3])\n",
    "sr[1].item()\n",
    "sr.iloc[0].item()"
   ],
   "id": "43093213f4cc2267"
  },
  {
   "metadata": {},
   "cell_type": "code",
   "outputs": [],
   "execution_count": null,
   "source": [
    "#### 23. Write a Pandas program to get the positions of items of a given series in another given series.\n",
    "####     Sample Output:\n",
    "####     Original Series:\n",
    "####     0 1\n",
    "####     1 2\n",
    "####     2 3\n",
    "####     3 4\n",
    "####     4 5\n",
    "####     5 6\n",
    "####     6 7\n",
    "####     7 8\n",
    "####     8 9\n",
    "####     9 10\n",
    "####     dtype: int64\n",
    "####     0 1\n",
    "####     1 3\n",
    "####     2 5\n",
    "####     3 7\n",
    "####     4 10\n",
    "####     dtype: int64\n",
    "sr = pd.Series([1,2,3,4,5,6,7,8,9,10])\n",
    "sr2 = pd.Series([1,3,5,7,10])\n",
    "sr[sr.isin(sr2)].index.values"
   ],
   "id": "e1cb1a00bec6aa5d"
  },
  {
   "metadata": {},
   "cell_type": "code",
   "outputs": [],
   "execution_count": null,
   "source": [
    "#### 24. Write a Pandas program convert the first and last character of each word to upper case in each word of a given series.\n",
    "####     Sample Output:\n",
    "####     Original Series:\n",
    "####     0 php\n",
    "####     1 python\n",
    "####     2 java\n",
    "####     3 c#\n",
    "####     dtype: object\n",
    "sr = pd.Series(['php','python','java','c#'])\n",
    "sr.apply(lambda x: x[0].upper() + x[1:-1]+x[-1].upper() if len(x)>1 else x.upper())"
   ],
   "id": "2093e9d2170da86e"
  },
  {
   "metadata": {},
   "cell_type": "code",
   "outputs": [],
   "execution_count": null,
   "source": [
    "#### 25. Write a Pandas program to calculate the number of characters in each word in a given series.\n",
    "####     Sample Output:\n",
    "####     Original Series:\n",
    "####     0 Php\n",
    "####     1 Python\n",
    "####     2 Java\n",
    "####     3 C\\####\n",
    "####     dtype: object\n",
    "sr = pd.Series(['php','python','java','c#'])\n",
    "sr.apply(lambda x: len(x))"
   ],
   "id": "2f8755af0c21383b"
  },
  {
   "metadata": {},
   "cell_type": "code",
   "outputs": [],
   "execution_count": null,
   "source": [
    "#### 26. Write a Pandas program to compute difference of differences between consecutive numbers of a given series.\n",
    "####     Sample Output:\n",
    "####     Original Series:\n",
    "####     0 1\n",
    "####     1 3\n",
    "####     2 5\n",
    "####     3 8\n",
    "####     4 10\n",
    "####     5 11\n",
    "####     6 15\n",
    "####     dtype: int64\n",
    "sr = pd.Series([1,3,5,8,10,11,15])\n",
    "print(sr.diff().diff())"
   ],
   "id": "acb5bc2d76763710"
  },
  {
   "metadata": {},
   "cell_type": "code",
   "outputs": [],
   "execution_count": null,
   "source": [
    "#### 27. Write a Pandas program to convert a series of date strings to a timeseries.\n",
    "####     Sample Output:\n",
    "####     Original Series:\n",
    "# 0 01 Jan 2015\n",
    "# 1 10-02-2016\n",
    "# 2 20180307\n",
    "# 3 2014/05/06\n",
    "# 4 2016-04-12\n",
    "# 5 2019-04-06T11:20\n",
    "sr = pd.Series(['01 Jan 2015','10-02-2016','20180307','2014/05/06','2016-04-12','2019-04-06T11:20'])\n",
    "pd.to_datetime(sr,format = 'mixed',dayfirst=True)"
   ],
   "id": "6f628d8166d43420"
  },
  {
   "metadata": {},
   "cell_type": "code",
   "outputs": [],
   "execution_count": null,
   "source": [
    "#### 28. Write a Pandas program to get the day of month, day of year, week number and day of week from a given series of date strings\n",
    "sr = pd.Series(['01 Jan 2015','10-02-2016','20180307','2014/05/06','2016-04-12','2019-04-06T11:20'])\n",
    "asr = pd.to_datetime(sr,format = 'mixed',dayfirst =True)\n",
    "result = pd.DataFrame({\n",
    "    'day_of_month': asr.dt.day,\n",
    "    'doy': asr.dt.dayofyear,\n",
    "    'week_number':asr.dt.isocalendar().week,\n",
    "    'day_of_week':asr.dt.dayofweek\n",
    "})\n",
    "result"
   ],
   "id": "3a4ecf0ca9531d8d"
  },
  {
   "metadata": {},
   "cell_type": "code",
   "outputs": [],
   "execution_count": null,
   "source": [
    "#### 29. Write a Pandas program to convert year-month string to dates adding a specified day of the month\n",
    "sr = pd.Series(['Jan 2015','Feb 2016','Mar 2017','Apr 2018','May 2019'])\n",
    "pd.to_datetime(sr+' '+str(15))"
   ],
   "id": "5199c0fe87607ed0"
  },
  {
   "metadata": {},
   "cell_type": "code",
   "outputs": [],
   "execution_count": null,
   "source": [
    "#### 30. Write a Pandas program to filter words from a given series that contain atleast two vowels.\n",
    "\n",
    "sr = pd.Series(['Red','Green','Orange','Pink','Yellow','White'])\n",
    "def cnt_vowels(st):\n",
    "    cnt = 0\n",
    "    for s in st:\n",
    "        if(s in ('a','e','i','o','u','A','E','I','O','U')):\n",
    "           cnt+=1\n",
    "    return cnt\n",
    "\n",
    "# sr[sr.apply(lambda x: cnt_vowels(x)>=2)]\n",
    "sr[sr.str.count(r'[aeiouAEIOU]')>=2]"
   ],
   "id": "a78ead96221005d7"
  },
  {
   "metadata": {},
   "cell_type": "code",
   "outputs": [],
   "execution_count": null,
   "source": [
    "#### 31. Write a Pandas program to compute the Euclidean distance between two given series.\n",
    "####     Sample Output:\n",
    "####     Original series:\n",
    "####     0 1\n",
    "####     1 2\n",
    "####     2 3\n",
    "####     3 4\n",
    "####     4 5\n",
    "####     5 6\n",
    "####     6 7\n",
    "####     7 8\n",
    "####     8 9\n",
    "####     9 10\n",
    "####     dtype: int64\n",
    "####     0 11\n",
    "####     12 1\n",
    "####     8 2\n",
    "####     7 3\n",
    "####     5 4\n",
    "####     6 5\n",
    "####     5 6\n",
    "####     3 7\n",
    "####     4 8\n",
    "####     7 9\n",
    "####     1 dtype: int64\n",
    "\n",
    "sr = pd.Series([1,2,3,4,5,6,7,8,9,10])\n",
    "sr2 = pd.Series([11,8,7,5,6,5,3,4,7,1])\n",
    "sr3 = (sr-sr2)**2\n",
    "np.sqrt(np.sum(sr3))\n",
    "np.linalg.norm(sr-sr2)"
   ],
   "id": "664341cde3727ad3"
  },
  {
   "metadata": {},
   "cell_type": "code",
   "outputs": [],
   "execution_count": null,
   "source": [
    "#### 32. Write a Pandas program to find the positions of the values neighboured by smaller values on both sides in a given series\n",
    "sr = pd.Series([1,8,7,5,6,5,3,4,7,1])\n",
    "# positions =[]\n",
    "# for i in range(1,len(sr)):\n",
    "#     if sr[i] >sr[i-1] and sr[i]>sr[i+1]:\n",
    "#         positions.append(i)\n",
    "\n",
    "left_smaller = sr>sr.shift(1)\n",
    "right_smaller = sr>sr.shift(-1)\n",
    "positions = sr[(left_smaller & right_smaller)].index.tolist()\n",
    "positions"
   ],
   "id": "7ecb2476440d8dad"
  },
  {
   "metadata": {},
   "cell_type": "code",
   "outputs": [],
   "execution_count": null,
   "source": [
    "#### 33. Write a Pandas program to replace missing white spaces in a given string with the least frequent character.\n",
    "from collections import Counter\n",
    "\n",
    "####     Sample Output:\n",
    "####     Original series:\n",
    "####     abc def abcdef icd\n",
    "####     C 3\n",
    "####     d 3\n",
    "####     3 b\n",
    "####     2 e\n",
    "####     2 a\n",
    "####     2 f\n",
    "####     2 i\n",
    "####     1 dtype: int64\n",
    "# def replace_spaces(text):\n",
    "#     if(len(text) == 0): return text\n",
    "#     char_counts  = Counter(text)\n",
    "#     print(char_counts)\n",
    "#     least_freq_char = min(char_counts.items(),key = lambda x:x[1])[0]\n",
    "#     return text.replace(' ',least_freq_char)\n",
    "\n",
    "def replace_spaces(text):\n",
    "    no_space_text = text.replace(' ', '')\n",
    "    if no_space_text:\n",
    "        char_counts = Counter(no_space_text)\n",
    "        least_freq_char = min(char_counts.items(), key=lambda x: x[1])[0]\n",
    "        return text.replace(' ', least_freq_char)\n",
    "    return text\n",
    "\n",
    "sr = pd.Series(list('abc def abcdef icd'))\n",
    "sr.apply(replace_spaces)"
   ],
   "id": "c200344f505b2880"
  },
  {
   "metadata": {},
   "cell_type": "code",
   "outputs": [],
   "execution_count": null,
   "source": [
    "#### 34. Write a Pandas program to compute the autocorrelations of a given numeric series.\n",
    "####     Sample Output:\n",
    "####     Original series:\n",
    "####     0 13.207262\n",
    "####     1 4.098685\n",
    "####     2 -1.435534\n",
    "####     3 13.626760\n",
    "####     13 -2.346193\n",
    "####     14 17.873884\n",
    "####     dtype: float64\n",
    "lags = [1, 2, 3, 5, 10]\n",
    "sr = pd.Series([1,8,7,5,6,5,3,4,7,1])\n",
    "for lag in lags:\n",
    "    print(f\"{sr.autocorr(lag =lag):.4f}\",end = ' ')"
   ],
   "id": "d8d7b337a786afc6"
  },
  {
   "metadata": {},
   "cell_type": "code",
   "outputs": [],
   "execution_count": null,
   "source": [
    "#### 35. Write a Pandas program to create a TimeSeries to display all the Sundays of given year.\n",
    "####     Sample Output:\n",
    "####     All Sundays of 2019:\n",
    "####     0 2020-01-05\n",
    "####     1 2020-01-12\n",
    "####     2 2020-01-19\n",
    "####     3 2020-01-26\n",
    "####     4 2020-02-02\n",
    "####     5 2020-02-09\n",
    "####     48 2020-12-06\n",
    "####     49 2020-12-13\n",
    "####     50 2020-12-20\n",
    "####     51 2020-12-27\n",
    "####     dtype: datetime64 \\[ns\\]\n",
    "year = 2020\n",
    "sundays = pd.Series(pd.date_range(start = f'{year}-01-01',end = f'{year}-12-31',freq='W-SUN'))\n",
    "sundays"
   ],
   "id": "821b74b09507f087"
  },
  {
   "metadata": {},
   "cell_type": "code",
   "outputs": [],
   "execution_count": null,
   "source": [
    "#### 36. Write a Pandas program to convert given series into a dataframe with its index as another column on the dataframe.\n",
    "####     Sample Output:\n",
    "####     index 0\n",
    "####     0 A 0\n",
    "####     1 B 1\n",
    "####     2 C 2\n",
    "####     3 D 3\n",
    "####     4 E 4\n",
    "sr = pd.Series([0,1,2,3,4],index =['A','B','C','D','E'])\n",
    "df=sr.reset_index()\n",
    "df.columns=['index','vals']\n",
    "df"
   ],
   "id": "d5d5895b58fd43ca"
  },
  {
   "metadata": {},
   "cell_type": "code",
   "outputs": [],
   "execution_count": null,
   "source": [
    "#### 37. Write a Pandas program to stack two given series vertically and horizontally.\n",
    "####     Sample Output:\n",
    "####     Original Series:\n",
    "####     0 0\n",
    "####     1 1\n",
    "####     2 2\n",
    "####     7 7\n",
    "####     8 8\n",
    "####     9 9\n",
    "####     dtype: int64\n",
    "####     0 P\n",
    "####     1 q\n",
    "####     2 r\n",
    "####     7 W\n",
    "####     8 X\n",
    "####     9 Y\n",
    "####     dtype: object\n",
    "sr=pd.Series([1,2,3,4,5,6])\n",
    "sr2=pd.Series(['p','q','r','w','x','y'])\n",
    "pd.concat([sr,sr2],axis =0) #vertical\n",
    "# pd.concat([sr,sr2],axis =1) #horizo"
   ],
   "id": "275b3626037ad728"
  },
  {
   "metadata": {
    "ExecuteTime": {
     "end_time": "2025-10-09T18:01:17.985168Z",
     "start_time": "2025-10-09T18:01:17.960213Z"
    }
   },
   "cell_type": "code",
   "source": [
    "#### 39. Write a Pandas program to find the index of the first occurrence of the smallest and largest value of a given series.\n",
    "####     Sample Output:\n",
    "####     Original Series:\n",
    "####     0 1\n",
    "####     1 3\n",
    "####     2 7\n",
    "####     7 1\n",
    "####     8 9\n",
    "####     9 0\n",
    "####     dtype: int64\n",
    "sr=pd.Series([1,3,7,1,9,0])\n",
    "sr.max()\n",
    "sr.idxmax()\n",
    "sr.min()\n",
    "sr.idxmin()"
   ],
   "id": "1bb62ae0211514b8",
   "outputs": [
    {
     "data": {
      "text/plain": [
       "5"
      ]
     },
     "execution_count": 79,
     "metadata": {},
     "output_type": "execute_result"
    }
   ],
   "execution_count": 79
  },
  {
   "metadata": {
    "ExecuteTime": {
     "end_time": "2025-10-09T18:20:25.764716Z",
     "start_time": "2025-10-09T18:20:25.755862Z"
    }
   },
   "cell_type": "code",
   "source": [
    "#### 40. Write a Pandas program to check inequality over the index axis of a given dataframe and a given series.\n",
    "####     Sample Output:\n",
    "####     Original DataFrame:\n",
    "####     W Y X Z\n",
    "####     0 68.0 78.0 84 86\n",
    "####     1 75.0 75.0 94 97\n",
    "####     2 86.0 NaN 89 96\n",
    "####     3 80.0 80.0 86 72\n",
    "####     4 NaN 86.0 86 83\n",
    "####     Original Series:\n",
    "####     0 68.0\n",
    "####     1 75.0\n",
    "####     2 86.0\n",
    "####     3 80.0\n",
    "####     4 NaN\n",
    "####     dtype: float64\n",
    "df =pd.DataFrame([[68.0, 78.0, 84, 86],[ 75.0, 75.0, 94, 97],[86.0, float('nan'), 890, 96],[ 80.0, 80.0, 86, 72],[float('nan'), 86.0, 86, 83]])\n",
    "sr = pd.Series([68.0,75.0,86.0,80.0,float('nan')])\n",
    "for s in df:\n",
    "    print(df[s] != sr)"
   ],
   "id": "1f1432e5aa9d51df",
   "outputs": [
    {
     "name": "stdout",
     "output_type": "stream",
     "text": [
      "0    False\n",
      "1    False\n",
      "2    False\n",
      "3    False\n",
      "4     True\n",
      "dtype: bool\n",
      "0     True\n",
      "1    False\n",
      "2     True\n",
      "3    False\n",
      "4     True\n",
      "dtype: bool\n",
      "0    True\n",
      "1    True\n",
      "2    True\n",
      "3    True\n",
      "4    True\n",
      "dtype: bool\n",
      "0    True\n",
      "1    True\n",
      "2    True\n",
      "3    True\n",
      "4    True\n",
      "dtype: bool\n"
     ]
    }
   ],
   "execution_count": 83
  },
  {
   "metadata": {},
   "cell_type": "code",
   "outputs": [],
   "execution_count": null,
   "source": "",
   "id": "7de13bb55ea4aa23"
  }
 ],
 "metadata": {
  "kernelspec": {
   "display_name": "Python 3",
   "language": "python",
   "name": "python3"
  },
  "language_info": {
   "codemirror_mode": {
    "name": "ipython",
    "version": 2
   },
   "file_extension": ".py",
   "mimetype": "text/x-python",
   "name": "python",
   "nbconvert_exporter": "python",
   "pygments_lexer": "ipython2",
   "version": "2.7.6"
  }
 },
 "nbformat": 4,
 "nbformat_minor": 5
}
