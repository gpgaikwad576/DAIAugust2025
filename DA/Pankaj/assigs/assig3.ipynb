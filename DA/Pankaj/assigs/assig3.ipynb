{
 "cells": [
  {
   "metadata": {},
   "cell_type": "code",
   "outputs": [],
   "execution_count": null,
   "source": [
    "from enum import unique\n",
    "\n",
    "import pandas as pd\n",
    "import numpy as np"
   ],
   "id": "9c7f6aa8648deabd"
  },
  {
   "metadata": {},
   "cell_type": "code",
   "outputs": [],
   "execution_count": null,
   "source": [
    "#### 1. Write a Pandas program to read a csv file from a specified source and print the\n",
    "#### first 5 rows\n",
    "df = pd.read_csv(\"C:\\\\Users\\\\dai\\\\Downloads\\\\diamonds.csv\").iloc[:,1:]\n",
    "df.head()"
   ],
   "id": "4b2683d5a0f63602"
  },
  {
   "metadata": {},
   "cell_type": "code",
   "outputs": [],
   "execution_count": null,
   "source": [
    "#### 2. Write a Pandas program to read a dataset from diamonds DataFrame and\n",
    "#### modify the default columns values and print the first 6 rows.\n",
    "df.loc[0:5,'carat'] = 0.21\n",
    "df.head(6)"
   ],
   "id": "6967d4a35064cf1c"
  },
  {
   "metadata": {},
   "cell_type": "code",
   "outputs": [],
   "execution_count": null,
   "source": [
    "#### 3. Write a Pandas program to select a series from diamonds DataFrame. Print\n",
    "#### the content of the series\n",
    "print(df['cut'])"
   ],
   "id": "98e61c190dd74a83"
  },
  {
   "metadata": {},
   "cell_type": "code",
   "outputs": [],
   "execution_count": null,
   "source": [
    "#### 4. Write a Pandas program to create a new 'Quality -color' Series (use bracket\n",
    "#### notation to define the Series name) of the diamonds DataFrame.\n",
    "df.insert(1,'Quality - color','red')"
   ],
   "id": "fa1b066f3c21818d"
  },
  {
   "metadata": {},
   "cell_type": "code",
   "outputs": [],
   "execution_count": null,
   "source": [
    "#### 5. Write a Pandas program to find the number of rows and columns and data\n",
    "#### type of each column of diamonds Dataframe.\n",
    "df.info()"
   ],
   "id": "38ec65a67239dca6"
  },
  {
   "metadata": {},
   "cell_type": "code",
   "outputs": [],
   "execution_count": null,
   "source": [
    "#### 6. Write a Pandas program to summarize only 'object' columns of the diamonds\n",
    "#### Dataframe.\n",
    "df.select_dtypes(include = ['object']).describe()"
   ],
   "id": "5da0bcb3e6b58302"
  },
  {
   "metadata": {},
   "cell_type": "code",
   "outputs": [],
   "execution_count": null,
   "source": [
    "#### 7. Write a Pandas program to rename two of the columns of the diamonds\n",
    "#### Dataframe\n",
    "df['color'].rename('colors')\n",
    "df['cut'].rename('cuts')"
   ],
   "id": "a9f897097d3aed9a"
  },
  {
   "metadata": {},
   "cell_type": "code",
   "outputs": [],
   "execution_count": null,
   "source": [
    "#### 8. Write a Pandas program to rename all the columns of the diamonds\n",
    "#### Dataframe\n",
    "df.columns = [col+\"s\" for col in df.columns]\n",
    "# df.rename(columns =[col+\"s\" for col in df.columns])"
   ],
   "id": "540f91999677dc9d"
  },
  {
   "metadata": {},
   "cell_type": "code",
   "outputs": [],
   "execution_count": null,
   "source": [
    "#### 9. Write a Pandas program to remove the second column of the diamonds\n",
    "#### Dataframe\n",
    "df.drop(columns = df.columns[1])"
   ],
   "id": "d325c04a3f24fb08"
  },
  {
   "metadata": {},
   "cell_type": "code",
   "outputs": [],
   "execution_count": null,
   "source": [
    "#### 10. Write a Pandas program to remove multiple columns at once of the diamonds\n",
    "#### Dataframe.\n",
    "df = df.drop(columns = df.columns[0:-1])"
   ],
   "id": "82364f1773ba9fcc"
  },
  {
   "metadata": {},
   "cell_type": "code",
   "outputs": [],
   "execution_count": null,
   "source": [
    "#### 11. Write a Pandas program to remove multiple rows at once (axis=0 refers to\n",
    "#### rows) from diamonds dataframe\n",
    "df = df.drop(['carat','cut','color'],axis =1)"
   ],
   "id": "ebf145af581ad19"
  },
  {
   "metadata": {},
   "cell_type": "code",
   "outputs": [],
   "execution_count": null,
   "source": "df",
   "id": "fc2151da992dc860"
  },
  {
   "metadata": {},
   "cell_type": "code",
   "outputs": [],
   "execution_count": null,
   "source": [
    "#### 12. Write a Pandas program to sort the 'cut' Series in ascending order (returns a\n",
    "#### Series) of diamonds Dataframe\n",
    "df['cut'].sort_values()"
   ],
   "id": "38b8eb64afc1a38e"
  },
  {
   "metadata": {},
   "cell_type": "code",
   "outputs": [],
   "execution_count": null,
   "source": [
    "#### 13. Write a Pandas program to sort the 'price' Series in descending order (returns\n",
    "#### a Series) of diamonds Dataframe.\n",
    "df['price'].sort_values(ascending = False)"
   ],
   "id": "417af2c5ddf0eba0"
  },
  {
   "metadata": {},
   "cell_type": "code",
   "outputs": [],
   "execution_count": null,
   "source": [
    "#### 14. Write a Pandas program to sort the entire diamonds DataFrame by the 'carat'\n",
    "#### Series in ascending and descending order.\n",
    "df = df.sort_values('cut')\n",
    "df"
   ],
   "id": "3af8d445a765f9d0"
  },
  {
   "metadata": {},
   "cell_type": "code",
   "outputs": [],
   "execution_count": null,
   "source": [
    "#### 15. Write a Pandas program to filter the DataFrame rows to only show carat\n",
    "#### weight at least 0.3\n",
    "df.loc[df['carat']>=0.3]"
   ],
   "id": "dc420288278612ca"
  },
  {
   "metadata": {},
   "cell_type": "code",
   "outputs": [],
   "execution_count": null,
   "source": [
    "#### 17. Write a Pandas program to find the details of the diamonds where length>5,\n",
    "#### width>5 and depth>5\n",
    "df[(df['table']>5) & (df['depth']>5)]"
   ],
   "id": "b308fbda6dfe6e9d"
  },
  {
   "metadata": {},
   "cell_type": "code",
   "outputs": [],
   "execution_count": null,
   "source": [
    "#### 18. Write a Pandas program to find the diamonds that are either Premium or\n",
    "#### Ideal\n",
    "df[(df['cut'] == 'Premium') | (df['cut'] == 'Ideal')]"
   ],
   "id": "7b1ac1ddae56d452"
  },
  {
   "metadata": {},
   "cell_type": "code",
   "outputs": [],
   "execution_count": null,
   "source": [
    "#### 20. Write a Pandas program to display all column labels of diamonds DataFrame\n",
    "df.columns"
   ],
   "id": "7466e5c557a4f9fb"
  },
  {
   "metadata": {},
   "cell_type": "code",
   "outputs": [],
   "execution_count": null,
   "source": [
    "#### 21. Write a Pandas program to read only a subset of 3 rows from diamonds\n",
    "#### DataFrame\n",
    "print(df.loc[0:3,:])"
   ],
   "id": "4c8f03438b598ff5"
  },
  {
   "metadata": {},
   "cell_type": "code",
   "outputs": [],
   "execution_count": null,
   "source": [
    "#### 22. Write a Pandas program to iterate through diamonds DataFrame.\n",
    "# for  i in range(10):\n",
    "#     print(df.loc[i,:])\n",
    "\n",
    "cnt =0\n",
    "for row in df.itertuples():\n",
    "    if cnt ==5:\n",
    "        break\n",
    "    cnt+=1\n",
    "    print(row)\n"
   ],
   "id": "216a52e8346760c3"
  },
  {
   "metadata": {},
   "cell_type": "code",
   "outputs": [],
   "execution_count": null,
   "source": [
    "#### 23. Write a Pandas program to drop all non-numeric columns from diamonds\n",
    "#### DataFram\n",
    "df = df.select_dtypes(include = ['float64','int64'])\n",
    "df"
   ],
   "id": "bee9db8ac6abeb9"
  },
  {
   "metadata": {},
   "cell_type": "code",
   "outputs": [],
   "execution_count": null,
   "source": [
    "#### 24. Write a Pandas program to include only numeric columns in the diamonds\n",
    "#### DataFrame\n",
    "df = df.select_dtypes(include = ['float64','int64'])\n",
    "df"
   ],
   "id": "b598c98f9fd0c65a"
  },
  {
   "metadata": {},
   "cell_type": "code",
   "outputs": [],
   "execution_count": null,
   "source": [
    "#### 25. Write a Pandas program to pass a list of data types to only describe certain\n",
    "#### types of diamonds DataFrame.\n",
    "df.select_dtypes(include = ['float64','int64']).describe()"
   ],
   "id": "3618dc4acb85a32c"
  },
  {
   "metadata": {},
   "cell_type": "code",
   "outputs": [],
   "execution_count": null,
   "source": [
    "#### 26. Write a Pandas program to calculate the mean of each numeric column of\n",
    "#### diamonds DataFrame\n",
    "df.select_dtypes(include = ['float64','int64']).mean()"
   ],
   "id": "72b8e98bd2346ef2"
  },
  {
   "metadata": {},
   "cell_type": "code",
   "outputs": [],
   "execution_count": null,
   "source": [
    "#### 27. Write a Pandas program to calculate the mean of each row of diamonds\n",
    "#### DataFrame\n",
    "df.select_dtypes(include = ['number']).mean(axis =1)"
   ],
   "id": "1455b94931a25d1b"
  },
  {
   "metadata": {},
   "cell_type": "code",
   "outputs": [],
   "execution_count": null,
   "source": [
    "#### 28. Write a Pandas program to calculate the mean of price for each cut of\n",
    "#### diamonds DataFrame.\n",
    "df.groupby('cut')['price'].mean().round(2)"
   ],
   "id": "d4052296807c8a77"
  },
  {
   "metadata": {},
   "cell_type": "code",
   "outputs": [],
   "execution_count": null,
   "source": [
    "#### 29. Write a Pandas program to calculate count, minimum, maximum price for\n",
    "#### each cut of diamonds DataFrame\n",
    "df.groupby('cut')['price'].agg(['mean','min','max','count']).round(2)"
   ],
   "id": "70f9da4fd7ea07ad"
  },
  {
   "metadata": {},
   "cell_type": "code",
   "outputs": [],
   "execution_count": null,
   "source": [
    "#### 31. Write a Pandas program to count how many times each value in cut series of\n",
    "#### diamonds DataFrame occurs.\n",
    "df.groupby('cut')['cut'].count()"
   ],
   "id": "4ac84eeea5b6d9b"
  },
  {
   "metadata": {},
   "cell_type": "code",
   "outputs": [],
   "execution_count": null,
   "source": [
    "#### 32. Write a Pandas program to display percentages of each value of cut series\n",
    "#### occurs in diamonds DataFrame.\n",
    "(df['cut'].value_counts(normalize =True)*100).round(2)"
   ],
   "id": "8f720f2b34ed5873"
  },
  {
   "metadata": {},
   "cell_type": "code",
   "outputs": [],
   "execution_count": null,
   "source": [
    "#### 33. Write a Pandas program to display the unique values in cut series of\n",
    "#### diamonds DataFrame\n",
    "df['cut'].unique()"
   ],
   "id": "5d71dbd25bdeb470"
  },
  {
   "metadata": {},
   "cell_type": "code",
   "outputs": [],
   "execution_count": null,
   "source": [
    "#### 34. Write a Pandas program to count the number of unique values in cut series of\n",
    "#### diamonds DataFrame\n",
    "df['cut'].unique().count()"
   ],
   "id": "91f1495323a2f5da"
  },
  {
   "metadata": {},
   "cell_type": "code",
   "outputs": [],
   "execution_count": null,
   "source": [
    "#### 35. Write a Pandas program to compute a cross-tabulation of two Series in\n",
    "#### diamonds DataFrame.\n",
    "pd.crosstab(df['cut'],df['color'])"
   ],
   "id": "8636f441c6c7efb6"
  },
  {
   "metadata": {},
   "cell_type": "code",
   "outputs": [],
   "execution_count": null,
   "source": [
    "#### 36. Write a Pandas program to calculate various summary statistics of cut series\n",
    "#### of diamonds DataFrame.\n",
    "df['cut'].describe()"
   ],
   "id": "da5420fa8c3acdc"
  },
  {
   "metadata": {},
   "cell_type": "code",
   "outputs": [],
   "execution_count": null,
   "source": [
    "#### 38. Write a Pandas program to create a bar plot of the 'value_counts' for the 'cut'\n",
    "#### series of diamonds DataFrame.\n",
    "df['cut'].value_counts().plot.bar()"
   ],
   "id": "15f7732a626d5e70"
  },
  {
   "metadata": {},
   "cell_type": "code",
   "outputs": [],
   "execution_count": null,
   "source": [
    "#### 39. Write a Pandas program to create a DataFrame of booleans (True if missing,\n",
    "#### False if not missing) from diamonds DataFrame.\n",
    "df.isna()"
   ],
   "id": "58b4df9f55f9daef"
  },
  {
   "metadata": {},
   "cell_type": "code",
   "outputs": [],
   "execution_count": null,
   "source": [
    "#### 40. Write a Pandas program to count the number of missing values in each\n",
    "#### Series of diamonds DataFrame.\n",
    "# df.isna().sum()\n",
    "df.apply(lambda col: col.isna().sum())"
   ],
   "id": "e5af41997a981de6"
  },
  {
   "metadata": {},
   "cell_type": "code",
   "outputs": [],
   "execution_count": null,
   "source": [
    "#### 41. Write a Pandas program to check the number of rows and columns and drop\n",
    "#### those row if 'any' values are missing in a row of diamonds DataFrame.\n",
    "df.isna().any().sum() #row\n",
    "df.isna().any(axis =1).sum() #columns()\n",
    "df.dropna()"
   ],
   "id": "fe4cdbd16a68efd3"
  },
  {
   "metadata": {},
   "cell_type": "code",
   "outputs": [],
   "execution_count": null,
   "source": [
    "#### 42. Write a Pandas program to drop a row if any or all values in a row are\n",
    "#### missing of diamonds DataFrame on two specific columns.\n",
    "#df[['cut','color']].isna().any().drop()\n",
    "df.dropna(subset = ['cut','color'],how ='any')\n",
    "df.dropna(subset = ['cut','color'],how ='all')"
   ],
   "id": "31c05a67f32a5968"
  },
  {
   "metadata": {},
   "cell_type": "code",
   "outputs": [],
   "execution_count": null,
   "source": [
    "#### 43. Write a Pandas program to set an existing column as the index of diamonds\n",
    "#### DataFrame.\n",
    "df.index = df ['cut']"
   ],
   "id": "af49eb81ac3a2a63"
  },
  {
   "metadata": {},
   "cell_type": "code",
   "outputs": [],
   "execution_count": null,
   "source": "df.index = range(len(df))",
   "id": "48961077b67aba9e"
  },
  {
   "metadata": {},
   "cell_type": "code",
   "outputs": [],
   "execution_count": null,
   "source": "df",
   "id": "57d4a8e9c2811154"
  },
  {
   "metadata": {},
   "cell_type": "code",
   "outputs": [],
   "execution_count": null,
   "source": [
    "#### 44. Write a Pandas program to set an existing column as the index of diamonds\n",
    "#### DataFrame and restore the index name, and move the index back to a column.\n",
    "df = df.set_index('cut').rename_axis('cut_type')\n",
    "# df = df.reset_index(range(len(df)))\n",
    "print(df.index.name)\n",
    "df"
   ],
   "id": "46bf490847907be5"
  },
  {
   "metadata": {},
   "cell_type": "code",
   "outputs": [],
   "execution_count": null,
   "source": [
    "#### 45. Write a Pandas program to access a specified Series index and the Series\n",
    "#### values of diamonds DataFrame.\n",
    "# df['cut_type'][0]\n",
    "df.index[0]"
   ],
   "id": "31d227a996ad8f70"
  },
  {
   "metadata": {},
   "cell_type": "code",
   "outputs": [],
   "execution_count": null,
   "source": [
    "#### 46. Write a Pandas program to sort a Series by its values and index of diamonds\n",
    "#### DataFrame.\n",
    "sr = df['carat'].sort(by =['cut_type','price'])\n",
    "#### 47. Write a Pandas program to calculate the multiply of length, width and depth\n",
    "#### for each cut of diamonds DataFrame.\n",
    "(df['carat'] * df['depth'] * df['table']).groupby(df['cut']).sum()"
   ],
   "id": "3a3aa08559b5f4bb"
  },
  {
   "metadata": {},
   "cell_type": "code",
   "outputs": [],
   "execution_count": null,
   "source": [
    "#### 48. Write a Pandas program to concatenate the diamonds DataFrame with the\n",
    "#### 'color' Series\n",
    "df['color2']= 'R'"
   ],
   "id": "c0ca13917b4eb7af"
  },
  {
   "metadata": {},
   "cell_type": "code",
   "outputs": [],
   "execution_count": null,
   "source": [
    "#### 49. Write a Pandas program to read specified rows and all columns of diamonds\n",
    "#### DataFrame\n",
    "df.iloc[0,:]"
   ],
   "id": "9b773e6682e39062"
  },
  {
   "metadata": {},
   "cell_type": "code",
   "outputs": [],
   "execution_count": null,
   "source": [
    "#### 50. Write a Pandas program to read rows 0, 5, 7 and all columns of diamonds\n",
    "#### DataFrame.\n",
    "df.loc[[0,5,7],:]"
   ],
   "id": "4bb4b2361f5a54f"
  },
  {
   "metadata": {},
   "cell_type": "code",
   "outputs": [],
   "execution_count": null,
   "source": [
    "#### 51. Write a Pandas program to read rows 2 through 5 and all columns of\n",
    "#### diamonds DataFrame.\n",
    "df.iloc[2:6,:]"
   ],
   "id": "98f34a9b85a9fe5c"
  },
  {
   "metadata": {},
   "cell_type": "code",
   "outputs": [],
   "execution_count": null,
   "source": [
    "#### 52. Write a Pandas program to read rows 0 through 2 (inclusive), columns 'color'\n",
    "#### and 'price' of diamonds DataFrame.\n",
    "df.loc[0:2,['color','price']]"
   ],
   "id": "362ae10bc193aa64"
  },
  {
   "metadata": {},
   "cell_type": "code",
   "outputs": [],
   "execution_count": null,
   "source": [
    "#### 53. Write a Pandas program to read rows 0 through 2 (inclusive), columns 'color'\n",
    "#### through 'price' (inclusive) of diamonds DataFrame.\n",
    "df.loc[0:2,'color':'price']"
   ],
   "id": "2849002f1e2b1f42"
  },
  {
   "metadata": {},
   "cell_type": "code",
   "outputs": [],
   "execution_count": null,
   "source": [
    "#### 54. Write a Pandas program to read rows in which the 'cut' is 'Premium', column\n",
    "#### 'color' of diamonds DataFrame.\n",
    "df[df['cut'] =='Premium'][['cut','color']]"
   ],
   "id": "5ce60783f099576b"
  },
  {
   "metadata": {},
   "cell_type": "code",
   "outputs": [],
   "execution_count": null,
   "source": [
    "#### 55. Write a Pandas program to read rows in positions 0 and 1, columns in\n",
    "#### positions 0 and 3 of diamonds DataFrame.\n",
    "df.iloc[[0,1],[0,3]]"
   ],
   "id": "da596f984904eda3"
  },
  {
   "metadata": {},
   "cell_type": "code",
   "outputs": [],
   "execution_count": null,
   "source": [
    "#### 56. Write a Pandas program to read rows in positions 0 through 4, columns in\n",
    "#### positions 1 through 4 of diamonds DataFrame.\n",
    "df.iloc[0:5,1:5]"
   ],
   "id": "f6c2616e825d87c8"
  },
  {
   "metadata": {},
   "cell_type": "code",
   "outputs": [],
   "execution_count": null,
   "source": [
    "#### 57. Write a Pandas program to read rows in positions 0 through 4 (exclusive) and\n",
    "#### all columns of diamonds DataFrame\n",
    "df.iloc[0:3,:]"
   ],
   "id": "aa0113344a4e02b7"
  },
  {
   "metadata": {},
   "cell_type": "code",
   "outputs": [],
   "execution_count": null,
   "source": [
    "#### 58. Write a Pandas program to read rows 2 through 5 (inclusive), columns in\n",
    "#### positions 0 through 2 (exclusive) of diamonds DataFrame.\n"
   ],
   "id": "9c454302b5bf8f92"
  },
  {
   "metadata": {},
   "cell_type": "code",
   "outputs": [],
   "execution_count": null,
   "source": [
    "#### 59. Write a Pandas program to print a concise summary of diamonds\n",
    "#### DataFrame\n",
    "df.describe()"
   ],
   "id": "9df517a21cf136d4"
  },
  {
   "metadata": {},
   "cell_type": "code",
   "outputs": [],
   "execution_count": null,
   "source": [
    "#### 60. Write a Pandas program to get the true memory usage by diamonds\n",
    "#### DataFrame.\n",
    "df.info()"
   ],
   "id": "a4e63f17b4d22f23"
  },
  {
   "metadata": {},
   "cell_type": "code",
   "outputs": [],
   "execution_count": null,
   "source": [
    "#### 61. Write a Pandas program to calculate the memory usage for each Series (in\n",
    "#### bytes) of diamonds DataFrame.\n",
    "df.memory_usage(deep = True)"
   ],
   "id": "cc44672b44257025"
  },
  {
   "metadata": {},
   "cell_type": "code",
   "outputs": [],
   "execution_count": null,
   "source": [
    "#### 62. Write a Pandas program to get randomly sample rows from diamonds\n",
    "#### DataFrame.\n",
    "df.sample(n=5,  random_state = 42)"
   ],
   "id": "16e0b177b933318c"
  },
  {
   "metadata": {},
   "cell_type": "code",
   "outputs": [],
   "execution_count": null,
   "source": [
    "#### 63. Write a Pandas program to get sample 75% of the diamonds DataFrame's\n",
    "#### rows without replacement and store the remaining 25% of the rows in another\n",
    "#### DataFrame.\n",
    "samp_75 = df.sample(frac =0.75)\n",
    "samp_25 = df.drop(samp_75.index)"
   ],
   "id": "6e8f989d8d5c3cd9"
  },
  {
   "metadata": {},
   "cell_type": "code",
   "outputs": [],
   "execution_count": null,
   "source": "len(samp_75),len(samp_25)",
   "id": "12ba49e20cee4ccc"
  },
  {
   "metadata": {},
   "cell_type": "code",
   "outputs": [],
   "execution_count": null,
   "source": [
    "#### 64. Write a Pandas program to read the diamonds DataFrame and detect\n",
    "#### duplicate color.\n",
    "#### Note: duplicated () function returns boolean Series denoting duplicate rows,\n",
    "#### optionally only considering certain columns.\n",
    "def duplicated(df):\n",
    "    duplicates = df.duplicated(subset = ['color'],keep = 'first')\n",
    "    return df[duplicates][['color','cut']]"
   ],
   "id": "5c99d2c4ab7ae66"
  },
  {
   "metadata": {},
   "cell_type": "code",
   "outputs": [],
   "execution_count": null,
   "source": "duplicated(df)",
   "id": "ede74c1b97b38e4b"
  },
  {
   "metadata": {},
   "cell_type": "code",
   "outputs": [],
   "execution_count": null,
   "source": [
    "#### 65. Write a Pandas program to count the duplicate rows of diamonds DataFrame.\n",
    "duplicates = df.duplicated(keep='first')\n",
    "duplicates.sum()"
   ],
   "id": "9a0697a85e6b9dcd"
  },
  {
   "metadata": {},
   "cell_type": "code",
   "outputs": [],
   "execution_count": null,
   "source": "len(df)",
   "id": "9fa2bace95225f3"
  },
  {
   "metadata": {},
   "cell_type": "code",
   "outputs": [],
   "execution_count": null,
   "source": "",
   "id": "fdb3eaaf6bb5db38"
  }
 ],
 "metadata": {},
 "nbformat": 4,
 "nbformat_minor": 5
}
