{
 "cells": [
  {
   "metadata": {
    "ExecuteTime": {
     "end_time": "2025-10-19T17:48:50.607713Z",
     "start_time": "2025-10-19T17:48:50.591872Z"
    }
   },
   "cell_type": "code",
   "source": [
    "import pandas as pd\n",
    "import numpy as np\n",
    "from datetime import datetime,date,time\n",
    "from pandas.tseries.holiday import USFederalHolidayCalendar"
   ],
   "id": "27cf8e73bdfeb4e2",
   "outputs": [],
   "execution_count": 194
  },
  {
   "metadata": {
    "ExecuteTime": {
     "end_time": "2025-10-19T16:16:14.779491Z",
     "start_time": "2025-10-19T16:16:14.775809Z"
    }
   },
   "cell_type": "code",
   "source": [
    "import warnings\n",
    "warnings.filterwarnings('ignore')\n",
    "# warnings.resetwarnings()"
   ],
   "id": "41363b1c462a3232",
   "outputs": [],
   "execution_count": 171
  },
  {
   "metadata": {},
   "cell_type": "markdown",
   "source": [
    "#### 1. Write a Pandas program to create\n",
    "#### a) Datetime object for Jan 15 2012.\n",
    "#### b) Specific date and time of 9:20 pm.\n",
    "#### c) Local date and time.\n",
    "#### d) A date without time.\n",
    "#### e) Current date.\n",
    "#### f) Time from a datetime.\n",
    "#### g) Current local time."
   ],
   "id": "882906bf366a14c4"
  },
  {
   "metadata": {
    "ExecuteTime": {
     "end_time": "2025-10-19T07:10:14.506941Z",
     "start_time": "2025-10-19T07:10:14.497996Z"
    }
   },
   "cell_type": "code",
   "source": [
    "#a\n",
    "dt1 = pd.to_datetime('2012-01-15')\n",
    "# dt1 = pd.to_datetime('15-01-2012',format = '%d-%m-%Y')\n",
    "dt1"
   ],
   "id": "31ae9baf00e4c9df",
   "outputs": [
    {
     "data": {
      "text/plain": [
       "Timestamp('2012-01-15 00:00:00')"
      ]
     },
     "execution_count": 15,
     "metadata": {},
     "output_type": "execute_result"
    }
   ],
   "execution_count": 15
  },
  {
   "metadata": {
    "ExecuteTime": {
     "end_time": "2025-10-19T06:56:33.859261Z",
     "start_time": "2025-10-19T06:56:33.852213Z"
    }
   },
   "cell_type": "code",
   "source": [
    "#ab\n",
    "dt1 = pd.to_datetime('2012-01-15').date()\n",
    "dt1"
   ],
   "id": "1ad1ae85130a49e1",
   "outputs": [
    {
     "data": {
      "text/plain": [
       "datetime.date(2012, 1, 15)"
      ]
     },
     "execution_count": 14,
     "metadata": {},
     "output_type": "execute_result"
    }
   ],
   "execution_count": 14
  },
  {
   "metadata": {
    "ExecuteTime": {
     "end_time": "2025-10-19T06:54:44.453955Z",
     "start_time": "2025-10-19T06:54:44.438539Z"
    }
   },
   "cell_type": "code",
   "source": [
    "#b\n",
    "dt1 = pd.to_datetime('2012-01-15 21:20:00')\n",
    "dt1"
   ],
   "id": "2fc880ca751bc136",
   "outputs": [
    {
     "data": {
      "text/plain": [
       "Timestamp('2012-01-15 21:20:00')"
      ]
     },
     "execution_count": 3,
     "metadata": {},
     "output_type": "execute_result"
    }
   ],
   "execution_count": 3
  },
  {
   "metadata": {
    "ExecuteTime": {
     "end_time": "2025-10-19T06:54:44.527291Z",
     "start_time": "2025-10-19T06:54:44.520417Z"
    }
   },
   "cell_type": "code",
   "source": [
    "#c\n",
    "dt1=pd.Timestamp.now()\n",
    "dt1"
   ],
   "id": "6d63d771a5e1d746",
   "outputs": [
    {
     "data": {
      "text/plain": [
       "Timestamp('2025-10-19 12:24:44.522435')"
      ]
     },
     "execution_count": 4,
     "metadata": {},
     "output_type": "execute_result"
    }
   ],
   "execution_count": 4
  },
  {
   "metadata": {
    "ExecuteTime": {
     "end_time": "2025-10-19T06:54:44.567665Z",
     "start_time": "2025-10-19T06:54:44.560746Z"
    }
   },
   "cell_type": "code",
   "source": [
    "#d\n",
    "dt1 = pd.to_datetime('2012-01-15').date()\n",
    "dt1"
   ],
   "id": "fa457f393a37e695",
   "outputs": [
    {
     "data": {
      "text/plain": [
       "datetime.date(2012, 1, 15)"
      ]
     },
     "execution_count": 5,
     "metadata": {},
     "output_type": "execute_result"
    }
   ],
   "execution_count": 5
  },
  {
   "metadata": {
    "ExecuteTime": {
     "end_time": "2025-10-19T06:54:44.606690Z",
     "start_time": "2025-10-19T06:54:44.600318Z"
    }
   },
   "cell_type": "code",
   "source": [
    "#e\n",
    "dt1 = pd.Timestamp.now().date()\n",
    "dt1"
   ],
   "id": "3db4bf1820dbd0a6",
   "outputs": [
    {
     "data": {
      "text/plain": [
       "datetime.date(2025, 10, 19)"
      ]
     },
     "execution_count": 6,
     "metadata": {},
     "output_type": "execute_result"
    }
   ],
   "execution_count": 6
  },
  {
   "metadata": {
    "ExecuteTime": {
     "end_time": "2025-10-19T06:54:44.655216Z",
     "start_time": "2025-10-19T06:54:44.645380Z"
    }
   },
   "cell_type": "code",
   "source": [
    "#f\n",
    "dt1 = pd.to_datetime('2012-01-15 21:20:30').time()\n",
    "dt1.hour,dt1.minute,dt1.second"
   ],
   "id": "cbb8eee2a6cecd31",
   "outputs": [
    {
     "data": {
      "text/plain": [
       "(21, 20, 30)"
      ]
     },
     "execution_count": 7,
     "metadata": {},
     "output_type": "execute_result"
    }
   ],
   "execution_count": 7
  },
  {
   "metadata": {
    "ExecuteTime": {
     "end_time": "2025-10-19T06:54:44.799811Z",
     "start_time": "2025-10-19T06:54:44.792104Z"
    }
   },
   "cell_type": "code",
   "source": [
    "#g\n",
    "t1 = pd.Timestamp.now().time()\n",
    "t1.hour,t1.minute,t1.second"
   ],
   "id": "20177b8e2b621b98",
   "outputs": [
    {
     "data": {
      "text/plain": [
       "(12, 24, 44)"
      ]
     },
     "execution_count": 8,
     "metadata": {},
     "output_type": "execute_result"
    }
   ],
   "execution_count": 8
  },
  {
   "metadata": {},
   "cell_type": "markdown",
   "source": [
    "#### 2. Write a Pandas program to create\n",
    "#### a) a specific date using timestamp.\n",
    "#### b) date and time using timestamp.\n",
    "#### c) a time adds in the current local date using timestamp.\n",
    "#### d) current date and time using timestamp."
   ],
   "id": "1fb77e8a990e211f"
  },
  {
   "metadata": {
    "ExecuteTime": {
     "end_time": "2025-10-19T06:54:44.897836Z",
     "start_time": "2025-10-19T06:54:44.891043Z"
    }
   },
   "cell_type": "code",
   "source": [
    "#a\n",
    "pd.Timestamp(2012,1,15)"
   ],
   "id": "20c53214689a66d8",
   "outputs": [
    {
     "data": {
      "text/plain": [
       "Timestamp('2012-01-15 00:00:00')"
      ]
     },
     "execution_count": 9,
     "metadata": {},
     "output_type": "execute_result"
    }
   ],
   "execution_count": 9
  },
  {
   "metadata": {
    "ExecuteTime": {
     "end_time": "2025-10-19T06:54:44.954386Z",
     "start_time": "2025-10-19T06:54:44.947256Z"
    }
   },
   "cell_type": "code",
   "source": [
    "#b\n",
    "pd.Timestamp(2012,1,15,17,34,20)"
   ],
   "id": "b0b3937221b5a274",
   "outputs": [
    {
     "data": {
      "text/plain": [
       "Timestamp('2012-01-15 17:34:20')"
      ]
     },
     "execution_count": 10,
     "metadata": {},
     "output_type": "execute_result"
    }
   ],
   "execution_count": 10
  },
  {
   "metadata": {},
   "cell_type": "markdown",
   "source": "#### **",
   "id": "37d56c9ce9399f9f"
  },
  {
   "metadata": {
    "ExecuteTime": {
     "end_time": "2025-10-19T12:21:23.575307Z",
     "start_time": "2025-10-19T12:21:23.538683Z"
    }
   },
   "cell_type": "code",
   "source": [
    "#c\n",
    "d = pd.Timestamp.now().date()\n",
    "t = pd.to_datetime(\"17:50\",format = '%H:%M').dt.time\n",
    "dt = pd.Timestamp.combine(d,t)\n",
    "dt"
   ],
   "id": "bf42900a2dee31a8",
   "outputs": [
    {
     "ename": "AttributeError",
     "evalue": "'Timestamp' object has no attribute 'dt'",
     "output_type": "error",
     "traceback": [
      "\u001B[31m---------------------------------------------------------------------------\u001B[39m",
      "\u001B[31mAttributeError\u001B[39m                            Traceback (most recent call last)",
      "\u001B[36mCell\u001B[39m\u001B[36m \u001B[39m\u001B[32mIn[133]\u001B[39m\u001B[32m, line 3\u001B[39m\n\u001B[32m      1\u001B[39m \u001B[38;5;66;03m#c\u001B[39;00m\n\u001B[32m      2\u001B[39m d = pd.Timestamp.now().date()\n\u001B[32m----> \u001B[39m\u001B[32m3\u001B[39m t = \u001B[43mpd\u001B[49m\u001B[43m.\u001B[49m\u001B[43mto_datetime\u001B[49m\u001B[43m(\u001B[49m\u001B[33;43m\"\u001B[39;49m\u001B[33;43m17:50\u001B[39;49m\u001B[33;43m\"\u001B[39;49m\u001B[43m,\u001B[49m\u001B[38;5;28;43mformat\u001B[39;49m\u001B[43m \u001B[49m\u001B[43m=\u001B[49m\u001B[43m \u001B[49m\u001B[33;43m'\u001B[39;49m\u001B[33;43m%\u001B[39;49m\u001B[33;43mH:\u001B[39;49m\u001B[33;43m%\u001B[39;49m\u001B[33;43mM\u001B[39;49m\u001B[33;43m'\u001B[39;49m\u001B[43m)\u001B[49m\u001B[43m.\u001B[49m\u001B[43mdt\u001B[49m.time\n\u001B[32m      4\u001B[39m dt = pd.Timestamp.combine(d,t)\n\u001B[32m      5\u001B[39m dt\n",
      "\u001B[31mAttributeError\u001B[39m: 'Timestamp' object has no attribute 'dt'"
     ]
    }
   ],
   "execution_count": 133
  },
  {
   "metadata": {
    "ExecuteTime": {
     "end_time": "2025-10-19T06:54:45.027921Z",
     "start_time": "2025-10-19T06:54:45.021502Z"
    }
   },
   "cell_type": "code",
   "source": [
    "#d\n",
    "dt = pd.Timestamp.now()\n",
    "print(dt.date())\n",
    "print(dt.time())"
   ],
   "id": "57bd2ff02d31f196",
   "outputs": [
    {
     "name": "stdout",
     "output_type": "stream",
     "text": [
      "2025-10-19\n",
      "12:24:45.024061\n"
     ]
    }
   ],
   "execution_count": 12
  },
  {
   "metadata": {},
   "cell_type": "markdown",
   "source": [
    "#### 3. Write a Pandas program to create a date from a given year, month, day and\n",
    "#### another date from a given string formats."
   ],
   "id": "3702e816baeca523"
  },
  {
   "metadata": {
    "ExecuteTime": {
     "end_time": "2025-10-19T07:15:12.156416Z",
     "start_time": "2025-10-19T07:15:12.146149Z"
    }
   },
   "cell_type": "code",
   "source": [
    "d1 = pd.to_datetime({'year':[2023],'month':[12],'day':[25]})[0]\n",
    "d1"
   ],
   "id": "ee9a2ecc287bef04",
   "outputs": [
    {
     "data": {
      "text/plain": [
       "Timestamp('2023-12-25 00:00:00')"
      ]
     },
     "execution_count": 25,
     "metadata": {},
     "output_type": "execute_result"
    }
   ],
   "execution_count": 25
  },
  {
   "metadata": {
    "ExecuteTime": {
     "end_time": "2025-10-19T07:21:09.288577Z",
     "start_time": "2025-10-19T07:21:09.279476Z"
    }
   },
   "cell_type": "code",
   "source": [
    "d1  = pd.to_datetime('25-12-2023',dayfirst = True)\n",
    "print(d1)\n",
    "d1  = pd.to_datetime('25/12/2023',format = \"%d/%m/%Y\")\n",
    "d1"
   ],
   "id": "4e98152cdd2b8c99",
   "outputs": [
    {
     "name": "stdout",
     "output_type": "stream",
     "text": [
      "2023-12-25 00:00:00\n"
     ]
    },
    {
     "data": {
      "text/plain": [
       "Timestamp('2023-12-25 00:00:00')"
      ]
     },
     "execution_count": 29,
     "metadata": {},
     "output_type": "execute_result"
    }
   ],
   "execution_count": 29
  },
  {
   "metadata": {},
   "cell_type": "markdown",
   "source": [
    "#### 4. Write a Pandas program to print the day after and before a specified date. Also\n",
    "#### print the days between two given dates."
   ],
   "id": "8146b5267a3b85c"
  },
  {
   "metadata": {
    "ExecuteTime": {
     "end_time": "2025-10-19T07:36:48.472343Z",
     "start_time": "2025-10-19T07:36:48.462832Z"
    }
   },
   "cell_type": "code",
   "source": [
    "d1 = pd.to_datetime('2023-12-25 23:59:59')\n",
    "db = d1 - pd.Timedelta(days =1)\n",
    "da = d1 + pd.Timedelta(days =1)\n",
    "print(d1,\" \",db,\" \",da)\n",
    "\n",
    "(db-da).days"
   ],
   "id": "6ec19213d4ff8315",
   "outputs": [
    {
     "name": "stdout",
     "output_type": "stream",
     "text": [
      "2023-12-25 23:59:59   2023-12-24 23:59:59   2023-12-26 23:59:59\n"
     ]
    },
    {
     "data": {
      "text/plain": [
       "-2"
      ]
     },
     "execution_count": 39,
     "metadata": {},
     "output_type": "execute_result"
    }
   ],
   "execution_count": 39
  },
  {
   "metadata": {},
   "cell_type": "markdown",
   "source": [
    "#### 5. Write a Pandas program to create a time-series with two index labels and\n",
    "#### random values. Also print the type of the index."
   ],
   "id": "c926f57792bab92b"
  },
  {
   "metadata": {
    "ExecuteTime": {
     "end_time": "2025-10-19T08:30:16.205591Z",
     "start_time": "2025-10-19T08:30:16.196053Z"
    }
   },
   "cell_type": "code",
   "source": [
    "date_strings = ['2023-06-15','2023-06-16']\n",
    "dates= pd.to_datetime(date_strings)\n",
    "values= np.random.uniform(10,50,2)\n",
    "ts = pd.Series(values,index= dates,name = 'random_values')\n",
    "# ts.dtype\n",
    "# ts.index.dtype\n",
    "ts"
   ],
   "id": "9c3bfc7d9fd53ead",
   "outputs": [
    {
     "data": {
      "text/plain": [
       "2023-06-15    31.185950\n",
       "2023-06-16    29.957783\n",
       "Name: random_values, dtype: float64"
      ]
     },
     "execution_count": 71,
     "metadata": {},
     "output_type": "execute_result"
    }
   ],
   "execution_count": 71
  },
  {
   "metadata": {},
   "cell_type": "markdown",
   "source": [
    "#### 6. Write a Pandas program to create a time-series from a given list of dates as\n",
    "#### strings."
   ],
   "id": "2caa06e1dd23211"
  },
  {
   "metadata": {
    "ExecuteTime": {
     "end_time": "2025-10-19T08:30:37.716305Z",
     "start_time": "2025-10-19T08:30:37.706834Z"
    }
   },
   "cell_type": "code",
   "source": [
    "date_data ={\n",
    "    '2023-12-25':100,\n",
    "    '2023-12-26':150,\n",
    "    '2023-12-27':200,\n",
    "    '2023-12-28':180\n",
    "}\n",
    "ts = pd.Series(date_data)\n",
    "ts.index = pd.to_datetime(ts.index)\n",
    "ts"
   ],
   "id": "3a184c41115272c8",
   "outputs": [
    {
     "data": {
      "text/plain": [
       "2023-12-25    100\n",
       "2023-12-26    150\n",
       "2023-12-27    200\n",
       "2023-12-28    180\n",
       "dtype: int64"
      ]
     },
     "execution_count": 72,
     "metadata": {},
     "output_type": "execute_result"
    }
   ],
   "execution_count": 72
  },
  {
   "metadata": {},
   "cell_type": "markdown",
   "source": [
    "#### 7. Write a Pandas program to create a time series object that has time indexed\n",
    "#### data. Also select the dates of same year and select the dates between certain\n",
    "#### dates."
   ],
   "id": "4b02673a215bbbba"
  },
  {
   "metadata": {
    "ExecuteTime": {
     "end_time": "2025-10-19T08:46:59.115176Z",
     "start_time": "2025-10-19T08:46:59.090068Z"
    }
   },
   "cell_type": "code",
   "source": [
    "dates = pd.date_range('2022-01-01','2023-12-31',freq = 'B')\n",
    "values = np.random.randn(len(dates))\n",
    "ts = pd.Series(values,index= dates,name = 'daily_data')\n",
    "\n",
    "d_23 = ts['2023']\n",
    "d_betw = ts['2023-06-01': '2023-11-12']\n",
    "print(d_23)\n",
    "d_betw"
   ],
   "id": "ad997929349a345b",
   "outputs": [
    {
     "name": "stdout",
     "output_type": "stream",
     "text": [
      "2023-01-02    0.154940\n",
      "2023-01-03    0.336751\n",
      "2023-01-04    0.027642\n",
      "2023-01-05    1.963026\n",
      "2023-01-06    0.923358\n",
      "                ...   \n",
      "2023-12-25   -0.593273\n",
      "2023-12-26    0.398342\n",
      "2023-12-27   -0.020454\n",
      "2023-12-28    0.103815\n",
      "2023-12-29   -0.027767\n",
      "Freq: B, Name: daily_data, Length: 260, dtype: float64\n"
     ]
    },
    {
     "data": {
      "text/plain": [
       "2023-06-01   -0.408610\n",
       "2023-06-02    1.573605\n",
       "2023-06-05    0.365778\n",
       "2023-06-06   -1.015320\n",
       "2023-06-07   -0.185262\n",
       "                ...   \n",
       "2023-11-06    1.149818\n",
       "2023-11-07   -2.055816\n",
       "2023-11-08    0.308900\n",
       "2023-11-09   -0.250514\n",
       "2023-11-10    0.748853\n",
       "Freq: B, Name: daily_data, Length: 117, dtype: float64"
      ]
     },
     "execution_count": 76,
     "metadata": {},
     "output_type": "execute_result"
    }
   ],
   "execution_count": 76
  },
  {
   "metadata": {},
   "cell_type": "markdown",
   "source": [
    "#### 8. Write a Pandas program to create a date range using a startpoint date and a\n",
    "#### number of periods."
   ],
   "id": "b3be38af16d5b512"
  },
  {
   "metadata": {
    "ExecuteTime": {
     "end_time": "2025-10-19T08:51:47.335016Z",
     "start_time": "2025-10-19T08:51:47.316322Z"
    }
   },
   "cell_type": "code",
   "source": [
    "dates = pd.date_range('2023-12-01',periods = 45,freq = 'D')\n",
    "dates"
   ],
   "id": "c0378f5b296451ff",
   "outputs": [
    {
     "data": {
      "text/plain": [
       "DatetimeIndex(['2023-12-01', '2023-12-02', '2023-12-03', '2023-12-04',\n",
       "               '2023-12-05', '2023-12-06', '2023-12-07', '2023-12-08',\n",
       "               '2023-12-09', '2023-12-10', '2023-12-11', '2023-12-12',\n",
       "               '2023-12-13', '2023-12-14', '2023-12-15', '2023-12-16',\n",
       "               '2023-12-17', '2023-12-18', '2023-12-19', '2023-12-20',\n",
       "               '2023-12-21', '2023-12-22', '2023-12-23', '2023-12-24',\n",
       "               '2023-12-25', '2023-12-26', '2023-12-27', '2023-12-28',\n",
       "               '2023-12-29', '2023-12-30', '2023-12-31', '2024-01-01',\n",
       "               '2024-01-02', '2024-01-03', '2024-01-04', '2024-01-05',\n",
       "               '2024-01-06', '2024-01-07', '2024-01-08', '2024-01-09',\n",
       "               '2024-01-10', '2024-01-11', '2024-01-12', '2024-01-13',\n",
       "               '2024-01-14'],\n",
       "              dtype='datetime64[ns]', freq='D')"
      ]
     },
     "execution_count": 77,
     "metadata": {},
     "output_type": "execute_result"
    }
   ],
   "execution_count": 77
  },
  {
   "metadata": {},
   "cell_type": "markdown",
   "source": [
    "#### 9. Write a Pandas program to create a whole month of dates in daily frequencies.\n",
    "#### Also find the maximum, minimum timestamp and indexs."
   ],
   "id": "d5a70b9e378f814f"
  },
  {
   "metadata": {
    "ExecuteTime": {
     "end_time": "2025-10-19T09:25:07.535430Z",
     "start_time": "2025-10-19T09:25:07.505547Z"
    }
   },
   "cell_type": "code",
   "source": [
    "dates = pd.date_range('2023-12-01',periods = pd.Period('2023-12-01').days_in_month,freq = 'D')\n",
    "ts = pd.Series(range(len(dates)),index = dates)\n",
    "print(ts.index.max(), ts.index.min())\n",
    "print(ts.index)\n",
    "print(ts.index[0].strftime('%B %Y'))"
   ],
   "id": "6ac2ea5de8ffa53e",
   "outputs": [
    {
     "name": "stdout",
     "output_type": "stream",
     "text": [
      "2023-12-31 00:00:00 2023-12-01 00:00:00\n",
      "DatetimeIndex(['2023-12-01', '2023-12-02', '2023-12-03', '2023-12-04',\n",
      "               '2023-12-05', '2023-12-06', '2023-12-07', '2023-12-08',\n",
      "               '2023-12-09', '2023-12-10', '2023-12-11', '2023-12-12',\n",
      "               '2023-12-13', '2023-12-14', '2023-12-15', '2023-12-16',\n",
      "               '2023-12-17', '2023-12-18', '2023-12-19', '2023-12-20',\n",
      "               '2023-12-21', '2023-12-22', '2023-12-23', '2023-12-24',\n",
      "               '2023-12-25', '2023-12-26', '2023-12-27', '2023-12-28',\n",
      "               '2023-12-29', '2023-12-30', '2023-12-31'],\n",
      "              dtype='datetime64[ns]', freq='D')\n",
      "December 2023\n"
     ]
    }
   ],
   "execution_count": 81
  },
  {
   "metadata": {},
   "cell_type": "markdown",
   "source": [
    "#### 10. Write a Pandas program to create a time series using three months\n",
    "#### frequency."
   ],
   "id": "71952877c0232478"
  },
  {
   "metadata": {
    "ExecuteTime": {
     "end_time": "2025-10-19T09:40:16.631053Z",
     "start_time": "2025-10-19T09:40:16.622048Z"
    }
   },
   "cell_type": "code",
   "source": [
    "dates = pd.date_range('2023-01-01',periods = 6, freq = '3M')\n",
    "values = np.random.randint(100,500,len(dates))\n",
    "ts = pd.Series(values, index= dates,name = 'quarterly_data')\n",
    "ts"
   ],
   "id": "617c897bdd0e72b4",
   "outputs": [
    {
     "name": "stderr",
     "output_type": "stream",
     "text": [
      "C:\\Users\\dai\\AppData\\Local\\Temp\\ipykernel_9804\\652787539.py:1: FutureWarning: 'M' is deprecated and will be removed in a future version, please use 'ME' instead.\n",
      "  dates = pd.date_range('2023-01-01',periods = 6, freq = '3M')\n"
     ]
    },
    {
     "data": {
      "text/plain": [
       "2023-01-31    232\n",
       "2023-04-30    240\n",
       "2023-07-31    172\n",
       "2023-10-31    286\n",
       "2024-01-31    285\n",
       "2024-04-30    181\n",
       "Freq: 3ME, Name: quarterly_data, dtype: int32"
      ]
     },
     "execution_count": 89,
     "metadata": {},
     "output_type": "execute_result"
    }
   ],
   "execution_count": 89
  },
  {
   "metadata": {},
   "cell_type": "markdown",
   "source": [
    "#### 11. Write a Pandas program to create a sequence of durations increasing by an\n",
    "#### hour."
   ],
   "id": "c799a26df8cf0d58"
  },
  {
   "metadata": {
    "ExecuteTime": {
     "end_time": "2025-10-19T10:07:09.283727Z",
     "start_time": "2025-10-19T10:07:09.276977Z"
    }
   },
   "cell_type": "code",
   "source": [
    "durations = pd.timedelta_range(start = '0 hours',periods = 5, freq = 'H')\n",
    "for i,duration in enumerate(durations):\n",
    "    print(duration,end = \" \")"
   ],
   "id": "6c31471a96dcccf",
   "outputs": [
    {
     "name": "stdout",
     "output_type": "stream",
     "text": [
      "0 days 00:00:00 0 days 01:00:00 0 days 02:00:00 0 days 03:00:00 0 days 04:00:00 "
     ]
    },
    {
     "name": "stderr",
     "output_type": "stream",
     "text": [
      "C:\\Users\\dai\\AppData\\Local\\Temp\\ipykernel_9804\\2870206778.py:1: FutureWarning: 'H' is deprecated and will be removed in a future version, please use 'h' instead.\n",
      "  durations = pd.timedelta_range(start = '0 hours',periods = 5, freq = 'H')\n"
     ]
    }
   ],
   "execution_count": 98
  },
  {
   "metadata": {},
   "cell_type": "markdown",
   "source": [
    "#### 12. Write a Pandas program to convert year and day of year into a single\n",
    "#### datetime column of a dataframe."
   ],
   "id": "517b0f60b6e205ec"
  },
  {
   "metadata": {
    "ExecuteTime": {
     "end_time": "2025-10-19T10:43:49.803310Z",
     "start_time": "2025-10-19T10:43:49.749902Z"
    }
   },
   "cell_type": "code",
   "source": [
    "df = pd.DataFrame({\n",
    "    'year': [2023,2023,2024,2024],\n",
    "    'day_of_year': [1,365,60,366]\n",
    "})\n",
    "df['datetime'] = pd.to_datetime(df['year'].astype(str)+ '-'+df['day_of_year'].astype(str),format = '%Y-%j')\n",
    "df"
   ],
   "id": "6d6587af6b596d12",
   "outputs": [
    {
     "data": {
      "text/plain": [
       "   year  day_of_year   datetime\n",
       "0  2023            1 2023-01-01\n",
       "1  2023          365 2023-12-31\n",
       "2  2024           60 2024-02-29\n",
       "3  2024          366 2024-12-31"
      ],
      "text/html": [
       "<div>\n",
       "<style scoped>\n",
       "    .dataframe tbody tr th:only-of-type {\n",
       "        vertical-align: middle;\n",
       "    }\n",
       "\n",
       "    .dataframe tbody tr th {\n",
       "        vertical-align: top;\n",
       "    }\n",
       "\n",
       "    .dataframe thead th {\n",
       "        text-align: right;\n",
       "    }\n",
       "</style>\n",
       "<table border=\"1\" class=\"dataframe\">\n",
       "  <thead>\n",
       "    <tr style=\"text-align: right;\">\n",
       "      <th></th>\n",
       "      <th>year</th>\n",
       "      <th>day_of_year</th>\n",
       "      <th>datetime</th>\n",
       "    </tr>\n",
       "  </thead>\n",
       "  <tbody>\n",
       "    <tr>\n",
       "      <th>0</th>\n",
       "      <td>2023</td>\n",
       "      <td>1</td>\n",
       "      <td>2023-01-01</td>\n",
       "    </tr>\n",
       "    <tr>\n",
       "      <th>1</th>\n",
       "      <td>2023</td>\n",
       "      <td>365</td>\n",
       "      <td>2023-12-31</td>\n",
       "    </tr>\n",
       "    <tr>\n",
       "      <th>2</th>\n",
       "      <td>2024</td>\n",
       "      <td>60</td>\n",
       "      <td>2024-02-29</td>\n",
       "    </tr>\n",
       "    <tr>\n",
       "      <th>3</th>\n",
       "      <td>2024</td>\n",
       "      <td>366</td>\n",
       "      <td>2024-12-31</td>\n",
       "    </tr>\n",
       "  </tbody>\n",
       "</table>\n",
       "</div>"
      ]
     },
     "execution_count": 99,
     "metadata": {},
     "output_type": "execute_result"
    }
   ],
   "execution_count": 99
  },
  {
   "metadata": {},
   "cell_type": "markdown",
   "source": [
    "#### 13. Write a Pandas program to create a series of Timestamps from a DataFrame\n",
    "#### of integer or string columns. Also create a series of Timestamps using specified columns."
   ],
   "id": "d3d2321d5791754d"
  },
  {
   "metadata": {
    "ExecuteTime": {
     "end_time": "2025-10-19T10:56:49.456282Z",
     "start_time": "2025-10-19T10:56:49.435791Z"
    }
   },
   "cell_type": "code",
   "source": [
    "df = pd.DataFrame({\n",
    "    'year':[2023,2023,2024],\n",
    "    'month':[1,12,6],\n",
    "    'day': [15,25,10],\n",
    "    'hour': [14,9,18],\n",
    "    'minute': [30,45,0]\n",
    "})\n",
    "ts_series = pd.to_datetime(df[['year','month','day','hour','minute']])\n",
    "ts_series\n",
    "\n",
    "df = pd.DataFrame({\n",
    "    'date_str': ['2023-05-15', '2023-12-31', '2024-02-29'],\n",
    "    'time_str': ['14:30:45', '23:59:59', '00:00:01']\n",
    "})\n",
    "df['datetime_str'] = df['date_str']+' '+df['time_str']\n",
    "ts_series = pd.to_datetime(df['datetime_str'])\n",
    "ts_series"
   ],
   "id": "182858904fab5e22",
   "outputs": [
    {
     "data": {
      "text/plain": [
       "0   2023-05-15 14:30:45\n",
       "1   2023-12-31 23:59:59\n",
       "2   2024-02-29 00:00:01\n",
       "Name: datetime_str, dtype: datetime64[ns]"
      ]
     },
     "execution_count": 102,
     "metadata": {},
     "output_type": "execute_result"
    }
   ],
   "execution_count": 102
  },
  {
   "metadata": {},
   "cell_type": "markdown",
   "source": "#### 14. Write a Pandas program to check if a day is a business day (weekday) or not.",
   "id": "3333bd7703d1b2c1"
  },
  {
   "metadata": {
    "ExecuteTime": {
     "end_time": "2025-10-19T11:05:59.414730Z",
     "start_time": "2025-10-19T11:05:59.401812Z"
    }
   },
   "cell_type": "code",
   "source": [
    "dates = pd.Series(pd.date_range('2024-01-01',periods = 7,freq = 'D'))\n",
    "dates_df = pd.DataFrame({'date':dates})\n",
    "dates_df['is_busi_day']  = dates_df['date'].dt.dayofweek<5\n",
    "dates_df"
   ],
   "id": "36489782a619f860",
   "outputs": [
    {
     "data": {
      "text/plain": [
       "        date  is_busi_day\n",
       "0 2024-01-01         True\n",
       "1 2024-01-02         True\n",
       "2 2024-01-03         True\n",
       "3 2024-01-04         True\n",
       "4 2024-01-05         True\n",
       "5 2024-01-06        False\n",
       "6 2024-01-07        False"
      ],
      "text/html": [
       "<div>\n",
       "<style scoped>\n",
       "    .dataframe tbody tr th:only-of-type {\n",
       "        vertical-align: middle;\n",
       "    }\n",
       "\n",
       "    .dataframe tbody tr th {\n",
       "        vertical-align: top;\n",
       "    }\n",
       "\n",
       "    .dataframe thead th {\n",
       "        text-align: right;\n",
       "    }\n",
       "</style>\n",
       "<table border=\"1\" class=\"dataframe\">\n",
       "  <thead>\n",
       "    <tr style=\"text-align: right;\">\n",
       "      <th></th>\n",
       "      <th>date</th>\n",
       "      <th>is_busi_day</th>\n",
       "    </tr>\n",
       "  </thead>\n",
       "  <tbody>\n",
       "    <tr>\n",
       "      <th>0</th>\n",
       "      <td>2024-01-01</td>\n",
       "      <td>True</td>\n",
       "    </tr>\n",
       "    <tr>\n",
       "      <th>1</th>\n",
       "      <td>2024-01-02</td>\n",
       "      <td>True</td>\n",
       "    </tr>\n",
       "    <tr>\n",
       "      <th>2</th>\n",
       "      <td>2024-01-03</td>\n",
       "      <td>True</td>\n",
       "    </tr>\n",
       "    <tr>\n",
       "      <th>3</th>\n",
       "      <td>2024-01-04</td>\n",
       "      <td>True</td>\n",
       "    </tr>\n",
       "    <tr>\n",
       "      <th>4</th>\n",
       "      <td>2024-01-05</td>\n",
       "      <td>True</td>\n",
       "    </tr>\n",
       "    <tr>\n",
       "      <th>5</th>\n",
       "      <td>2024-01-06</td>\n",
       "      <td>False</td>\n",
       "    </tr>\n",
       "    <tr>\n",
       "      <th>6</th>\n",
       "      <td>2024-01-07</td>\n",
       "      <td>False</td>\n",
       "    </tr>\n",
       "  </tbody>\n",
       "</table>\n",
       "</div>"
      ]
     },
     "execution_count": 105,
     "metadata": {},
     "output_type": "execute_result"
    }
   ],
   "execution_count": 105
  },
  {
   "metadata": {},
   "cell_type": "markdown",
   "source": [
    "#### 15. Write a Pandas program to get a time series with the last working days of\n",
    "#### each month of a specific year."
   ],
   "id": "1df88000542baf57"
  },
  {
   "metadata": {
    "ExecuteTime": {
     "end_time": "2025-10-19T11:31:39.401576Z",
     "start_time": "2025-10-19T11:31:39.391202Z"
    }
   },
   "cell_type": "code",
   "source": [
    "# def get_last_busi_days(year):\n",
    "#     months = pd.date_range(f'{year}-01-01',periods = 12, freq = 'MS')\n",
    "#     last_busi_days = months + pd.offsets.BMonthEnd(0)\n",
    "#     return last_busi_days\n",
    "#\n",
    "# year = 2024\n",
    "# last_bdays = get_last_busi_days(year)\n",
    "# last_bdays\n",
    "\n",
    "def get_last_busi_days(year):\n",
    "    dates = pd.date_range(f'{year}-01-01',periods = 12, freq = 'BM')\n",
    "    return dates\n",
    "get_last_busi_days(2024)"
   ],
   "id": "eae5a777c5ac8132",
   "outputs": [
    {
     "name": "stderr",
     "output_type": "stream",
     "text": [
      "C:\\Users\\dai\\AppData\\Local\\Temp\\ipykernel_9804\\1738985039.py:11: FutureWarning: 'BM' is deprecated and will be removed in a future version, please use 'BME' instead.\n",
      "  dates = pd.date_range(f'{year}-01-01',periods = 12, freq = 'BM')\n"
     ]
    },
    {
     "data": {
      "text/plain": [
       "DatetimeIndex(['2024-01-31', '2024-02-29', '2024-03-29', '2024-04-30',\n",
       "               '2024-05-31', '2024-06-28', '2024-07-31', '2024-08-30',\n",
       "               '2024-09-30', '2024-10-31', '2024-11-29', '2024-12-31'],\n",
       "              dtype='datetime64[ns]', freq='BME')"
      ]
     },
     "execution_count": 109,
     "metadata": {},
     "output_type": "execute_result"
    }
   ],
   "execution_count": 109
  },
  {
   "metadata": {},
   "cell_type": "markdown",
   "source": "#### 16. Write a Pandas program to create a time series combining hour and minute.",
   "id": "f757c0e10aff8bee"
  },
  {
   "metadata": {
    "ExecuteTime": {
     "end_time": "2025-10-19T12:12:21.393131Z",
     "start_time": "2025-10-19T12:12:21.382748Z"
    }
   },
   "cell_type": "code",
   "source": [
    "hour = [12,13,14,15]\n",
    "minutes = [23,45,43,0]\n",
    "df= pd.DataFrame({'hour':hour,'minutes':minutes})\n",
    "t = pd.to_datetime(df['hour'].astype(str)+\":\"+df['minutes'].astype(str),format = '%H:%M')\n",
    "t.dt.time"
   ],
   "id": "efca43385e7073a2",
   "outputs": [
    {
     "data": {
      "text/plain": [
       "0    12:23:00\n",
       "1    13:45:00\n",
       "2    14:43:00\n",
       "3    15:00:00\n",
       "dtype: object"
      ]
     },
     "execution_count": 126,
     "metadata": {},
     "output_type": "execute_result"
    }
   ],
   "execution_count": 126
  },
  {
   "metadata": {},
   "cell_type": "markdown",
   "source": [
    "#### 17. Write a Pandas program to convert unix/epoch time to a regular time stamp\n",
    "#### in UTC. Also convert the said timestamp in to a given time zone."
   ],
   "id": "42ff15cf7dbe2232"
  },
  {
   "metadata": {
    "ExecuteTime": {
     "end_time": "2025-10-19T15:01:10.075888Z",
     "start_time": "2025-10-19T15:01:10.068922Z"
    }
   },
   "cell_type": "code",
   "source": [
    "unix_timestamps = [1705334400, 1705420800, 1705507200]\n",
    "utc_times = pd.to_datetime(unix_timestamps,unit ='s',utc = True)\n",
    "ist_times = utc_times.tz_convert('Asia/Kolkata')\n",
    "utc_times,ist_times"
   ],
   "id": "ded3c2976733a42b",
   "outputs": [
    {
     "data": {
      "text/plain": [
       "(DatetimeIndex(['2024-01-15 16:00:00+00:00', '2024-01-16 16:00:00+00:00',\n",
       "                '2024-01-17 16:00:00+00:00'],\n",
       "               dtype='datetime64[ns, UTC]', freq=None),\n",
       " DatetimeIndex(['2024-01-15 21:30:00+05:30', '2024-01-16 21:30:00+05:30',\n",
       "                '2024-01-17 21:30:00+05:30'],\n",
       "               dtype='datetime64[ns, Asia/Kolkata]', freq=None))"
      ]
     },
     "execution_count": 135,
     "metadata": {},
     "output_type": "execute_result"
    }
   ],
   "execution_count": 135
  },
  {
   "metadata": {},
   "cell_type": "markdown",
   "source": "#### 18. Write a Pandas program to create a time series object with a time zone.",
   "id": "d17369780ec36687"
  },
  {
   "metadata": {
    "ExecuteTime": {
     "end_time": "2025-10-19T15:06:13.374511Z",
     "start_time": "2025-10-19T15:06:13.366181Z"
    }
   },
   "cell_type": "code",
   "source": "pd.date_range('2024-01-15 12:30',periods =1,freq='H',tz = 'Asia/Kolkata')",
   "id": "6c99cb6afb77270e",
   "outputs": [
    {
     "name": "stderr",
     "output_type": "stream",
     "text": [
      "C:\\Users\\dai\\AppData\\Local\\Temp\\ipykernel_9804\\2073251274.py:1: FutureWarning: 'H' is deprecated and will be removed in a future version, please use 'h' instead.\n",
      "  pd.date_range('2024-01-15 12:30',periods =1,freq='H',tz = 'Asia/Kolkata')\n"
     ]
    },
    {
     "data": {
      "text/plain": [
       "DatetimeIndex(['2024-01-15 12:30:00+05:30'], dtype='datetime64[ns, Asia/Kolkata]', freq='h')"
      ]
     },
     "execution_count": 138,
     "metadata": {},
     "output_type": "execute_result"
    }
   ],
   "execution_count": 138
  },
  {
   "metadata": {},
   "cell_type": "markdown",
   "source": [
    "#### 19. Write a Pandas program to remove the time zone information from a Time\n",
    "#### series data."
   ],
   "id": "5b6ed87cf0a84a3d"
  },
  {
   "metadata": {
    "ExecuteTime": {
     "end_time": "2025-10-19T15:18:24.075024Z",
     "start_time": "2025-10-19T15:18:24.057972Z"
    }
   },
   "cell_type": "code",
   "source": [
    "data = {\n",
    "    'event': ['Meeting A','Meeting B','Meeting C'],\n",
    "    'utc_time': pd.date_range('2024-01-15 09:00',periods =3,freq ='D',tz ='UTC'),\n",
    "    'ist_time': pd.date_range('2024-01-15 09:00',periods =3,freq ='D',tz ='Asia/Kolkata'),\n",
    "    'ny_time': pd.date_range('2024-01-15 09:00',periods =3,freq ='D',tz ='America/New_York')\n",
    "}\n",
    "df= pd.DataFrame(data)\n",
    "df['utc_naive'] = df['utc_time'].dt.tz_localize(None)\n",
    "df['ist_naive'] = df['ist_time'].dt.tz_localize(None)\n",
    "df['ny_naive'] = df['ny_time'].dt.tz_localize(None)\n",
    "df"
   ],
   "id": "fa828d2e0ff89ad7",
   "outputs": [
    {
     "data": {
      "text/plain": [
       "       event                  utc_time                  ist_time  \\\n",
       "0  Meeting A 2024-01-15 09:00:00+00:00 2024-01-15 09:00:00+05:30   \n",
       "1  Meeting B 2024-01-16 09:00:00+00:00 2024-01-16 09:00:00+05:30   \n",
       "2  Meeting C 2024-01-17 09:00:00+00:00 2024-01-17 09:00:00+05:30   \n",
       "\n",
       "                    ny_time           utc_naive           ist_naive  \\\n",
       "0 2024-01-15 09:00:00-05:00 2024-01-15 09:00:00 2024-01-15 09:00:00   \n",
       "1 2024-01-16 09:00:00-05:00 2024-01-16 09:00:00 2024-01-16 09:00:00   \n",
       "2 2024-01-17 09:00:00-05:00 2024-01-17 09:00:00 2024-01-17 09:00:00   \n",
       "\n",
       "             ny_naive  \n",
       "0 2024-01-15 09:00:00  \n",
       "1 2024-01-16 09:00:00  \n",
       "2 2024-01-17 09:00:00  "
      ],
      "text/html": [
       "<div>\n",
       "<style scoped>\n",
       "    .dataframe tbody tr th:only-of-type {\n",
       "        vertical-align: middle;\n",
       "    }\n",
       "\n",
       "    .dataframe tbody tr th {\n",
       "        vertical-align: top;\n",
       "    }\n",
       "\n",
       "    .dataframe thead th {\n",
       "        text-align: right;\n",
       "    }\n",
       "</style>\n",
       "<table border=\"1\" class=\"dataframe\">\n",
       "  <thead>\n",
       "    <tr style=\"text-align: right;\">\n",
       "      <th></th>\n",
       "      <th>event</th>\n",
       "      <th>utc_time</th>\n",
       "      <th>ist_time</th>\n",
       "      <th>ny_time</th>\n",
       "      <th>utc_naive</th>\n",
       "      <th>ist_naive</th>\n",
       "      <th>ny_naive</th>\n",
       "    </tr>\n",
       "  </thead>\n",
       "  <tbody>\n",
       "    <tr>\n",
       "      <th>0</th>\n",
       "      <td>Meeting A</td>\n",
       "      <td>2024-01-15 09:00:00+00:00</td>\n",
       "      <td>2024-01-15 09:00:00+05:30</td>\n",
       "      <td>2024-01-15 09:00:00-05:00</td>\n",
       "      <td>2024-01-15 09:00:00</td>\n",
       "      <td>2024-01-15 09:00:00</td>\n",
       "      <td>2024-01-15 09:00:00</td>\n",
       "    </tr>\n",
       "    <tr>\n",
       "      <th>1</th>\n",
       "      <td>Meeting B</td>\n",
       "      <td>2024-01-16 09:00:00+00:00</td>\n",
       "      <td>2024-01-16 09:00:00+05:30</td>\n",
       "      <td>2024-01-16 09:00:00-05:00</td>\n",
       "      <td>2024-01-16 09:00:00</td>\n",
       "      <td>2024-01-16 09:00:00</td>\n",
       "      <td>2024-01-16 09:00:00</td>\n",
       "    </tr>\n",
       "    <tr>\n",
       "      <th>2</th>\n",
       "      <td>Meeting C</td>\n",
       "      <td>2024-01-17 09:00:00+00:00</td>\n",
       "      <td>2024-01-17 09:00:00+05:30</td>\n",
       "      <td>2024-01-17 09:00:00-05:00</td>\n",
       "      <td>2024-01-17 09:00:00</td>\n",
       "      <td>2024-01-17 09:00:00</td>\n",
       "      <td>2024-01-17 09:00:00</td>\n",
       "    </tr>\n",
       "  </tbody>\n",
       "</table>\n",
       "</div>"
      ]
     },
     "execution_count": 146,
     "metadata": {},
     "output_type": "execute_result"
    }
   ],
   "execution_count": 146
  },
  {
   "metadata": {},
   "cell_type": "markdown",
   "source": [
    "#### 20. Write a Pandas program to subtract two timestamps of same time zone or\n",
    "#### different time zone."
   ],
   "id": "985489855ab77043"
  },
  {
   "metadata": {
    "ExecuteTime": {
     "end_time": "2025-10-19T15:29:24.087436Z",
     "start_time": "2025-10-19T15:29:24.069423Z"
    }
   },
   "cell_type": "code",
   "source": [
    "data = {\n",
    "    'event': ['Meeting A','Meeting B','Meeting C'],\n",
    "    'utc_time': pd.date_range('2024-01-15 09:00',periods =3,freq ='D',tz ='UTC'),\n",
    "    'ist_time': pd.date_range('2024-01-15 09:00',periods =3,freq ='D',tz ='Asia/Kolkata'),\n",
    "    'ny_time': pd.date_range('2024-01-15 09:00',periods =3,freq ='D',tz ='America/New_York')\n",
    "}\n",
    "\n",
    "data2 = {\n",
    "    'event': ['Meeting A','Meeting B','Meeting C'],\n",
    "    'utc_time': pd.date_range('2024-01-16 08:00',periods =3,freq ='D',tz ='UTC'),\n",
    "    'ist_time': pd.date_range('2024-01-16 08:00',periods =3,freq ='D',tz ='Asia/Kolkata'),\n",
    "    'ny_time': pd.date_range('2024-01-16 08:00',periods =3,freq ='D',tz ='America/New_York')\n",
    "}\n",
    "df= pd.DataFrame(data)\n",
    "df2= pd.DataFrame(data2)\n",
    "\n",
    "print(df2['utc_time'] - df['ist_time'])\n",
    "df2['utc_time'] - df['ist_time']"
   ],
   "id": "6326003d9c15705",
   "outputs": [
    {
     "data": {
      "text/plain": [
       "(0   1 days 04:30:00\n",
       " 1   1 days 04:30:00\n",
       " 2   1 days 04:30:00\n",
       " dtype: timedelta64[ns],\n",
       " 0   1 days 04:30:00\n",
       " 1   1 days 04:30:00\n",
       " 2   1 days 04:30:00\n",
       " dtype: timedelta64[ns])"
      ]
     },
     "execution_count": 153,
     "metadata": {},
     "output_type": "execute_result"
    }
   ],
   "execution_count": 153
  },
  {
   "metadata": {},
   "cell_type": "markdown",
   "source": "#### 21. Write a Pandas program to calculate all Thursdays between two given days.",
   "id": "f7a728bb8ae2b605"
  },
  {
   "metadata": {
    "ExecuteTime": {
     "end_time": "2025-10-19T15:48:21.504051Z",
     "start_time": "2025-10-19T15:48:21.495247Z"
    }
   },
   "cell_type": "code",
   "source": [
    "dr = pd.DataFrame(pd.Series(pd.date_range('2025-01-01','2025-01-30',freq = 'D'),name = 'dates'))\n",
    "(dr['dates'].dt.dayofweek == 4).sum()"
   ],
   "id": "72e518e0a89c1b43",
   "outputs": [
    {
     "data": {
      "text/plain": [
       "np.int64(4)"
      ]
     },
     "execution_count": 167,
     "metadata": {},
     "output_type": "execute_result"
    }
   ],
   "execution_count": 167
  },
  {
   "metadata": {},
   "cell_type": "markdown",
   "source": [
    "#### 22. Write a Pandas program to find the all the business quarterly begin and end\n",
    "#### dates of a specified year."
   ],
   "id": "6621d6ef5ccb0648"
  },
  {
   "metadata": {
    "ExecuteTime": {
     "end_time": "2025-10-19T15:57:59.215952Z",
     "start_time": "2025-10-19T15:57:59.199302Z"
    }
   },
   "cell_type": "code",
   "source": [
    "year =  2025\n",
    "df = pd.DataFrame({\n",
    "    'starts': pd.date_range(f'{year}-01-01',periods = 4,freq='QS'),\n",
    "    'ends': pd.date_range(f'{year}-01-01',periods =4,freq='Q')\n",
    "})\n",
    "df"
   ],
   "id": "c9546609319a22a1",
   "outputs": [
    {
     "name": "stderr",
     "output_type": "stream",
     "text": [
      "C:\\Users\\dai\\AppData\\Local\\Temp\\ipykernel_9804\\2006094799.py:4: FutureWarning: 'Q' is deprecated and will be removed in a future version, please use 'QE' instead.\n",
      "  'ends': pd.date_range(f'{year}-01-01',periods =4,freq='Q')\n"
     ]
    },
    {
     "data": {
      "text/plain": [
       "      starts       ends\n",
       "0 2025-01-01 2025-03-31\n",
       "1 2025-04-01 2025-06-30\n",
       "2 2025-07-01 2025-09-30\n",
       "3 2025-10-01 2025-12-31"
      ],
      "text/html": [
       "<div>\n",
       "<style scoped>\n",
       "    .dataframe tbody tr th:only-of-type {\n",
       "        vertical-align: middle;\n",
       "    }\n",
       "\n",
       "    .dataframe tbody tr th {\n",
       "        vertical-align: top;\n",
       "    }\n",
       "\n",
       "    .dataframe thead th {\n",
       "        text-align: right;\n",
       "    }\n",
       "</style>\n",
       "<table border=\"1\" class=\"dataframe\">\n",
       "  <thead>\n",
       "    <tr style=\"text-align: right;\">\n",
       "      <th></th>\n",
       "      <th>starts</th>\n",
       "      <th>ends</th>\n",
       "    </tr>\n",
       "  </thead>\n",
       "  <tbody>\n",
       "    <tr>\n",
       "      <th>0</th>\n",
       "      <td>2025-01-01</td>\n",
       "      <td>2025-03-31</td>\n",
       "    </tr>\n",
       "    <tr>\n",
       "      <th>1</th>\n",
       "      <td>2025-04-01</td>\n",
       "      <td>2025-06-30</td>\n",
       "    </tr>\n",
       "    <tr>\n",
       "      <th>2</th>\n",
       "      <td>2025-07-01</td>\n",
       "      <td>2025-09-30</td>\n",
       "    </tr>\n",
       "    <tr>\n",
       "      <th>3</th>\n",
       "      <td>2025-10-01</td>\n",
       "      <td>2025-12-31</td>\n",
       "    </tr>\n",
       "  </tbody>\n",
       "</table>\n",
       "</div>"
      ]
     },
     "execution_count": 169,
     "metadata": {},
     "output_type": "execute_result"
    }
   ],
   "execution_count": 169
  },
  {
   "metadata": {},
   "cell_type": "markdown",
   "source": [
    "#### 23. Write a Pandas program to generate sequences of fixed-frequency dates and\n",
    "#### time spans intervals."
   ],
   "id": "8bd55ec07a6f56"
  },
  {
   "metadata": {
    "ExecuteTime": {
     "end_time": "2025-10-19T16:15:55.290428Z",
     "start_time": "2025-10-19T16:15:55.280973Z"
    }
   },
   "cell_type": "code",
   "source": "pd.date_range(start = '2025-02-01',periods = 4,freq='AS')",
   "id": "ee4fbc92ce1a6937",
   "outputs": [
    {
     "name": "stderr",
     "output_type": "stream",
     "text": [
      "C:\\Users\\dai\\AppData\\Local\\Temp\\ipykernel_9804\\186266307.py:1: FutureWarning: 'AS' is deprecated and will be removed in a future version, please use 'YS' instead.\n",
      "  pd.date_range(start = '2025-02-01',periods = 4,freq='AS')\n"
     ]
    },
    {
     "data": {
      "text/plain": [
       "DatetimeIndex(['2026-01-01', '2027-01-01', '2028-01-01', '2029-01-01'], dtype='datetime64[ns]', freq='YS-JAN')"
      ]
     },
     "execution_count": 170,
     "metadata": {},
     "output_type": "execute_result"
    }
   ],
   "execution_count": 170
  },
  {
   "metadata": {},
   "cell_type": "markdown",
   "source": [
    "#### ** 24. Write a Pandas program to generate time series combining day and intraday\n",
    "#### offsets intervals."
   ],
   "id": "a70ed2d758491d84"
  },
  {
   "metadata": {
    "ExecuteTime": {
     "end_time": "2025-10-19T18:16:30.609205Z",
     "start_time": "2025-10-19T18:16:30.589564Z"
    }
   },
   "cell_type": "code",
   "source": [
    "import pandas as pd\n",
    "from pandas.tseries.offsets import CustomBusinessDay, Hour\n",
    "\n",
    "def time_series_method1():\n",
    "    \"\"\"Combine business days with hourly intervals\"\"\"\n",
    "\n",
    "    # Define business days (Monday to Friday)\n",
    "    bday = CustomBusinessDay(weekmask='Mon Tue Wed Thu Fri')\n",
    "\n",
    "    # Create date range for business days\n",
    "    business_days = pd.date_range(start='2024-01-01', end='2024-01-10', freq=bday)\n",
    "\n",
    "    # Generate time series combining days and intraday hours\n",
    "    time_series = []\n",
    "\n",
    "    for day in business_days:\n",
    "        # For each business day, create intraday timestamps\n",
    "        intraday_times = pd.date_range(\n",
    "            start=day.replace(hour=9, minute=30),  # Market open\n",
    "            end=day.replace(hour=16, minute=0),    # Market close\n",
    "            freq='30min'  # Every 30 minutes\n",
    "        )\n",
    "        time_series.extend(intraday_times)\n",
    "    return pd.DatetimeIndex(time_series)\n",
    "\n",
    "# Generate time series\n",
    "ts = time_series_method1()\n",
    "\n",
    "print(\"Method 1: Business Days + 30-minute Intervals\")\n",
    "print(\"=\" * 70)\n",
    "print(f\"Total timestamps: {len(ts)}\")\n",
    "print(f\"Date range: {ts[0]} to {ts[-1]}\")\n",
    "print(f\"\\nFirst 15 timestamps:\")\n",
    "for i, timestamp in enumerate(ts):\n",
    "    print(f\"  {i+1:2d}. {timestamp}\")\n"
   ],
   "id": "7bba9c74bcdc08d",
   "outputs": [
    {
     "name": "stdout",
     "output_type": "stream",
     "text": [
      "Method 1: Business Days + 30-minute Intervals\n",
      "======================================================================\n",
      "Total timestamps: 112\n",
      "Date range: 2024-01-01 09:30:00 to 2024-01-10 16:00:00\n",
      "\n",
      "First 15 timestamps:\n",
      "   1. 2024-01-01 09:30:00\n",
      "   2. 2024-01-01 10:00:00\n",
      "   3. 2024-01-01 10:30:00\n",
      "   4. 2024-01-01 11:00:00\n",
      "   5. 2024-01-01 11:30:00\n",
      "   6. 2024-01-01 12:00:00\n",
      "   7. 2024-01-01 12:30:00\n",
      "   8. 2024-01-01 13:00:00\n",
      "   9. 2024-01-01 13:30:00\n",
      "  10. 2024-01-01 14:00:00\n",
      "  11. 2024-01-01 14:30:00\n",
      "  12. 2024-01-01 15:00:00\n",
      "  13. 2024-01-01 15:30:00\n",
      "  14. 2024-01-01 16:00:00\n",
      "  15. 2024-01-02 09:30:00\n",
      "  16. 2024-01-02 10:00:00\n",
      "  17. 2024-01-02 10:30:00\n",
      "  18. 2024-01-02 11:00:00\n",
      "  19. 2024-01-02 11:30:00\n",
      "  20. 2024-01-02 12:00:00\n",
      "  21. 2024-01-02 12:30:00\n",
      "  22. 2024-01-02 13:00:00\n",
      "  23. 2024-01-02 13:30:00\n",
      "  24. 2024-01-02 14:00:00\n",
      "  25. 2024-01-02 14:30:00\n",
      "  26. 2024-01-02 15:00:00\n",
      "  27. 2024-01-02 15:30:00\n",
      "  28. 2024-01-02 16:00:00\n",
      "  29. 2024-01-03 09:30:00\n",
      "  30. 2024-01-03 10:00:00\n",
      "  31. 2024-01-03 10:30:00\n",
      "  32. 2024-01-03 11:00:00\n",
      "  33. 2024-01-03 11:30:00\n",
      "  34. 2024-01-03 12:00:00\n",
      "  35. 2024-01-03 12:30:00\n",
      "  36. 2024-01-03 13:00:00\n",
      "  37. 2024-01-03 13:30:00\n",
      "  38. 2024-01-03 14:00:00\n",
      "  39. 2024-01-03 14:30:00\n",
      "  40. 2024-01-03 15:00:00\n",
      "  41. 2024-01-03 15:30:00\n",
      "  42. 2024-01-03 16:00:00\n",
      "  43. 2024-01-04 09:30:00\n",
      "  44. 2024-01-04 10:00:00\n",
      "  45. 2024-01-04 10:30:00\n",
      "  46. 2024-01-04 11:00:00\n",
      "  47. 2024-01-04 11:30:00\n",
      "  48. 2024-01-04 12:00:00\n",
      "  49. 2024-01-04 12:30:00\n",
      "  50. 2024-01-04 13:00:00\n",
      "  51. 2024-01-04 13:30:00\n",
      "  52. 2024-01-04 14:00:00\n",
      "  53. 2024-01-04 14:30:00\n",
      "  54. 2024-01-04 15:00:00\n",
      "  55. 2024-01-04 15:30:00\n",
      "  56. 2024-01-04 16:00:00\n",
      "  57. 2024-01-05 09:30:00\n",
      "  58. 2024-01-05 10:00:00\n",
      "  59. 2024-01-05 10:30:00\n",
      "  60. 2024-01-05 11:00:00\n",
      "  61. 2024-01-05 11:30:00\n",
      "  62. 2024-01-05 12:00:00\n",
      "  63. 2024-01-05 12:30:00\n",
      "  64. 2024-01-05 13:00:00\n",
      "  65. 2024-01-05 13:30:00\n",
      "  66. 2024-01-05 14:00:00\n",
      "  67. 2024-01-05 14:30:00\n",
      "  68. 2024-01-05 15:00:00\n",
      "  69. 2024-01-05 15:30:00\n",
      "  70. 2024-01-05 16:00:00\n",
      "  71. 2024-01-08 09:30:00\n",
      "  72. 2024-01-08 10:00:00\n",
      "  73. 2024-01-08 10:30:00\n",
      "  74. 2024-01-08 11:00:00\n",
      "  75. 2024-01-08 11:30:00\n",
      "  76. 2024-01-08 12:00:00\n",
      "  77. 2024-01-08 12:30:00\n",
      "  78. 2024-01-08 13:00:00\n",
      "  79. 2024-01-08 13:30:00\n",
      "  80. 2024-01-08 14:00:00\n",
      "  81. 2024-01-08 14:30:00\n",
      "  82. 2024-01-08 15:00:00\n",
      "  83. 2024-01-08 15:30:00\n",
      "  84. 2024-01-08 16:00:00\n",
      "  85. 2024-01-09 09:30:00\n",
      "  86. 2024-01-09 10:00:00\n",
      "  87. 2024-01-09 10:30:00\n",
      "  88. 2024-01-09 11:00:00\n",
      "  89. 2024-01-09 11:30:00\n",
      "  90. 2024-01-09 12:00:00\n",
      "  91. 2024-01-09 12:30:00\n",
      "  92. 2024-01-09 13:00:00\n",
      "  93. 2024-01-09 13:30:00\n",
      "  94. 2024-01-09 14:00:00\n",
      "  95. 2024-01-09 14:30:00\n",
      "  96. 2024-01-09 15:00:00\n",
      "  97. 2024-01-09 15:30:00\n",
      "  98. 2024-01-09 16:00:00\n",
      "  99. 2024-01-10 09:30:00\n",
      "  100. 2024-01-10 10:00:00\n",
      "  101. 2024-01-10 10:30:00\n",
      "  102. 2024-01-10 11:00:00\n",
      "  103. 2024-01-10 11:30:00\n",
      "  104. 2024-01-10 12:00:00\n",
      "  105. 2024-01-10 12:30:00\n",
      "  106. 2024-01-10 13:00:00\n",
      "  107. 2024-01-10 13:30:00\n",
      "  108. 2024-01-10 14:00:00\n",
      "  109. 2024-01-10 14:30:00\n",
      "  110. 2024-01-10 15:00:00\n",
      "  111. 2024-01-10 15:30:00\n",
      "  112. 2024-01-10 16:00:00\n"
     ]
    }
   ],
   "execution_count": 207
  },
  {
   "metadata": {},
   "cell_type": "markdown",
   "source": [
    "#### 25. Write a Pandas program to extract the day name from a specified date. Add 2\n",
    "#### days and 1 business day with the specified date."
   ],
   "id": "a2ac76febec768de"
  },
  {
   "metadata": {
    "ExecuteTime": {
     "end_time": "2025-10-19T16:33:48.718817Z",
     "start_time": "2025-10-19T16:33:48.711212Z"
    }
   },
   "cell_type": "code",
   "source": [
    "d = pd.to_datetime('2024-01-01')\n",
    "d.day_name(),d + pd.DateOffset(days =2)+pd.offsets.BDay(1)"
   ],
   "id": "cb7b58e372417882",
   "outputs": [
    {
     "data": {
      "text/plain": [
       "('Monday', Timestamp('2024-01-04 00:00:00'))"
      ]
     },
     "execution_count": 177,
     "metadata": {},
     "output_type": "execute_result"
    }
   ],
   "execution_count": 177
  },
  {
   "metadata": {},
   "cell_type": "markdown",
   "source": [
    "#### 26. Write a Pandas program to convert integer or float epoch times to Timestamp\n",
    "#### and DatetimeIndex."
   ],
   "id": "a8b02e2d2eabda48"
  },
  {
   "metadata": {
    "ExecuteTime": {
     "end_time": "2025-10-19T16:39:46.483353Z",
     "start_time": "2025-10-19T16:39:46.476091Z"
    }
   },
   "cell_type": "code",
   "source": [
    "utc_times = pd.to_datetime([1705334400,1705335000],unit ='s')\n",
    "utc_times, utc_times[0]"
   ],
   "id": "d3814214917d98eb",
   "outputs": [
    {
     "data": {
      "text/plain": [
       "(DatetimeIndex(['2024-01-15 16:00:00', '2024-01-15 16:10:00'], dtype='datetime64[ns]', freq=None),\n",
       " Timestamp('2024-01-15 16:00:00'))"
      ]
     },
     "execution_count": 182,
     "metadata": {},
     "output_type": "execute_result"
    }
   ],
   "execution_count": 182
  },
  {
   "metadata": {},
   "cell_type": "markdown",
   "source": [
    "#### 27. Write a Pandas program to calculate one, two, three business day(s) from a\n",
    "#### specified date. Also find the next business month end from a specific date."
   ],
   "id": "95794c8be51839c1"
  },
  {
   "metadata": {
    "ExecuteTime": {
     "end_time": "2025-10-19T16:45:52.741974Z",
     "start_time": "2025-10-19T16:45:52.732885Z"
    }
   },
   "cell_type": "code",
   "source": [
    "d = pd.to_datetime('2024-01-01')\n",
    "pd.date_range('2024-01-01',periods = 4,freq = 'B'),pd.date_range('2024-01-01',periods = 1,freq = 'BM')\n"
   ],
   "id": "ebea9922b95eb59c",
   "outputs": [
    {
     "data": {
      "text/plain": [
       "(DatetimeIndex(['2024-01-01', '2024-01-02', '2024-01-03', '2024-01-04'], dtype='datetime64[ns]', freq='B'),\n",
       " DatetimeIndex(['2024-01-31'], dtype='datetime64[ns]', freq='BME'))"
      ]
     },
     "execution_count": 184,
     "metadata": {},
     "output_type": "execute_result"
    }
   ],
   "execution_count": 184
  },
  {
   "metadata": {},
   "cell_type": "markdown",
   "source": [
    "#### 28. Write a Pandas program to create a period index represent all monthly\n",
    "#### boundaries of a given year. Also print start and end time for each period object in\n",
    "#### the said index."
   ],
   "id": "945e0bc159394569"
  },
  {
   "metadata": {
    "ExecuteTime": {
     "end_time": "2025-10-19T17:23:53.827499Z",
     "start_time": "2025-10-19T17:23:53.784691Z"
    }
   },
   "cell_type": "code",
   "source": [
    "year = '2024'\n",
    "period_index = pd.period_range(start = f'{year}-01',end = f'{year}-12',freq = 'M')\n",
    "periods_data = []\n",
    "for period in period_index:\n",
    "    periods_data.append({\n",
    "        'Period': period,\n",
    "        'Start_time':period.start_time,\n",
    "        'End_time': period.end_time,\n",
    "        'Month_name': period.strftime('%B'),\n",
    "        'Days_in_Month':period.days_in_month\n",
    "    })\n",
    "periods_data"
   ],
   "id": "d620f15cd5c5f006",
   "outputs": [
    {
     "data": {
      "text/plain": [
       "[{'Period': Period('2024-01', 'M'),\n",
       "  'Start_time': Timestamp('2024-01-01 00:00:00'),\n",
       "  'End_time': Timestamp('2024-01-31 23:59:59.999999999'),\n",
       "  'Month_name': 'January',\n",
       "  'Days_in_Month': 31},\n",
       " {'Period': Period('2024-02', 'M'),\n",
       "  'Start_time': Timestamp('2024-02-01 00:00:00'),\n",
       "  'End_time': Timestamp('2024-02-29 23:59:59.999999999'),\n",
       "  'Month_name': 'February',\n",
       "  'Days_in_Month': 29},\n",
       " {'Period': Period('2024-03', 'M'),\n",
       "  'Start_time': Timestamp('2024-03-01 00:00:00'),\n",
       "  'End_time': Timestamp('2024-03-31 23:59:59.999999999'),\n",
       "  'Month_name': 'March',\n",
       "  'Days_in_Month': 31},\n",
       " {'Period': Period('2024-04', 'M'),\n",
       "  'Start_time': Timestamp('2024-04-01 00:00:00'),\n",
       "  'End_time': Timestamp('2024-04-30 23:59:59.999999999'),\n",
       "  'Month_name': 'April',\n",
       "  'Days_in_Month': 30},\n",
       " {'Period': Period('2024-05', 'M'),\n",
       "  'Start_time': Timestamp('2024-05-01 00:00:00'),\n",
       "  'End_time': Timestamp('2024-05-31 23:59:59.999999999'),\n",
       "  'Month_name': 'May',\n",
       "  'Days_in_Month': 31},\n",
       " {'Period': Period('2024-06', 'M'),\n",
       "  'Start_time': Timestamp('2024-06-01 00:00:00'),\n",
       "  'End_time': Timestamp('2024-06-30 23:59:59.999999999'),\n",
       "  'Month_name': 'June',\n",
       "  'Days_in_Month': 30},\n",
       " {'Period': Period('2024-07', 'M'),\n",
       "  'Start_time': Timestamp('2024-07-01 00:00:00'),\n",
       "  'End_time': Timestamp('2024-07-31 23:59:59.999999999'),\n",
       "  'Month_name': 'July',\n",
       "  'Days_in_Month': 31},\n",
       " {'Period': Period('2024-08', 'M'),\n",
       "  'Start_time': Timestamp('2024-08-01 00:00:00'),\n",
       "  'End_time': Timestamp('2024-08-31 23:59:59.999999999'),\n",
       "  'Month_name': 'August',\n",
       "  'Days_in_Month': 31},\n",
       " {'Period': Period('2024-09', 'M'),\n",
       "  'Start_time': Timestamp('2024-09-01 00:00:00'),\n",
       "  'End_time': Timestamp('2024-09-30 23:59:59.999999999'),\n",
       "  'Month_name': 'September',\n",
       "  'Days_in_Month': 30},\n",
       " {'Period': Period('2024-10', 'M'),\n",
       "  'Start_time': Timestamp('2024-10-01 00:00:00'),\n",
       "  'End_time': Timestamp('2024-10-31 23:59:59.999999999'),\n",
       "  'Month_name': 'October',\n",
       "  'Days_in_Month': 31},\n",
       " {'Period': Period('2024-11', 'M'),\n",
       "  'Start_time': Timestamp('2024-11-01 00:00:00'),\n",
       "  'End_time': Timestamp('2024-11-30 23:59:59.999999999'),\n",
       "  'Month_name': 'November',\n",
       "  'Days_in_Month': 30},\n",
       " {'Period': Period('2024-12', 'M'),\n",
       "  'Start_time': Timestamp('2024-12-01 00:00:00'),\n",
       "  'End_time': Timestamp('2024-12-31 23:59:59.999999999'),\n",
       "  'Month_name': 'December',\n",
       "  'Days_in_Month': 31}]"
      ]
     },
     "execution_count": 187,
     "metadata": {},
     "output_type": "execute_result"
    }
   ],
   "execution_count": 187
  },
  {
   "metadata": {},
   "cell_type": "markdown",
   "source": [
    "#### 29. Write a Pandas program create a series with a PeriodIndex which represents\n",
    "#### all the calendar month periods in 2029 and 2031. Also print the values for all\n",
    "#### periods in 2030"
   ],
   "id": "8e7de7163e6b947b"
  },
  {
   "metadata": {
    "ExecuteTime": {
     "end_time": "2025-10-19T17:32:52.963288Z",
     "start_time": "2025-10-19T17:32:52.957769Z"
    }
   },
   "cell_type": "code",
   "source": [
    "periods = pd.period_range(start = '2029-01',end = '2031-12',freq = 'M')\n",
    "for period in periods:\n",
    "    print(period,end =\"| \")"
   ],
   "id": "f2a74f8c609449ee",
   "outputs": [
    {
     "name": "stdout",
     "output_type": "stream",
     "text": [
      "2029-01| 2029-02| 2029-03| 2029-04| 2029-05| 2029-06| 2029-07| 2029-08| 2029-09| 2029-10| 2029-11| 2029-12| 2030-01| 2030-02| 2030-03| 2030-04| 2030-05| 2030-06| 2030-07| 2030-08| 2030-09| 2030-10| 2030-11| 2030-12| 2031-01| 2031-02| 2031-03| 2031-04| 2031-05| 2031-06| 2031-07| 2031-08| 2031-09| 2031-10| 2031-11| 2031-12| "
     ]
    }
   ],
   "execution_count": 192
  },
  {
   "metadata": {},
   "cell_type": "markdown",
   "source": [
    "#### 30. Write a Pandas program to generate holidays between two dates using the\n",
    "#### US federal holiday calendar"
   ],
   "id": "6f0da96377aecb43"
  },
  {
   "metadata": {
    "ExecuteTime": {
     "end_time": "2025-10-19T17:49:49.479704Z",
     "start_time": "2025-10-19T17:49:49.459879Z"
    }
   },
   "cell_type": "code",
   "source": [
    "cal = USFederalHolidayCalendar()\n",
    "holidays = cal.holidays(start = '2024-01-01',end = '2024-12-31')\n",
    "for holiday in holidays:\n",
    "    print(cal.rules[0].name if hasattr(cal.rules[0],'name') else 'US Federal Holiday')\n",
    "    print(holiday.day_name(),holiday.year,holiday.month_name())\n",
    "    print()"
   ],
   "id": "bd7e63fd864d98e3",
   "outputs": [
    {
     "name": "stdout",
     "output_type": "stream",
     "text": [
      "New Year's Day\n",
      "Monday 2024 January\n",
      "\n",
      "New Year's Day\n",
      "Monday 2024 January\n",
      "\n",
      "New Year's Day\n",
      "Monday 2024 February\n",
      "\n",
      "New Year's Day\n",
      "Monday 2024 May\n",
      "\n",
      "New Year's Day\n",
      "Wednesday 2024 June\n",
      "\n",
      "New Year's Day\n",
      "Thursday 2024 July\n",
      "\n",
      "New Year's Day\n",
      "Monday 2024 September\n",
      "\n",
      "New Year's Day\n",
      "Monday 2024 October\n",
      "\n",
      "New Year's Day\n",
      "Monday 2024 November\n",
      "\n",
      "New Year's Day\n",
      "Thursday 2024 November\n",
      "\n",
      "New Year's Day\n",
      "Wednesday 2024 December\n",
      "\n"
     ]
    }
   ],
   "execution_count": 196
  },
  {
   "metadata": {},
   "cell_type": "markdown",
   "source": [
    "#### 31. Write a Pandas program to create a monthly time period and display the list\n",
    "#### of names in the current local scope."
   ],
   "id": "64ba5ebd348f8b5"
  },
  {
   "metadata": {
    "ExecuteTime": {
     "end_time": "2025-10-19T17:54:45.578812Z",
     "start_time": "2025-10-19T17:54:45.567359Z"
    }
   },
   "cell_type": "code",
   "source": [
    "import pandas as pd\n",
    "\n",
    "def create_monthly_period_method1():\n",
    "    \"\"\"Create monthly period and display local scope names\"\"\"\n",
    "\n",
    "    # Create a monthly time period for 2024\n",
    "    monthly_period = pd.period_range(start='2024-01', end='2024-12', freq='M')\n",
    "\n",
    "    # Create some variables in local scope\n",
    "    year = 2024\n",
    "    frequency = 'Monthly'\n",
    "    total_months = len(monthly_period)\n",
    "    first_month = monthly_period[0]\n",
    "    last_month = monthly_period[-1]\n",
    "\n",
    "    # Get local scope names\n",
    "    local_names = list(locals().keys())\n",
    "\n",
    "    return monthly_period, local_names\n",
    "\n",
    "# Execute the function\n",
    "periods, local_vars = create_monthly_period_method1()\n",
    "\n",
    "print(\"Method 1: Using period_range() with locals()\")\n",
    "print(\"=\" * 70)\n",
    "print(\"Monthly Time Periods (2024):\")\n",
    "print(periods)\n",
    "\n",
    "print(f\"\\nNames in Local Scope:\")\n",
    "for i, name in enumerate(local_vars, 1):\n",
    "    print(f\"  {i:2d}. {name}\")\n",
    "\n",
    "print(f\"\\nTotal names in local scope: {len(local_vars)}\")\n"
   ],
   "id": "7d8e9cde4ea12a55",
   "outputs": [
    {
     "name": "stdout",
     "output_type": "stream",
     "text": [
      "Method 1: Using period_range() with locals()\n",
      "======================================================================\n",
      "Monthly Time Periods (2024):\n",
      "PeriodIndex(['2024-01', '2024-02', '2024-03', '2024-04', '2024-05', '2024-06',\n",
      "             '2024-07', '2024-08', '2024-09', '2024-10', '2024-11', '2024-12'],\n",
      "            dtype='period[M]')\n",
      "\n",
      "Names in Local Scope:\n",
      "   1. monthly_period\n",
      "   2. year\n",
      "   3. frequency\n",
      "   4. total_months\n",
      "   5. first_month\n",
      "   6. last_month\n",
      "\n",
      "Total names in local scope: 6\n"
     ]
    }
   ],
   "execution_count": 197
  },
  {
   "metadata": {},
   "cell_type": "markdown",
   "source": [
    "#### 32. Write a Pandas program to create a yearly time period from a specified year\n",
    "#### and display the properties of this period."
   ],
   "id": "72ad95a46721b790"
  },
  {
   "metadata": {
    "ExecuteTime": {
     "end_time": "2025-10-19T18:01:25.959024Z",
     "start_time": "2025-10-19T18:01:25.949018Z"
    }
   },
   "cell_type": "code",
   "source": [
    "pr = pd.period_range('2022','2025',freq='A')\n",
    "for p in pr:\n",
    "    print(p,p.start_time)"
   ],
   "id": "3b1abb4d72b433da",
   "outputs": [
    {
     "name": "stdout",
     "output_type": "stream",
     "text": [
      "2022 2022-01-01 00:00:00\n",
      "2023 2023-01-01 00:00:00\n",
      "2024 2024-01-01 00:00:00\n",
      "2025 2025-01-01 00:00:00\n"
     ]
    }
   ],
   "execution_count": 201
  },
  {
   "metadata": {},
   "cell_type": "code",
   "outputs": [],
   "execution_count": null,
   "source": "",
   "id": "8b16dacff37ab384"
  }
 ],
 "metadata": {
  "kernelspec": {
   "display_name": "Python 3",
   "language": "python",
   "name": "python3"
  },
  "language_info": {
   "codemirror_mode": {
    "name": "ipython",
    "version": 2
   },
   "file_extension": ".py",
   "mimetype": "text/x-python",
   "name": "python",
   "nbconvert_exporter": "python",
   "pygments_lexer": "ipython2",
   "version": "2.7.6"
  }
 },
 "nbformat": 4,
 "nbformat_minor": 5
}
