{
 "cells": [
  {
   "metadata": {
    "ExecuteTime": {
     "end_time": "2025-10-16T04:22:21.655321Z",
     "start_time": "2025-10-16T04:22:21.650640Z"
    }
   },
   "cell_type": "code",
   "source": [
    "import pandas as pd\n",
    "import numpy as np"
   ],
   "id": "27cf8e73bdfeb4e2",
   "outputs": [],
   "execution_count": 2
  },
  {
   "metadata": {},
   "cell_type": "markdown",
   "source": [
    "#### 1. Write a Pandas program to create\n",
    "#### a) Datetime object for Jan 15 2012.\n",
    "#### b) Specific date and time of 9:20 pm.\n",
    "#### c) Local date and time.\n",
    "#### d) A date without time.\n",
    "#### e) Current date.\n",
    "#### f) Time from a datetime.\n",
    "#### g) Current local time."
   ],
   "id": "882906bf366a14c4"
  },
  {
   "metadata": {},
   "cell_type": "code",
   "outputs": [],
   "execution_count": null,
   "source": "",
   "id": "31ae9baf00e4c9df"
  },
  {
   "metadata": {},
   "cell_type": "markdown",
   "source": [
    "#### 2. Write a Pandas program to create\n",
    "#### a) a specific date using timestamp.\n",
    "#### b) date and time using timestamp.\n",
    "#### c) a time adds in the current local date using timestamp.\n",
    "#### d) current date and time using timestamp."
   ],
   "id": "1fb77e8a990e211f"
  },
  {
   "metadata": {},
   "cell_type": "markdown",
   "source": [
    "#### 3. Write a Pandas program to create a date from a given year, month, day and\n",
    "#### another date from a given string formats."
   ],
   "id": "3702e816baeca523"
  },
  {
   "metadata": {},
   "cell_type": "markdown",
   "source": [
    "#### 4. Write a Pandas program to print the day after and before a specified date. Also\n",
    "#### print the days between two given dates."
   ],
   "id": "8146b5267a3b85c"
  },
  {
   "metadata": {},
   "cell_type": "markdown",
   "source": [
    "#### 5. Write a Pandas program to create a time-series with two index labels and\n",
    "#### random values. Also print the type of the index."
   ],
   "id": "c926f57792bab92b"
  },
  {
   "metadata": {},
   "cell_type": "markdown",
   "source": [
    "#### 6. Write a Pandas program to create a time-series from a given list of dates as\n",
    "#### strings."
   ],
   "id": "2caa06e1dd23211"
  },
  {
   "metadata": {},
   "cell_type": "markdown",
   "source": [
    "#### 7. Write a Pandas program to create a time series object that has time indexed\n",
    "#### data. Also select the dates of same year and select the dates between certain\n",
    "#### dates."
   ],
   "id": "4b02673a215bbbba"
  },
  {
   "metadata": {},
   "cell_type": "markdown",
   "source": [
    "#### 8. Write a Pandas program to create a date range using a startpoint date and a\n",
    "#### number of periods."
   ],
   "id": "b3be38af16d5b512"
  },
  {
   "metadata": {},
   "cell_type": "markdown",
   "source": [
    "#### 9. Write a Pandas program to create a whole month of dates in daily frequencies.\n",
    "#### Also find the maximum, minimum timestamp and indexs."
   ],
   "id": "d5a70b9e378f814f"
  },
  {
   "metadata": {},
   "cell_type": "markdown",
   "source": [
    "#### 10. Write a Pandas program to create a time series using three months\n",
    "#### frequency."
   ],
   "id": "71952877c0232478"
  },
  {
   "metadata": {},
   "cell_type": "markdown",
   "source": [
    "#### 11. Write a Pandas program to create a sequence of durations increasing by an\n",
    "#### hour."
   ],
   "id": "c799a26df8cf0d58"
  },
  {
   "metadata": {},
   "cell_type": "markdown",
   "source": [
    "#### 12. Write a Pandas program to convert year and day of year into a single\n",
    "#### datetime column of a dataframe."
   ],
   "id": "517b0f60b6e205ec"
  },
  {
   "metadata": {},
   "cell_type": "markdown",
   "source": [
    "#### 13. Write a Pandas program to create a series of Timestamps from a DataFrame\n",
    "#### of integer or string columns. Also create a series of Timestamps using specified\n",
    "####\n",
    "#### columns."
   ],
   "id": "d3d2321d5791754d"
  },
  {
   "metadata": {},
   "cell_type": "markdown",
   "source": "#### 14. Write a Pandas program to check if a day is a business day (weekday) or not.",
   "id": "3333bd7703d1b2c1"
  },
  {
   "metadata": {},
   "cell_type": "markdown",
   "source": [
    "#### 15. Write a Pandas program to get a time series with the last working days of\n",
    "#### each month of a specific year."
   ],
   "id": "1df88000542baf57"
  },
  {
   "metadata": {},
   "cell_type": "markdown",
   "source": "#### 16. Write a Pandas program to create a time series combining hour and minute.",
   "id": "f757c0e10aff8bee"
  },
  {
   "metadata": {},
   "cell_type": "markdown",
   "source": [
    "#### 17. Write a Pandas program to convert unix/epoch time to a regular time stamp\n",
    "#### in UTC. Also convert the said timestamp in to a given time zone."
   ],
   "id": "42ff15cf7dbe2232"
  },
  {
   "metadata": {},
   "cell_type": "markdown",
   "source": "#### 18. Write a Pandas program to create a time series object with a time zone.",
   "id": "d17369780ec36687"
  },
  {
   "metadata": {},
   "cell_type": "markdown",
   "source": [
    "#### 19. Write a Pandas program to remove the time zone information from a Time\n",
    "#### series data."
   ],
   "id": "5b6ed87cf0a84a3d"
  },
  {
   "metadata": {},
   "cell_type": "markdown",
   "source": [
    "#### 20. Write a Pandas program to subtract two timestamps of same time zone or\n",
    "#### different time zone."
   ],
   "id": "985489855ab77043"
  },
  {
   "metadata": {},
   "cell_type": "markdown",
   "source": "#### 21. Write a Pandas program to calculate all Thursdays between two given days.",
   "id": "f7a728bb8ae2b605"
  },
  {
   "metadata": {},
   "cell_type": "markdown",
   "source": [
    "#### 22. Write a Pandas program to find the all the business quarterly begin and end\n",
    "#### dates of a specified year."
   ],
   "id": "6621d6ef5ccb0648"
  },
  {
   "metadata": {},
   "cell_type": "markdown",
   "source": [
    "#### 23. Write a Pandas program to generate sequences of fixed-frequency dates and\n",
    "#### time spans intervals."
   ],
   "id": "8bd55ec07a6f56"
  },
  {
   "metadata": {},
   "cell_type": "markdown",
   "source": [
    "#### 24. Write a Pandas program to generate time series combining day and intraday\n",
    "#### offsets intervals."
   ],
   "id": "a70ed2d758491d84"
  },
  {
   "metadata": {},
   "cell_type": "markdown",
   "source": [
    "#### 25. Write a Pandas program to extract the day name from a specified date. Add 2\n",
    "#### days and 1 business day with the specified date."
   ],
   "id": "a2ac76febec768de"
  },
  {
   "metadata": {},
   "cell_type": "markdown",
   "source": [
    "#### 26. Write a Pandas program to convert integer or float epoch times to Timestamp\n",
    "#### and DatetimeIndex."
   ],
   "id": "a8b02e2d2eabda48"
  },
  {
   "metadata": {},
   "cell_type": "markdown",
   "source": [
    "#### 27. Write a Pandas program to calculate one, two, three business day(s) from a\n",
    "#### specified date. Also find the next business month end from a specific date."
   ],
   "id": "95794c8be51839c1"
  },
  {
   "metadata": {},
   "cell_type": "markdown",
   "source": [
    "#### 28. Write a Pandas program to create a period index represent all monthly\n",
    "#### boundaries of a given year. Also print start and end time for each period object in\n",
    "#### the said index."
   ],
   "id": "945e0bc159394569"
  },
  {
   "metadata": {},
   "cell_type": "markdown",
   "source": [
    "#### 29. Write a Pandas program create a series with a PeriodIndex which represents\n",
    "#### all the calendar month periods in 2029 and 2031. Also print the values for all\n",
    "#### periods in 2030.\n",
    "#### Note: PeriodIndex is an immutable ndarray holding ordinal values indicating\n",
    "#### regular periods in time such as particular years, quarters, months, etc."
   ],
   "id": "8e7de7163e6b947b"
  },
  {
   "metadata": {},
   "cell_type": "markdown",
   "source": [
    "#### 30. Write a Pandas program to generate holidays between two dates using the\n",
    "#### US federal holiday calendar"
   ],
   "id": "6f0da96377aecb43"
  },
  {
   "metadata": {},
   "cell_type": "markdown",
   "source": [
    "#### 31. Write a Pandas program to create a monthly time period and display the list\n",
    "#### of names in the current local scope."
   ],
   "id": "64ba5ebd348f8b5"
  },
  {
   "metadata": {},
   "cell_type": "markdown",
   "source": [
    "#### 32. Write a Pandas program to create a yearly time period from a specified year\n",
    "#### and display the properties of this period."
   ],
   "id": "72ad95a46721b790"
  },
  {
   "metadata": {},
   "cell_type": "code",
   "outputs": [],
   "execution_count": null,
   "source": "",
   "id": "3b1abb4d72b433da"
  }
 ],
 "metadata": {
  "kernelspec": {
   "display_name": "Python 3",
   "language": "python",
   "name": "python3"
  },
  "language_info": {
   "codemirror_mode": {
    "name": "ipython",
    "version": 2
   },
   "file_extension": ".py",
   "mimetype": "text/x-python",
   "name": "python",
   "nbconvert_exporter": "python",
   "pygments_lexer": "ipython2",
   "version": "2.7.6"
  }
 },
 "nbformat": 4,
 "nbformat_minor": 5
}
