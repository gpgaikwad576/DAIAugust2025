{
 "cells": [
  {
   "cell_type": "code",
   "id": "initial_id",
   "metadata": {
    "collapsed": true,
    "ExecuteTime": {
     "end_time": "2025-10-14T10:28:06.439173Z",
     "start_time": "2025-10-14T10:28:06.434709Z"
    }
   },
   "source": [
    "import scipy.stats as stats\n",
    "from scipy.stats import zscore\n",
    "import pandas as pd\n",
    "import matplotlib.pyplot as plt\n",
    "import numpy as np"
   ],
   "outputs": [],
   "execution_count": 2
  },
  {
   "metadata": {},
   "cell_type": "markdown",
   "source": "#### normal distribution",
   "id": "bb0227a5673f6dba"
  },
  {
   "metadata": {},
   "cell_type": "code",
   "outputs": [],
   "execution_count": null,
   "source": [
    "df = pd.read_csv('diabetes.csv')\n",
    "gluco_mean = df['Glucose'].mean()\n",
    "gluco_std = = df['Glucose'].std()\n",
    "df['gluco_zscore'] = zscore(df['Glucose'])\n",
    "\n",
    "#Find the z-score at the 30th percentile\n",
    "zscore_30  = stats.norm.ppf(0.30)\n",
    "\n",
    "#given z-score find val\n",
    "gluco_val_30 = gluco_mean + zscore_30 * gluco_std\n",
    "\n",
    "#ercentile fromfor the zscore of 2.8\n",
    "stats.norm.cdf(as it is)"
   ],
   "id": "15a11cd03885455"
  },
  {
   "metadata": {},
   "cell_type": "markdown",
   "source": "#### check if data is normally distriuted: Shapiro, QQ- plot",
   "id": "d6b657364bf71642"
  },
  {
   "metadata": {},
   "cell_type": "code",
   "source": [
    "data = pd.read_csv(\"tips.csv\")\n",
    "total_bill_series = data['total_bill']\n"
   ],
   "id": "85a2ab6ea7c0bf4f",
   "execution_count": null,
   "outputs": []
  },
  {
   "metadata": {},
   "cell_type": "code",
   "outputs": [
    {
     "ename": "SyntaxError",
     "evalue": "expected ':' (1225981706.py, line 10)",
     "output_type": "error",
     "traceback": [
      "  \u001B[36mCell\u001B[39m\u001B[36m \u001B[39m\u001B[32mIn[3]\u001B[39m\u001B[32m, line 10\u001B[39m\n\u001B[31m    \u001B[39m\u001B[31mif shapiro_test.pvalue >alpha\u001B[39m\n                                 ^\n\u001B[31mSyntaxError\u001B[39m\u001B[31m:\u001B[39m expected ':'\n"
     ]
    }
   ],
   "execution_count": 3,
   "source": [
    "#Shapiro-wilk test\n",
    "shapiro_test = stats.shapiro(total_bill_series)\n",
    "print(\"test statistic(w):\" ,shapiro_test.statistic)\n",
    "print(\"pval: \",shapiro_test.pvalue)\n",
    "\n",
    "alpha = 0.05\n",
    "if shapiro_test.pvalue >alpha:\n",
    "    print(\"Normal Dist\")\n",
    "else:\n",
    "    print(\"Not a Normal Dist\")"
   ],
   "id": "73a7dcea869a2bcf"
  },
  {
   "metadata": {},
   "cell_type": "code",
   "outputs": [],
   "execution_count": null,
   "source": [
    "##QQ plot\n",
    "stats.probplot(total_bill_series,dist = \"norm\",plot = plt)"
   ],
   "id": "13a169d2ad124ad8"
  }
 ],
 "metadata": {
  "kernelspec": {
   "display_name": "Python 3",
   "language": "python",
   "name": "python3"
  },
  "language_info": {
   "codemirror_mode": {
    "name": "ipython",
    "version": 2
   },
   "file_extension": ".py",
   "mimetype": "text/x-python",
   "name": "python",
   "nbconvert_exporter": "python",
   "pygments_lexer": "ipython2",
   "version": "2.7.6"
  }
 },
 "nbformat": 4,
 "nbformat_minor": 5
}
