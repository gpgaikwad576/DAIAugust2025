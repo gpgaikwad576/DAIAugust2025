{
 "cells": [
  {
   "metadata": {
    "ExecuteTime": {
     "end_time": "2025-10-04T03:54:34.259027Z",
     "start_time": "2025-10-04T03:54:34.117065Z"
    }
   },
   "cell_type": "code",
   "source": "import numpy as np",
   "id": "168688aa0e55faa2",
   "outputs": [],
   "execution_count": 4
  },
  {
   "metadata": {
    "ExecuteTime": {
     "end_time": "2025-10-04T03:54:34.289527Z",
     "start_time": "2025-10-04T03:54:34.284500Z"
    }
   },
   "cell_type": "code",
   "source": "arr = np.arange(0,11)",
   "id": "721400672a0b4a2e",
   "outputs": [],
   "execution_count": 5
  },
  {
   "cell_type": "code",
   "id": "initial_id",
   "metadata": {
    "collapsed": true,
    "ExecuteTime": {
     "end_time": "2025-10-04T03:54:34.312799Z",
     "start_time": "2025-10-04T03:54:34.308877Z"
    }
   },
   "source": [
    "#Broadcasting\n",
    "arr[0:5] =100"
   ],
   "outputs": [],
   "execution_count": 6
  },
  {
   "metadata": {
    "ExecuteTime": {
     "end_time": "2025-10-04T03:54:34.335949Z",
     "start_time": "2025-10-04T03:54:34.329969Z"
    }
   },
   "cell_type": "code",
   "source": [
    "#imp note\n",
    "slice_of_arr = arr[0:6]\n",
    "slice_of_arr[:] =99\n",
    "print(arr)\n",
    "\n",
    "arr = np.arange(0,11)\n",
    "slice_of_arr = arr.copy()\n",
    "slice_of_arr[:] = 89\n",
    "print(arr)"
   ],
   "id": "a604853aef5d6bae",
   "outputs": [
    {
     "name": "stdout",
     "output_type": "stream",
     "text": [
      "[99 99 99 99 99 99  6  7  8  9 10]\n",
      "[ 0  1  2  3  4  5  6  7  8  9 10]\n"
     ]
    }
   ],
   "execution_count": 7
  },
  {
   "metadata": {
    "ExecuteTime": {
     "end_time": "2025-10-04T03:54:34.416051Z",
     "start_time": "2025-10-04T03:54:34.394245Z"
    }
   },
   "cell_type": "code",
   "source": [
    "#conditionals\n",
    "bool_arr = arr>4\n",
    "arr[bool_arr]\n",
    "arr[arr>4]"
   ],
   "id": "61ac07f5bc2944c7",
   "outputs": [
    {
     "data": {
      "text/plain": [
       "array([ 5,  6,  7,  8,  9, 10])"
      ]
     },
     "execution_count": 8,
     "metadata": {},
     "output_type": "execute_result"
    }
   ],
   "execution_count": 8
  },
  {
   "metadata": {
    "ExecuteTime": {
     "end_time": "2025-10-04T03:54:34.454978Z",
     "start_time": "2025-10-04T03:54:34.440862Z"
    }
   },
   "cell_type": "code",
   "source": [
    "#creating a sample array\n",
    "arr.sum()\n",
    "arr.max()\n",
    "arr.min()\n",
    "arr.mean(),arr.var(),arr.std()"
   ],
   "id": "7b992ead743af805",
   "outputs": [
    {
     "data": {
      "text/plain": [
       "(np.float64(5.0), np.float64(10.0), np.float64(3.1622776601683795))"
      ]
     },
     "execution_count": 9,
     "metadata": {},
     "output_type": "execute_result"
    }
   ],
   "execution_count": 9
  },
  {
   "metadata": {
    "ExecuteTime": {
     "end_time": "2025-10-04T03:54:34.506985Z",
     "start_time": "2025-10-04T03:54:34.501743Z"
    }
   },
   "cell_type": "code",
   "source": "",
   "id": "49a5b8126ea89456",
   "outputs": [],
   "execution_count": null
  }
 ],
 "metadata": {
  "kernelspec": {
   "display_name": "Python 3",
   "language": "python",
   "name": "python3"
  },
  "language_info": {
   "codemirror_mode": {
    "name": "ipython",
    "version": 2
   },
   "file_extension": ".py",
   "mimetype": "text/x-python",
   "name": "python",
   "nbconvert_exporter": "python",
   "pygments_lexer": "ipython2",
   "version": "2.7.6"
  }
 },
 "nbformat": 4,
 "nbformat_minor": 5
}
