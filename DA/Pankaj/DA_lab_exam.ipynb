{
 "cells": [
  {
   "metadata": {
    "ExecuteTime": {
     "end_time": "2025-10-24T03:28:08.618688Z",
     "start_time": "2025-10-24T03:28:08.613132Z"
    }
   },
   "cell_type": "code",
   "source": [
    "import numpy as np\n",
    "import pandas as pd\n",
    "import matplotlib.pyplot as plt\n",
    "import re\n",
    "from sklearn.impute import SimpleImputer\n",
    "from sklearn.model_selection import train_test_split"
   ],
   "id": "15a2684d833eda0",
   "outputs": [],
   "execution_count": 200
  },
  {
   "metadata": {
    "ExecuteTime": {
     "end_time": "2025-10-24T03:28:08.705888Z",
     "start_time": "2025-10-24T03:28:08.653760Z"
    }
   },
   "cell_type": "code",
   "source": "df = pd.read_csv(r\"C:\\Users\\ACER\\Downloads\\archive\\Dog_Bites_Data.csv\")",
   "id": "95e5bfe9263a6a3f",
   "outputs": [],
   "execution_count": 201
  },
  {
   "metadata": {
    "ExecuteTime": {
     "end_time": "2025-10-24T03:28:08.772401Z",
     "start_time": "2025-10-24T03:28:08.746775Z"
    }
   },
   "cell_type": "code",
   "source": "df",
   "id": "e5b10b7451d7f956",
   "outputs": [
    {
     "data": {
      "text/plain": [
       "       UniqueID        DateOfBite Species                 Breed  Age Gender  \\\n",
       "0             1   January 01 2018     DOG               UNKNOWN  NaN      U   \n",
       "1             2   January 04 2018     DOG               UNKNOWN  NaN      U   \n",
       "2             3   January 06 2018     DOG              Pit Bull  NaN      U   \n",
       "3             4   January 08 2018     DOG           Mixed/Other    4      M   \n",
       "4             5   January 09 2018     DOG              Pit Bull  NaN      U   \n",
       "...         ...               ...     ...                   ...  ...    ...   \n",
       "22658     10276  December 24 2017     DOG         CHIWEENIE MIX    7      M   \n",
       "22659     10277  December 24 2017     DOG                DUNKER    5      F   \n",
       "22660     10278  December 21 2017     DOG  Schnauzer, Miniature  10M      M   \n",
       "22661     10279  December 28 2017     DOG           Mixed/Other  NaN      F   \n",
       "22662     10280  December 29 2017     DOG        BOXER/PIT BULL  NaN      M   \n",
       "\n",
       "       SpayNeuter        Borough ZipCode  \n",
       "0           False       Brooklyn   11220  \n",
       "1           False       Brooklyn     NaN  \n",
       "2           False       Brooklyn   11224  \n",
       "3           False       Brooklyn   11231  \n",
       "4           False       Brooklyn   11224  \n",
       "...           ...            ...     ...  \n",
       "22658        True  Staten Island   10303  \n",
       "22659        True  Staten Island   10303  \n",
       "22660        True  Staten Island   10312  \n",
       "22661       False  Staten Island   10308  \n",
       "22662       False  Staten Island   10314  \n",
       "\n",
       "[22663 rows x 9 columns]"
      ],
      "text/html": [
       "<div>\n",
       "<style scoped>\n",
       "    .dataframe tbody tr th:only-of-type {\n",
       "        vertical-align: middle;\n",
       "    }\n",
       "\n",
       "    .dataframe tbody tr th {\n",
       "        vertical-align: top;\n",
       "    }\n",
       "\n",
       "    .dataframe thead th {\n",
       "        text-align: right;\n",
       "    }\n",
       "</style>\n",
       "<table border=\"1\" class=\"dataframe\">\n",
       "  <thead>\n",
       "    <tr style=\"text-align: right;\">\n",
       "      <th></th>\n",
       "      <th>UniqueID</th>\n",
       "      <th>DateOfBite</th>\n",
       "      <th>Species</th>\n",
       "      <th>Breed</th>\n",
       "      <th>Age</th>\n",
       "      <th>Gender</th>\n",
       "      <th>SpayNeuter</th>\n",
       "      <th>Borough</th>\n",
       "      <th>ZipCode</th>\n",
       "    </tr>\n",
       "  </thead>\n",
       "  <tbody>\n",
       "    <tr>\n",
       "      <th>0</th>\n",
       "      <td>1</td>\n",
       "      <td>January 01 2018</td>\n",
       "      <td>DOG</td>\n",
       "      <td>UNKNOWN</td>\n",
       "      <td>NaN</td>\n",
       "      <td>U</td>\n",
       "      <td>False</td>\n",
       "      <td>Brooklyn</td>\n",
       "      <td>11220</td>\n",
       "    </tr>\n",
       "    <tr>\n",
       "      <th>1</th>\n",
       "      <td>2</td>\n",
       "      <td>January 04 2018</td>\n",
       "      <td>DOG</td>\n",
       "      <td>UNKNOWN</td>\n",
       "      <td>NaN</td>\n",
       "      <td>U</td>\n",
       "      <td>False</td>\n",
       "      <td>Brooklyn</td>\n",
       "      <td>NaN</td>\n",
       "    </tr>\n",
       "    <tr>\n",
       "      <th>2</th>\n",
       "      <td>3</td>\n",
       "      <td>January 06 2018</td>\n",
       "      <td>DOG</td>\n",
       "      <td>Pit Bull</td>\n",
       "      <td>NaN</td>\n",
       "      <td>U</td>\n",
       "      <td>False</td>\n",
       "      <td>Brooklyn</td>\n",
       "      <td>11224</td>\n",
       "    </tr>\n",
       "    <tr>\n",
       "      <th>3</th>\n",
       "      <td>4</td>\n",
       "      <td>January 08 2018</td>\n",
       "      <td>DOG</td>\n",
       "      <td>Mixed/Other</td>\n",
       "      <td>4</td>\n",
       "      <td>M</td>\n",
       "      <td>False</td>\n",
       "      <td>Brooklyn</td>\n",
       "      <td>11231</td>\n",
       "    </tr>\n",
       "    <tr>\n",
       "      <th>4</th>\n",
       "      <td>5</td>\n",
       "      <td>January 09 2018</td>\n",
       "      <td>DOG</td>\n",
       "      <td>Pit Bull</td>\n",
       "      <td>NaN</td>\n",
       "      <td>U</td>\n",
       "      <td>False</td>\n",
       "      <td>Brooklyn</td>\n",
       "      <td>11224</td>\n",
       "    </tr>\n",
       "    <tr>\n",
       "      <th>...</th>\n",
       "      <td>...</td>\n",
       "      <td>...</td>\n",
       "      <td>...</td>\n",
       "      <td>...</td>\n",
       "      <td>...</td>\n",
       "      <td>...</td>\n",
       "      <td>...</td>\n",
       "      <td>...</td>\n",
       "      <td>...</td>\n",
       "    </tr>\n",
       "    <tr>\n",
       "      <th>22658</th>\n",
       "      <td>10276</td>\n",
       "      <td>December 24 2017</td>\n",
       "      <td>DOG</td>\n",
       "      <td>CHIWEENIE MIX</td>\n",
       "      <td>7</td>\n",
       "      <td>M</td>\n",
       "      <td>True</td>\n",
       "      <td>Staten Island</td>\n",
       "      <td>10303</td>\n",
       "    </tr>\n",
       "    <tr>\n",
       "      <th>22659</th>\n",
       "      <td>10277</td>\n",
       "      <td>December 24 2017</td>\n",
       "      <td>DOG</td>\n",
       "      <td>DUNKER</td>\n",
       "      <td>5</td>\n",
       "      <td>F</td>\n",
       "      <td>True</td>\n",
       "      <td>Staten Island</td>\n",
       "      <td>10303</td>\n",
       "    </tr>\n",
       "    <tr>\n",
       "      <th>22660</th>\n",
       "      <td>10278</td>\n",
       "      <td>December 21 2017</td>\n",
       "      <td>DOG</td>\n",
       "      <td>Schnauzer, Miniature</td>\n",
       "      <td>10M</td>\n",
       "      <td>M</td>\n",
       "      <td>True</td>\n",
       "      <td>Staten Island</td>\n",
       "      <td>10312</td>\n",
       "    </tr>\n",
       "    <tr>\n",
       "      <th>22661</th>\n",
       "      <td>10279</td>\n",
       "      <td>December 28 2017</td>\n",
       "      <td>DOG</td>\n",
       "      <td>Mixed/Other</td>\n",
       "      <td>NaN</td>\n",
       "      <td>F</td>\n",
       "      <td>False</td>\n",
       "      <td>Staten Island</td>\n",
       "      <td>10308</td>\n",
       "    </tr>\n",
       "    <tr>\n",
       "      <th>22662</th>\n",
       "      <td>10280</td>\n",
       "      <td>December 29 2017</td>\n",
       "      <td>DOG</td>\n",
       "      <td>BOXER/PIT BULL</td>\n",
       "      <td>NaN</td>\n",
       "      <td>M</td>\n",
       "      <td>False</td>\n",
       "      <td>Staten Island</td>\n",
       "      <td>10314</td>\n",
       "    </tr>\n",
       "  </tbody>\n",
       "</table>\n",
       "<p>22663 rows × 9 columns</p>\n",
       "</div>"
      ]
     },
     "execution_count": 202,
     "metadata": {},
     "output_type": "execute_result"
    }
   ],
   "execution_count": 202
  },
  {
   "metadata": {},
   "cell_type": "markdown",
   "source": "EDA",
   "id": "f4330389e1c02654"
  },
  {
   "metadata": {
    "ExecuteTime": {
     "end_time": "2025-10-24T03:28:08.923232Z",
     "start_time": "2025-10-24T03:28:08.915365Z"
    }
   },
   "cell_type": "code",
   "source": [
    "#shape type and all\n",
    "df = df.drop('UniqueID',axis = 1)"
   ],
   "id": "92409563748c8e70",
   "outputs": [],
   "execution_count": 203
  },
  {
   "metadata": {
    "ExecuteTime": {
     "end_time": "2025-10-24T03:28:09.107589Z",
     "start_time": "2025-10-24T03:28:09.096955Z"
    }
   },
   "cell_type": "code",
   "source": [
    "\n",
    "# Define a mapping for common breed variations\n",
    "breed_mapping = {\n",
    "    'pit bull': ['pitbull', 'pit bull terrier'],\n",
    "    'bulldog': ['bull dog', 'bulldog english'],\n",
    "    'german shepherd': ['german shepard', 'alsatian']\n",
    "}\n",
    "\n",
    "def clean_breed_enhanced(breed):\n",
    "    breed = str(breed).strip().lower()\n",
    "    if breed in ['unknown', 'u']:\n",
    "        return 'unknown'\n",
    "    # Remove special characters and standardize separators\n",
    "    breed = re.sub(r'[^a-z\\s]', ' ', breed)\n",
    "    breed = re.sub(r'\\s+', ' ', breed).strip()\n",
    "\n",
    "    # Map to standardized breed name\n",
    "    for standard_name, variants in breed_mapping.items():\n",
    "        if any(variant in breed for variant in variants) or standard_name in breed:\n",
    "            return standard_name\n",
    "    return breed\n",
    "\n",
    "def clean_age_robust(age):\n",
    "    age_str = str(age).strip().lower()\n",
    "    if age_str in ['unknown', 'u', 'nan']:\n",
    "        return None\n",
    "    \n",
    "    # Regex to find number and unit\n",
    "    match = re.search(r'(\\d*\\.?\\d+)\\s*([ym]?)\\s*(?:years?|yrs?|months?|mths?)?', age_str)\n",
    "    if match:\n",
    "        num, unit = float(match.group(1)), match.group(2)\n",
    "        if unit == 'm' or 'month' in age_str:\n",
    "            return round(num / 12, 2)  # Convert months to years\n",
    "        return int(num)  # Return years as integer\n",
    "    return None\n"
   ],
   "id": "e497ee2c090332fd",
   "outputs": [],
   "execution_count": 204
  },
  {
   "metadata": {
    "ExecuteTime": {
     "end_time": "2025-10-23T19:38:14.801724Z",
     "start_time": "2025-10-23T19:38:14.782694Z"
    }
   },
   "cell_type": "markdown",
   "source": [
    "df.dropna(inplace=True)\n",
    "df.drop_duplicates(inplace=True)"
   ],
   "id": "1f6175bb406df691"
  },
  {
   "metadata": {},
   "cell_type": "markdown",
   "source": [
    "# Standardize data formats\n",
    "df['date'] = pd.to_datetime(df['DateOfBite'], errors='coerce')\n",
    "df['Age'] = pd.to_numeric(df['Age'], errors='coerce')\n",
    "df = df[df['Age'] >= 0]  # Validate data integrity\n"
   ],
   "id": "30d447eba0bad44d"
  },
  {
   "metadata": {},
   "cell_type": "markdown",
   "source": [
    "# Clean text columns\n",
    "text_columns = ['Breed', 'other_text_column']\n",
    "for col in text_columns:\n",
    "    df[col] = df[col].str.strip().str.lower()\n"
   ],
   "id": "297f813f8833e656"
  },
  {
   "metadata": {
    "ExecuteTime": {
     "end_time": "2025-10-24T03:28:09.393292Z",
     "start_time": "2025-10-24T03:28:09.255517Z"
    }
   },
   "cell_type": "code",
   "source": "df.to_csv(r\"C:\\Users\\ACER\\Downloads\\archive\\q11.csv\", index=False)",
   "id": "27ea7ecb1bf48422",
   "outputs": [],
   "execution_count": 205
  },
  {
   "metadata": {
    "ExecuteTime": {
     "end_time": "2025-10-24T03:28:09.779576Z",
     "start_time": "2025-10-24T03:28:09.562432Z"
    }
   },
   "cell_type": "code",
   "source": [
    "df['Breed'] = df['Breed'].apply(clean_breed_enhanced)\n",
    "df['Age'] = df['Age'].apply(clean_age_robust)"
   ],
   "id": "246f4a494c7ba477",
   "outputs": [],
   "execution_count": 206
  },
  {
   "metadata": {
    "ExecuteTime": {
     "end_time": "2025-10-24T03:28:10.075221Z",
     "start_time": "2025-10-24T03:28:10.056535Z"
    }
   },
   "cell_type": "code",
   "source": [
    "df['Breed'].value_counts()\n",
    "# df['Age'].value_counts()"
   ],
   "id": "3391cbf4eab9f294",
   "outputs": [
    {
     "data": {
      "text/plain": [
       "Breed\n",
       "pit bull             5457\n",
       "unknown              2349\n",
       "nan                  2218\n",
       "german shepherd       739\n",
       "shih tzu              732\n",
       "                     ... \n",
       "russell terrier         1\n",
       "beagle x basset         1\n",
       "coonhound x             1\n",
       "pit dalmatian mix       1\n",
       "lab coo hound           1\n",
       "Name: count, Length: 1256, dtype: int64"
      ]
     },
     "execution_count": 207,
     "metadata": {},
     "output_type": "execute_result"
    }
   ],
   "execution_count": 207
  },
  {
   "metadata": {
    "ExecuteTime": {
     "end_time": "2025-10-24T03:28:10.329803Z",
     "start_time": "2025-10-24T03:28:10.320274Z"
    }
   },
   "cell_type": "code",
   "source": "df.loc[df['Breed']=='unknown dogs','Breed'] = 'unknown'",
   "id": "479a45a95694be1e",
   "outputs": [],
   "execution_count": 208
  },
  {
   "metadata": {
    "ExecuteTime": {
     "end_time": "2025-10-24T03:28:10.626033Z",
     "start_time": "2025-10-24T03:28:10.602467Z"
    }
   },
   "cell_type": "code",
   "source": [
    "# Convert to numeric (handles string floats)\n",
    "df['Age'] = pd.to_numeric(df['Age'], errors='coerce')\n",
    "\n",
    "# Apply filter with assignment\n",
    "df = df[~df['Age'].isin([2018.00, 2022.00])]\n",
    "\n",
    "# Verify remova\n",
    "df['Age'].unique()"
   ],
   "id": "f38fe6111a2a0a89",
   "outputs": [
    {
     "data": {
      "text/plain": [
       "array([  nan,  4.  ,  5.  ,  3.  ,  7.  ,  6.  ,  8.  , 11.  , 13.  ,\n",
       "        2.  ,  0.83,  1.  ,  0.75,  9.  , 10.  ,  0.67,  0.33, 12.  ,\n",
       "       15.  ,  0.92,  0.58, 14.  ,  0.42,  0.25, 16.  ,  0.5 ,  0.17,\n",
       "       19.  ,  1.08,  1.17, 20.  ,  1.33,  1.75, 17.  , 68.  ,  1.5 ,\n",
       "        1.42,  0.08,  1.25,  1.83, 41.  ,  0.  , 21.  , 18.  ])"
      ]
     },
     "execution_count": 209,
     "metadata": {},
     "output_type": "execute_result"
    }
   ],
   "execution_count": 209
  },
  {
   "metadata": {
    "ExecuteTime": {
     "end_time": "2025-10-24T03:28:10.794387Z",
     "start_time": "2025-10-24T03:28:10.770761Z"
    }
   },
   "cell_type": "code",
   "source": [
    "df = df[~df['ZipCode'].isin(['?'])]\n",
    "df['ZipCode'].unique()"
   ],
   "id": "aea81ef013afc3fb",
   "outputs": [
    {
     "data": {
      "text/plain": [
       "array(['11220', nan, '11224', '11231', '11233', '11235', '11208', '11215',\n",
       "       '11238', '11207', '11205', '11209', '11237', '11217', '11236',\n",
       "       '11234', '11214', '11230', '11211', '11225', '11210', '11223',\n",
       "       '11232', '11226', '11201', '11212', '11216', '11239', '11219',\n",
       "       '11218', '11206', '11229', '11222', '11203', '11204', '11221',\n",
       "       '11249', '11213', '112', '11228', '111208', '112238', '1122',\n",
       "       '112006', '10473', '10456', '10454', '10460', '10459', '10468',\n",
       "       '10465', '10462', '10466', '10472', '10470', '10461', '10471',\n",
       "       '10451', '10467', '10458', '10455', '10464', '10453', '10475',\n",
       "       '10457', '10452', '10469', '10463', '10474', '100467', '10482',\n",
       "       '104', '10987', '10549', '466', '10495', '10039', '10421', '10065',\n",
       "       '10010', '10031', '10029', '10026', '10016', '10003', '10032',\n",
       "       '10128', '10001', '10022', '10021', '10040', '10023', '10011',\n",
       "       '10027', '10024', '10034', '10013', '10009', '10025', '10004',\n",
       "       '10037', '10012', '10035', '10018', '1003', '10028', '10014',\n",
       "       '10036', '10006', '10005', '10030', '10033', '10002', '10075',\n",
       "       '10007', '10017', '10038', '10019', '10044', '10069', '11378',\n",
       "       '10280', '10282', '11385', '10281', '11756', '10516', '11010',\n",
       "       '21904', '12603', '10541', '7059', '11580', '18229', '10701',\n",
       "       '10924', '6880', '8204', '10570', '18360', '10954', '11568',\n",
       "       '10550', '7044', '7205', '11954', '12768', '8742', '8099', '7111',\n",
       "       '11778', '10543', '11590', '18062', '2667', '11803', '18458',\n",
       "       '16847', '7748', '14850', '7104', '11557', '12701', '21217',\n",
       "       '6708', '11782', '34758', '12568', '19958', '13753', '10583',\n",
       "       '10591', '2571', '10710', '11050', '32825', '7002', '7701', '7030',\n",
       "       '12455', '7646', '43447', '2659', '12550', '10803', '81637',\n",
       "       '13806', '7747', '2481', '11552', '10538', '23663', '10573',\n",
       "       '10801', '11040', '11545', '10606', '10552', '12946', '11746',\n",
       "       '10562', '2459', '10510', '7628', '6027', '10506', '8816', '12580',\n",
       "       '7424', '18344', '8034', '10520', '21811', '10523', '18302',\n",
       "       '12729', '26504', '8505', '7740', '8210', '11570', '8008', '10507',\n",
       "       '18460', '13842', '12451', '7856', '7764', '8752', '2015', '8750',\n",
       "       '20833', '11561', '21702', '7072', '12582', '78719', '6279',\n",
       "       '7450', '8501', '10050', '11003', '7093', '20701', '13502',\n",
       "       '12533', '21040', '1118', '12468', '11791', '13905', '10605',\n",
       "       '28269', '20619', '18102', '28729', '12764', '10805', '12816',\n",
       "       '12572', '10553', '12414', '12776', '10544', '10514', '7306',\n",
       "       '7421', '13850', '6078', '7762', '29575', '13492', '7046', '90066',\n",
       "       '7310', '8096', '27587', '11792', '11530', '11793', '12567',\n",
       "       '6704', '8550', '11959', '11968', '17356', '10703', '8402',\n",
       "       '20190', '10566', '12561', '1106', '11718', '10524', '20815',\n",
       "       '6082', '12531', '21727', '2026', '10579', '11421', '8360', '7079',\n",
       "       '7302', '11361', '11355', '11105', '11419', '11379', '11356',\n",
       "       '11375', '11417', '11416', '11004', '11101', '11372', '11414',\n",
       "       '11420', '11418', '11411', '11413', '11415', '11429', '11377',\n",
       "       '11104', '11367', '11102', '11368', '11369', '11691', '11358',\n",
       "       '11374', '11433', '11360', '11354', '11373', '11697', '11357',\n",
       "       '11103', '11412', '11423', '11365', '11692', '11422', '11106',\n",
       "       '11434', '11436', '11435', '11426', '11694', '11362', '11428',\n",
       "       '11109', '11364', '11370', '11432', '11427', '11693', '11005',\n",
       "       '11363', '11366', '11001', '11430', '11371', '11335', '11776',\n",
       "       '10310', '10312', '10309', '10314', '10301', '10303', '10306',\n",
       "       '10302', '10305', '10307', '10304', '10308', '10318', '11314',\n",
       "       '11252', '11027', '11202', '11227', '11243', '48064', '10476',\n",
       "       '10417', '10407', '10646', '10072', '10432', '10062', '10129',\n",
       "       '10285', '01852', '10603', '11581', '10530', '10927', '11967',\n",
       "       '20151', '11733', '06484', '11542', '07930', '10580', '11801',\n",
       "       '30510', '10919', '11743', '07827', '10705', '11576', '07632',\n",
       "       '06840', '08210', '15650', '11714', '07065', '94591', '12754',\n",
       "       '21401', '07307', '07869', '07020', '11758', '07055', '07458',\n",
       "       '77780', '23464', '13783', '12304', '19002', '10990', '07024',\n",
       "       '20832', '08106', '08501', '07828', '12601', '12435', '21043',\n",
       "       '11563', '10704', '06831', '08402', '02631', '10708', '21113',\n",
       "       '84764', '08247', '07751', '07723', '14068', '02301', '23188',\n",
       "       '10607', '08087', '11510', '11875', '11951', '12589', '07950',\n",
       "       '21842', '11033', '07830', '18073', '07405', '06896', '23221',\n",
       "       '11784', '15005', '07652', '08221', '90027', '19125', '08831',\n",
       "       '06880', '11710', '11560', '01013', '06518', '07030', '08098',\n",
       "       '13740', '12446', '10548', '11706', '07403', '12564', '11772',\n",
       "       '07726', '06460', '02633', '18301', '07036', '13903', '10512',\n",
       "       '06877', '10522', '12581', '18103', '07871', '13731', '13865',\n",
       "       '12734', '18466', '08816', '01720', '10533', '28468', '11020',\n",
       "       '13045', '03106', '10921', '10940', '19426'], dtype=object)"
      ]
     },
     "execution_count": 210,
     "metadata": {},
     "output_type": "execute_result"
    }
   ],
   "execution_count": 210
  },
  {
   "metadata": {
    "ExecuteTime": {
     "end_time": "2025-10-24T03:28:10.984251Z",
     "start_time": "2025-10-24T03:28:10.925474Z"
    }
   },
   "cell_type": "code",
   "source": [
    "df['DateOfBite'] = pd.to_datetime(df['DateOfBite'],errors = 'coerce')\n",
    "df['Breed'] = df['Breed'].astype(str,errors = 'ignore')\n",
    "df['Age'] = pd.to_numeric(df['Age'],errors = 'coerce')\n",
    "df['ZipCode'] = pd.to_numeric(df['ZipCode'],errors = 'coerce')"
   ],
   "id": "35005da027523417",
   "outputs": [],
   "execution_count": 211
  },
  {
   "metadata": {
    "ExecuteTime": {
     "end_time": "2025-10-24T03:28:11.074898Z",
     "start_time": "2025-10-24T03:28:11.070800Z"
    }
   },
   "cell_type": "code",
   "source": "# df.to_csv(r'C:\\Users\\ACER\\Downloads\\archive\\q12.csv')",
   "id": "69ed851ccac3b5c2",
   "outputs": [],
   "execution_count": 212
  },
  {
   "metadata": {
    "ExecuteTime": {
     "end_time": "2025-10-24T03:28:11.219812Z",
     "start_time": "2025-10-24T03:28:11.201249Z"
    }
   },
   "cell_type": "code",
   "source": "df",
   "id": "a0082fe4fdab143",
   "outputs": [
    {
     "data": {
      "text/plain": [
       "      DateOfBite Species                Breed   Age Gender  SpayNeuter  \\\n",
       "0     2018-01-01     DOG              unknown   NaN      U       False   \n",
       "1     2018-01-04     DOG              unknown   NaN      U       False   \n",
       "2     2018-01-06     DOG             pit bull   NaN      U       False   \n",
       "3     2018-01-08     DOG          mixed other  4.00      M       False   \n",
       "4     2018-01-09     DOG             pit bull   NaN      U       False   \n",
       "...          ...     ...                  ...   ...    ...         ...   \n",
       "22658 2017-12-24     DOG        chiweenie mix  7.00      M        True   \n",
       "22659 2017-12-24     DOG               dunker  5.00      F        True   \n",
       "22660 2017-12-21     DOG  schnauzer miniature  0.83      M        True   \n",
       "22661 2017-12-28     DOG          mixed other   NaN      F       False   \n",
       "22662 2017-12-29     DOG             pit bull   NaN      M       False   \n",
       "\n",
       "             Borough  ZipCode  \n",
       "0           Brooklyn  11220.0  \n",
       "1           Brooklyn      NaN  \n",
       "2           Brooklyn  11224.0  \n",
       "3           Brooklyn  11231.0  \n",
       "4           Brooklyn  11224.0  \n",
       "...              ...      ...  \n",
       "22658  Staten Island  10303.0  \n",
       "22659  Staten Island  10303.0  \n",
       "22660  Staten Island  10312.0  \n",
       "22661  Staten Island  10308.0  \n",
       "22662  Staten Island  10314.0  \n",
       "\n",
       "[22634 rows x 8 columns]"
      ],
      "text/html": [
       "<div>\n",
       "<style scoped>\n",
       "    .dataframe tbody tr th:only-of-type {\n",
       "        vertical-align: middle;\n",
       "    }\n",
       "\n",
       "    .dataframe tbody tr th {\n",
       "        vertical-align: top;\n",
       "    }\n",
       "\n",
       "    .dataframe thead th {\n",
       "        text-align: right;\n",
       "    }\n",
       "</style>\n",
       "<table border=\"1\" class=\"dataframe\">\n",
       "  <thead>\n",
       "    <tr style=\"text-align: right;\">\n",
       "      <th></th>\n",
       "      <th>DateOfBite</th>\n",
       "      <th>Species</th>\n",
       "      <th>Breed</th>\n",
       "      <th>Age</th>\n",
       "      <th>Gender</th>\n",
       "      <th>SpayNeuter</th>\n",
       "      <th>Borough</th>\n",
       "      <th>ZipCode</th>\n",
       "    </tr>\n",
       "  </thead>\n",
       "  <tbody>\n",
       "    <tr>\n",
       "      <th>0</th>\n",
       "      <td>2018-01-01</td>\n",
       "      <td>DOG</td>\n",
       "      <td>unknown</td>\n",
       "      <td>NaN</td>\n",
       "      <td>U</td>\n",
       "      <td>False</td>\n",
       "      <td>Brooklyn</td>\n",
       "      <td>11220.0</td>\n",
       "    </tr>\n",
       "    <tr>\n",
       "      <th>1</th>\n",
       "      <td>2018-01-04</td>\n",
       "      <td>DOG</td>\n",
       "      <td>unknown</td>\n",
       "      <td>NaN</td>\n",
       "      <td>U</td>\n",
       "      <td>False</td>\n",
       "      <td>Brooklyn</td>\n",
       "      <td>NaN</td>\n",
       "    </tr>\n",
       "    <tr>\n",
       "      <th>2</th>\n",
       "      <td>2018-01-06</td>\n",
       "      <td>DOG</td>\n",
       "      <td>pit bull</td>\n",
       "      <td>NaN</td>\n",
       "      <td>U</td>\n",
       "      <td>False</td>\n",
       "      <td>Brooklyn</td>\n",
       "      <td>11224.0</td>\n",
       "    </tr>\n",
       "    <tr>\n",
       "      <th>3</th>\n",
       "      <td>2018-01-08</td>\n",
       "      <td>DOG</td>\n",
       "      <td>mixed other</td>\n",
       "      <td>4.00</td>\n",
       "      <td>M</td>\n",
       "      <td>False</td>\n",
       "      <td>Brooklyn</td>\n",
       "      <td>11231.0</td>\n",
       "    </tr>\n",
       "    <tr>\n",
       "      <th>4</th>\n",
       "      <td>2018-01-09</td>\n",
       "      <td>DOG</td>\n",
       "      <td>pit bull</td>\n",
       "      <td>NaN</td>\n",
       "      <td>U</td>\n",
       "      <td>False</td>\n",
       "      <td>Brooklyn</td>\n",
       "      <td>11224.0</td>\n",
       "    </tr>\n",
       "    <tr>\n",
       "      <th>...</th>\n",
       "      <td>...</td>\n",
       "      <td>...</td>\n",
       "      <td>...</td>\n",
       "      <td>...</td>\n",
       "      <td>...</td>\n",
       "      <td>...</td>\n",
       "      <td>...</td>\n",
       "      <td>...</td>\n",
       "    </tr>\n",
       "    <tr>\n",
       "      <th>22658</th>\n",
       "      <td>2017-12-24</td>\n",
       "      <td>DOG</td>\n",
       "      <td>chiweenie mix</td>\n",
       "      <td>7.00</td>\n",
       "      <td>M</td>\n",
       "      <td>True</td>\n",
       "      <td>Staten Island</td>\n",
       "      <td>10303.0</td>\n",
       "    </tr>\n",
       "    <tr>\n",
       "      <th>22659</th>\n",
       "      <td>2017-12-24</td>\n",
       "      <td>DOG</td>\n",
       "      <td>dunker</td>\n",
       "      <td>5.00</td>\n",
       "      <td>F</td>\n",
       "      <td>True</td>\n",
       "      <td>Staten Island</td>\n",
       "      <td>10303.0</td>\n",
       "    </tr>\n",
       "    <tr>\n",
       "      <th>22660</th>\n",
       "      <td>2017-12-21</td>\n",
       "      <td>DOG</td>\n",
       "      <td>schnauzer miniature</td>\n",
       "      <td>0.83</td>\n",
       "      <td>M</td>\n",
       "      <td>True</td>\n",
       "      <td>Staten Island</td>\n",
       "      <td>10312.0</td>\n",
       "    </tr>\n",
       "    <tr>\n",
       "      <th>22661</th>\n",
       "      <td>2017-12-28</td>\n",
       "      <td>DOG</td>\n",
       "      <td>mixed other</td>\n",
       "      <td>NaN</td>\n",
       "      <td>F</td>\n",
       "      <td>False</td>\n",
       "      <td>Staten Island</td>\n",
       "      <td>10308.0</td>\n",
       "    </tr>\n",
       "    <tr>\n",
       "      <th>22662</th>\n",
       "      <td>2017-12-29</td>\n",
       "      <td>DOG</td>\n",
       "      <td>pit bull</td>\n",
       "      <td>NaN</td>\n",
       "      <td>M</td>\n",
       "      <td>False</td>\n",
       "      <td>Staten Island</td>\n",
       "      <td>10314.0</td>\n",
       "    </tr>\n",
       "  </tbody>\n",
       "</table>\n",
       "<p>22634 rows × 8 columns</p>\n",
       "</div>"
      ]
     },
     "execution_count": 213,
     "metadata": {},
     "output_type": "execute_result"
    }
   ],
   "execution_count": 213
  },
  {
   "metadata": {
    "ExecuteTime": {
     "end_time": "2025-10-24T03:28:11.352553Z",
     "start_time": "2025-10-24T03:28:11.317676Z"
    }
   },
   "cell_type": "code",
   "source": [
    "df.drop_duplicates(inplace=True)\n",
    "# df.dropna(inplace=True)\n",
    "# df.loc[df['Age'].isna(),'Age'] = df['Age'].median()\n",
    "# df.loc[df['ZipCode'].isna(),'ZipCode'] = df['ZipCode'].median()\n",
    "imputer = SimpleImputer(strategy = 'median')\n",
    "df[['Age','ZipCode']] = imputer.fit_transform(df[['Age','ZipCode']])"
   ],
   "id": "ade2e43667d9ee40",
   "outputs": [],
   "execution_count": 214
  },
  {
   "metadata": {
    "ExecuteTime": {
     "end_time": "2025-10-24T03:28:18.737328Z",
     "start_time": "2025-10-24T03:28:18.727447Z"
    }
   },
   "cell_type": "code",
   "source": [
    "df['Age'].isna().sum()\n",
    "df['ZipCode'].isna().sum()"
   ],
   "id": "ef202ea03ae9e728",
   "outputs": [
    {
     "data": {
      "text/plain": [
       "np.int64(0)"
      ]
     },
     "execution_count": 216,
     "metadata": {},
     "output_type": "execute_result"
    }
   ],
   "execution_count": 216
  },
  {
   "metadata": {
    "ExecuteTime": {
     "end_time": "2025-10-24T03:43:33.428352Z",
     "start_time": "2025-10-24T03:43:33.410703Z"
    }
   },
   "cell_type": "code",
   "source": [
    "#univariate, bivariate\n",
    "df['Age'].var(),df['ZipCode'].cov(df['Age']),df['Age'].std(),df['ZipCode'].corr(df['Age'])\n"
   ],
   "id": "b002bb5abee574dc",
   "outputs": [
    {
     "data": {
      "text/plain": [
       "(np.float64(6.091227905912257),\n",
       " np.float64(-65.38881662682122),\n",
       " np.float64(2.468041309604087),\n",
       " np.float64(-0.012683574581275125))"
      ]
     },
     "execution_count": 219,
     "metadata": {},
     "output_type": "execute_result"
    }
   ],
   "execution_count": 219
  },
  {
   "metadata": {
    "ExecuteTime": {
     "end_time": "2025-10-24T03:47:45.571139Z",
     "start_time": "2025-10-24T03:47:45.556760Z"
    }
   },
   "cell_type": "code",
   "source": [
    "def iqr_outlier_detection(series):\n",
    "    \"\"\"Detect outliers using IQR method\"\"\"\n",
    "\n",
    "    # Calculate quartiles and IQR\n",
    "    Q1 = series.quantile(0.25)\n",
    "    Q3 = series.quantile(0.75)\n",
    "    IQR = Q3 - Q1\n",
    "\n",
    "    # Define outlier boundaries\n",
    "    lower_bound = Q1 - 1.5 * IQR\n",
    "    upper_bound = Q3 + 1.5 * IQR\n",
    "\n",
    "    # Identify outliers\n",
    "    outliers = series[(series < lower_bound) | (series > upper_bound)]\n",
    "\n",
    "    return {\n",
    "        'Q1': Q1,\n",
    "        'Q3': Q3,\n",
    "        'IQR': IQR,\n",
    "        'lower_bound': lower_bound,\n",
    "        'upper_bound': upper_bound,\n",
    "        'outliers': outliers,\n",
    "        'outlier_count': len(outliers),\n",
    "        'outlier_percentage': (len(outliers) / len(series)) * 100\n",
    "    }\n",
    "data = pd.Series([10, 12, 12, 13, 12, 11, 14, 13, 15, 10, 100])  # 100 is outlier\n",
    "result = iqr_outlier_detection(data)\n",
    "result"
   ],
   "id": "a4b91528e0109f50",
   "outputs": [
    {
     "data": {
      "text/plain": [
       "{'Q1': np.float64(11.5),\n",
       " 'Q3': np.float64(13.5),\n",
       " 'IQR': np.float64(2.0),\n",
       " 'lower_bound': np.float64(8.5),\n",
       " 'upper_bound': np.float64(16.5),\n",
       " 'outliers': 10    100\n",
       " dtype: int64,\n",
       " 'outlier_count': 1,\n",
       " 'outlier_percentage': 9.090909090909092}"
      ]
     },
     "execution_count": 221,
     "metadata": {},
     "output_type": "execute_result"
    }
   ],
   "execution_count": 221
  },
  {
   "metadata": {
    "ExecuteTime": {
     "end_time": "2025-10-24T03:57:31.668231Z",
     "start_time": "2025-10-24T03:57:31.505984Z"
    }
   },
   "cell_type": "code",
   "source": "df.to_csv(r'C:\\Users\\ACER\\Downloads\\archive\\q14.csv',index = False)",
   "id": "b3ee10a9e2ead5da",
   "outputs": [],
   "execution_count": 226
  },
  {
   "metadata": {
    "ExecuteTime": {
     "end_time": "2025-10-24T04:06:39.346862Z",
     "start_time": "2025-10-24T04:06:39.137432Z"
    }
   },
   "cell_type": "code",
   "source": [
    "#boxplot\n",
    "# Ensure 'DateOfBite' is in datetime format first\n",
    "df['DateOfBite'] = pd.to_datetime(df['DateOfBite'], errors='coerce')\n",
    "\n",
    "# Now set it as the index and sort\n",
    "df.set_index('DateOfBite', inplace=True)\n",
    "df.sort_index(inplace=True)\n",
    "df.set_index('DateOfBite')['01-01-2018':'18-01-2018']['Breed'].plot(kind = 'bar')"
   ],
   "id": "3476530dc64336ac",
   "outputs": [
    {
     "ename": "KeyError",
     "evalue": "'DateOfBite'",
     "output_type": "error",
     "traceback": [
      "\u001B[31m---------------------------------------------------------------------------\u001B[39m",
      "\u001B[31mKeyError\u001B[39m                                  Traceback (most recent call last)",
      "\u001B[36mFile \u001B[39m\u001B[32m~\\DAIAugust2025\\DA\\Pankaj\\.venv\\Lib\\site-packages\\pandas\\core\\indexes\\base.py:3812\u001B[39m, in \u001B[36mIndex.get_loc\u001B[39m\u001B[34m(self, key)\u001B[39m\n\u001B[32m   3811\u001B[39m \u001B[38;5;28;01mtry\u001B[39;00m:\n\u001B[32m-> \u001B[39m\u001B[32m3812\u001B[39m     \u001B[38;5;28;01mreturn\u001B[39;00m \u001B[38;5;28;43mself\u001B[39;49m\u001B[43m.\u001B[49m\u001B[43m_engine\u001B[49m\u001B[43m.\u001B[49m\u001B[43mget_loc\u001B[49m\u001B[43m(\u001B[49m\u001B[43mcasted_key\u001B[49m\u001B[43m)\u001B[49m\n\u001B[32m   3813\u001B[39m \u001B[38;5;28;01mexcept\u001B[39;00m \u001B[38;5;167;01mKeyError\u001B[39;00m \u001B[38;5;28;01mas\u001B[39;00m err:\n",
      "\u001B[36mFile \u001B[39m\u001B[32mpandas/_libs/index.pyx:167\u001B[39m, in \u001B[36mpandas._libs.index.IndexEngine.get_loc\u001B[39m\u001B[34m()\u001B[39m\n",
      "\u001B[36mFile \u001B[39m\u001B[32mpandas/_libs/index.pyx:196\u001B[39m, in \u001B[36mpandas._libs.index.IndexEngine.get_loc\u001B[39m\u001B[34m()\u001B[39m\n",
      "\u001B[36mFile \u001B[39m\u001B[32mpandas/_libs/hashtable_class_helper.pxi:7088\u001B[39m, in \u001B[36mpandas._libs.hashtable.PyObjectHashTable.get_item\u001B[39m\u001B[34m()\u001B[39m\n",
      "\u001B[36mFile \u001B[39m\u001B[32mpandas/_libs/hashtable_class_helper.pxi:7096\u001B[39m, in \u001B[36mpandas._libs.hashtable.PyObjectHashTable.get_item\u001B[39m\u001B[34m()\u001B[39m\n",
      "\u001B[31mKeyError\u001B[39m: 'DateOfBite'",
      "\nThe above exception was the direct cause of the following exception:\n",
      "\u001B[31mKeyError\u001B[39m                                  Traceback (most recent call last)",
      "\u001B[36mCell\u001B[39m\u001B[36m \u001B[39m\u001B[32mIn[231]\u001B[39m\u001B[32m, line 3\u001B[39m\n\u001B[32m      1\u001B[39m \u001B[38;5;66;03m#boxplot\u001B[39;00m\n\u001B[32m      2\u001B[39m \u001B[38;5;66;03m# Ensure 'DateOfBite' is in datetime format first\u001B[39;00m\n\u001B[32m----> \u001B[39m\u001B[32m3\u001B[39m df[\u001B[33m'\u001B[39m\u001B[33mDateOfBite\u001B[39m\u001B[33m'\u001B[39m] = pd.to_datetime(\u001B[43mdf\u001B[49m\u001B[43m[\u001B[49m\u001B[33;43m'\u001B[39;49m\u001B[33;43mDateOfBite\u001B[39;49m\u001B[33;43m'\u001B[39;49m\u001B[43m]\u001B[49m, errors=\u001B[33m'\u001B[39m\u001B[33mcoerce\u001B[39m\u001B[33m'\u001B[39m)\n\u001B[32m      5\u001B[39m \u001B[38;5;66;03m# Now set it as the index and sort\u001B[39;00m\n\u001B[32m      6\u001B[39m df.set_index(\u001B[33m'\u001B[39m\u001B[33mDateOfBite\u001B[39m\u001B[33m'\u001B[39m, inplace=\u001B[38;5;28;01mTrue\u001B[39;00m)\n",
      "\u001B[36mFile \u001B[39m\u001B[32m~\\DAIAugust2025\\DA\\Pankaj\\.venv\\Lib\\site-packages\\pandas\\core\\frame.py:4113\u001B[39m, in \u001B[36mDataFrame.__getitem__\u001B[39m\u001B[34m(self, key)\u001B[39m\n\u001B[32m   4111\u001B[39m \u001B[38;5;28;01mif\u001B[39;00m \u001B[38;5;28mself\u001B[39m.columns.nlevels > \u001B[32m1\u001B[39m:\n\u001B[32m   4112\u001B[39m     \u001B[38;5;28;01mreturn\u001B[39;00m \u001B[38;5;28mself\u001B[39m._getitem_multilevel(key)\n\u001B[32m-> \u001B[39m\u001B[32m4113\u001B[39m indexer = \u001B[38;5;28;43mself\u001B[39;49m\u001B[43m.\u001B[49m\u001B[43mcolumns\u001B[49m\u001B[43m.\u001B[49m\u001B[43mget_loc\u001B[49m\u001B[43m(\u001B[49m\u001B[43mkey\u001B[49m\u001B[43m)\u001B[49m\n\u001B[32m   4114\u001B[39m \u001B[38;5;28;01mif\u001B[39;00m is_integer(indexer):\n\u001B[32m   4115\u001B[39m     indexer = [indexer]\n",
      "\u001B[36mFile \u001B[39m\u001B[32m~\\DAIAugust2025\\DA\\Pankaj\\.venv\\Lib\\site-packages\\pandas\\core\\indexes\\base.py:3819\u001B[39m, in \u001B[36mIndex.get_loc\u001B[39m\u001B[34m(self, key)\u001B[39m\n\u001B[32m   3814\u001B[39m     \u001B[38;5;28;01mif\u001B[39;00m \u001B[38;5;28misinstance\u001B[39m(casted_key, \u001B[38;5;28mslice\u001B[39m) \u001B[38;5;129;01mor\u001B[39;00m (\n\u001B[32m   3815\u001B[39m         \u001B[38;5;28misinstance\u001B[39m(casted_key, abc.Iterable)\n\u001B[32m   3816\u001B[39m         \u001B[38;5;129;01mand\u001B[39;00m \u001B[38;5;28many\u001B[39m(\u001B[38;5;28misinstance\u001B[39m(x, \u001B[38;5;28mslice\u001B[39m) \u001B[38;5;28;01mfor\u001B[39;00m x \u001B[38;5;129;01min\u001B[39;00m casted_key)\n\u001B[32m   3817\u001B[39m     ):\n\u001B[32m   3818\u001B[39m         \u001B[38;5;28;01mraise\u001B[39;00m InvalidIndexError(key)\n\u001B[32m-> \u001B[39m\u001B[32m3819\u001B[39m     \u001B[38;5;28;01mraise\u001B[39;00m \u001B[38;5;167;01mKeyError\u001B[39;00m(key) \u001B[38;5;28;01mfrom\u001B[39;00m\u001B[38;5;250m \u001B[39m\u001B[34;01merr\u001B[39;00m\n\u001B[32m   3820\u001B[39m \u001B[38;5;28;01mexcept\u001B[39;00m \u001B[38;5;167;01mTypeError\u001B[39;00m:\n\u001B[32m   3821\u001B[39m     \u001B[38;5;66;03m# If we have a listlike key, _check_indexing_error will raise\u001B[39;00m\n\u001B[32m   3822\u001B[39m     \u001B[38;5;66;03m#  InvalidIndexError. Otherwise we fall through and re-raise\u001B[39;00m\n\u001B[32m   3823\u001B[39m     \u001B[38;5;66;03m#  the TypeError.\u001B[39;00m\n\u001B[32m   3824\u001B[39m     \u001B[38;5;28mself\u001B[39m._check_indexing_error(key)\n",
      "\u001B[31mKeyError\u001B[39m: 'DateOfBite'"
     ]
    }
   ],
   "execution_count": 231
  },
  {
   "metadata": {
    "ExecuteTime": {
     "end_time": "2025-10-24T04:32:07.259153Z",
     "start_time": "2025-10-24T04:32:07.175384Z"
    }
   },
   "cell_type": "code",
   "source": [
    "x = df[['experience','age','education','projects']]\n",
    "y = df['salary']\n",
    "train_x,test_x,train_y,test_y = train_test_split(x,y,test_size =0.2,random_state = 42)\n",
    "lr = LinearRegression()\n",
    "lr.fit(train_x,train_y)\n",
    "pred = lr.predict(test_x)\n",
    "\n",
    "mse = mean_squared_error(test_y, pred)\n",
    "rmse = np.sqrt(mse)\n",
    "mae = mean_absolute_error(test_y, pred)\n",
    "r2 = r2_score(test_y, pred)\n",
    "print(mse,rmse,mae,r2)\n",
    "\n",
    "classification_report(test_y,pred)"
   ],
   "id": "7bacfea557709702",
   "outputs": [
    {
     "ename": "KeyError",
     "evalue": "\"None of [Index(['experience', 'age', 'education', 'projects'], dtype='object')] are in the [columns]\"",
     "output_type": "error",
     "traceback": [
      "\u001B[31m---------------------------------------------------------------------------\u001B[39m",
      "\u001B[31mKeyError\u001B[39m                                  Traceback (most recent call last)",
      "\u001B[36mCell\u001B[39m\u001B[36m \u001B[39m\u001B[32mIn[232]\u001B[39m\u001B[32m, line 1\u001B[39m\n\u001B[32m----> \u001B[39m\u001B[32m1\u001B[39m x = \u001B[43mdf\u001B[49m\u001B[43m[\u001B[49m\u001B[43m[\u001B[49m\u001B[33;43m'\u001B[39;49m\u001B[33;43mexperience\u001B[39;49m\u001B[33;43m'\u001B[39;49m\u001B[43m,\u001B[49m\u001B[33;43m'\u001B[39;49m\u001B[33;43mage\u001B[39;49m\u001B[33;43m'\u001B[39;49m\u001B[43m,\u001B[49m\u001B[33;43m'\u001B[39;49m\u001B[33;43meducation\u001B[39;49m\u001B[33;43m'\u001B[39;49m\u001B[43m,\u001B[49m\u001B[33;43m'\u001B[39;49m\u001B[33;43mprojects\u001B[39;49m\u001B[33;43m'\u001B[39;49m\u001B[43m]\u001B[49m\u001B[43m]\u001B[49m\n\u001B[32m      2\u001B[39m y = df[\u001B[33m'\u001B[39m\u001B[33msalary\u001B[39m\u001B[33m'\u001B[39m]\n\u001B[32m      3\u001B[39m train_x,test_x,train_y,test_y = train_test_split(x,y,test_size =\u001B[32m0.2\u001B[39m,random_state = \u001B[32m42\u001B[39m)\n",
      "\u001B[36mFile \u001B[39m\u001B[32m~\\DAIAugust2025\\DA\\Pankaj\\.venv\\Lib\\site-packages\\pandas\\core\\frame.py:4119\u001B[39m, in \u001B[36mDataFrame.__getitem__\u001B[39m\u001B[34m(self, key)\u001B[39m\n\u001B[32m   4117\u001B[39m     \u001B[38;5;28;01mif\u001B[39;00m is_iterator(key):\n\u001B[32m   4118\u001B[39m         key = \u001B[38;5;28mlist\u001B[39m(key)\n\u001B[32m-> \u001B[39m\u001B[32m4119\u001B[39m     indexer = \u001B[38;5;28;43mself\u001B[39;49m\u001B[43m.\u001B[49m\u001B[43mcolumns\u001B[49m\u001B[43m.\u001B[49m\u001B[43m_get_indexer_strict\u001B[49m\u001B[43m(\u001B[49m\u001B[43mkey\u001B[49m\u001B[43m,\u001B[49m\u001B[43m \u001B[49m\u001B[33;43m\"\u001B[39;49m\u001B[33;43mcolumns\u001B[39;49m\u001B[33;43m\"\u001B[39;49m\u001B[43m)\u001B[49m[\u001B[32m1\u001B[39m]\n\u001B[32m   4121\u001B[39m \u001B[38;5;66;03m# take() does not accept boolean indexers\u001B[39;00m\n\u001B[32m   4122\u001B[39m \u001B[38;5;28;01mif\u001B[39;00m \u001B[38;5;28mgetattr\u001B[39m(indexer, \u001B[33m\"\u001B[39m\u001B[33mdtype\u001B[39m\u001B[33m\"\u001B[39m, \u001B[38;5;28;01mNone\u001B[39;00m) == \u001B[38;5;28mbool\u001B[39m:\n",
      "\u001B[36mFile \u001B[39m\u001B[32m~\\DAIAugust2025\\DA\\Pankaj\\.venv\\Lib\\site-packages\\pandas\\core\\indexes\\base.py:6212\u001B[39m, in \u001B[36mIndex._get_indexer_strict\u001B[39m\u001B[34m(self, key, axis_name)\u001B[39m\n\u001B[32m   6209\u001B[39m \u001B[38;5;28;01melse\u001B[39;00m:\n\u001B[32m   6210\u001B[39m     keyarr, indexer, new_indexer = \u001B[38;5;28mself\u001B[39m._reindex_non_unique(keyarr)\n\u001B[32m-> \u001B[39m\u001B[32m6212\u001B[39m \u001B[38;5;28;43mself\u001B[39;49m\u001B[43m.\u001B[49m\u001B[43m_raise_if_missing\u001B[49m\u001B[43m(\u001B[49m\u001B[43mkeyarr\u001B[49m\u001B[43m,\u001B[49m\u001B[43m \u001B[49m\u001B[43mindexer\u001B[49m\u001B[43m,\u001B[49m\u001B[43m \u001B[49m\u001B[43maxis_name\u001B[49m\u001B[43m)\u001B[49m\n\u001B[32m   6214\u001B[39m keyarr = \u001B[38;5;28mself\u001B[39m.take(indexer)\n\u001B[32m   6215\u001B[39m \u001B[38;5;28;01mif\u001B[39;00m \u001B[38;5;28misinstance\u001B[39m(key, Index):\n\u001B[32m   6216\u001B[39m     \u001B[38;5;66;03m# GH 42790 - Preserve name from an Index\u001B[39;00m\n",
      "\u001B[36mFile \u001B[39m\u001B[32m~\\DAIAugust2025\\DA\\Pankaj\\.venv\\Lib\\site-packages\\pandas\\core\\indexes\\base.py:6261\u001B[39m, in \u001B[36mIndex._raise_if_missing\u001B[39m\u001B[34m(self, key, indexer, axis_name)\u001B[39m\n\u001B[32m   6259\u001B[39m \u001B[38;5;28;01mif\u001B[39;00m nmissing:\n\u001B[32m   6260\u001B[39m     \u001B[38;5;28;01mif\u001B[39;00m nmissing == \u001B[38;5;28mlen\u001B[39m(indexer):\n\u001B[32m-> \u001B[39m\u001B[32m6261\u001B[39m         \u001B[38;5;28;01mraise\u001B[39;00m \u001B[38;5;167;01mKeyError\u001B[39;00m(\u001B[33mf\u001B[39m\u001B[33m\"\u001B[39m\u001B[33mNone of [\u001B[39m\u001B[38;5;132;01m{\u001B[39;00mkey\u001B[38;5;132;01m}\u001B[39;00m\u001B[33m] are in the [\u001B[39m\u001B[38;5;132;01m{\u001B[39;00maxis_name\u001B[38;5;132;01m}\u001B[39;00m\u001B[33m]\u001B[39m\u001B[33m\"\u001B[39m)\n\u001B[32m   6263\u001B[39m     not_found = \u001B[38;5;28mlist\u001B[39m(ensure_index(key)[missing_mask.nonzero()[\u001B[32m0\u001B[39m]].unique())\n\u001B[32m   6264\u001B[39m     \u001B[38;5;28;01mraise\u001B[39;00m \u001B[38;5;167;01mKeyError\u001B[39;00m(\u001B[33mf\u001B[39m\u001B[33m\"\u001B[39m\u001B[38;5;132;01m{\u001B[39;00mnot_found\u001B[38;5;132;01m}\u001B[39;00m\u001B[33m not in index\u001B[39m\u001B[33m\"\u001B[39m)\n",
      "\u001B[31mKeyError\u001B[39m: \"None of [Index(['experience', 'age', 'education', 'projects'], dtype='object')] are in the [columns]\""
     ]
    }
   ],
   "execution_count": 232
  },
  {
   "metadata": {
    "ExecuteTime": {
     "end_time": "2025-10-24T04:51:52.207956Z",
     "start_time": "2025-10-24T04:51:52.185291Z"
    }
   },
   "cell_type": "code",
   "source": [
    "import pandas as pd\n",
    "\n",
    "# Sample data with target\n",
    "df = pd.DataFrame({\n",
    "    'category': ['A', 'B', 'A', 'C', 'B', 'C', 'A'],\n",
    "    'target': [10, 20, 15, 5, 25, 8, 12]\n",
    "})\n",
    "\n",
    "# Target encoding\n",
    "target_means = df.groupby('category')['target'].mean()\n",
    "df['category_encoded'] = df['category'].map(target_means)\n",
    "print(df)\n"
   ],
   "id": "c6dcd16192b72782",
   "outputs": [
    {
     "name": "stdout",
     "output_type": "stream",
     "text": [
      "  category  target  category_encoded\n",
      "0        A      10         12.333333\n",
      "1        B      20         22.500000\n",
      "2        A      15         12.333333\n",
      "3        C       5          6.500000\n",
      "4        B      25         22.500000\n",
      "5        C       8          6.500000\n",
      "6        A      12         12.333333\n"
     ]
    }
   ],
   "execution_count": 233
  },
  {
   "metadata": {},
   "cell_type": "code",
   "outputs": [],
   "execution_count": null,
   "source": "",
   "id": "6b27f2cc7123e351"
  }
 ],
 "metadata": {
  "kernelspec": {
   "display_name": "Python 3",
   "language": "python",
   "name": "python3"
  },
  "language_info": {
   "codemirror_mode": {
    "name": "ipython",
    "version": 2
   },
   "file_extension": ".py",
   "mimetype": "text/x-python",
   "name": "python",
   "nbconvert_exporter": "python",
   "pygments_lexer": "ipython2",
   "version": "2.7.6"
  }
 },
 "nbformat": 4,
 "nbformat_minor": 5
}
