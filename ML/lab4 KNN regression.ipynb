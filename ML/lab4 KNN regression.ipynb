{
 "cells": [
  {
   "cell_type": "code",
   "id": "initial_id",
   "metadata": {
    "collapsed": true,
    "ExecuteTime": {
     "end_time": "2025-10-27T11:38:11.959816Z",
     "start_time": "2025-10-27T11:38:11.955176Z"
    }
   },
   "source": [
    "import pandas as pd\n",
    "import numpy as np\n",
    "from sklearn.compose import make_column_transformer\n",
    "from sklearn.neighbors import KNeighborsClassifier,KNeighborsRegressor\n",
    "from sklearn.preprocessing import StandardScaler,MinMaxScaler,LabelEncoder"
   ],
   "outputs": [],
   "execution_count": 107
  },
  {
   "metadata": {
    "ExecuteTime": {
     "end_time": "2025-10-27T11:38:11.988124Z",
     "start_time": "2025-10-27T11:38:11.979008Z"
    }
   },
   "cell_type": "code",
   "source": "df = pd.read_csv(r\"D:\\Datasets\\Housing.csv\")",
   "id": "13a8096f0d6c9fb8",
   "outputs": [],
   "execution_count": 108
  },
  {
   "metadata": {
    "ExecuteTime": {
     "end_time": "2025-10-27T11:38:12.054222Z",
     "start_time": "2025-10-27T11:38:12.028508Z"
    }
   },
   "cell_type": "code",
   "source": "df",
   "id": "3c9ee0232465cbb",
   "outputs": [
    {
     "data": {
      "text/plain": [
       "        price  lotsize  bedrooms  bathrms  stories driveway recroom fullbase  \\\n",
       "0     42000.0     5850         3        1        2      yes      no      yes   \n",
       "1     38500.0     4000         2        1        1      yes      no       no   \n",
       "2     49500.0     3060         3        1        1      yes      no       no   \n",
       "3     60500.0     6650         3        1        2      yes     yes       no   \n",
       "4     61000.0     6360         2        1        1      yes      no       no   \n",
       "..        ...      ...       ...      ...      ...      ...     ...      ...   \n",
       "541   91500.0     4800         3        2        4      yes     yes       no   \n",
       "542   94000.0     6000         3        2        4      yes      no       no   \n",
       "543  103000.0     6000         3        2        4      yes     yes       no   \n",
       "544  105000.0     6000         3        2        2      yes     yes       no   \n",
       "545  105000.0     6000         3        1        2      yes      no       no   \n",
       "\n",
       "    gashw airco  garagepl prefarea  \n",
       "0      no    no         1       no  \n",
       "1      no    no         0       no  \n",
       "2      no    no         0       no  \n",
       "3      no    no         0       no  \n",
       "4      no    no         0       no  \n",
       "..    ...   ...       ...      ...  \n",
       "541    no   yes         0       no  \n",
       "542    no   yes         0       no  \n",
       "543    no   yes         1       no  \n",
       "544    no   yes         1       no  \n",
       "545    no   yes         1       no  \n",
       "\n",
       "[546 rows x 12 columns]"
      ],
      "text/html": [
       "<div>\n",
       "<style scoped>\n",
       "    .dataframe tbody tr th:only-of-type {\n",
       "        vertical-align: middle;\n",
       "    }\n",
       "\n",
       "    .dataframe tbody tr th {\n",
       "        vertical-align: top;\n",
       "    }\n",
       "\n",
       "    .dataframe thead th {\n",
       "        text-align: right;\n",
       "    }\n",
       "</style>\n",
       "<table border=\"1\" class=\"dataframe\">\n",
       "  <thead>\n",
       "    <tr style=\"text-align: right;\">\n",
       "      <th></th>\n",
       "      <th>price</th>\n",
       "      <th>lotsize</th>\n",
       "      <th>bedrooms</th>\n",
       "      <th>bathrms</th>\n",
       "      <th>stories</th>\n",
       "      <th>driveway</th>\n",
       "      <th>recroom</th>\n",
       "      <th>fullbase</th>\n",
       "      <th>gashw</th>\n",
       "      <th>airco</th>\n",
       "      <th>garagepl</th>\n",
       "      <th>prefarea</th>\n",
       "    </tr>\n",
       "  </thead>\n",
       "  <tbody>\n",
       "    <tr>\n",
       "      <th>0</th>\n",
       "      <td>42000.0</td>\n",
       "      <td>5850</td>\n",
       "      <td>3</td>\n",
       "      <td>1</td>\n",
       "      <td>2</td>\n",
       "      <td>yes</td>\n",
       "      <td>no</td>\n",
       "      <td>yes</td>\n",
       "      <td>no</td>\n",
       "      <td>no</td>\n",
       "      <td>1</td>\n",
       "      <td>no</td>\n",
       "    </tr>\n",
       "    <tr>\n",
       "      <th>1</th>\n",
       "      <td>38500.0</td>\n",
       "      <td>4000</td>\n",
       "      <td>2</td>\n",
       "      <td>1</td>\n",
       "      <td>1</td>\n",
       "      <td>yes</td>\n",
       "      <td>no</td>\n",
       "      <td>no</td>\n",
       "      <td>no</td>\n",
       "      <td>no</td>\n",
       "      <td>0</td>\n",
       "      <td>no</td>\n",
       "    </tr>\n",
       "    <tr>\n",
       "      <th>2</th>\n",
       "      <td>49500.0</td>\n",
       "      <td>3060</td>\n",
       "      <td>3</td>\n",
       "      <td>1</td>\n",
       "      <td>1</td>\n",
       "      <td>yes</td>\n",
       "      <td>no</td>\n",
       "      <td>no</td>\n",
       "      <td>no</td>\n",
       "      <td>no</td>\n",
       "      <td>0</td>\n",
       "      <td>no</td>\n",
       "    </tr>\n",
       "    <tr>\n",
       "      <th>3</th>\n",
       "      <td>60500.0</td>\n",
       "      <td>6650</td>\n",
       "      <td>3</td>\n",
       "      <td>1</td>\n",
       "      <td>2</td>\n",
       "      <td>yes</td>\n",
       "      <td>yes</td>\n",
       "      <td>no</td>\n",
       "      <td>no</td>\n",
       "      <td>no</td>\n",
       "      <td>0</td>\n",
       "      <td>no</td>\n",
       "    </tr>\n",
       "    <tr>\n",
       "      <th>4</th>\n",
       "      <td>61000.0</td>\n",
       "      <td>6360</td>\n",
       "      <td>2</td>\n",
       "      <td>1</td>\n",
       "      <td>1</td>\n",
       "      <td>yes</td>\n",
       "      <td>no</td>\n",
       "      <td>no</td>\n",
       "      <td>no</td>\n",
       "      <td>no</td>\n",
       "      <td>0</td>\n",
       "      <td>no</td>\n",
       "    </tr>\n",
       "    <tr>\n",
       "      <th>...</th>\n",
       "      <td>...</td>\n",
       "      <td>...</td>\n",
       "      <td>...</td>\n",
       "      <td>...</td>\n",
       "      <td>...</td>\n",
       "      <td>...</td>\n",
       "      <td>...</td>\n",
       "      <td>...</td>\n",
       "      <td>...</td>\n",
       "      <td>...</td>\n",
       "      <td>...</td>\n",
       "      <td>...</td>\n",
       "    </tr>\n",
       "    <tr>\n",
       "      <th>541</th>\n",
       "      <td>91500.0</td>\n",
       "      <td>4800</td>\n",
       "      <td>3</td>\n",
       "      <td>2</td>\n",
       "      <td>4</td>\n",
       "      <td>yes</td>\n",
       "      <td>yes</td>\n",
       "      <td>no</td>\n",
       "      <td>no</td>\n",
       "      <td>yes</td>\n",
       "      <td>0</td>\n",
       "      <td>no</td>\n",
       "    </tr>\n",
       "    <tr>\n",
       "      <th>542</th>\n",
       "      <td>94000.0</td>\n",
       "      <td>6000</td>\n",
       "      <td>3</td>\n",
       "      <td>2</td>\n",
       "      <td>4</td>\n",
       "      <td>yes</td>\n",
       "      <td>no</td>\n",
       "      <td>no</td>\n",
       "      <td>no</td>\n",
       "      <td>yes</td>\n",
       "      <td>0</td>\n",
       "      <td>no</td>\n",
       "    </tr>\n",
       "    <tr>\n",
       "      <th>543</th>\n",
       "      <td>103000.0</td>\n",
       "      <td>6000</td>\n",
       "      <td>3</td>\n",
       "      <td>2</td>\n",
       "      <td>4</td>\n",
       "      <td>yes</td>\n",
       "      <td>yes</td>\n",
       "      <td>no</td>\n",
       "      <td>no</td>\n",
       "      <td>yes</td>\n",
       "      <td>1</td>\n",
       "      <td>no</td>\n",
       "    </tr>\n",
       "    <tr>\n",
       "      <th>544</th>\n",
       "      <td>105000.0</td>\n",
       "      <td>6000</td>\n",
       "      <td>3</td>\n",
       "      <td>2</td>\n",
       "      <td>2</td>\n",
       "      <td>yes</td>\n",
       "      <td>yes</td>\n",
       "      <td>no</td>\n",
       "      <td>no</td>\n",
       "      <td>yes</td>\n",
       "      <td>1</td>\n",
       "      <td>no</td>\n",
       "    </tr>\n",
       "    <tr>\n",
       "      <th>545</th>\n",
       "      <td>105000.0</td>\n",
       "      <td>6000</td>\n",
       "      <td>3</td>\n",
       "      <td>1</td>\n",
       "      <td>2</td>\n",
       "      <td>yes</td>\n",
       "      <td>no</td>\n",
       "      <td>no</td>\n",
       "      <td>no</td>\n",
       "      <td>yes</td>\n",
       "      <td>1</td>\n",
       "      <td>no</td>\n",
       "    </tr>\n",
       "  </tbody>\n",
       "</table>\n",
       "<p>546 rows × 12 columns</p>\n",
       "</div>"
      ]
     },
     "execution_count": 109,
     "metadata": {},
     "output_type": "execute_result"
    }
   ],
   "execution_count": 109
  },
  {
   "metadata": {
    "ExecuteTime": {
     "end_time": "2025-10-27T11:38:12.164687Z",
     "start_time": "2025-10-27T11:38:12.155181Z"
    }
   },
   "cell_type": "code",
   "source": "len(df)",
   "id": "913ec3f144ee9b64",
   "outputs": [
    {
     "data": {
      "text/plain": [
       "546"
      ]
     },
     "execution_count": 110,
     "metadata": {},
     "output_type": "execute_result"
    }
   ],
   "execution_count": 110
  },
  {
   "metadata": {
    "ExecuteTime": {
     "end_time": "2025-10-27T11:38:12.377163Z",
     "start_time": "2025-10-27T11:38:12.367592Z"
    }
   },
   "cell_type": "code",
   "source": "df.isna().sum().sum()",
   "id": "2e608dadc9647f8b",
   "outputs": [
    {
     "data": {
      "text/plain": [
       "np.int64(0)"
      ]
     },
     "execution_count": 111,
     "metadata": {},
     "output_type": "execute_result"
    }
   ],
   "execution_count": 111
  },
  {
   "metadata": {
    "ExecuteTime": {
     "end_time": "2025-10-27T11:38:12.541908Z",
     "start_time": "2025-10-27T11:38:12.534507Z"
    }
   },
   "cell_type": "code",
   "source": [
    "from sklearn.preprocessing import OneHotEncoder\n",
    "\n",
    "# non_numeric_cols = df.select_dtypes(include=['object']).columns\n",
    "# le = LabelEncoder()\n",
    "# for col in non_numeric_cols:\n",
    "#     df[col] = le.fit_transform(df[col])\n"
   ],
   "id": "96624cb29bd2cd14",
   "outputs": [],
   "execution_count": 112
  },
  {
   "metadata": {
    "ExecuteTime": {
     "end_time": "2025-10-27T11:38:12.675022Z",
     "start_time": "2025-10-27T11:38:12.669151Z"
    }
   },
   "cell_type": "code",
   "source": [
    "X =  df.drop('price',axis =1)\n",
    "y = df['price']"
   ],
   "id": "28dec3d1bd850db4",
   "outputs": [],
   "execution_count": 113
  },
  {
   "metadata": {
    "ExecuteTime": {
     "end_time": "2025-10-27T11:38:12.788454Z",
     "start_time": "2025-10-27T11:38:12.756369Z"
    }
   },
   "cell_type": "code",
   "source": [
    "cat_cols = df.select_dtypes(include=['object']).columns\n",
    "\n",
    "ohe = OneHotEncoder(sparse_output = False,drop ='first').set_output(transform = 'pandas')\n",
    "trns = make_column_transformer((ohe,cat_cols),remainder = 'passthrough',verbose_feature_names_out = False).set_output(transform = 'pandas')\n",
    "x_trns =  trns.fit_transform(X)\n",
    "x_trns.columns"
   ],
   "id": "8388297d44b05b37",
   "outputs": [
    {
     "data": {
      "text/plain": [
       "Index(['driveway_yes', 'recroom_yes', 'fullbase_yes', 'gashw_yes', 'airco_yes',\n",
       "       'prefarea_yes', 'lotsize', 'bedrooms', 'bathrms', 'stories',\n",
       "       'garagepl'],\n",
       "      dtype='object')"
      ]
     },
     "execution_count": 114,
     "metadata": {},
     "output_type": "execute_result"
    }
   ],
   "execution_count": 114
  },
  {
   "metadata": {
    "ExecuteTime": {
     "end_time": "2025-10-27T11:38:12.960348Z",
     "start_time": "2025-10-27T11:38:12.874157Z"
    }
   },
   "cell_type": "code",
   "source": [
    "scaler = StandardScaler().set_output(transform='pandas')\n",
    "X= scaler.fit_transform(X)\n",
    "\n",
    "# scaler = MinMaxScaler().set_output(transform='pandas')\n",
    "# X= scaler.fit_transform(X)\n"
   ],
   "id": "9c299a84cc673dd3",
   "outputs": [
    {
     "ename": "ValueError",
     "evalue": "could not convert string to float: 'yes'",
     "output_type": "error",
     "traceback": [
      "\u001B[31m---------------------------------------------------------------------------\u001B[39m",
      "\u001B[31mValueError\u001B[39m                                Traceback (most recent call last)",
      "\u001B[32m~\\AppData\\Local\\Temp\\ipykernel_11724\\2782485698.py\u001B[39m in \u001B[36m?\u001B[39m\u001B[34m()\u001B[39m\n\u001B[32m      1\u001B[39m scaler = StandardScaler().set_output(transform=\u001B[33m'pandas'\u001B[39m)\n\u001B[32m----> \u001B[39m\u001B[32m2\u001B[39m X= scaler.fit_transform(X)\n\u001B[32m      3\u001B[39m \n\u001B[32m      4\u001B[39m \u001B[38;5;66;03m# scaler = MinMaxScaler().set_output(transform='pandas')\u001B[39;00m\n\u001B[32m      5\u001B[39m \u001B[38;5;66;03m# X= scaler.fit_transform(X)\u001B[39;00m\n",
      "\u001B[32m~\\AppData\\Local\\Programs\\Python\\Python313\\Lib\\site-packages\\sklearn\\utils\\_set_output.py\u001B[39m in \u001B[36m?\u001B[39m\u001B[34m(self, X, *args, **kwargs)\u001B[39m\n\u001B[32m    314\u001B[39m     @wraps(f)\n\u001B[32m    315\u001B[39m     \u001B[38;5;28;01mdef\u001B[39;00m wrapped(self, X, *args, **kwargs):\n\u001B[32m--> \u001B[39m\u001B[32m316\u001B[39m         data_to_wrap = f(self, X, *args, **kwargs)\n\u001B[32m    317\u001B[39m         \u001B[38;5;28;01mif\u001B[39;00m isinstance(data_to_wrap, tuple):\n\u001B[32m    318\u001B[39m             \u001B[38;5;66;03m# only wrap the first output for cross decomposition\u001B[39;00m\n\u001B[32m    319\u001B[39m             return_tuple = (\n",
      "\u001B[32m~\\AppData\\Local\\Programs\\Python\\Python313\\Lib\\site-packages\\sklearn\\base.py\u001B[39m in \u001B[36m?\u001B[39m\u001B[34m(self, X, y, **fit_params)\u001B[39m\n\u001B[32m    890\u001B[39m                 )\n\u001B[32m    891\u001B[39m \n\u001B[32m    892\u001B[39m         \u001B[38;5;28;01mif\u001B[39;00m y \u001B[38;5;28;01mis\u001B[39;00m \u001B[38;5;28;01mNone\u001B[39;00m:\n\u001B[32m    893\u001B[39m             \u001B[38;5;66;03m# fit method of arity 1 (unsupervised transformation)\u001B[39;00m\n\u001B[32m--> \u001B[39m\u001B[32m894\u001B[39m             \u001B[38;5;28;01mreturn\u001B[39;00m self.fit(X, **fit_params).transform(X)\n\u001B[32m    895\u001B[39m         \u001B[38;5;28;01melse\u001B[39;00m:\n\u001B[32m    896\u001B[39m             \u001B[38;5;66;03m# fit method of arity 2 (supervised transformation)\u001B[39;00m\n\u001B[32m    897\u001B[39m             \u001B[38;5;28;01mreturn\u001B[39;00m self.fit(X, y, **fit_params).transform(X)\n",
      "\u001B[32m~\\AppData\\Local\\Programs\\Python\\Python313\\Lib\\site-packages\\sklearn\\preprocessing\\_data.py\u001B[39m in \u001B[36m?\u001B[39m\u001B[34m(self, X, y, sample_weight)\u001B[39m\n\u001B[32m    903\u001B[39m             Fitted scaler.\n\u001B[32m    904\u001B[39m         \"\"\"\n\u001B[32m    905\u001B[39m         \u001B[38;5;66;03m# Reset internal state before fitting\u001B[39;00m\n\u001B[32m    906\u001B[39m         self._reset()\n\u001B[32m--> \u001B[39m\u001B[32m907\u001B[39m         \u001B[38;5;28;01mreturn\u001B[39;00m self.partial_fit(X, y, sample_weight)\n",
      "\u001B[32m~\\AppData\\Local\\Programs\\Python\\Python313\\Lib\\site-packages\\sklearn\\base.py\u001B[39m in \u001B[36m?\u001B[39m\u001B[34m(estimator, *args, **kwargs)\u001B[39m\n\u001B[32m   1361\u001B[39m                 skip_parameter_validation=(\n\u001B[32m   1362\u001B[39m                     prefer_skip_nested_validation \u001B[38;5;28;01mor\u001B[39;00m global_skip_validation\n\u001B[32m   1363\u001B[39m                 )\n\u001B[32m   1364\u001B[39m             ):\n\u001B[32m-> \u001B[39m\u001B[32m1365\u001B[39m                 \u001B[38;5;28;01mreturn\u001B[39;00m fit_method(estimator, *args, **kwargs)\n",
      "\u001B[32m~\\AppData\\Local\\Programs\\Python\\Python313\\Lib\\site-packages\\sklearn\\preprocessing\\_data.py\u001B[39m in \u001B[36m?\u001B[39m\u001B[34m(self, X, y, sample_weight)\u001B[39m\n\u001B[32m    939\u001B[39m         self : object\n\u001B[32m    940\u001B[39m             Fitted scaler.\n\u001B[32m    941\u001B[39m         \"\"\"\n\u001B[32m    942\u001B[39m         first_call = \u001B[38;5;28;01mnot\u001B[39;00m hasattr(self, \u001B[33m\"n_samples_seen_\"\u001B[39m)\n\u001B[32m--> \u001B[39m\u001B[32m943\u001B[39m         X = validate_data(\n\u001B[32m    944\u001B[39m             self,\n\u001B[32m    945\u001B[39m             X,\n\u001B[32m    946\u001B[39m             accept_sparse=(\u001B[33m\"csr\"\u001B[39m, \u001B[33m\"csc\"\u001B[39m),\n",
      "\u001B[32m~\\AppData\\Local\\Programs\\Python\\Python313\\Lib\\site-packages\\sklearn\\utils\\validation.py\u001B[39m in \u001B[36m?\u001B[39m\u001B[34m(_estimator, X, y, reset, validate_separately, skip_check_array, **check_params)\u001B[39m\n\u001B[32m   2950\u001B[39m             out = y\n\u001B[32m   2951\u001B[39m         \u001B[38;5;28;01melse\u001B[39;00m:\n\u001B[32m   2952\u001B[39m             out = X, y\n\u001B[32m   2953\u001B[39m     \u001B[38;5;28;01melif\u001B[39;00m \u001B[38;5;28;01mnot\u001B[39;00m no_val_X \u001B[38;5;28;01mand\u001B[39;00m no_val_y:\n\u001B[32m-> \u001B[39m\u001B[32m2954\u001B[39m         out = check_array(X, input_name=\u001B[33m\"X\"\u001B[39m, **check_params)\n\u001B[32m   2955\u001B[39m     \u001B[38;5;28;01melif\u001B[39;00m no_val_X \u001B[38;5;28;01mand\u001B[39;00m \u001B[38;5;28;01mnot\u001B[39;00m no_val_y:\n\u001B[32m   2956\u001B[39m         out = _check_y(y, **check_params)\n\u001B[32m   2957\u001B[39m     \u001B[38;5;28;01melse\u001B[39;00m:\n",
      "\u001B[32m~\\AppData\\Local\\Programs\\Python\\Python313\\Lib\\site-packages\\sklearn\\utils\\validation.py\u001B[39m in \u001B[36m?\u001B[39m\u001B[34m(array, accept_sparse, accept_large_sparse, dtype, order, copy, force_writeable, force_all_finite, ensure_all_finite, ensure_non_negative, ensure_2d, allow_nd, ensure_min_samples, ensure_min_features, estimator, input_name)\u001B[39m\n\u001B[32m   1050\u001B[39m                         )\n\u001B[32m   1051\u001B[39m                     array = xp.astype(array, dtype, copy=\u001B[38;5;28;01mFalse\u001B[39;00m)\n\u001B[32m   1052\u001B[39m                 \u001B[38;5;28;01melse\u001B[39;00m:\n\u001B[32m   1053\u001B[39m                     array = _asarray_with_order(array, order=order, dtype=dtype, xp=xp)\n\u001B[32m-> \u001B[39m\u001B[32m1054\u001B[39m             \u001B[38;5;28;01mexcept\u001B[39;00m ComplexWarning \u001B[38;5;28;01mas\u001B[39;00m complex_warning:\n\u001B[32m   1055\u001B[39m                 raise ValueError(\n\u001B[32m   1056\u001B[39m                     \u001B[33m\"Complex data not supported\\n{}\\n\"\u001B[39m.format(array)\n\u001B[32m   1057\u001B[39m                 ) \u001B[38;5;28;01mfrom\u001B[39;00m complex_warning\n",
      "\u001B[32m~\\AppData\\Local\\Programs\\Python\\Python313\\Lib\\site-packages\\sklearn\\utils\\_array_api.py\u001B[39m in \u001B[36m?\u001B[39m\u001B[34m(array, dtype, order, copy, xp, device)\u001B[39m\n\u001B[32m    753\u001B[39m         \u001B[38;5;66;03m# Use NumPy API to support order\u001B[39;00m\n\u001B[32m    754\u001B[39m         \u001B[38;5;28;01mif\u001B[39;00m copy \u001B[38;5;28;01mis\u001B[39;00m \u001B[38;5;28;01mTrue\u001B[39;00m:\n\u001B[32m    755\u001B[39m             array = numpy.array(array, order=order, dtype=dtype)\n\u001B[32m    756\u001B[39m         \u001B[38;5;28;01melse\u001B[39;00m:\n\u001B[32m--> \u001B[39m\u001B[32m757\u001B[39m             array = numpy.asarray(array, order=order, dtype=dtype)\n\u001B[32m    758\u001B[39m \n\u001B[32m    759\u001B[39m         \u001B[38;5;66;03m# At this point array is a NumPy ndarray. We convert it to an array\u001B[39;00m\n\u001B[32m    760\u001B[39m         \u001B[38;5;66;03m# container that is consistent with the input's namespace.\u001B[39;00m\n",
      "\u001B[32m~\\AppData\\Local\\Programs\\Python\\Python313\\Lib\\site-packages\\pandas\\core\\generic.py\u001B[39m in \u001B[36m?\u001B[39m\u001B[34m(self, dtype, copy)\u001B[39m\n\u001B[32m   2164\u001B[39m             )\n\u001B[32m   2165\u001B[39m         values = self._values\n\u001B[32m   2166\u001B[39m         \u001B[38;5;28;01mif\u001B[39;00m copy \u001B[38;5;28;01mis\u001B[39;00m \u001B[38;5;28;01mNone\u001B[39;00m:\n\u001B[32m   2167\u001B[39m             \u001B[38;5;66;03m# Note: branch avoids `copy=None` for NumPy 1.x support\u001B[39;00m\n\u001B[32m-> \u001B[39m\u001B[32m2168\u001B[39m             arr = np.asarray(values, dtype=dtype)\n\u001B[32m   2169\u001B[39m         \u001B[38;5;28;01melse\u001B[39;00m:\n\u001B[32m   2170\u001B[39m             arr = np.array(values, dtype=dtype, copy=copy)\n\u001B[32m   2171\u001B[39m \n",
      "\u001B[31mValueError\u001B[39m: could not convert string to float: 'yes'"
     ]
    }
   ],
   "execution_count": 115
  },
  {
   "metadata": {
    "ExecuteTime": {
     "end_time": "2025-10-27T11:38:13.023286400Z",
     "start_time": "2025-10-27T10:23:00.512008Z"
    }
   },
   "cell_type": "code",
   "source": "X",
   "id": "cc65c64cad129d45",
   "outputs": [
    {
     "data": {
      "text/plain": [
       "      lotsize  bedrooms   bathrms   stories  driveway   recroom  fullbase  \\\n",
       "0    0.323028  0.047235 -0.569495  0.221704   0.40519 -0.464796  1.363319   \n",
       "1   -0.531013 -1.310147 -0.569495 -0.931157   0.40519 -0.464796 -0.733504   \n",
       "2   -0.964958  0.047235 -0.569495 -0.931157   0.40519 -0.464796 -0.733504   \n",
       "3    0.692343  0.047235 -0.569495  0.221704   0.40519  2.151480 -0.733504   \n",
       "4    0.558466 -1.310147 -0.569495 -0.931157   0.40519 -0.464796 -0.733504   \n",
       "..        ...       ...       ...       ...       ...       ...       ...   \n",
       "541 -0.161698  0.047235  1.423737  2.527427   0.40519  2.151480 -0.733504   \n",
       "542  0.392275  0.047235  1.423737  2.527427   0.40519 -0.464796 -0.733504   \n",
       "543  0.392275  0.047235  1.423737  2.527427   0.40519  2.151480 -0.733504   \n",
       "544  0.392275  0.047235  1.423737  0.221704   0.40519  2.151480 -0.733504   \n",
       "545  0.392275  0.047235 -0.569495  0.221704   0.40519 -0.464796 -0.733504   \n",
       "\n",
       "        gashw     airco  garagepl  prefarea  \n",
       "0   -0.219054 -0.681034  0.357567 -0.553372  \n",
       "1   -0.219054 -0.681034 -0.804525 -0.553372  \n",
       "2   -0.219054 -0.681034 -0.804525 -0.553372  \n",
       "3   -0.219054 -0.681034 -0.804525 -0.553372  \n",
       "4   -0.219054 -0.681034 -0.804525 -0.553372  \n",
       "..        ...       ...       ...       ...  \n",
       "541 -0.219054  1.468356 -0.804525 -0.553372  \n",
       "542 -0.219054  1.468356 -0.804525 -0.553372  \n",
       "543 -0.219054  1.468356  0.357567 -0.553372  \n",
       "544 -0.219054  1.468356  0.357567 -0.553372  \n",
       "545 -0.219054  1.468356  0.357567 -0.553372  \n",
       "\n",
       "[546 rows x 11 columns]"
      ],
      "text/html": [
       "<div>\n",
       "<style scoped>\n",
       "    .dataframe tbody tr th:only-of-type {\n",
       "        vertical-align: middle;\n",
       "    }\n",
       "\n",
       "    .dataframe tbody tr th {\n",
       "        vertical-align: top;\n",
       "    }\n",
       "\n",
       "    .dataframe thead th {\n",
       "        text-align: right;\n",
       "    }\n",
       "</style>\n",
       "<table border=\"1\" class=\"dataframe\">\n",
       "  <thead>\n",
       "    <tr style=\"text-align: right;\">\n",
       "      <th></th>\n",
       "      <th>lotsize</th>\n",
       "      <th>bedrooms</th>\n",
       "      <th>bathrms</th>\n",
       "      <th>stories</th>\n",
       "      <th>driveway</th>\n",
       "      <th>recroom</th>\n",
       "      <th>fullbase</th>\n",
       "      <th>gashw</th>\n",
       "      <th>airco</th>\n",
       "      <th>garagepl</th>\n",
       "      <th>prefarea</th>\n",
       "    </tr>\n",
       "  </thead>\n",
       "  <tbody>\n",
       "    <tr>\n",
       "      <th>0</th>\n",
       "      <td>0.323028</td>\n",
       "      <td>0.047235</td>\n",
       "      <td>-0.569495</td>\n",
       "      <td>0.221704</td>\n",
       "      <td>0.40519</td>\n",
       "      <td>-0.464796</td>\n",
       "      <td>1.363319</td>\n",
       "      <td>-0.219054</td>\n",
       "      <td>-0.681034</td>\n",
       "      <td>0.357567</td>\n",
       "      <td>-0.553372</td>\n",
       "    </tr>\n",
       "    <tr>\n",
       "      <th>1</th>\n",
       "      <td>-0.531013</td>\n",
       "      <td>-1.310147</td>\n",
       "      <td>-0.569495</td>\n",
       "      <td>-0.931157</td>\n",
       "      <td>0.40519</td>\n",
       "      <td>-0.464796</td>\n",
       "      <td>-0.733504</td>\n",
       "      <td>-0.219054</td>\n",
       "      <td>-0.681034</td>\n",
       "      <td>-0.804525</td>\n",
       "      <td>-0.553372</td>\n",
       "    </tr>\n",
       "    <tr>\n",
       "      <th>2</th>\n",
       "      <td>-0.964958</td>\n",
       "      <td>0.047235</td>\n",
       "      <td>-0.569495</td>\n",
       "      <td>-0.931157</td>\n",
       "      <td>0.40519</td>\n",
       "      <td>-0.464796</td>\n",
       "      <td>-0.733504</td>\n",
       "      <td>-0.219054</td>\n",
       "      <td>-0.681034</td>\n",
       "      <td>-0.804525</td>\n",
       "      <td>-0.553372</td>\n",
       "    </tr>\n",
       "    <tr>\n",
       "      <th>3</th>\n",
       "      <td>0.692343</td>\n",
       "      <td>0.047235</td>\n",
       "      <td>-0.569495</td>\n",
       "      <td>0.221704</td>\n",
       "      <td>0.40519</td>\n",
       "      <td>2.151480</td>\n",
       "      <td>-0.733504</td>\n",
       "      <td>-0.219054</td>\n",
       "      <td>-0.681034</td>\n",
       "      <td>-0.804525</td>\n",
       "      <td>-0.553372</td>\n",
       "    </tr>\n",
       "    <tr>\n",
       "      <th>4</th>\n",
       "      <td>0.558466</td>\n",
       "      <td>-1.310147</td>\n",
       "      <td>-0.569495</td>\n",
       "      <td>-0.931157</td>\n",
       "      <td>0.40519</td>\n",
       "      <td>-0.464796</td>\n",
       "      <td>-0.733504</td>\n",
       "      <td>-0.219054</td>\n",
       "      <td>-0.681034</td>\n",
       "      <td>-0.804525</td>\n",
       "      <td>-0.553372</td>\n",
       "    </tr>\n",
       "    <tr>\n",
       "      <th>...</th>\n",
       "      <td>...</td>\n",
       "      <td>...</td>\n",
       "      <td>...</td>\n",
       "      <td>...</td>\n",
       "      <td>...</td>\n",
       "      <td>...</td>\n",
       "      <td>...</td>\n",
       "      <td>...</td>\n",
       "      <td>...</td>\n",
       "      <td>...</td>\n",
       "      <td>...</td>\n",
       "    </tr>\n",
       "    <tr>\n",
       "      <th>541</th>\n",
       "      <td>-0.161698</td>\n",
       "      <td>0.047235</td>\n",
       "      <td>1.423737</td>\n",
       "      <td>2.527427</td>\n",
       "      <td>0.40519</td>\n",
       "      <td>2.151480</td>\n",
       "      <td>-0.733504</td>\n",
       "      <td>-0.219054</td>\n",
       "      <td>1.468356</td>\n",
       "      <td>-0.804525</td>\n",
       "      <td>-0.553372</td>\n",
       "    </tr>\n",
       "    <tr>\n",
       "      <th>542</th>\n",
       "      <td>0.392275</td>\n",
       "      <td>0.047235</td>\n",
       "      <td>1.423737</td>\n",
       "      <td>2.527427</td>\n",
       "      <td>0.40519</td>\n",
       "      <td>-0.464796</td>\n",
       "      <td>-0.733504</td>\n",
       "      <td>-0.219054</td>\n",
       "      <td>1.468356</td>\n",
       "      <td>-0.804525</td>\n",
       "      <td>-0.553372</td>\n",
       "    </tr>\n",
       "    <tr>\n",
       "      <th>543</th>\n",
       "      <td>0.392275</td>\n",
       "      <td>0.047235</td>\n",
       "      <td>1.423737</td>\n",
       "      <td>2.527427</td>\n",
       "      <td>0.40519</td>\n",
       "      <td>2.151480</td>\n",
       "      <td>-0.733504</td>\n",
       "      <td>-0.219054</td>\n",
       "      <td>1.468356</td>\n",
       "      <td>0.357567</td>\n",
       "      <td>-0.553372</td>\n",
       "    </tr>\n",
       "    <tr>\n",
       "      <th>544</th>\n",
       "      <td>0.392275</td>\n",
       "      <td>0.047235</td>\n",
       "      <td>1.423737</td>\n",
       "      <td>0.221704</td>\n",
       "      <td>0.40519</td>\n",
       "      <td>2.151480</td>\n",
       "      <td>-0.733504</td>\n",
       "      <td>-0.219054</td>\n",
       "      <td>1.468356</td>\n",
       "      <td>0.357567</td>\n",
       "      <td>-0.553372</td>\n",
       "    </tr>\n",
       "    <tr>\n",
       "      <th>545</th>\n",
       "      <td>0.392275</td>\n",
       "      <td>0.047235</td>\n",
       "      <td>-0.569495</td>\n",
       "      <td>0.221704</td>\n",
       "      <td>0.40519</td>\n",
       "      <td>-0.464796</td>\n",
       "      <td>-0.733504</td>\n",
       "      <td>-0.219054</td>\n",
       "      <td>1.468356</td>\n",
       "      <td>0.357567</td>\n",
       "      <td>-0.553372</td>\n",
       "    </tr>\n",
       "  </tbody>\n",
       "</table>\n",
       "<p>546 rows × 11 columns</p>\n",
       "</div>"
      ]
     },
     "execution_count": 85,
     "metadata": {},
     "output_type": "execute_result"
    }
   ],
   "execution_count": 85
  },
  {
   "metadata": {
    "ExecuteTime": {
     "end_time": "2025-10-27T11:38:13.041283700Z",
     "start_time": "2025-10-27T10:23:00.750346Z"
    }
   },
   "cell_type": "code",
   "source": "y",
   "id": "a6a23830630f1d83",
   "outputs": [
    {
     "data": {
      "text/plain": [
       "0       42000.0\n",
       "1       38500.0\n",
       "2       49500.0\n",
       "3       60500.0\n",
       "4       61000.0\n",
       "         ...   \n",
       "541     91500.0\n",
       "542     94000.0\n",
       "543    103000.0\n",
       "544    105000.0\n",
       "545    105000.0\n",
       "Name: price, Length: 546, dtype: float64"
      ]
     },
     "execution_count": 86,
     "metadata": {},
     "output_type": "execute_result"
    }
   ],
   "execution_count": 86
  },
  {
   "metadata": {
    "ExecuteTime": {
     "end_time": "2025-10-27T11:38:13.043287100Z",
     "start_time": "2025-10-27T10:23:00.979035Z"
    }
   },
   "cell_type": "code",
   "source": [
    "from sklearn.model_selection import train_test_split\n",
    "\n",
    "X_train, X_test, y_train, y_test = train_test_split(X, y, test_size=0.3, random_state=25)"
   ],
   "id": "8ee918759e544d75",
   "outputs": [],
   "execution_count": 87
  },
  {
   "metadata": {
    "ExecuteTime": {
     "end_time": "2025-10-27T11:38:13.043287100Z",
     "start_time": "2025-10-27T10:23:01.397848Z"
    }
   },
   "cell_type": "code",
   "source": "X_train, X_test, y_train, y_test",
   "id": "47c8bdc245203f59",
   "outputs": [
    {
     "data": {
      "text/plain": [
       "(      lotsize  bedrooms   bathrms   stories  driveway   recroom  fullbase  \\\n",
       " 236 -0.701821  1.404617 -0.569495  0.221704  0.405190 -0.464796 -0.733504   \n",
       " 238 -0.992657 -1.310147 -0.569495 -0.931157  0.405190 -0.464796  1.363319   \n",
       " 392 -0.060136  0.047235 -0.569495  2.527427  0.405190 -0.464796 -0.733504   \n",
       " 395  0.946247  0.047235 -0.569495  0.221704  0.405190  2.151480  1.363319   \n",
       " 36  -0.516240 -1.310147 -0.569495 -0.931157  0.405190 -0.464796  1.363319   \n",
       " ..        ...       ...       ...       ...       ...       ...       ...   \n",
       " 317 -0.069369  0.047235 -0.569495  1.374565  0.405190 -0.464796 -0.733504   \n",
       " 143 -0.300191 -1.310147 -0.569495 -0.931157 -2.467977 -0.464796 -0.733504   \n",
       " 474  0.701576  0.047235 -0.569495  1.374565  0.405190 -0.464796  1.363319   \n",
       " 318  0.312872  1.404617 -0.569495  2.527427  0.405190  2.151480 -0.733504   \n",
       " 132 -0.115534  0.047235 -0.569495  0.221704 -2.467977 -0.464796 -0.733504   \n",
       " \n",
       "         gashw     airco  garagepl  prefarea  \n",
       " 236 -0.219054 -0.681034  2.681750 -0.553372  \n",
       " 238 -0.219054 -0.681034  1.519658 -0.553372  \n",
       " 392 -0.219054  1.468356 -0.804525  1.807104  \n",
       " 395 -0.219054 -0.681034  0.357567  1.807104  \n",
       " 36  -0.219054 -0.681034 -0.804525 -0.553372  \n",
       " ..        ...       ...       ...       ...  \n",
       " 317 -0.219054  1.468356 -0.804525 -0.553372  \n",
       " 143 -0.219054 -0.681034 -0.804525 -0.553372  \n",
       " 474 -0.219054 -0.681034 -0.804525  1.807104  \n",
       " 318 -0.219054 -0.681034 -0.804525 -0.553372  \n",
       " 132 -0.219054 -0.681034 -0.804525 -0.553372  \n",
       " \n",
       " [382 rows x 11 columns],\n",
       "       lotsize  bedrooms   bathrms   stories  driveway   recroom  fullbase  \\\n",
       " 6   -0.586410  0.047235  1.423737  0.221704  0.405190 -0.464796  1.363319   \n",
       " 47  -0.951109  0.047235 -0.569495  0.221704 -2.467977 -0.464796 -0.733504   \n",
       " 340 -1.006506  0.047235 -0.569495  1.374565  0.405190 -0.464796 -0.733504   \n",
       " 490  3.597929  0.047235 -0.569495 -0.931157  0.405190 -0.464796 -0.733504   \n",
       " 279  0.373809  0.047235 -0.569495  0.221704  0.405190  2.151480  1.363319   \n",
       " ..        ...       ...       ...       ...       ...       ...       ...   \n",
       " 360  0.669261  1.404617  1.423737  0.221704  0.405190  2.151480  1.363319   \n",
       " 540  0.634638  0.047235  1.423737  2.527427  0.405190 -0.464796 -0.733504   \n",
       " 194 -0.909561 -1.310147 -0.569495 -0.931157  0.405190 -0.464796 -0.733504   \n",
       " 92   1.047809  1.404617 -0.569495  0.221704  0.405190  2.151480  1.363319   \n",
       " 322  1.430973  0.047235  1.423737  1.374565  0.405190 -0.464796 -0.733504   \n",
       " \n",
       "         gashw     airco  garagepl  prefarea  \n",
       " 6   -0.219054 -0.681034  1.519658 -0.553372  \n",
       " 47  -0.219054 -0.681034 -0.804525 -0.553372  \n",
       " 340 -0.219054 -0.681034 -0.804525 -0.553372  \n",
       " 490 -0.219054 -0.681034 -0.804525 -0.553372  \n",
       " 279 -0.219054 -0.681034 -0.804525 -0.553372  \n",
       " ..        ...       ...       ...       ...  \n",
       " 360 -0.219054  1.468356  0.357567  1.807104  \n",
       " 540 -0.219054 -0.681034  0.357567 -0.553372  \n",
       " 194 -0.219054 -0.681034 -0.804525 -0.553372  \n",
       " 92  -0.219054  1.468356  1.519658 -0.553372  \n",
       " 322 -0.219054  1.468356 -0.804525 -0.553372  \n",
       " \n",
       " [164 rows x 11 columns],\n",
       " 236    43000.0\n",
       " 238    26000.0\n",
       " 392    96000.0\n",
       " 395    74500.0\n",
       " 36     61700.0\n",
       "         ...   \n",
       " 317    82000.0\n",
       " 143    51000.0\n",
       " 474    93000.0\n",
       " 318    83000.0\n",
       " 132    49900.0\n",
       " Name: price, Length: 382, dtype: float64,\n",
       " 6       66000.0\n",
       " 47      43000.0\n",
       " 340     70000.0\n",
       " 490     50000.0\n",
       " 279     52000.0\n",
       "          ...   \n",
       " 360    130000.0\n",
       " 540     85000.0\n",
       " 194     33000.0\n",
       " 92     163000.0\n",
       " 322     93000.0\n",
       " Name: price, Length: 164, dtype: float64)"
      ]
     },
     "execution_count": 88,
     "metadata": {},
     "output_type": "execute_result"
    }
   ],
   "execution_count": 88
  },
  {
   "metadata": {
    "ExecuteTime": {
     "end_time": "2025-10-27T11:38:13.044287200Z",
     "start_time": "2025-10-27T10:23:01.531733Z"
    }
   },
   "cell_type": "code",
   "source": [
    "from sklearn.metrics import accuracy_score, mean_absolute_error, r2_score, mean_squared_error\n",
    "\n",
    "for i in range(1,11):\n",
    "    knn= KNeighborsRegressor(n_neighbors = i)\n",
    "    knn.fit(X_train,y_train)\n",
    "    y_pred = knn.predict(X_test)\n",
    "    mse = mean_squared_error(y_test, y_pred)\n",
    "    r2 = r2_score(y_test, y_pred)\n",
    "    mae = mean_absolute_error(y_test, y_pred)\n",
    "    print(i,\": \",r2,mse,mae)"
   ],
   "id": "33319042f3318c7",
   "outputs": [
    {
     "name": "stdout",
     "output_type": "stream",
     "text": [
      "1 :  0.18543145628632607 609619407.7073171 17095.170731707316\n",
      "2 :  0.37094335201065265 470783145.410061 15263.118902439024\n",
      "3 :  0.5053831884993403 370168980.8624661 13566.961382113823\n",
      "4 :  0.5749917758059158 318074229.484375 12559.568597560976\n",
      "5 :  0.5733626366438508 319293469.85243905 12741.881707317072\n",
      "6 :  0.5648761965854049 325644683.144309 12919.111788617884\n",
      "7 :  0.5439127561860821 341333626.9641613 13186.939024390244\n",
      "8 :  0.5526760124315079 334775245.69207317 13064.676829268292\n",
      "9 :  0.555203966939317 332883335.99134296 12868.67276422764\n",
      "10 :  0.5754806994150562 317708321.27036583 12584.430487804877\n"
     ]
    }
   ],
   "execution_count": 89
  },
  {
   "metadata": {
    "ExecuteTime": {
     "end_time": "2025-10-27T11:38:13.054287Z",
     "start_time": "2025-10-27T10:23:01.633172Z"
    }
   },
   "cell_type": "code",
   "source": "",
   "id": "b19040ae3fc2c30b",
   "outputs": [],
   "execution_count": null
  },
  {
   "metadata": {},
   "cell_type": "markdown",
   "source": "### Inferencing",
   "id": "9308e1320adb0688"
  },
  {
   "metadata": {},
   "cell_type": "code",
   "outputs": [],
   "execution_count": null,
   "source": [
    "scaler = StandardScaler().set_output(transform = 'pandas')\n",
    "knn= KNeighborsRegressor(n_neighbours = 4)\n",
    "X_scaled = scaler.fit_transform(x_trns)\n",
    "knn.fit(X_scaled,y)"
   ],
   "id": "ba256757d59d2e8"
  },
  {
   "metadata": {},
   "cell_type": "markdown",
   "source": "### predicting it on testing",
   "id": "641b79dbf72e1298"
  },
  {
   "metadata": {
    "ExecuteTime": {
     "end_time": "2025-10-27T11:38:13.065291400Z",
     "start_time": "2025-10-27T10:23:58.283529Z"
    }
   },
   "cell_type": "code",
   "source": [
    "tst = pd.read_csv(r\"D:\\Datasets\\tst_Housing.csv\")\n",
    "tst_trns= trns.transform(tst)"
   ],
   "id": "940cdf71357f5884",
   "outputs": [],
   "execution_count": 90
  },
  {
   "metadata": {},
   "cell_type": "code",
   "outputs": [],
   "execution_count": null,
   "source": [
    "tst_sc1 = scaler.transform(tst_trns)\n",
    "knn.predict(ts_sc1)"
   ],
   "id": "d1e3500a9e2d8a7"
  }
 ],
 "metadata": {
  "kernelspec": {
   "display_name": "Python 3",
   "language": "python",
   "name": "python3"
  },
  "language_info": {
   "codemirror_mode": {
    "name": "ipython",
    "version": 2
   },
   "file_extension": ".py",
   "mimetype": "text/x-python",
   "name": "python",
   "nbconvert_exporter": "python",
   "pygments_lexer": "ipython2",
   "version": "2.7.6"
  }
 },
 "nbformat": 4,
 "nbformat_minor": 5
}
