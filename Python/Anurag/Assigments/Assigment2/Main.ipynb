{
 "cells": [
  {
   "metadata": {},
   "cell_type": "markdown",
   "source": "## 1. Write a function to add n numbers",
   "id": "837fc23caa6bbdfe"
  },
  {
   "cell_type": "code",
   "id": "initial_id",
   "metadata": {
    "collapsed": true,
    "ExecuteTime": {
     "end_time": "2025-09-17T10:51:39.514841Z",
     "start_time": "2025-09-17T10:51:39.506499Z"
    }
   },
   "source": [
    "import math\n",
    "\n",
    "from Assigments.PythonAssigment1.marks import marks\n",
    "\n",
    "\n",
    "def add(*args):\n",
    "    sum=0\n",
    "    for i in args:\n",
    "        sum+=i\n",
    "    return sum\n",
    "\n",
    "print(add(1,2,3,4,45,5,6,67,88,))"
   ],
   "outputs": [
    {
     "name": "stdout",
     "output_type": "stream",
     "text": [
      "221\n"
     ]
    }
   ],
   "execution_count": 1
  },
  {
   "metadata": {},
   "cell_type": "markdown",
   "source": "## 2. Write a function to take two parameters first is list second is int n e.g performAction(mylist,n) create new list after every nth element from mylist",
   "id": "c81d309cead6cbd6"
  },
  {
   "metadata": {
    "ExecuteTime": {
     "end_time": "2025-09-17T11:07:55.640330Z",
     "start_time": "2025-09-17T11:07:55.629792Z"
    }
   },
   "cell_type": "code",
   "source": [
    "def func(l,n):\n",
    "    res=[]\n",
    "    sub=[]\n",
    "    x=n\n",
    "    cnt=0\n",
    "    for i in range(0,len(l)):\n",
    "        if cnt==x:\n",
    "            x+=n\n",
    "            res.append(sub)\n",
    "            sub=[l[cnt]]\n",
    "            cnt+=1\n",
    "        else:\n",
    "            sub.append(l[cnt])\n",
    "            cnt+=1\n",
    "\n",
    "    res.append(sub)\n",
    "    return res\n",
    "\n",
    "\n",
    "print(func([1,2,3,4,5,6],2))"
   ],
   "id": "f8e7e5d5a5617dbb",
   "outputs": [
    {
     "name": "stdout",
     "output_type": "stream",
     "text": [
      "[[1, 2], [3, 4], [5, 6]]\n"
     ]
    }
   ],
   "execution_count": 14
  },
  {
   "metadata": {},
   "cell_type": "markdown",
   "source": [
    "## 3. Take two string lists (namelist, surnamelist) as parameters for a function and final output should be like\n",
    "[name1 surname1, name2 surname2.....]"
   ],
   "id": "b3566e0d9543f9f7"
  },
  {
   "metadata": {
    "ExecuteTime": {
     "end_time": "2025-09-17T11:11:08.684164Z",
     "start_time": "2025-09-17T11:11:08.678245Z"
    }
   },
   "cell_type": "code",
   "source": [
    "def combine(name,surname):\n",
    "    res=[]\n",
    "    for i,j in zip(name,surname):\n",
    "        res.append(f\"{i} {j}\")\n",
    "\n",
    "    return res\n",
    "\n",
    "\n",
    "name=[\"Anurag\",\"Vaibhav\",\"Priya\"]\n",
    "surname=[\"Sahu\",\"Gupta\",\"Sharma\"]\n",
    "\n",
    "print(combine(name,surname))"
   ],
   "id": "e8ec7e8932228869",
   "outputs": [
    {
     "name": "stdout",
     "output_type": "stream",
     "text": [
      "['Anurag Sahu', 'Vaibhav Gupta', 'Priya Sharma']\n"
     ]
    }
   ],
   "execution_count": 17
  },
  {
   "metadata": {},
   "cell_type": "markdown",
   "source": "## 4. Write a function to seperate elements from given iterable (list, tuple, set) and create 3 different lists for oddnumber, even numbers and prime numbers",
   "id": "61859f9779ea9636"
  },
  {
   "metadata": {
    "ExecuteTime": {
     "end_time": "2025-09-17T11:21:34.420044Z",
     "start_time": "2025-09-17T11:21:34.411968Z"
    }
   },
   "cell_type": "code",
   "source": [
    "import math\n",
    "def isPrime(x):\n",
    "    if x<2:\n",
    "        return False\n",
    "    for i in range(2,int(math.sqrt(x+1))+1):\n",
    "        if x%i==0:\n",
    "            return False\n",
    "    else:\n",
    "        return True"
   ],
   "id": "f440a7672720c00a",
   "outputs": [],
   "execution_count": 23
  },
  {
   "metadata": {
    "ExecuteTime": {
     "end_time": "2025-09-17T11:25:02.977664Z",
     "start_time": "2025-09-17T11:25:02.970710Z"
    }
   },
   "cell_type": "code",
   "source": [
    "def seperate(l):\n",
    "    odd,even,prime=[],[],[]\n",
    "    for i in l:\n",
    "        if i%2==0:\n",
    "            even.append(i)\n",
    "        if i%2!=0:\n",
    "            odd.append(i)\n",
    "        if isPrime(i):\n",
    "            prime.append(i)\n",
    "\n",
    "    return even,odd,prime\n",
    "\n",
    "even,odd,prime=seperate([x for x in range(0,50+1)])\n",
    "print(f\"Even:{even}\\nOdd:{odd}\\nPrime:{prime}\")"
   ],
   "id": "2dc4b4d7ba2ded6b",
   "outputs": [
    {
     "name": "stdout",
     "output_type": "stream",
     "text": [
      "Even:[0, 2, 4, 6, 8, 10, 12, 14, 16, 18, 20, 22, 24, 26, 28, 30, 32, 34, 36, 38, 40, 42, 44, 46, 48, 50]\n",
      "Odd:[1, 3, 5, 7, 9, 11, 13, 15, 17, 19, 21, 23, 25, 27, 29, 31, 33, 35, 37, 39, 41, 43, 45, 47, 49]\n",
      "Prime:[2, 3, 5, 7, 11, 13, 17, 19, 23, 29, 31, 37, 41, 43, 47]\n"
     ]
    }
   ],
   "execution_count": 30
  },
  {
   "metadata": {},
   "cell_type": "code",
   "outputs": [],
   "execution_count": null,
   "source": "",
   "id": "e58c5958a50152"
  }
 ],
 "metadata": {
  "kernelspec": {
   "display_name": "Python 3",
   "language": "python",
   "name": "python3"
  },
  "language_info": {
   "codemirror_mode": {
    "name": "ipython",
    "version": 2
   },
   "file_extension": ".py",
   "mimetype": "text/x-python",
   "name": "python",
   "nbconvert_exporter": "python",
   "pygments_lexer": "ipython2",
   "version": "2.7.6"
  }
 },
 "nbformat": 4,
 "nbformat_minor": 5
}
