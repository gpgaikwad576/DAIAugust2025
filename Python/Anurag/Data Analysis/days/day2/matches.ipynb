{
 "cells": [
  {
   "cell_type": "code",
   "id": "initial_id",
   "metadata": {
    "collapsed": true,
    "ExecuteTime": {
     "end_time": "2025-10-06T09:20:18.968171Z",
     "start_time": "2025-10-06T09:20:18.962284Z"
    }
   },
   "source": [
    "from operator import indexOf\n",
    "from tarfile import data_filter\n",
    "\n",
    "import numpy as np\n",
    "import pandas as pd\n",
    "from numpy.ma.extras import column_stack"
   ],
   "outputs": [],
   "execution_count": 2
  },
  {
   "metadata": {
    "ExecuteTime": {
     "end_time": "2025-10-06T09:24:58.516965Z",
     "start_time": "2025-10-06T09:24:58.490037Z"
    }
   },
   "cell_type": "code",
   "source": [
    "data=np.random.randint(10,100,(4,3))\n",
    "index=['virat','dhoni','panda','champ']\n",
    "columns=['m1','m2','m3']\n",
    "\n",
    "df=pd.DataFrame(data=data,index=index,columns=columns)\n",
    "df"
   ],
   "id": "796b442fd599019b",
   "outputs": [
    {
     "data": {
      "text/plain": [
       "       m1  m2  m3\n",
       "virat  60  31  30\n",
       "dhoni  28  25  89\n",
       "panda  18  44  21\n",
       "champ  73  29  36"
      ],
      "text/html": [
       "<div>\n",
       "<style scoped>\n",
       "    .dataframe tbody tr th:only-of-type {\n",
       "        vertical-align: middle;\n",
       "    }\n",
       "\n",
       "    .dataframe tbody tr th {\n",
       "        vertical-align: top;\n",
       "    }\n",
       "\n",
       "    .dataframe thead th {\n",
       "        text-align: right;\n",
       "    }\n",
       "</style>\n",
       "<table border=\"1\" class=\"dataframe\">\n",
       "  <thead>\n",
       "    <tr style=\"text-align: right;\">\n",
       "      <th></th>\n",
       "      <th>m1</th>\n",
       "      <th>m2</th>\n",
       "      <th>m3</th>\n",
       "    </tr>\n",
       "  </thead>\n",
       "  <tbody>\n",
       "    <tr>\n",
       "      <th>virat</th>\n",
       "      <td>60</td>\n",
       "      <td>31</td>\n",
       "      <td>30</td>\n",
       "    </tr>\n",
       "    <tr>\n",
       "      <th>dhoni</th>\n",
       "      <td>28</td>\n",
       "      <td>25</td>\n",
       "      <td>89</td>\n",
       "    </tr>\n",
       "    <tr>\n",
       "      <th>panda</th>\n",
       "      <td>18</td>\n",
       "      <td>44</td>\n",
       "      <td>21</td>\n",
       "    </tr>\n",
       "    <tr>\n",
       "      <th>champ</th>\n",
       "      <td>73</td>\n",
       "      <td>29</td>\n",
       "      <td>36</td>\n",
       "    </tr>\n",
       "  </tbody>\n",
       "</table>\n",
       "</div>"
      ]
     },
     "execution_count": 3,
     "metadata": {},
     "output_type": "execute_result"
    }
   ],
   "execution_count": 3
  },
  {
   "metadata": {
    "ExecuteTime": {
     "end_time": "2025-10-06T09:26:07.679594Z",
     "start_time": "2025-10-06T09:26:07.669224Z"
    }
   },
   "cell_type": "code",
   "source": "df.loc[['virat','dhoni'],['m1','m3']]",
   "id": "164bb2ec14f40357",
   "outputs": [
    {
     "data": {
      "text/plain": [
       "       m1  m3\n",
       "virat  60  30\n",
       "dhoni  28  89"
      ],
      "text/html": [
       "<div>\n",
       "<style scoped>\n",
       "    .dataframe tbody tr th:only-of-type {\n",
       "        vertical-align: middle;\n",
       "    }\n",
       "\n",
       "    .dataframe tbody tr th {\n",
       "        vertical-align: top;\n",
       "    }\n",
       "\n",
       "    .dataframe thead th {\n",
       "        text-align: right;\n",
       "    }\n",
       "</style>\n",
       "<table border=\"1\" class=\"dataframe\">\n",
       "  <thead>\n",
       "    <tr style=\"text-align: right;\">\n",
       "      <th></th>\n",
       "      <th>m1</th>\n",
       "      <th>m3</th>\n",
       "    </tr>\n",
       "  </thead>\n",
       "  <tbody>\n",
       "    <tr>\n",
       "      <th>virat</th>\n",
       "      <td>60</td>\n",
       "      <td>30</td>\n",
       "    </tr>\n",
       "    <tr>\n",
       "      <th>dhoni</th>\n",
       "      <td>28</td>\n",
       "      <td>89</td>\n",
       "    </tr>\n",
       "  </tbody>\n",
       "</table>\n",
       "</div>"
      ]
     },
     "execution_count": 8,
     "metadata": {},
     "output_type": "execute_result"
    }
   ],
   "execution_count": 8
  },
  {
   "metadata": {
    "ExecuteTime": {
     "end_time": "2025-10-06T09:27:23.736457Z",
     "start_time": "2025-10-06T09:27:23.726079Z"
    }
   },
   "cell_type": "code",
   "source": "df.iloc[:2,:2]",
   "id": "8217b2d87bf4b198",
   "outputs": [
    {
     "data": {
      "text/plain": [
       "       m1  m2\n",
       "virat  60  31\n",
       "dhoni  28  25"
      ],
      "text/html": [
       "<div>\n",
       "<style scoped>\n",
       "    .dataframe tbody tr th:only-of-type {\n",
       "        vertical-align: middle;\n",
       "    }\n",
       "\n",
       "    .dataframe tbody tr th {\n",
       "        vertical-align: top;\n",
       "    }\n",
       "\n",
       "    .dataframe thead th {\n",
       "        text-align: right;\n",
       "    }\n",
       "</style>\n",
       "<table border=\"1\" class=\"dataframe\">\n",
       "  <thead>\n",
       "    <tr style=\"text-align: right;\">\n",
       "      <th></th>\n",
       "      <th>m1</th>\n",
       "      <th>m2</th>\n",
       "    </tr>\n",
       "  </thead>\n",
       "  <tbody>\n",
       "    <tr>\n",
       "      <th>virat</th>\n",
       "      <td>60</td>\n",
       "      <td>31</td>\n",
       "    </tr>\n",
       "    <tr>\n",
       "      <th>dhoni</th>\n",
       "      <td>28</td>\n",
       "      <td>25</td>\n",
       "    </tr>\n",
       "  </tbody>\n",
       "</table>\n",
       "</div>"
      ]
     },
     "execution_count": 13,
     "metadata": {},
     "output_type": "execute_result"
    }
   ],
   "execution_count": 13
  },
  {
   "metadata": {
    "ExecuteTime": {
     "end_time": "2025-10-06T09:27:35.544568Z",
     "start_time": "2025-10-06T09:27:35.523814Z"
    }
   },
   "cell_type": "code",
   "source": "df.iloc[:2,:]",
   "id": "58e30dff0615f6c6",
   "outputs": [
    {
     "data": {
      "text/plain": [
       "       m1  m2  m3\n",
       "virat  60  31  30\n",
       "dhoni  28  25  89"
      ],
      "text/html": [
       "<div>\n",
       "<style scoped>\n",
       "    .dataframe tbody tr th:only-of-type {\n",
       "        vertical-align: middle;\n",
       "    }\n",
       "\n",
       "    .dataframe tbody tr th {\n",
       "        vertical-align: top;\n",
       "    }\n",
       "\n",
       "    .dataframe thead th {\n",
       "        text-align: right;\n",
       "    }\n",
       "</style>\n",
       "<table border=\"1\" class=\"dataframe\">\n",
       "  <thead>\n",
       "    <tr style=\"text-align: right;\">\n",
       "      <th></th>\n",
       "      <th>m1</th>\n",
       "      <th>m2</th>\n",
       "      <th>m3</th>\n",
       "    </tr>\n",
       "  </thead>\n",
       "  <tbody>\n",
       "    <tr>\n",
       "      <th>virat</th>\n",
       "      <td>60</td>\n",
       "      <td>31</td>\n",
       "      <td>30</td>\n",
       "    </tr>\n",
       "    <tr>\n",
       "      <th>dhoni</th>\n",
       "      <td>28</td>\n",
       "      <td>25</td>\n",
       "      <td>89</td>\n",
       "    </tr>\n",
       "  </tbody>\n",
       "</table>\n",
       "</div>"
      ]
     },
     "execution_count": 14,
     "metadata": {},
     "output_type": "execute_result"
    }
   ],
   "execution_count": 14
  },
  {
   "metadata": {
    "ExecuteTime": {
     "end_time": "2025-10-06T09:33:07.014660Z",
     "start_time": "2025-10-06T09:33:07.008300Z"
    }
   },
   "cell_type": "code",
   "source": [
    "student=np.array([('anurag',45,56),('achintya',34,22)],dtype=[('name','U10'),('marks','i4'),('age','i4')])\n",
    "student['name']"
   ],
   "id": "d7b2637c65cff433",
   "outputs": [
    {
     "data": {
      "text/plain": [
       "array(['anurag', 'achintya'], dtype='<U10')"
      ]
     },
     "execution_count": 21,
     "metadata": {},
     "output_type": "execute_result"
    }
   ],
   "execution_count": 21
  },
  {
   "metadata": {},
   "cell_type": "code",
   "outputs": [],
   "execution_count": null,
   "source": "",
   "id": "4244cc02020a1dc1"
  }
 ],
 "metadata": {
  "kernelspec": {
   "display_name": "Python 3",
   "language": "python",
   "name": "python3"
  },
  "language_info": {
   "codemirror_mode": {
    "name": "ipython",
    "version": 2
   },
   "file_extension": ".py",
   "mimetype": "text/x-python",
   "name": "python",
   "nbconvert_exporter": "python",
   "pygments_lexer": "ipython2",
   "version": "2.7.6"
  }
 },
 "nbformat": 4,
 "nbformat_minor": 5
}
