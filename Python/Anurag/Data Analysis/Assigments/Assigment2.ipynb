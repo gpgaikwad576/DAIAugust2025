{
 "cells": [
  {
   "metadata": {
    "ExecuteTime": {
     "end_time": "2025-10-06T12:29:34.710494Z",
     "start_time": "2025-10-06T12:29:34.706141Z"
    }
   },
   "cell_type": "code",
   "source": [
    "import pandas as pd\n",
    "import numpy as np"
   ],
   "id": "58cef48a88f702f",
   "outputs": [],
   "execution_count": 19
  },
  {
   "metadata": {},
   "cell_type": "markdown",
   "source": "# 1 Write a Pandas program to create and display a one-dimensional array-like object containing an array of data using Pandas module.",
   "id": "73858b7ea73d7ef8"
  },
  {
   "metadata": {
    "ExecuteTime": {
     "end_time": "2025-10-06T12:17:35.609636Z",
     "start_time": "2025-10-06T12:17:35.538572Z"
    }
   },
   "cell_type": "code",
   "source": "print(pd.Series([1,2,3,4],index=['one','two','three','four']))",
   "id": "2f2b9e7590e0642c",
   "outputs": [
    {
     "name": "stdout",
     "output_type": "stream",
     "text": [
      "one      1\n",
      "two      2\n",
      "three    3\n",
      "four     4\n",
      "dtype: int64\n"
     ]
    }
   ],
   "execution_count": 2
  },
  {
   "metadata": {},
   "cell_type": "markdown",
   "source": "# 2. Write a Pandas program to convert a Panda module Series to Python list and it's type.",
   "id": "a75687eb04ba8e17"
  },
  {
   "metadata": {
    "ExecuteTime": {
     "end_time": "2025-10-06T12:18:36.367647Z",
     "start_time": "2025-10-06T12:18:36.361642Z"
    }
   },
   "cell_type": "code",
   "source": "print(pd.Series([1,2,3,4],index=['one','two','three','four']).tolist())",
   "id": "9f088a21645a22ab",
   "outputs": [
    {
     "name": "stdout",
     "output_type": "stream",
     "text": [
      "[1, 2, 3, 4]\n"
     ]
    }
   ],
   "execution_count": 3
  },
  {
   "metadata": {},
   "cell_type": "markdown",
   "source": "# 3. Write a Pandas program to add, subtract, multiple and divide two Pandas Series. Sample Series: [2, 4, 6, 8, 10], [1, 3, 5, 7, 9]",
   "id": "dd32c929845e0dbe"
  },
  {
   "metadata": {
    "ExecuteTime": {
     "end_time": "2025-10-06T12:21:16.957665Z",
     "start_time": "2025-10-06T12:21:16.944282Z"
    }
   },
   "cell_type": "code",
   "source": [
    "x=pd.Series([2, 4, 6, 8, 10])\n",
    "y=pd.Series([1,3,5,7,9])\n",
    "print(x-y)\n",
    "print(x+y)\n",
    "print(x*y)\n",
    "print(x/y)"
   ],
   "id": "ff4849cb7ab50e2b",
   "outputs": [
    {
     "name": "stdout",
     "output_type": "stream",
     "text": [
      "0    1\n",
      "1    1\n",
      "2    1\n",
      "3    1\n",
      "4    1\n",
      "dtype: int64\n",
      "0     3\n",
      "1     7\n",
      "2    11\n",
      "3    15\n",
      "4    19\n",
      "dtype: int64\n",
      "0     2\n",
      "1    12\n",
      "2    30\n",
      "3    56\n",
      "4    90\n",
      "dtype: int64\n",
      "0    2.000000\n",
      "1    1.333333\n",
      "2    1.200000\n",
      "3    1.142857\n",
      "4    1.111111\n",
      "dtype: float64\n"
     ]
    }
   ],
   "execution_count": 8
  },
  {
   "metadata": {},
   "cell_type": "markdown",
   "source": "# 4. Write a Pandas program to compare the elements of the two Pandas Series. Sample Series: [2, 4, 6, 8, 10], [1, 3, 5, 7, 10]",
   "id": "ea627be45ea85303"
  },
  {
   "metadata": {
    "ExecuteTime": {
     "end_time": "2025-10-06T12:24:03.594870Z",
     "start_time": "2025-10-06T12:24:03.588262Z"
    }
   },
   "cell_type": "code",
   "source": [
    "x=pd.Series([2, 4, 6, 8, 10])\n",
    "y=pd.Series([1, 3, 5, 7, 10])\n",
    "\n",
    "print(x>=y)\n",
    "print(x<=y)"
   ],
   "id": "45096cee573b3cfb",
   "outputs": [
    {
     "name": "stdout",
     "output_type": "stream",
     "text": [
      "0    True\n",
      "1    True\n",
      "2    True\n",
      "3    True\n",
      "4    True\n",
      "dtype: bool\n",
      "0    False\n",
      "1    False\n",
      "2    False\n",
      "3    False\n",
      "4     True\n",
      "dtype: bool\n"
     ]
    }
   ],
   "execution_count": 13
  },
  {
   "metadata": {},
   "cell_type": "markdown",
   "source": "# 5. Write a Pandas program to convert a dictionary to a Pandas series.",
   "id": "84e78da03e74d935"
  },
  {
   "metadata": {
    "ExecuteTime": {
     "end_time": "2025-10-06T12:28:56.075252Z",
     "start_time": "2025-10-06T12:28:56.059401Z"
    }
   },
   "cell_type": "code",
   "source": [
    "d={'a': 100, 'b': 200, 'c': 300, 'd': 400, 'e': 800}\n",
    "s=pd.Series(data=d.values(),index=d.keys())\n",
    "s"
   ],
   "id": "4ea93b6c3d207fc0",
   "outputs": [
    {
     "data": {
      "text/plain": [
       "a    100\n",
       "b    200\n",
       "c    300\n",
       "d    400\n",
       "e    800\n",
       "dtype: int64"
      ]
     },
     "execution_count": 18,
     "metadata": {},
     "output_type": "execute_result"
    }
   ],
   "execution_count": 18
  },
  {
   "metadata": {},
   "cell_type": "markdown",
   "source": "# 6. Write a Pandas program to convert a NumPy array to a Pandas series.",
   "id": "657551d5fc9d290c"
  },
  {
   "metadata": {
    "ExecuteTime": {
     "end_time": "2025-10-06T12:30:27.858367Z",
     "start_time": "2025-10-06T12:30:27.845459Z"
    }
   },
   "cell_type": "code",
   "source": [
    "data=np.random.randint(0,100,20)\n",
    "print(pd.Series(data))"
   ],
   "id": "f25942deda7c93f6",
   "outputs": [
    {
     "name": "stdout",
     "output_type": "stream",
     "text": [
      "0     59\n",
      "1      2\n",
      "2     22\n",
      "3     92\n",
      "4     65\n",
      "5     32\n",
      "6     15\n",
      "7     35\n",
      "8     51\n",
      "9     24\n",
      "10    99\n",
      "11    88\n",
      "12    59\n",
      "13    90\n",
      "14    43\n",
      "15    32\n",
      "16    85\n",
      "17    87\n",
      "18    31\n",
      "19    50\n",
      "dtype: int32\n"
     ]
    }
   ],
   "execution_count": 21
  },
  {
   "metadata": {},
   "cell_type": "markdown",
   "source": "# 7. Write a Pandas program to change the data type of given a column or a Series.",
   "id": "fcde8bdaa0444a09"
  },
  {
   "metadata": {
    "ExecuteTime": {
     "end_time": "2025-10-06T12:34:23.841591Z",
     "start_time": "2025-10-06T12:34:23.825575Z"
    }
   },
   "cell_type": "code",
   "source": [
    "df=pd.DataFrame({'name':['Anurag',\"raj\",\"swaraj\"],\"age\":[22,33,55]})\n",
    "print(df['age'].dtype)\n",
    "df['age']=df['age'].astype(\"float64\")\n",
    "print(df['age'].dtype)\n",
    "df"
   ],
   "id": "d8aa0c73a77711b5",
   "outputs": [
    {
     "name": "stdout",
     "output_type": "stream",
     "text": [
      "int64\n",
      "float64\n"
     ]
    },
    {
     "data": {
      "text/plain": [
       "     name   age\n",
       "0  Anurag  22.0\n",
       "1     raj  33.0\n",
       "2  swaraj  55.0"
      ],
      "text/html": [
       "<div>\n",
       "<style scoped>\n",
       "    .dataframe tbody tr th:only-of-type {\n",
       "        vertical-align: middle;\n",
       "    }\n",
       "\n",
       "    .dataframe tbody tr th {\n",
       "        vertical-align: top;\n",
       "    }\n",
       "\n",
       "    .dataframe thead th {\n",
       "        text-align: right;\n",
       "    }\n",
       "</style>\n",
       "<table border=\"1\" class=\"dataframe\">\n",
       "  <thead>\n",
       "    <tr style=\"text-align: right;\">\n",
       "      <th></th>\n",
       "      <th>name</th>\n",
       "      <th>age</th>\n",
       "    </tr>\n",
       "  </thead>\n",
       "  <tbody>\n",
       "    <tr>\n",
       "      <th>0</th>\n",
       "      <td>Anurag</td>\n",
       "      <td>22.0</td>\n",
       "    </tr>\n",
       "    <tr>\n",
       "      <th>1</th>\n",
       "      <td>raj</td>\n",
       "      <td>33.0</td>\n",
       "    </tr>\n",
       "    <tr>\n",
       "      <th>2</th>\n",
       "      <td>swaraj</td>\n",
       "      <td>55.0</td>\n",
       "    </tr>\n",
       "  </tbody>\n",
       "</table>\n",
       "</div>"
      ]
     },
     "execution_count": 27,
     "metadata": {},
     "output_type": "execute_result"
    }
   ],
   "execution_count": 27
  },
  {
   "metadata": {
    "ExecuteTime": {
     "end_time": "2025-10-06T12:39:51.157008Z",
     "start_time": "2025-10-06T12:39:51.147391Z"
    }
   },
   "cell_type": "code",
   "source": [
    "data=[100,200,'python', 3, 300.12,4,400]\n",
    "s=pd.Series(data)\n",
    "s=pd.to_numeric(s,errors='coerce')\n",
    "s"
   ],
   "id": "6fac981ebe0ef9d",
   "outputs": [
    {
     "data": {
      "text/plain": [
       "0    100.00\n",
       "1    200.00\n",
       "2       NaN\n",
       "3      3.00\n",
       "4    300.12\n",
       "5      4.00\n",
       "6    400.00\n",
       "dtype: float64"
      ]
     },
     "execution_count": 36,
     "metadata": {},
     "output_type": "execute_result"
    }
   ],
   "execution_count": 36
  },
  {
   "metadata": {},
   "cell_type": "markdown",
   "source": "# 8. Write a Pandas program to convert the first column of a DataFrame as a Series.",
   "id": "12642f4732110684"
  },
  {
   "metadata": {
    "ExecuteTime": {
     "end_time": "2025-10-06T12:46:25.662980Z",
     "start_time": "2025-10-06T12:46:25.655135Z"
    }
   },
   "cell_type": "code",
   "source": [
    "col1=[1 ,2 ,3 ,4 ,7,11]\n",
    "col2=[4,5,6,9,5,0]\n",
    "col3=[7,5,8,12,1,11]\n",
    "df=pd.DataFrame({'col1':col1,'col2':col2,\"col3\":col3})\n",
    "s=pd.Series(df['col1'])\n",
    "print(s)\n",
    "print(type(s))"
   ],
   "id": "c737d184d34536c3",
   "outputs": [
    {
     "name": "stdout",
     "output_type": "stream",
     "text": [
      "0     1\n",
      "1     2\n",
      "2     3\n",
      "3     4\n",
      "4     7\n",
      "5    11\n",
      "Name: col1, dtype: int64\n",
      "<class 'pandas.core.series.Series'>\n"
     ]
    }
   ],
   "execution_count": 42
  },
  {
   "metadata": {},
   "cell_type": "markdown",
   "source": "# 9. Write a Pandas program to convert a given Series to an array.",
   "id": "ed865c971ea1db45"
  },
  {
   "metadata": {
    "ExecuteTime": {
     "end_time": "2025-10-06T12:49:20.436586Z",
     "start_time": "2025-10-06T12:49:20.431001Z"
    }
   },
   "cell_type": "code",
   "source": [
    "s=pd.Series([100,200,'python',300,12,400])\n",
    "print(np.array(s,dtype='str'))"
   ],
   "id": "fb12fb747ea21b95",
   "outputs": [
    {
     "name": "stdout",
     "output_type": "stream",
     "text": [
      "['100' '200' 'python' '300' '12' '400']\n"
     ]
    }
   ],
   "execution_count": 46
  },
  {
   "metadata": {},
   "cell_type": "markdown",
   "source": "# 10. Write a Pandas program to convert Series of lists to one Series.",
   "id": "4e051b69d07d67cb"
  },
  {
   "metadata": {
    "ExecuteTime": {
     "end_time": "2025-10-06T13:09:18.284940Z",
     "start_time": "2025-10-06T13:09:18.274962Z"
    }
   },
   "cell_type": "code",
   "source": [
    "s=pd.Series(data=[['Red', 'Green', 'White'],['Red', 'Black'],['Yellow']])\n",
    "# s=s.explode().reset_index().drop('index',axis=1)\n",
    "x=[x for i in s.values for x in i]\n",
    "print(pd.Series(x))\n"
   ],
   "id": "88ad8ddef12d9720",
   "outputs": [
    {
     "name": "stdout",
     "output_type": "stream",
     "text": [
      "0       Red\n",
      "1     Green\n",
      "2     White\n",
      "3       Red\n",
      "4     Black\n",
      "5    Yellow\n",
      "dtype: object\n"
     ]
    }
   ],
   "execution_count": 73
  },
  {
   "metadata": {},
   "cell_type": "markdown",
   "source": "# 11. Write a Pandas program to sort a given Series.",
   "id": "9a69ec16021b80a9"
  },
  {
   "metadata": {
    "ExecuteTime": {
     "end_time": "2025-10-06T13:07:29.602988Z",
     "start_time": "2025-10-06T13:07:29.596355Z"
    }
   },
   "cell_type": "code",
   "source": [
    "s=pd.Series([100,200,'python',300,12,400])\n",
    "s=s.apply(str)\n",
    "print(s.sort_values())\n"
   ],
   "id": "9241e413aafd0f5a",
   "outputs": [
    {
     "name": "stdout",
     "output_type": "stream",
     "text": [
      "0       100\n",
      "4        12\n",
      "1       200\n",
      "3       300\n",
      "5       400\n",
      "2    python\n",
      "dtype: object\n"
     ]
    }
   ],
   "execution_count": 69
  },
  {
   "metadata": {},
   "cell_type": "markdown",
   "source": "# 12. Write a Pandas program to add some data to an existing Series.",
   "id": "dca5c124e2bffaf4"
  },
  {
   "metadata": {
    "ExecuteTime": {
     "end_time": "2025-10-06T13:18:12.449375Z",
     "start_time": "2025-10-06T13:18:12.430047Z"
    }
   },
   "cell_type": "code",
   "source": [
    "s=pd.Series([100,200,'python',300.12,400])\n",
    "s=s._append(pd.Series([500,'php'])).reset_index().drop('index',axis=1)\n",
    "s"
   ],
   "id": "242aaa56f3ec1463",
   "outputs": [
    {
     "data": {
      "text/plain": [
       "        0\n",
       "0     100\n",
       "1     200\n",
       "2  python\n",
       "3  300.12\n",
       "4     400\n",
       "5     500\n",
       "6     php"
      ],
      "text/html": [
       "<div>\n",
       "<style scoped>\n",
       "    .dataframe tbody tr th:only-of-type {\n",
       "        vertical-align: middle;\n",
       "    }\n",
       "\n",
       "    .dataframe tbody tr th {\n",
       "        vertical-align: top;\n",
       "    }\n",
       "\n",
       "    .dataframe thead th {\n",
       "        text-align: right;\n",
       "    }\n",
       "</style>\n",
       "<table border=\"1\" class=\"dataframe\">\n",
       "  <thead>\n",
       "    <tr style=\"text-align: right;\">\n",
       "      <th></th>\n",
       "      <th>0</th>\n",
       "    </tr>\n",
       "  </thead>\n",
       "  <tbody>\n",
       "    <tr>\n",
       "      <th>0</th>\n",
       "      <td>100</td>\n",
       "    </tr>\n",
       "    <tr>\n",
       "      <th>1</th>\n",
       "      <td>200</td>\n",
       "    </tr>\n",
       "    <tr>\n",
       "      <th>2</th>\n",
       "      <td>python</td>\n",
       "    </tr>\n",
       "    <tr>\n",
       "      <th>3</th>\n",
       "      <td>300.12</td>\n",
       "    </tr>\n",
       "    <tr>\n",
       "      <th>4</th>\n",
       "      <td>400</td>\n",
       "    </tr>\n",
       "    <tr>\n",
       "      <th>5</th>\n",
       "      <td>500</td>\n",
       "    </tr>\n",
       "    <tr>\n",
       "      <th>6</th>\n",
       "      <td>php</td>\n",
       "    </tr>\n",
       "  </tbody>\n",
       "</table>\n",
       "</div>"
      ]
     },
     "execution_count": 97,
     "metadata": {},
     "output_type": "execute_result"
    }
   ],
   "execution_count": 97
  },
  {
   "metadata": {},
   "cell_type": "markdown",
   "source": "# 13. Write a Pandas program to create a subset of a given series based on value and condition.",
   "id": "d534a0fa821ea896"
  },
  {
   "metadata": {
    "ExecuteTime": {
     "end_time": "2025-10-06T13:24:54.219715Z",
     "start_time": "2025-10-06T13:24:54.211717Z"
    }
   },
   "cell_type": "code",
   "source": [
    "s=pd.Series([x for x in range(0,11)])\n",
    "s=s[:6]\n",
    "s"
   ],
   "id": "191cf211dccc718f",
   "outputs": [
    {
     "data": {
      "text/plain": [
       "0    0\n",
       "1    1\n",
       "2    2\n",
       "3    3\n",
       "4    4\n",
       "5    5\n",
       "dtype: int64"
      ]
     },
     "execution_count": 105,
     "metadata": {},
     "output_type": "execute_result"
    }
   ],
   "execution_count": 105
  },
  {
   "metadata": {},
   "cell_type": "markdown",
   "source": "# 14. Write a Pandas program to change the order of index of a given series.",
   "id": "43411b4529bfca58"
  },
  {
   "metadata": {
    "ExecuteTime": {
     "end_time": "2025-10-06T13:32:59.538462Z",
     "start_time": "2025-10-06T13:32:59.527831Z"
    }
   },
   "cell_type": "code",
   "source": [
    "s=pd.Series([x for x in range(1,6)],index='A B C D E'.split())\n",
    "s=s.reindex(['B','A','C','D','E'])\n",
    "s"
   ],
   "id": "46af0521faa9b367",
   "outputs": [
    {
     "data": {
      "text/plain": [
       "B    2\n",
       "A    1\n",
       "C    3\n",
       "D    4\n",
       "E    5\n",
       "dtype: int64"
      ]
     },
     "execution_count": 119,
     "metadata": {},
     "output_type": "execute_result"
    }
   ],
   "execution_count": 119
  },
  {
   "metadata": {},
   "cell_type": "code",
   "outputs": [],
   "execution_count": null,
   "source": "",
   "id": "de341f246b31d893"
  }
 ],
 "metadata": {
  "kernelspec": {
   "display_name": "Python 3",
   "language": "python",
   "name": "python3"
  },
  "language_info": {
   "codemirror_mode": {
    "name": "ipython",
    "version": 2
   },
   "file_extension": ".py",
   "mimetype": "text/x-python",
   "name": "python",
   "nbconvert_exporter": "python",
   "pygments_lexer": "ipython2",
   "version": "2.7.6"
  }
 },
 "nbformat": 4,
 "nbformat_minor": 5
}
