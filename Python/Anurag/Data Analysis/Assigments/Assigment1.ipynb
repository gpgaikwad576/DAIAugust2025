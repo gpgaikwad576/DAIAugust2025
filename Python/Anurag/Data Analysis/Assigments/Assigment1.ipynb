{
 "cells": [
  {
   "metadata": {
    "ExecuteTime": {
     "end_time": "2025-10-04T15:06:23.497061Z",
     "start_time": "2025-10-04T15:06:23.493142Z"
    }
   },
   "cell_type": "code",
   "source": "import numpy as np\n",
   "id": "d96cbc4d5f17db81",
   "outputs": [],
   "execution_count": 124
  },
  {
   "metadata": {
    "jupyter": {
     "is_executing": true
    }
   },
   "cell_type": "markdown",
   "source": "# Write a NumPy program to get the numpy version and show numpy build configuration.",
   "id": "4494fac1b6e10590"
  },
  {
   "metadata": {
    "ExecuteTime": {
     "end_time": "2025-10-04T11:32:08.052120Z",
     "start_time": "2025-10-04T11:32:08.046368Z"
    }
   },
   "cell_type": "code",
   "source": [
    "print(np.__version__)\n",
    "print(np.__config__)"
   ],
   "id": "f1e2b2f65f88e5d6",
   "outputs": [
    {
     "name": "stdout",
     "output_type": "stream",
     "text": [
      "2.3.3\n",
      "<module 'numpy.__config__' from 'D:\\\\DAIAugust2025\\\\Python\\\\Anurag\\\\.venv\\\\Lib\\\\site-packages\\\\numpy\\\\__config__.py'>\n"
     ]
    }
   ],
   "execution_count": 47
  },
  {
   "metadata": {},
   "cell_type": "markdown",
   "source": "# Write a NumPy program to get help on the add function.",
   "id": "3e693570cf004bbd"
  },
  {
   "metadata": {
    "ExecuteTime": {
     "end_time": "2025-10-04T11:33:36.844810Z",
     "start_time": "2025-10-04T11:33:36.809622Z"
    }
   },
   "cell_type": "code",
   "source": [
    "x=np.array([1,2,3,4,5,6])\n",
    "help(np.std(x))"
   ],
   "id": "fcf3e74f4c51839a",
   "outputs": [
    {
     "name": "stdout",
     "output_type": "stream",
     "text": [
      "Help on float64 object:\n",
      "\n",
      "class float64(floating, builtins.float)\n",
      " |  float64(x=0, /)\n",
      " |\n",
      " |  Double-precision floating-point number type, compatible with Python\n",
      " |  :class:`float` and C ``double``.\n",
      " |\n",
      " |  :Character code: ``'d'``\n",
      " |  :Canonical name: `numpy.double`\n",
      " |  :Alias on this platform (win32 AMD64): `numpy.float64`: 64-bit precision floating-point number type: sign bit, 11 bits exponent, 52 bits mantissa.\n",
      " |\n",
      " |  Method resolution order:\n",
      " |      float64\n",
      " |      floating\n",
      " |      inexact\n",
      " |      number\n",
      " |      generic\n",
      " |      builtins.float\n",
      " |      builtins.object\n",
      " |\n",
      " |  Methods defined here:\n",
      " |\n",
      " |  __abs__(self, /)\n",
      " |      abs(self)\n",
      " |\n",
      " |  __add__(self, value, /)\n",
      " |      Return self+value.\n",
      " |\n",
      " |  __bool__(self, /)\n",
      " |      True if self else False\n",
      " |\n",
      " |  __buffer__(self, flags, /)\n",
      " |      Return a buffer object that exposes the underlying memory of the object.\n",
      " |\n",
      " |  __divmod__(self, value, /)\n",
      " |      Return divmod(self, value).\n",
      " |\n",
      " |  __eq__(self, value, /)\n",
      " |      Return self==value.\n",
      " |\n",
      " |  __float__(self, /)\n",
      " |      float(self)\n",
      " |\n",
      " |  __floordiv__(self, value, /)\n",
      " |      Return self//value.\n",
      " |\n",
      " |  __ge__(self, value, /)\n",
      " |      Return self>=value.\n",
      " |\n",
      " |  __gt__(self, value, /)\n",
      " |      Return self>value.\n",
      " |\n",
      " |  __hash__(self, /)\n",
      " |      Return hash(self).\n",
      " |\n",
      " |  __int__(self, /)\n",
      " |      int(self)\n",
      " |\n",
      " |  __le__(self, value, /)\n",
      " |      Return self<=value.\n",
      " |\n",
      " |  __lt__(self, value, /)\n",
      " |      Return self<value.\n",
      " |\n",
      " |  __mod__(self, value, /)\n",
      " |      Return self%value.\n",
      " |\n",
      " |  __mul__(self, value, /)\n",
      " |      Return self*value.\n",
      " |\n",
      " |  __ne__(self, value, /)\n",
      " |      Return self!=value.\n",
      " |\n",
      " |  __neg__(self, /)\n",
      " |      -self\n",
      " |\n",
      " |  __pos__(self, /)\n",
      " |      +self\n",
      " |\n",
      " |  __pow__(self, value, mod=None, /)\n",
      " |      Return pow(self, value, mod).\n",
      " |\n",
      " |  __radd__(self, value, /)\n",
      " |      Return value+self.\n",
      " |\n",
      " |  __rdivmod__(self, value, /)\n",
      " |      Return divmod(value, self).\n",
      " |\n",
      " |  __repr__(self, /)\n",
      " |      Return repr(self).\n",
      " |\n",
      " |  __rfloordiv__(self, value, /)\n",
      " |      Return value//self.\n",
      " |\n",
      " |  __rmod__(self, value, /)\n",
      " |      Return value%self.\n",
      " |\n",
      " |  __rmul__(self, value, /)\n",
      " |      Return value*self.\n",
      " |\n",
      " |  __rpow__(self, value, mod=None, /)\n",
      " |      Return pow(value, self, mod).\n",
      " |\n",
      " |  __rsub__(self, value, /)\n",
      " |      Return value-self.\n",
      " |\n",
      " |  __rtruediv__(self, value, /)\n",
      " |      Return value/self.\n",
      " |\n",
      " |  __str__(self, /)\n",
      " |      Return str(self).\n",
      " |\n",
      " |  __sub__(self, value, /)\n",
      " |      Return self-value.\n",
      " |\n",
      " |  __truediv__(self, value, /)\n",
      " |      Return self/value.\n",
      " |\n",
      " |  as_integer_ratio(self, /)\n",
      " |      double.as_integer_ratio() -> (int, int)\n",
      " |\n",
      " |      Return a pair of integers, whose ratio is exactly equal to the original\n",
      " |      floating point number, and with a positive denominator.\n",
      " |      Raise `OverflowError` on infinities and a `ValueError` on NaNs.\n",
      " |\n",
      " |      >>> np.double(10.0).as_integer_ratio()\n",
      " |      (10, 1)\n",
      " |      >>> np.double(0.0).as_integer_ratio()\n",
      " |      (0, 1)\n",
      " |      >>> np.double(-.25).as_integer_ratio()\n",
      " |      (-1, 4)\n",
      " |\n",
      " |  is_integer(self, /)\n",
      " |      double.is_integer() -> bool\n",
      " |\n",
      " |      Return ``True`` if the floating point number is finite with integral\n",
      " |      value, and ``False`` otherwise.\n",
      " |\n",
      " |      .. versionadded:: 1.22\n",
      " |\n",
      " |      Examples\n",
      " |      --------\n",
      " |      >>> np.double(-2.0).is_integer()\n",
      " |      True\n",
      " |      >>> np.double(3.2).is_integer()\n",
      " |      False\n",
      " |\n",
      " |  ----------------------------------------------------------------------\n",
      " |  Class methods defined here:\n",
      " |\n",
      " |  __class_getitem__(object, /)\n",
      " |      __class_getitem__(item, /)\n",
      " |\n",
      " |      Return a parametrized wrapper around the `~numpy.number` type.\n",
      " |\n",
      " |      .. versionadded:: 1.22\n",
      " |\n",
      " |      Returns\n",
      " |      -------\n",
      " |      alias : types.GenericAlias\n",
      " |          A parametrized `~numpy.number` type.\n",
      " |\n",
      " |      Examples\n",
      " |      --------\n",
      " |      >>> from typing import Any\n",
      " |      >>> import numpy as np\n",
      " |\n",
      " |      >>> np.signedinteger[Any]\n",
      " |      numpy.signedinteger[typing.Any]\n",
      " |\n",
      " |      See Also\n",
      " |      --------\n",
      " |      :pep:`585` : Type hinting generics in standard collections.\n",
      " |\n",
      " |  ----------------------------------------------------------------------\n",
      " |  Static methods defined here:\n",
      " |\n",
      " |  __new__(*args, **kwargs)\n",
      " |      Create and return a new object.  See help(type) for accurate signature.\n",
      " |\n",
      " |  ----------------------------------------------------------------------\n",
      " |  Methods inherited from floating:\n",
      " |\n",
      " |  __round__(...)\n",
      " |\n",
      " |  ----------------------------------------------------------------------\n",
      " |  Methods inherited from generic:\n",
      " |\n",
      " |  __and__(self, value, /)\n",
      " |      Return self&value.\n",
      " |\n",
      " |  __array__(...)\n",
      " |      sc.__array__(dtype) return 0-dim array from scalar with specified dtype\n",
      " |\n",
      " |  __array_namespace__(...)\n",
      " |\n",
      " |  __array_wrap__(...)\n",
      " |      __array_wrap__ implementation for scalar types\n",
      " |\n",
      " |  __copy__(...)\n",
      " |\n",
      " |  __deepcopy__(...)\n",
      " |\n",
      " |  __format__(...)\n",
      " |      NumPy array scalar formatter\n",
      " |\n",
      " |  __getitem__(self, key, /)\n",
      " |      Return self[key].\n",
      " |\n",
      " |  __invert__(self, /)\n",
      " |      ~self\n",
      " |\n",
      " |  __lshift__(self, value, /)\n",
      " |      Return self<<value.\n",
      " |\n",
      " |  __or__(self, value, /)\n",
      " |      Return self|value.\n",
      " |\n",
      " |  __rand__(self, value, /)\n",
      " |      Return value&self.\n",
      " |\n",
      " |  __reduce__(...)\n",
      " |      Helper for pickle.\n",
      " |\n",
      " |  __rlshift__(self, value, /)\n",
      " |      Return value<<self.\n",
      " |\n",
      " |  __ror__(self, value, /)\n",
      " |      Return value|self.\n",
      " |\n",
      " |  __rrshift__(self, value, /)\n",
      " |      Return value>>self.\n",
      " |\n",
      " |  __rshift__(self, value, /)\n",
      " |      Return self>>value.\n",
      " |\n",
      " |  __rxor__(self, value, /)\n",
      " |      Return value^self.\n",
      " |\n",
      " |  __setstate__(...)\n",
      " |\n",
      " |  __sizeof__(self, /)\n",
      " |      Size of object in memory, in bytes.\n",
      " |\n",
      " |  __xor__(self, value, /)\n",
      " |      Return self^value.\n",
      " |\n",
      " |  all(...)\n",
      " |      Scalar method identical to the corresponding array attribute.\n",
      " |\n",
      " |      Please see `ndarray.all`.\n",
      " |\n",
      " |  any(...)\n",
      " |      Scalar method identical to the corresponding array attribute.\n",
      " |\n",
      " |      Please see `ndarray.any`.\n",
      " |\n",
      " |  argmax(...)\n",
      " |      Scalar method identical to the corresponding array attribute.\n",
      " |\n",
      " |      Please see `ndarray.argmax`.\n",
      " |\n",
      " |  argmin(...)\n",
      " |      Scalar method identical to the corresponding array attribute.\n",
      " |\n",
      " |      Please see `ndarray.argmin`.\n",
      " |\n",
      " |  argsort(...)\n",
      " |      Scalar method identical to the corresponding array attribute.\n",
      " |\n",
      " |      Please see `ndarray.argsort`.\n",
      " |\n",
      " |  astype(...)\n",
      " |      Scalar method identical to the corresponding array attribute.\n",
      " |\n",
      " |      Please see `ndarray.astype`.\n",
      " |\n",
      " |  byteswap(...)\n",
      " |      Scalar method identical to the corresponding array attribute.\n",
      " |\n",
      " |      Please see `ndarray.byteswap`.\n",
      " |\n",
      " |  choose(...)\n",
      " |      Scalar method identical to the corresponding array attribute.\n",
      " |\n",
      " |      Please see `ndarray.choose`.\n",
      " |\n",
      " |  clip(...)\n",
      " |      Scalar method identical to the corresponding array attribute.\n",
      " |\n",
      " |      Please see `ndarray.clip`.\n",
      " |\n",
      " |  compress(...)\n",
      " |      Scalar method identical to the corresponding array attribute.\n",
      " |\n",
      " |      Please see `ndarray.compress`.\n",
      " |\n",
      " |  conj(...)\n",
      " |\n",
      " |  conjugate(...)\n",
      " |      Scalar method identical to the corresponding array attribute.\n",
      " |\n",
      " |      Please see `ndarray.conjugate`.\n",
      " |\n",
      " |  copy(...)\n",
      " |      Scalar method identical to the corresponding array attribute.\n",
      " |\n",
      " |      Please see `ndarray.copy`.\n",
      " |\n",
      " |  cumprod(...)\n",
      " |      Scalar method identical to the corresponding array attribute.\n",
      " |\n",
      " |      Please see `ndarray.cumprod`.\n",
      " |\n",
      " |  cumsum(...)\n",
      " |      Scalar method identical to the corresponding array attribute.\n",
      " |\n",
      " |      Please see `ndarray.cumsum`.\n",
      " |\n",
      " |  diagonal(...)\n",
      " |      Scalar method identical to the corresponding array attribute.\n",
      " |\n",
      " |      Please see `ndarray.diagonal`.\n",
      " |\n",
      " |  dump(...)\n",
      " |      Scalar method identical to the corresponding array attribute.\n",
      " |\n",
      " |      Please see `ndarray.dump`.\n",
      " |\n",
      " |  dumps(...)\n",
      " |      Scalar method identical to the corresponding array attribute.\n",
      " |\n",
      " |      Please see `ndarray.dumps`.\n",
      " |\n",
      " |  fill(...)\n",
      " |      Scalar method identical to the corresponding array attribute.\n",
      " |\n",
      " |      Please see `ndarray.fill`.\n",
      " |\n",
      " |  flatten(...)\n",
      " |      Scalar method identical to the corresponding array attribute.\n",
      " |\n",
      " |      Please see `ndarray.flatten`.\n",
      " |\n",
      " |  getfield(...)\n",
      " |      Scalar method identical to the corresponding array attribute.\n",
      " |\n",
      " |      Please see `ndarray.getfield`.\n",
      " |\n",
      " |  item(...)\n",
      " |      Scalar method identical to the corresponding array attribute.\n",
      " |\n",
      " |      Please see `ndarray.item`.\n",
      " |\n",
      " |  max(...)\n",
      " |      Scalar method identical to the corresponding array attribute.\n",
      " |\n",
      " |      Please see `ndarray.max`.\n",
      " |\n",
      " |  mean(...)\n",
      " |      Scalar method identical to the corresponding array attribute.\n",
      " |\n",
      " |      Please see `ndarray.mean`.\n",
      " |\n",
      " |  min(...)\n",
      " |      Scalar method identical to the corresponding array attribute.\n",
      " |\n",
      " |      Please see `ndarray.min`.\n",
      " |\n",
      " |  nonzero(...)\n",
      " |      Scalar method identical to the corresponding array attribute.\n",
      " |\n",
      " |      Please see `ndarray.nonzero`.\n",
      " |\n",
      " |  prod(...)\n",
      " |      Scalar method identical to the corresponding array attribute.\n",
      " |\n",
      " |      Please see `ndarray.prod`.\n",
      " |\n",
      " |  put(...)\n",
      " |      Scalar method identical to the corresponding array attribute.\n",
      " |\n",
      " |      Please see `ndarray.put`.\n",
      " |\n",
      " |  ravel(...)\n",
      " |      Scalar method identical to the corresponding array attribute.\n",
      " |\n",
      " |      Please see `ndarray.ravel`.\n",
      " |\n",
      " |  repeat(...)\n",
      " |      Scalar method identical to the corresponding array attribute.\n",
      " |\n",
      " |      Please see `ndarray.repeat`.\n",
      " |\n",
      " |  reshape(...)\n",
      " |      Scalar method identical to the corresponding array attribute.\n",
      " |\n",
      " |      Please see `ndarray.reshape`.\n",
      " |\n",
      " |  resize(...)\n",
      " |      Scalar method identical to the corresponding array attribute.\n",
      " |\n",
      " |      Please see `ndarray.resize`.\n",
      " |\n",
      " |  round(...)\n",
      " |      Scalar method identical to the corresponding array attribute.\n",
      " |\n",
      " |      Please see `ndarray.round`.\n",
      " |\n",
      " |  searchsorted(...)\n",
      " |      Scalar method identical to the corresponding array attribute.\n",
      " |\n",
      " |      Please see `ndarray.searchsorted`.\n",
      " |\n",
      " |  setfield(...)\n",
      " |      Scalar method identical to the corresponding array attribute.\n",
      " |\n",
      " |      Please see `ndarray.setfield`.\n",
      " |\n",
      " |  setflags(...)\n",
      " |      Scalar method identical to the corresponding array attribute.\n",
      " |\n",
      " |      Please see `ndarray.setflags`.\n",
      " |\n",
      " |  sort(...)\n",
      " |      Scalar method identical to the corresponding array attribute.\n",
      " |\n",
      " |      Please see `ndarray.sort`.\n",
      " |\n",
      " |  squeeze(...)\n",
      " |      Scalar method identical to the corresponding array attribute.\n",
      " |\n",
      " |      Please see `ndarray.squeeze`.\n",
      " |\n",
      " |  std(...)\n",
      " |      Scalar method identical to the corresponding array attribute.\n",
      " |\n",
      " |      Please see `ndarray.std`.\n",
      " |\n",
      " |  sum(...)\n",
      " |      Scalar method identical to the corresponding array attribute.\n",
      " |\n",
      " |      Please see `ndarray.sum`.\n",
      " |\n",
      " |  swapaxes(...)\n",
      " |      Scalar method identical to the corresponding array attribute.\n",
      " |\n",
      " |      Please see `ndarray.swapaxes`.\n",
      " |\n",
      " |  take(...)\n",
      " |      Scalar method identical to the corresponding array attribute.\n",
      " |\n",
      " |      Please see `ndarray.take`.\n",
      " |\n",
      " |  to_device(...)\n",
      " |\n",
      " |  tobytes(...)\n",
      " |\n",
      " |  tofile(...)\n",
      " |      Scalar method identical to the corresponding array attribute.\n",
      " |\n",
      " |      Please see `ndarray.tofile`.\n",
      " |\n",
      " |  tolist(...)\n",
      " |      Scalar method identical to the corresponding array attribute.\n",
      " |\n",
      " |      Please see `ndarray.tolist`.\n",
      " |\n",
      " |  tostring(...)\n",
      " |      Scalar method identical to the corresponding array attribute.\n",
      " |\n",
      " |      Please see `ndarray.tostring`.\n",
      " |\n",
      " |  trace(...)\n",
      " |      Scalar method identical to the corresponding array attribute.\n",
      " |\n",
      " |      Please see `ndarray.trace`.\n",
      " |\n",
      " |  transpose(...)\n",
      " |      Scalar method identical to the corresponding array attribute.\n",
      " |\n",
      " |      Please see `ndarray.transpose`.\n",
      " |\n",
      " |  var(...)\n",
      " |      Scalar method identical to the corresponding array attribute.\n",
      " |\n",
      " |      Please see `ndarray.var`.\n",
      " |\n",
      " |  view(...)\n",
      " |      Scalar method identical to the corresponding array attribute.\n",
      " |\n",
      " |      Please see `ndarray.view`.\n",
      " |\n",
      " |  ----------------------------------------------------------------------\n",
      " |  Data descriptors inherited from generic:\n",
      " |\n",
      " |  T\n",
      " |      Scalar attribute identical to the corresponding array attribute.\n",
      " |\n",
      " |      Please see `ndarray.T`.\n",
      " |\n",
      " |  __array_interface__\n",
      " |      Array protocol: Python side\n",
      " |\n",
      " |  __array_priority__\n",
      " |      Array priority.\n",
      " |\n",
      " |  __array_struct__\n",
      " |      Array protocol: struct\n",
      " |\n",
      " |  base\n",
      " |      Scalar attribute identical to the corresponding array attribute.\n",
      " |\n",
      " |      Please see `ndarray.base`.\n",
      " |\n",
      " |  data\n",
      " |      Pointer to start of data.\n",
      " |\n",
      " |  device\n",
      " |\n",
      " |  dtype\n",
      " |      Get array data-descriptor.\n",
      " |\n",
      " |  flags\n",
      " |      The integer value of flags.\n",
      " |\n",
      " |  flat\n",
      " |      A 1-D view of the scalar.\n",
      " |\n",
      " |  imag\n",
      " |      The imaginary part of the scalar.\n",
      " |\n",
      " |  itemset\n",
      " |\n",
      " |  itemsize\n",
      " |      The length of one element in bytes.\n",
      " |\n",
      " |  nbytes\n",
      " |\n",
      " |  ndim\n",
      " |      The number of array dimensions.\n",
      " |\n",
      " |  newbyteorder\n",
      " |\n",
      " |  ptp\n",
      " |\n",
      " |  real\n",
      " |      The real part of the scalar.\n",
      " |\n",
      " |  shape\n",
      " |      Tuple of array dimensions.\n",
      " |\n",
      " |  size\n",
      " |      The number of elements in the gentype.\n",
      " |\n",
      " |  strides\n",
      " |      Tuple of bytes steps in each dimension.\n",
      " |\n",
      " |  ----------------------------------------------------------------------\n",
      " |  Methods inherited from builtins.float:\n",
      " |\n",
      " |  __ceil__(self, /)\n",
      " |      Return the ceiling as an Integral.\n",
      " |\n",
      " |  __floor__(self, /)\n",
      " |      Return the floor as an Integral.\n",
      " |\n",
      " |  __getnewargs__(self, /)\n",
      " |\n",
      " |  __trunc__(self, /)\n",
      " |      Return the Integral closest to x between 0 and x.\n",
      " |\n",
      " |  hex(self, /)\n",
      " |      Return a hexadecimal representation of a floating-point number.\n",
      " |\n",
      " |      >>> (-0.1).hex()\n",
      " |      '-0x1.999999999999ap-4'\n",
      " |      >>> 3.14159.hex()\n",
      " |      '0x1.921f9f01b866ep+1'\n",
      " |\n",
      " |  ----------------------------------------------------------------------\n",
      " |  Class methods inherited from builtins.float:\n",
      " |\n",
      " |  __getformat__(typestr, /)\n",
      " |      You probably don't want to use this function.\n",
      " |\n",
      " |        typestr\n",
      " |          Must be 'double' or 'float'.\n",
      " |\n",
      " |      It exists mainly to be used in Python's test suite.\n",
      " |\n",
      " |      This function returns whichever of 'unknown', 'IEEE, big-endian' or 'IEEE,\n",
      " |      little-endian' best describes the format of floating-point numbers used by the\n",
      " |      C type named by typestr.\n",
      " |\n",
      " |  fromhex(string, /)\n",
      " |      Create a floating-point number from a hexadecimal string.\n",
      " |\n",
      " |      >>> float.fromhex('0x1.ffffp10')\n",
      " |      2047.984375\n",
      " |      >>> float.fromhex('-0x1p-1074')\n",
      " |      -5e-324\n",
      "\n"
     ]
    }
   ],
   "execution_count": 49
  },
  {
   "metadata": {},
   "cell_type": "markdown",
   "source": "# Write a NumPy program to test whether none of the elements of a given array is zero.",
   "id": "d9d60c4b22a56fed"
  },
  {
   "metadata": {
    "ExecuteTime": {
     "end_time": "2025-10-04T11:36:46.953987Z",
     "start_time": "2025-10-04T11:36:46.949498Z"
    }
   },
   "cell_type": "code",
   "source": [
    "x=np.array([1,2,3,0,5])\n",
    "print(x==0)"
   ],
   "id": "c5f626353b3cff69",
   "outputs": [
    {
     "name": "stdout",
     "output_type": "stream",
     "text": [
      "[False False False  True False]\n"
     ]
    }
   ],
   "execution_count": 57
  },
  {
   "metadata": {},
   "cell_type": "markdown",
   "source": "# Write a NumPy program to test whether any of the elements of a given array is non-zero.",
   "id": "38e9af16f8fe7604"
  },
  {
   "metadata": {
    "ExecuteTime": {
     "end_time": "2025-10-04T11:36:33.330997Z",
     "start_time": "2025-10-04T11:36:33.325480Z"
    }
   },
   "cell_type": "code",
   "source": [
    "x=np.array([1,2,3,4,5])\n",
    "print(x!=0)"
   ],
   "id": "421d915699a8e4bb",
   "outputs": [
    {
     "name": "stdout",
     "output_type": "stream",
     "text": [
      "[ True  True  True  True  True]\n"
     ]
    }
   ],
   "execution_count": 56
  },
  {
   "metadata": {},
   "cell_type": "markdown",
   "source": "# `Write a NumPy program to test a given array element-wise for finiteness (not infinity or not a Number).",
   "id": "2da3d0bc47f93b29"
  },
  {
   "metadata": {
    "ExecuteTime": {
     "end_time": "2025-10-04T11:48:12.558699Z",
     "start_time": "2025-10-04T11:48:12.552598Z"
    }
   },
   "cell_type": "code",
   "source": [
    "x=np.array([1,2,3,4,float('inf'),None])\n",
    "print(x[(x!=float('inf')) &  (x!=None)])"
   ],
   "id": "56404a0ab6b48917",
   "outputs": [
    {
     "name": "stdout",
     "output_type": "stream",
     "text": [
      "[1 2 3 4]\n"
     ]
    }
   ],
   "execution_count": 74
  },
  {
   "metadata": {},
   "cell_type": "markdown",
   "source": "# Write a NumPy program to test element-wise for positive or negative infinity.",
   "id": "1e11f551cd66d3b1"
  },
  {
   "metadata": {
    "ExecuteTime": {
     "end_time": "2025-10-04T11:43:59.168391Z",
     "start_time": "2025-10-04T11:43:59.161147Z"
    }
   },
   "cell_type": "code",
   "source": [
    "x=np.array([1,2,3,4-5,-5,43,6,-2,float('-inf'),float('inf')])\n",
    "print(x[(x>0) & (x!=float('inf'))])\n",
    "print(x[(x<0)& (x!=float('-inf'))])\n",
    "print(x[x==float('-inf')])\n",
    "print(x[x==float('inf')])"
   ],
   "id": "72ce699ee242255a",
   "outputs": [
    {
     "name": "stdout",
     "output_type": "stream",
     "text": [
      "[ 1.  2.  3. 43.  6.]\n",
      "[-1. -5. -2.]\n",
      "[-inf]\n",
      "[inf]\n"
     ]
    }
   ],
   "execution_count": 70
  },
  {
   "metadata": {},
   "cell_type": "markdown",
   "source": "# Write a NumPy program to test element-wise for NaN of a given array.",
   "id": "167901dbfc7653af"
  },
  {
   "metadata": {
    "ExecuteTime": {
     "end_time": "2025-10-04T11:37:31.206371Z",
     "start_time": "2025-10-04T11:37:31.200729Z"
    }
   },
   "cell_type": "code",
   "source": [
    "x=np.array([1,2,3,4,5,None])\n",
    "print(x==None)"
   ],
   "id": "479d6fe824e302fb",
   "outputs": [
    {
     "name": "stdout",
     "output_type": "stream",
     "text": [
      "[False False False False False  True]\n"
     ]
    }
   ],
   "execution_count": 58
  },
  {
   "metadata": {},
   "cell_type": "markdown",
   "source": "# **Write a NumPy program to test element-wise for complex number, real number of a given array. Also test whether a given number is a scalar type or not.",
   "id": "15b9b62e3f78235a"
  },
  {
   "metadata": {
    "ExecuteTime": {
     "end_time": "2025-10-04T11:30:03.249980Z",
     "start_time": "2025-10-04T11:30:03.244922Z"
    }
   },
   "cell_type": "code",
   "source": [
    "a=np.array([1,2,3,4,-45.5,5+4j])\n",
    "print(type(a[0]))\n",
    "# b=np.array()"
   ],
   "id": "d876fe095e5b6e64",
   "outputs": [
    {
     "name": "stdout",
     "output_type": "stream",
     "text": [
      "<class 'numpy.complex128'>\n"
     ]
    }
   ],
   "execution_count": 46
  },
  {
   "metadata": {},
   "cell_type": "markdown",
   "source": "## Write a NumPy program to create an element-wise comparison (greater, greater_equal, less and less_equal) of two given arrays.",
   "id": "fef8eee5ebbdf0b4"
  },
  {
   "metadata": {
    "ExecuteTime": {
     "end_time": "2025-10-04T11:22:54.233714Z",
     "start_time": "2025-10-04T11:22:54.227172Z"
    }
   },
   "cell_type": "code",
   "source": [
    "a=np.array([1,2,3,4])\n",
    "b=np.array([4,3,2,1])\n",
    "print(a)\n",
    "print(b)\n",
    "print(a<=b)\n",
    "print(a[a<=b])\n",
    "print(a>=b)\n",
    "print(a[a>=b])\n",
    "print()"
   ],
   "id": "abf55a965956503f",
   "outputs": [
    {
     "name": "stdout",
     "output_type": "stream",
     "text": [
      "[1 2 3 4]\n",
      "[4 3 2 1]\n",
      "[ True  True False False]\n",
      "[1 2]\n",
      "[False False  True  True]\n",
      "[3 4]\n",
      "\n"
     ]
    }
   ],
   "execution_count": 41
  },
  {
   "metadata": {},
   "cell_type": "markdown",
   "source": "# Write a NumPy program to create an array with the values 1, 7, 13, 105 and determine the size of the memory occupied by the array.",
   "id": "22561782aa916075"
  },
  {
   "metadata": {
    "ExecuteTime": {
     "end_time": "2025-10-04T11:19:34.341391Z",
     "start_time": "2025-10-04T11:19:34.335344Z"
    }
   },
   "cell_type": "code",
   "source": [
    "x=np.array([1,7,13,105])\n",
    "x.nbytes"
   ],
   "id": "bc2c2deb15a5104b",
   "outputs": [
    {
     "data": {
      "text/plain": [
       "32"
      ]
     },
     "execution_count": 36,
     "metadata": {},
     "output_type": "execute_result"
    }
   ],
   "execution_count": 36
  },
  {
   "metadata": {},
   "cell_type": "markdown",
   "source": "# Write a NumPy program to create an array of 10 zeros,10 ones, 10 fives.",
   "id": "a44e1c619f4bb92"
  },
  {
   "metadata": {
    "ExecuteTime": {
     "end_time": "2025-10-04T11:14:11.836819Z",
     "start_time": "2025-10-04T11:14:11.828590Z"
    }
   },
   "cell_type": "code",
   "source": [
    "print(np.zeros(10))\n",
    "print(np.ones(10))\n",
    "print(np.full(10,5))"
   ],
   "id": "d5e6e54928057885",
   "outputs": [
    {
     "name": "stdout",
     "output_type": "stream",
     "text": [
      "[0. 0. 0. 0. 0. 0. 0. 0. 0. 0.]\n",
      "[1. 1. 1. 1. 1. 1. 1. 1. 1. 1.]\n",
      "[5 5 5 5 5 5 5 5 5 5]\n"
     ]
    }
   ],
   "execution_count": 33
  },
  {
   "metadata": {},
   "cell_type": "markdown",
   "source": "# Write a NumPy program to create an array of the integers from 30 to70.",
   "id": "f3605058b8cf6f40"
  },
  {
   "metadata": {
    "ExecuteTime": {
     "end_time": "2025-10-04T11:11:19.059931Z",
     "start_time": "2025-10-04T11:11:19.052739Z"
    }
   },
   "cell_type": "code",
   "source": "np.arange(30,70)",
   "id": "e627d04cd9d47f18",
   "outputs": [
    {
     "data": {
      "text/plain": [
       "array([30, 31, 32, 33, 34, 35, 36, 37, 38, 39, 40, 41, 42, 43, 44, 45, 46,\n",
       "       47, 48, 49, 50, 51, 52, 53, 54, 55, 56, 57, 58, 59, 60, 61, 62, 63,\n",
       "       64, 65, 66, 67, 68, 69])"
      ]
     },
     "execution_count": 32,
     "metadata": {},
     "output_type": "execute_result"
    }
   ],
   "execution_count": 32
  },
  {
   "metadata": {},
   "cell_type": "markdown",
   "source": "# Write a NumPy program to create an array of all the even integers from 30 to 70.",
   "id": "15dbcb557eedf526"
  },
  {
   "metadata": {
    "ExecuteTime": {
     "end_time": "2025-10-04T11:09:40.843494Z",
     "start_time": "2025-10-04T11:09:40.836674Z"
    }
   },
   "cell_type": "code",
   "source": "np.arange(30,70,2)",
   "id": "fb2c528752463a56",
   "outputs": [
    {
     "data": {
      "text/plain": [
       "array([30, 32, 34, 36, 38, 40, 42, 44, 46, 48, 50, 52, 54, 56, 58, 60, 62,\n",
       "       64, 66, 68])"
      ]
     },
     "execution_count": 31,
     "metadata": {},
     "output_type": "execute_result"
    }
   ],
   "execution_count": 31
  },
  {
   "metadata": {},
   "cell_type": "markdown",
   "source": "# Write a NumPy program to create a 3x3 identity matrix.",
   "id": "a9c0259054b712de"
  },
  {
   "metadata": {
    "ExecuteTime": {
     "end_time": "2025-10-04T11:09:18.398460Z",
     "start_time": "2025-10-04T11:09:18.391376Z"
    }
   },
   "cell_type": "code",
   "source": "np.eye(3,3)",
   "id": "4e7f4e42a3573abd",
   "outputs": [
    {
     "data": {
      "text/plain": [
       "array([[1., 0., 0.],\n",
       "       [0., 1., 0.],\n",
       "       [0., 0., 1.]])"
      ]
     },
     "execution_count": 30,
     "metadata": {},
     "output_type": "execute_result"
    }
   ],
   "execution_count": 30
  },
  {
   "metadata": {},
   "cell_type": "markdown",
   "source": "# Write a NumPy program to generate a random number between 0 and 1.",
   "id": "fb75376431f87802"
  },
  {
   "metadata": {
    "ExecuteTime": {
     "end_time": "2025-10-04T11:08:54.845737Z",
     "start_time": "2025-10-04T11:08:54.841093Z"
    }
   },
   "cell_type": "code",
   "source": "print(np.random.rand())",
   "id": "e4989a146a653a0",
   "outputs": [
    {
     "name": "stdout",
     "output_type": "stream",
     "text": [
      "0.6974499319734259\n"
     ]
    }
   ],
   "execution_count": 28
  },
  {
   "metadata": {},
   "cell_type": "markdown",
   "source": "# Write a NumPy program to generate an array of 15 random numbers from a standard normal distribution.",
   "id": "6809fb9d2fcf4c93"
  },
  {
   "metadata": {
    "ExecuteTime": {
     "end_time": "2025-10-04T11:08:36.634982Z",
     "start_time": "2025-10-04T11:08:36.629559Z"
    }
   },
   "cell_type": "code",
   "source": "print(np.random.randn(14))",
   "id": "e1adab5c96a0043c",
   "outputs": [
    {
     "name": "stdout",
     "output_type": "stream",
     "text": [
      "[-1.86014939 -0.85705301  1.25781893 -1.07119254  0.02656483 -0.01461239\n",
      " -0.66607277 -0.64512371  0.9303639  -0.71216664  0.64808431 -0.14517423\n",
      " -1.14059093 -2.58560541]\n"
     ]
    }
   ],
   "execution_count": 27
  },
  {
   "metadata": {},
   "cell_type": "markdown",
   "source": "# Write a NumPy program to create a vector with values ranging from 15 to 55 and print all values except the first and last.",
   "id": "f9fb2acf9bc2a1ba"
  },
  {
   "metadata": {
    "ExecuteTime": {
     "end_time": "2025-10-04T11:07:37.449250Z",
     "start_time": "2025-10-04T11:07:37.444293Z"
    }
   },
   "cell_type": "code",
   "source": [
    "x=np.arange(15,55)\n",
    "print(x[1:-1])"
   ],
   "id": "82cae07bb12316f4",
   "outputs": [
    {
     "name": "stdout",
     "output_type": "stream",
     "text": [
      "[16 17 18 19 20 21 22 23 24 25 26 27 28 29 30 31 32 33 34 35 36 37 38 39\n",
      " 40 41 42 43 44 45 46 47 48 49 50 51 52 53]\n"
     ]
    }
   ],
   "execution_count": 25
  },
  {
   "metadata": {},
   "cell_type": "markdown",
   "source": "# Write a NumPy program to create a 3X4 array using and iterate over it.",
   "id": "ce139ff5a89d7836"
  },
  {
   "metadata": {
    "ExecuteTime": {
     "end_time": "2025-10-04T11:04:54.542149Z",
     "start_time": "2025-10-04T11:04:54.533717Z"
    }
   },
   "cell_type": "code",
   "source": [
    "x=np.random.rand(3,4)\n",
    "for i in range(len(x)):\n",
    "    for j in range(len(x[i])):\n",
    "        print(x[i][j])"
   ],
   "id": "ebb751af9f42db4c",
   "outputs": [
    {
     "name": "stdout",
     "output_type": "stream",
     "text": [
      "0.7072891606224135\n",
      "0.8046628505194503\n",
      "0.21770778825517445\n",
      "0.12898337282298666\n",
      "0.5034369287058738\n",
      "0.4059316199257199\n",
      "0.4440060775207262\n",
      "0.043162258469757186\n",
      "0.8485324747023997\n",
      "0.9361234932440736\n",
      "0.5850406312340393\n",
      "0.4144155491343019\n"
     ]
    }
   ],
   "execution_count": 22
  },
  {
   "metadata": {},
   "cell_type": "markdown",
   "source": "# Write a NumPy program to create a vector of length 10 with values evenly distributed between 5 and 50.",
   "id": "a8db6c659713aaed"
  },
  {
   "metadata": {
    "ExecuteTime": {
     "end_time": "2025-10-04T11:02:36.839527Z",
     "start_time": "2025-10-04T11:02:36.834257Z"
    }
   },
   "cell_type": "code",
   "source": [
    "x=np.random.randint(5,50,10)\n",
    "print(sorted(x.tolist()))"
   ],
   "id": "e4c86ad7b7f688b1",
   "outputs": [
    {
     "name": "stdout",
     "output_type": "stream",
     "text": [
      "[7, 9, 15, 18, 20, 24, 26, 32, 43, 48]\n"
     ]
    }
   ],
   "execution_count": 20
  },
  {
   "metadata": {},
   "cell_type": "markdown",
   "source": "# Write a NumPy program to create a vector with values from 0 to 20 and change the sign of the numbers in the range from 9 to 15.",
   "id": "f19d30f514ee3db3"
  },
  {
   "metadata": {
    "ExecuteTime": {
     "end_time": "2025-10-04T11:00:21.284474Z",
     "start_time": "2025-10-04T11:00:21.278962Z"
    }
   },
   "cell_type": "code",
   "source": [
    "x=np.arange(0,21)\n",
    "x[9:16]=-x[9:16]\n",
    "print(x)"
   ],
   "id": "401216386397470b",
   "outputs": [
    {
     "name": "stdout",
     "output_type": "stream",
     "text": [
      "[  0   1   2   3   4   5   6   7   8  -9 -10 -11 -12 -13 -14 -15  16  17\n",
      "  18  19  20]\n"
     ]
    }
   ],
   "execution_count": 16
  },
  {
   "metadata": {},
   "cell_type": "markdown",
   "source": "# Write a NumPy program to create a vector of length 5 filled with arbitrary integers from 0 to 10.",
   "id": "22caf313461ed2a2"
  },
  {
   "metadata": {
    "ExecuteTime": {
     "end_time": "2025-10-04T10:28:54.486624Z",
     "start_time": "2025-10-04T10:28:54.480706Z"
    }
   },
   "cell_type": "code",
   "source": "print(np.random.randint(0,10,5))",
   "id": "44b1fad242d0063",
   "outputs": [
    {
     "name": "stdout",
     "output_type": "stream",
     "text": [
      "[1 8 2 2 9]\n"
     ]
    }
   ],
   "execution_count": 11
  },
  {
   "metadata": {},
   "cell_type": "markdown",
   "source": "# Write a NumPy program to multiply the values of two given vectors.",
   "id": "402e29c8fa2652a9"
  },
  {
   "metadata": {
    "ExecuteTime": {
     "end_time": "2025-10-04T10:26:10.203496Z",
     "start_time": "2025-10-04T10:26:10.196594Z"
    }
   },
   "cell_type": "code",
   "source": [
    "a=np.random.randint(0,100,(3,4))\n",
    "b=np.random.randint(0,100,(3,4))\n",
    "print(a)\n",
    "print(b,'\\n')\n",
    "print(\"Multiple of A*B\\n\")\n",
    "print(np.multiply(a,b))"
   ],
   "id": "f05516c8b1cf9a80",
   "outputs": [
    {
     "name": "stdout",
     "output_type": "stream",
     "text": [
      "[[41 92 76  8]\n",
      " [76 63 67 79]\n",
      " [41 88 73 85]]\n",
      "[[82 87  4 74]\n",
      " [32 48 50 31]\n",
      " [98 49 55 47]] \n",
      "\n",
      "Multiple of A*B\n",
      "\n",
      "[[3362 8004  304  592]\n",
      " [2432 3024 3350 2449]\n",
      " [4018 4312 4015 3995]]\n"
     ]
    }
   ],
   "execution_count": 10
  },
  {
   "metadata": {},
   "cell_type": "markdown",
   "source": "# Write a NumPy program to create a 3x4 matrix filled with values from 10 to 21.",
   "id": "dec8961147c59d47"
  },
  {
   "metadata": {
    "ExecuteTime": {
     "end_time": "2025-10-04T12:03:07.900626Z",
     "start_time": "2025-10-04T12:03:07.894888Z"
    }
   },
   "cell_type": "code",
   "source": "print(np.random.randint(10,21,(3,4)))",
   "id": "61ec0a4c0a5dc234",
   "outputs": [
    {
     "name": "stdout",
     "output_type": "stream",
     "text": [
      "[[11 17 15 18]\n",
      " [12 15 15 13]\n",
      " [10 16 15 10]]\n"
     ]
    }
   ],
   "execution_count": 76
  },
  {
   "metadata": {},
   "cell_type": "markdown",
   "source": "# Write a NumPy program to find the number of rows and columns of a given matrix.",
   "id": "4662f4bb1cfeb03c"
  },
  {
   "metadata": {
    "ExecuteTime": {
     "end_time": "2025-10-04T12:04:00.673151Z",
     "start_time": "2025-10-04T12:04:00.666819Z"
    }
   },
   "cell_type": "code",
   "source": [
    "x=np.random.randint(0,100,(3,4))\n",
    "x.shape"
   ],
   "id": "3b5f6ef5f5bec377",
   "outputs": [
    {
     "data": {
      "text/plain": [
       "(3, 4)"
      ]
     },
     "execution_count": 78,
     "metadata": {},
     "output_type": "execute_result"
    }
   ],
   "execution_count": 78
  },
  {
   "metadata": {},
   "cell_type": "markdown",
   "source": "# Write a NumPy program to create a 3x3 identity matrix, i.e. diagonal elements are 1, the rest are 0.",
   "id": "2a222339ee0b0356"
  },
  {
   "metadata": {
    "ExecuteTime": {
     "end_time": "2025-10-04T12:04:48.096598Z",
     "start_time": "2025-10-04T12:04:48.090933Z"
    }
   },
   "cell_type": "code",
   "source": "np.eye(3,3)",
   "id": "522ed44a0743c23d",
   "outputs": [
    {
     "data": {
      "text/plain": [
       "array([[1., 0., 0.],\n",
       "       [0., 1., 0.],\n",
       "       [0., 0., 1.]])"
      ]
     },
     "execution_count": 80,
     "metadata": {},
     "output_type": "execute_result"
    }
   ],
   "execution_count": 80
  },
  {
   "metadata": {},
   "cell_type": "markdown",
   "source": "# Write a NumPy program to create a 10x10 matrix, in which the elements on the borders will be equal to 1, and inside 0.",
   "id": "4beeea9f800c500f"
  },
  {
   "metadata": {
    "ExecuteTime": {
     "end_time": "2025-10-04T12:09:36.648893Z",
     "start_time": "2025-10-04T12:09:36.642288Z"
    }
   },
   "cell_type": "code",
   "source": [
    "x=np.zeros((10,10),dtype='int64')\n",
    "x[0,:]=1\n",
    "x[-1:]=1\n",
    "x[:,0]=1\n",
    "x[:,-1]=1\n",
    "x"
   ],
   "id": "178c2a6d5c7b0853",
   "outputs": [
    {
     "data": {
      "text/plain": [
       "array([[1, 1, 1, 1, 1, 1, 1, 1, 1, 1],\n",
       "       [1, 0, 0, 0, 0, 0, 0, 0, 0, 1],\n",
       "       [1, 0, 0, 0, 0, 0, 0, 0, 0, 1],\n",
       "       [1, 0, 0, 0, 0, 0, 0, 0, 0, 1],\n",
       "       [1, 0, 0, 0, 0, 0, 0, 0, 0, 1],\n",
       "       [1, 0, 0, 0, 0, 0, 0, 0, 0, 1],\n",
       "       [1, 0, 0, 0, 0, 0, 0, 0, 0, 1],\n",
       "       [1, 0, 0, 0, 0, 0, 0, 0, 0, 1],\n",
       "       [1, 0, 0, 0, 0, 0, 0, 0, 0, 1],\n",
       "       [1, 1, 1, 1, 1, 1, 1, 1, 1, 1]])"
      ]
     },
     "execution_count": 88,
     "metadata": {},
     "output_type": "execute_result"
    }
   ],
   "execution_count": 88
  },
  {
   "metadata": {},
   "cell_type": "markdown",
   "source": "# Write a NumPy program to create a 5x5 zero matrix with elements on the main diagonal equal to 1,2, 3, 4, 5.",
   "id": "2c53ce66519b361c"
  },
  {
   "metadata": {
    "ExecuteTime": {
     "end_time": "2025-10-04T12:12:54.878660Z",
     "start_time": "2025-10-04T12:12:54.872100Z"
    }
   },
   "cell_type": "code",
   "source": [
    "x=np.zeros((5,5),dtype='int64')\n",
    "for i in range(0,5):\n",
    "    x[i][i]=i+1\n",
    "x"
   ],
   "id": "c495afd1f192ce7e",
   "outputs": [
    {
     "data": {
      "text/plain": [
       "array([[1, 0, 0, 0, 0],\n",
       "       [0, 2, 0, 0, 0],\n",
       "       [0, 0, 3, 0, 0],\n",
       "       [0, 0, 0, 4, 0],\n",
       "       [0, 0, 0, 0, 5]])"
      ]
     },
     "execution_count": 91,
     "metadata": {},
     "output_type": "execute_result"
    }
   ],
   "execution_count": 91
  },
  {
   "metadata": {},
   "cell_type": "markdown",
   "source": "# Write a NumPy program to create a 4x4 matrix in which 0 and 1 are staggered, with zeros on the main diagonal.",
   "id": "3e3ca05292229526"
  },
  {
   "metadata": {
    "ExecuteTime": {
     "end_time": "2025-10-04T15:12:50.830312Z",
     "start_time": "2025-10-04T15:12:50.660527Z"
    }
   },
   "cell_type": "code",
   "source": [
    "import matplotlib.pyplot as plt\n",
    "# x=np.linspace(0,2*np.pi,500)\n",
    "# y=np.sin(x)\n",
    "# plt.plot(x,y)\n",
    "\n",
    "plt.plot([0,30,45,60,90],np.sin([0,30,45,60,90]))"
   ],
   "id": "51921bce43f8556a",
   "outputs": [
    {
     "data": {
      "text/plain": [
       "[<matplotlib.lines.Line2D at 0x1f6f7fa8cd0>]"
      ]
     },
     "execution_count": 132,
     "metadata": {},
     "output_type": "execute_result"
    },
    {
     "data": {
      "text/plain": [
       "<Figure size 640x480 with 1 Axes>"
      ],
      "image/png": "[encoded data removed]"
     },
     "metadata": {},
     "output_type": "display_data",
     "jetTransient": {
      "display_id": null
     }
    }
   ],
   "execution_count": 132
  },
  {
   "metadata": {},
   "cell_type": "markdown",
   "source": "# Write a NumPy program to create a 3x3x3 array filled with arbitrary values.",
   "id": "9eaa4608c74f3f5f"
  },
  {
   "metadata": {
    "ExecuteTime": {
     "end_time": "2025-10-04T12:19:01.165528Z",
     "start_time": "2025-10-04T12:19:01.159798Z"
    }
   },
   "cell_type": "code",
   "source": "print(np.random.randint(0,100,size=(3,3,3)))",
   "id": "c269b1d39018a7b",
   "outputs": [
    {
     "name": "stdout",
     "output_type": "stream",
     "text": [
      "[[[73 45 13]\n",
      "  [99 32 22]\n",
      "  [59 28 58]]\n",
      "\n",
      " [[27 52 19]\n",
      "  [62 38 68]\n",
      "  [32 57 41]]\n",
      "\n",
      " [[31 90 93]\n",
      "  [74 49 71]\n",
      "  [10 24 17]]]\n"
     ]
    }
   ],
   "execution_count": 101
  },
  {
   "metadata": {},
   "cell_type": "markdown",
   "source": "# Write a NumPy program to compute sum of all elements, sum of each column and sum of each row of a given array.",
   "id": "56973c6d934aa1a1"
  },
  {
   "metadata": {
    "ExecuteTime": {
     "end_time": "2025-10-04T12:27:49.695136Z",
     "start_time": "2025-10-04T12:27:49.687747Z"
    }
   },
   "cell_type": "code",
   "source": [
    "x=np.random.randint(0,100,(3,4))\n",
    "print(x)\n",
    "print('Sum:',np.sum(x))\n",
    "print('\\nsum of each columns ')\n",
    "for i in range(len(x[0])):\n",
    "    print(f\"Sum Column {i}:{sum(x[:,i])}\")\n",
    "\n",
    "print('\\nsum of each rows ')\n",
    "for i in range(len(x)):\n",
    "    print(f\"Sum Rows {i}:{sum(x[i,:])}\")\n",
    "\n"
   ],
   "id": "e3b8d69f6a519d9a",
   "outputs": [
    {
     "name": "stdout",
     "output_type": "stream",
     "text": [
      "[[69 38 50 27]\n",
      " [99 61 42 84]\n",
      " [80 29 86 62]]\n",
      "Sum 727\n",
      "\n",
      "sum of each columns \n",
      "Sum Column 0:248\n",
      "Sum Column 1:128\n",
      "Sum Column 2:178\n",
      "Sum Column 3:173\n",
      "\n",
      "sum of each rows \n",
      "Sum Rows 0:184\n",
      "Sum Rows 1:286\n",
      "Sum Rows 2:257\n"
     ]
    }
   ],
   "execution_count": 113
  },
  {
   "metadata": {},
   "cell_type": "markdown",
   "source": "# Write a NumPy program to compute the inner product of two given vectors.",
   "id": "229cb92a0b8101c8"
  },
  {
   "metadata": {
    "ExecuteTime": {
     "end_time": "2025-10-04T12:30:32.209393Z",
     "start_time": "2025-10-04T12:30:32.203660Z"
    }
   },
   "cell_type": "code",
   "source": [
    "a=np.random.randint(0,100,(3,4))\n",
    "b=np.random.randint(0,100,(3,4))\n",
    "print(a*b)"
   ],
   "id": "aee0589611edeae9",
   "outputs": [
    {
     "name": "stdout",
     "output_type": "stream",
     "text": [
      "[[ 366 7052  243 1953]\n",
      " [ 280 1056 3999 3318]\n",
      " [ 840   30 2808 6080]]\n"
     ]
    }
   ],
   "execution_count": 119
  },
  {
   "metadata": {},
   "cell_type": "markdown",
   "source": "# Write a NumPy program to add a vector to each row of a given matrix.",
   "id": "f62c8d99e9110d24"
  },
  {
   "metadata": {
    "ExecuteTime": {
     "end_time": "2025-10-04T12:31:44.684820Z",
     "start_time": "2025-10-04T12:31:44.678781Z"
    }
   },
   "cell_type": "code",
   "source": [
    "vector=[1,2,3,4]\n",
    "a=np.random.randint(0,100,(3,4))\n",
    "print(a,'\\n')\n",
    "print(a+vector)"
   ],
   "id": "3f0cde156864566c",
   "outputs": [
    {
     "name": "stdout",
     "output_type": "stream",
     "text": [
      "[[ 2 44  2 84]\n",
      " [51 39 14  1]\n",
      " [48 38 30 76]] \n",
      "\n",
      "[[ 3 46  5 88]\n",
      " [52 41 17  5]\n",
      " [49 40 33 80]]\n"
     ]
    }
   ],
   "execution_count": 122
  },
  {
   "metadata": {},
   "cell_type": "markdown",
   "source": "# Write a NumPy program to compute the x and y coordinates for points on a sine curve and plot the points using matplotlib.",
   "id": "783edf664a812064"
  },
  {
   "metadata": {},
   "cell_type": "code",
   "outputs": [],
   "execution_count": null,
   "source": "cord=np.line",
   "id": "ff81caf5ce1f1bdc"
  },
  {
   "metadata": {},
   "cell_type": "markdown",
   "source": "# Write a NumPy program to convert numpy dtypes to native python types.",
   "id": "47cad2d75212f8cd"
  },
  {
   "metadata": {},
   "cell_type": "markdown",
   "source": "# Write a NumPy program to find the missing data in a given array.",
   "id": "58350b5a5e51ee7d"
  },
  {
   "metadata": {},
   "cell_type": "markdown",
   "source": "# Write a NumPy program to sort a given array by row and column in ascending order.",
   "id": "f722c15f3f745bd4"
  },
  {
   "metadata": {},
   "cell_type": "markdown",
   "source": "# Write a NumPy program to extract all numbers from a given array which are less and greater than a specified number.",
   "id": "36755641567831b6"
  },
  {
   "metadata": {},
   "cell_type": "markdown",
   "source": "# Write a NumPy program to replace all numbers in a given array which is equal, less and greater to a given number.",
   "id": "21c610e64ea5ce7a"
  },
  {
   "metadata": {},
   "cell_type": "markdown",
   "source": "# Write a NumPy program to create an array of equal shape and data type of a given array.",
   "id": "f6797e108135f8d1"
  },
  {
   "metadata": {},
   "cell_type": "markdown",
   "source": "# Write a NumPy program to create a three-dimension array with shape (3,5,4) and set to a variable.",
   "id": "a1734a7f7d8f0492"
  },
  {
   "metadata": {},
   "cell_type": "markdown",
   "source": "# Write a NumPy program to multiply two given arrays of same size element-by-element.",
   "id": "87ad2bd99577de87"
  }
 ],
 "metadata": {
  "kernelspec": {
   "display_name": "Python 3",
   "language": "python",
   "name": "python3"
  },
  "language_info": {
   "codemirror_mode": {
    "name": "ipython",
    "version": 2
   },
   "file_extension": ".py",
   "mimetype": "text/x-python",
   "name": "python",
   "nbconvert_exporter": "python",
   "pygments_lexer": "ipython2",
   "version": "2.7.6"
  }
 },
 "nbformat": 4,
 "nbformat_minor": 5
}
