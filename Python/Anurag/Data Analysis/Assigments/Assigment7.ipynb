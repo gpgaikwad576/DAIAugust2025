{
 "cells": [
  {
   "metadata": {
    "ExecuteTime": {
     "end_time": "2025-10-13T09:12:35.232108Z",
     "start_time": "2025-10-13T09:12:35.227944Z"
    }
   },
   "cell_type": "code",
   "source": [
    "import pandas as pd\n",
    "import numpy as np"
   ],
   "id": "54a3eb7576cadb69",
   "outputs": [],
   "execution_count": 1
  },
  {
   "metadata": {
    "collapsed": true
   },
   "cell_type": "markdown",
   "source": "## 1. Write a Pandas program to create a) Datetime object for Jan 15 2012.b) Specific date and time of 9:20 pm.c) Local date and time.d) A date without time.e) Current date.f) Time from a datetime. g) Current local time.",
   "id": "4596f655d07dc623"
  },
  {
   "metadata": {
    "ExecuteTime": {
     "end_time": "2025-10-13T09:29:21.158071Z",
     "start_time": "2025-10-13T09:29:21.149442Z"
    }
   },
   "cell_type": "code",
   "source": [
    "print(pd.to_datetime(\"15-Jan-2012\"))\n",
    "print(pd.to_datetime(\"15-Jan-2021-21:20:00\").strftime(\"%Y/%m/%d %H:%m:%p\"))\n",
    "print(pd.Timestamp.now())\n",
    "print(pd.to_datetime('15-Jan-2021 9:20:00').date())\n",
    "print(pd.to_datetime(\"'15-Jan-2021 9:20:00'\").time())\n",
    "print(pd.Timestamp.today())"
   ],
   "id": "7a56bf845c143bab",
   "outputs": [
    {
     "name": "stdout",
     "output_type": "stream",
     "text": [
      "2012-01-15 00:00:00\n",
      "2021/01/15 21:01:PM\n",
      "2025-10-13 14:59:21.154009\n",
      "2021-01-15\n",
      "09:20:00\n",
      "2025-10-13 14:59:21.155686\n"
     ]
    }
   ],
   "execution_count": 30
  },
  {
   "metadata": {},
   "cell_type": "markdown",
   "source": "## 2. Write a Pandas program to create a) a specific date using timestamp. b) date and time using timestamp. c) a time adds in the current local date using timestamp. d) current date and time using timestamp.",
   "id": "fe42796f85960c03"
  },
  {
   "metadata": {
    "ExecuteTime": {
     "end_time": "2025-10-13T09:36:42.805857Z",
     "start_time": "2025-10-13T09:36:42.799679Z"
    }
   },
   "cell_type": "code",
   "source": [
    "print(pd.Timestamp(\"12-05-2021\"))\n",
    "print(pd.Timestamp('14-12-2020 13:30:00'))\n",
    "print(pd.Timestamp.now()+pd.Timedelta('5:00:00'))\n",
    "print(pd.Timestamp.now())"
   ],
   "id": "ef69a19121cf86a5",
   "outputs": [
    {
     "name": "stdout",
     "output_type": "stream",
     "text": [
      "2021-12-05 00:00:00\n",
      "2020-12-14 13:30:00\n",
      "2025-10-13 20:06:42.803533\n",
      "2025-10-13 15:06:42.803733\n"
     ]
    }
   ],
   "execution_count": 42
  },
  {
   "metadata": {},
   "cell_type": "markdown",
   "source": "## 3. Write a Pandas program to create a date from a given year, month, day and another date from a given string formats.",
   "id": "7fed5b8bd83150a5"
  },
  {
   "metadata": {
    "ExecuteTime": {
     "end_time": "2025-10-13T09:40:02.915870Z",
     "start_time": "2025-10-13T09:40:02.909787Z"
    }
   },
   "cell_type": "code",
   "source": [
    "s=\"15-Oct-2021\"\n",
    "print(pd.to_datetime(s).strftime('%Y/%B/%a'))"
   ],
   "id": "754976ff1a91a221",
   "outputs": [
    {
     "name": "stdout",
     "output_type": "stream",
     "text": [
      "2021/October/Fri\n"
     ]
    }
   ],
   "execution_count": 50
  },
  {
   "metadata": {},
   "cell_type": "markdown",
   "source": "## 4. Write a Pandas program to print the day after and before a specified date. Also print the days between two given dates.",
   "id": "27db420a0d5520e0"
  },
  {
   "metadata": {
    "ExecuteTime": {
     "end_time": "2025-10-13T09:44:18.172512Z",
     "start_time": "2025-10-13T09:44:18.163424Z"
    }
   },
   "cell_type": "code",
   "source": [
    "d1=pd.Timestamp.now()\n",
    "d2=pd.Timestamp(\"10-Oct-2025\")\n",
    "print(d1+pd.Timedelta(days=1))\n",
    "print(d1-pd.Timedelta(days=1))\n",
    "print(d1-d2)"
   ],
   "id": "daf0d592eee317a8",
   "outputs": [
    {
     "name": "stdout",
     "output_type": "stream",
     "text": [
      "2025-10-14 15:14:18.167161\n",
      "2025-10-12 15:14:18.167161\n",
      "3 days 15:14:18.167161\n"
     ]
    }
   ],
   "execution_count": 53
  },
  {
   "metadata": {},
   "cell_type": "markdown",
   "source": "## 5. Write a Pandas program to create a time-series with two index labels and random values. Also print the type of the index.",
   "id": "5e66e35d205c66e6"
  },
  {
   "metadata": {},
   "cell_type": "code",
   "outputs": [],
   "execution_count": null,
   "source": "",
   "id": "4e8025b2247ec070"
  },
  {
   "metadata": {},
   "cell_type": "markdown",
   "source": "## 6. Write a Pandas program to create a time-series from a given list of dates as strings.",
   "id": "7f0164b57c488c03"
  },
  {
   "metadata": {
    "ExecuteTime": {
     "end_time": "2025-10-13T09:54:05.782863Z",
     "start_time": "2025-10-13T09:54:05.772584Z"
    }
   },
   "cell_type": "code",
   "source": [
    "Date=['2023-01-01', '2023-Oct-02', '2023-01-03', '2023-01-04', '2023-01-05']\n",
    "s = pd.Series(Date)\n",
    "s=pd.to_datetime(s,format='mixed')\n",
    "(s.info())"
   ],
   "id": "ba6c4da4b9d0f58d",
   "outputs": [
    {
     "name": "stdout",
     "output_type": "stream",
     "text": [
      "<class 'pandas.core.series.Series'>\n",
      "RangeIndex: 5 entries, 0 to 4\n",
      "Series name: None\n",
      "Non-Null Count  Dtype         \n",
      "--------------  -----         \n",
      "5 non-null      datetime64[ns]\n",
      "dtypes: datetime64[ns](1)\n",
      "memory usage: 172.0 bytes\n"
     ]
    }
   ],
   "execution_count": 72
  },
  {
   "metadata": {},
   "cell_type": "markdown",
   "source": "## 7. Write a Pandas program to create a time series object that has time indexed data. Also select the dates of same year and select the dates between certain dates.",
   "id": "9a52fbffd7740285"
  },
  {
   "metadata": {
    "ExecuteTime": {
     "end_time": "2025-10-13T10:15:00.693027Z",
     "start_time": "2025-10-13T10:15:00.683650Z"
    }
   },
   "cell_type": "code",
   "source": [
    "data = {\n",
    "    'Date': ['2023-01-05', '2023-10-02', '2025-9-03', '2023-12-04', '2023-01-01'],\n",
    "    'Value': [10, 15, 12, 18, 14]\n",
    "}\n",
    "s=pd.Series(pd.to_datetime(data[\"Date\"]))\n",
    "print(s[s._values.year==2023])"
   ],
   "id": "8bb16f6cbcca1463",
   "outputs": [
    {
     "name": "stdout",
     "output_type": "stream",
     "text": [
      "0   2023-01-05\n",
      "1   2023-10-02\n",
      "3   2023-12-04\n",
      "4   2023-01-01\n",
      "dtype: datetime64[ns]\n"
     ]
    }
   ],
   "execution_count": 131
  },
  {
   "metadata": {
    "ExecuteTime": {
     "end_time": "2025-10-13T10:15:01.272080Z",
     "start_time": "2025-10-13T10:15:01.261965Z"
    }
   },
   "cell_type": "code",
   "source": [
    "s=s.sort_values()\n",
    "s[s.between(pd.to_datetime('2023-10-01'),pd.to_datetime('2023-12-20'))]"
   ],
   "id": "16afcfb5e6e8fc81",
   "outputs": [
    {
     "data": {
      "text/plain": [
       "1   2023-10-02\n",
       "3   2023-12-04\n",
       "dtype: datetime64[ns]"
      ]
     },
     "execution_count": 132,
     "metadata": {},
     "output_type": "execute_result"
    }
   ],
   "execution_count": 132
  },
  {
   "metadata": {
    "ExecuteTime": {
     "end_time": "2025-10-13T10:15:18.528232Z",
     "start_time": "2025-10-13T10:15:18.524227Z"
    }
   },
   "cell_type": "markdown",
   "source": "## 8. Write a Pandas program to create a date range using a startpoint date and a number of periods.",
   "id": "fe36836865e91725"
  },
  {
   "metadata": {
    "ExecuteTime": {
     "end_time": "2025-10-13T10:18:47.189790Z",
     "start_time": "2025-10-13T10:18:47.172380Z"
    }
   },
   "cell_type": "code",
   "source": "pd.bdate_range('2021-01-01',periods=365)",
   "id": "6952395ccb1eef0f",
   "outputs": [
    {
     "data": {
      "text/plain": [
       "DatetimeIndex(['2021-01-01', '2021-01-04', '2021-01-05', '2021-01-06',\n",
       "               '2021-01-07', '2021-01-08', '2021-01-11', '2021-01-12',\n",
       "               '2021-01-13', '2021-01-14',\n",
       "               ...\n",
       "               '2022-05-13', '2022-05-16', '2022-05-17', '2022-05-18',\n",
       "               '2022-05-19', '2022-05-20', '2022-05-23', '2022-05-24',\n",
       "               '2022-05-25', '2022-05-26'],\n",
       "              dtype='datetime64[ns]', length=365, freq='B')"
      ]
     },
     "execution_count": 138,
     "metadata": {},
     "output_type": "execute_result"
    }
   ],
   "execution_count": 138
  },
  {
   "metadata": {},
   "cell_type": "markdown",
   "source": "## 9. Write a Pandas program to create a whole month of dates in daily frequencies. Also find the maximum, minimum timestamp and indexs.",
   "id": "38e7aeb0acf5ea59"
  },
  {
   "metadata": {},
   "cell_type": "code",
   "outputs": [],
   "execution_count": null,
   "source": "",
   "id": "cc2e4e11d96db6d1"
  },
  {
   "metadata": {},
   "cell_type": "markdown",
   "source": "## 10. Write a Pandas program to create a time series using three months frequency.",
   "id": "7cdac8742622bcb4"
  },
  {
   "metadata": {
    "ExecuteTime": {
     "end_time": "2025-10-13T10:53:41.372811Z",
     "start_time": "2025-10-13T10:53:41.361621Z"
    }
   },
   "cell_type": "code",
   "source": [
    "## 12. Write a Pandas program to convert year and day of year into a single datetime column of a dataframe.\n",
    "date_range = pd.date_range(\"2021-01-01\", periods=90, freq='3M')\n",
    "date_range"
   ],
   "id": "96b65bdd6f327af2",
   "outputs": [
    {
     "name": "stderr",
     "output_type": "stream",
     "text": [
      "C:\\Users\\dai\\AppData\\Local\\Temp\\ipykernel_13804\\3895373538.py:2: FutureWarning: 'M' is deprecated and will be removed in a future version, please use 'ME' instead.\n",
      "  date_range = pd.date_range(\"2021-01-01\", periods=90, freq='3M')\n"
     ]
    },
    {
     "data": {
      "text/plain": [
       "DatetimeIndex(['2021-01-31', '2021-04-30', '2021-07-31', '2021-10-31',\n",
       "               '2022-01-31', '2022-04-30', '2022-07-31', '2022-10-31',\n",
       "               '2023-01-31', '2023-04-30', '2023-07-31', '2023-10-31',\n",
       "               '2024-01-31', '2024-04-30', '2024-07-31', '2024-10-31',\n",
       "               '2025-01-31', '2025-04-30', '2025-07-31', '2025-10-31',\n",
       "               '2026-01-31', '2026-04-30', '2026-07-31', '2026-10-31',\n",
       "               '2027-01-31', '2027-04-30', '2027-07-31', '2027-10-31',\n",
       "               '2028-01-31', '2028-04-30', '2028-07-31', '2028-10-31',\n",
       "               '2029-01-31', '2029-04-30', '2029-07-31', '2029-10-31',\n",
       "               '2030-01-31', '2030-04-30', '2030-07-31', '2030-10-31',\n",
       "               '2031-01-31', '2031-04-30', '2031-07-31', '2031-10-31',\n",
       "               '2032-01-31', '2032-04-30', '2032-07-31', '2032-10-31',\n",
       "               '2033-01-31', '2033-04-30', '2033-07-31', '2033-10-31',\n",
       "               '2034-01-31', '2034-04-30', '2034-07-31', '2034-10-31',\n",
       "               '2035-01-31', '2035-04-30', '2035-07-31', '2035-10-31',\n",
       "               '2036-01-31', '2036-04-30', '2036-07-31', '2036-10-31',\n",
       "               '2037-01-31', '2037-04-30', '2037-07-31', '2037-10-31',\n",
       "               '2038-01-31', '2038-04-30', '2038-07-31', '2038-10-31',\n",
       "               '2039-01-31', '2039-04-30', '2039-07-31', '2039-10-31',\n",
       "               '2040-01-31', '2040-04-30', '2040-07-31', '2040-10-31',\n",
       "               '2041-01-31', '2041-04-30', '2041-07-31', '2041-10-31',\n",
       "               '2042-01-31', '2042-04-30', '2042-07-31', '2042-10-31',\n",
       "               '2043-01-31', '2043-04-30'],\n",
       "              dtype='datetime64[ns]', freq='3ME')"
      ]
     },
     "execution_count": 142,
     "metadata": {},
     "output_type": "execute_result"
    }
   ],
   "execution_count": 142
  },
  {
   "metadata": {},
   "cell_type": "markdown",
   "source": "## 11. Write a Pandas program to create a sequence of durations increasing by an hour.",
   "id": "4a14604178968b4"
  },
  {
   "metadata": {},
   "cell_type": "markdown",
   "source": "## 12. Write a Pandas program to convert year and day of year into a single datetime column of a dataframe.",
   "id": "b71fac20c40a8d30"
  },
  {
   "metadata": {
    "ExecuteTime": {
     "end_time": "2025-10-13T10:56:55.816874Z",
     "start_time": "2025-10-13T10:56:55.813533Z"
    }
   },
   "cell_type": "code",
   "source": "",
   "id": "35996024cf7260a5",
   "outputs": [],
   "execution_count": null
  },
  {
   "metadata": {},
   "cell_type": "markdown",
   "source": "## 13. Write a Pandas program to create a series of Timestamps from a DataFrame of integer or string columns. Also create a series of Timestamps using specified columns",
   "id": "a45bd85e3aa86e9a"
  }
 ],
 "metadata": {
  "kernelspec": {
   "display_name": "Python 3",
   "language": "python",
   "name": "python3"
  },
  "language_info": {
   "codemirror_mode": {
    "name": "ipython",
    "version": 2
   },
   "file_extension": ".py",
   "mimetype": "text/x-python",
   "name": "python",
   "nbconvert_exporter": "python",
   "pygments_lexer": "ipython2",
   "version": "2.7.6"
  }
 },
 "nbformat": 4,
 "nbformat_minor": 5
}
