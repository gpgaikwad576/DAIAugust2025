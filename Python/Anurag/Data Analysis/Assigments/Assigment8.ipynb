{
 "cells": [
  {
   "cell_type": "code",
   "id": "initial_id",
   "metadata": {
    "collapsed": true
   },
   "source": [
    "import pandas as pd\n",
    "import seaborn as sns\n",
    "import matplotlib.pyplot as plt\n"
   ],
   "outputs": [],
   "execution_count": 1
  },
  {
   "metadata": {
    "ExecuteTime": {
     "end_time": "2025-10-13T11:09:03.421496Z",
     "start_time": "2025-10-13T11:09:03.406137Z"
    }
   },
   "cell_type": "code",
   "source": [
    "df=pd.read_csv(r\"C:\\Users\\dai\\Downloads\\Data Sets\\Data Sets\\alphabet_stock_data.csv\")\n",
    "df['Date']=pd.to_datetime(df[\"Date\"])\n",
    "df.info()"
   ],
   "id": "7773015b88db9589",
   "outputs": [
    {
     "name": "stdout",
     "output_type": "stream",
     "text": [
      "<class 'pandas.core.frame.DataFrame'>\n",
      "RangeIndex: 127 entries, 0 to 126\n",
      "Data columns (total 7 columns):\n",
      " #   Column     Non-Null Count  Dtype         \n",
      "---  ------     --------------  -----         \n",
      " 0   Date       127 non-null    datetime64[ns]\n",
      " 1   Open       127 non-null    float64       \n",
      " 2   High       127 non-null    float64       \n",
      " 3   Low        127 non-null    float64       \n",
      " 4   Close      127 non-null    float64       \n",
      " 5   Adj Close  127 non-null    float64       \n",
      " 6   Volume     127 non-null    int64         \n",
      "dtypes: datetime64[ns](1), float64(5), int64(1)\n",
      "memory usage: 7.1 KB\n"
     ]
    }
   ],
   "execution_count": 15
  },
  {
   "metadata": {
    "ExecuteTime": {
     "end_time": "2025-10-13T11:09:03.825572Z",
     "start_time": "2025-10-13T11:09:03.820855Z"
    }
   },
   "cell_type": "code",
   "source": "df=df.sort_values(by='Date',inplace=True)",
   "id": "2880dcfc24c0a05b",
   "outputs": [],
   "execution_count": 16
  },
  {
   "metadata": {
    "ExecuteTime": {
     "end_time": "2025-10-13T11:09:08.062656Z",
     "start_time": "2025-10-13T11:09:08.015354Z"
    }
   },
   "cell_type": "code",
   "source": [
    "date_filter = df['Date'].between('2020-04-01', '2020-10-01')\n",
    "plt.plot(x=date_filter,y=df['Open'])\n",
    "plt.show()"
   ],
   "id": "13ef3b074d2040f8",
   "outputs": [
    {
     "ename": "TypeError",
     "evalue": "'NoneType' object is not subscriptable",
     "output_type": "error",
     "traceback": [
      "\u001B[31m---------------------------------------------------------------------------\u001B[39m",
      "\u001B[31mTypeError\u001B[39m                                 Traceback (most recent call last)",
      "\u001B[36mCell\u001B[39m\u001B[36m \u001B[39m\u001B[32mIn[17]\u001B[39m\u001B[32m, line 1\u001B[39m\n\u001B[32m----> \u001B[39m\u001B[32m1\u001B[39m date_filter = \u001B[43mdf\u001B[49m\u001B[43m[\u001B[49m\u001B[33;43m'\u001B[39;49m\u001B[33;43mDate\u001B[39;49m\u001B[33;43m'\u001B[39;49m\u001B[43m]\u001B[49m.between(\u001B[33m'\u001B[39m\u001B[33m2020-04-01\u001B[39m\u001B[33m'\u001B[39m, \u001B[33m'\u001B[39m\u001B[33m2020-10-01\u001B[39m\u001B[33m'\u001B[39m)\n\u001B[32m      2\u001B[39m plt.plot(x=date_filter,y=df[\u001B[33m'\u001B[39m\u001B[33mOpen\u001B[39m\u001B[33m'\u001B[39m])\n\u001B[32m      3\u001B[39m plt.show()\n",
      "\u001B[31mTypeError\u001B[39m: 'NoneType' object is not subscriptable"
     ]
    }
   ],
   "execution_count": 17
  },
  {
   "metadata": {},
   "cell_type": "code",
   "outputs": [],
   "execution_count": null,
   "source": "",
   "id": "2dbd697913cd6fc1"
  }
 ],
 "metadata": {
  "kernelspec": {
   "display_name": "Python 3",
   "language": "python",
   "name": "python3"
  },
  "language_info": {
   "codemirror_mode": {
    "name": "ipython",
    "version": 2
   },
   "file_extension": ".py",
   "mimetype": "text/x-python",
   "name": "python",
   "nbconvert_exporter": "python",
   "pygments_lexer": "ipython2",
   "version": "2.7.6"
  }
 },
 "nbformat": 4,
 "nbformat_minor": 5
}
