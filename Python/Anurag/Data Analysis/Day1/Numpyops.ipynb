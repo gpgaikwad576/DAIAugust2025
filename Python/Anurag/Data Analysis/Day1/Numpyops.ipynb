{
 "cells": [
  {
   "metadata": {},
   "cell_type": "markdown",
   "source": [
    "## Numpy\n",
    "linespace arange"
   ],
   "id": "8bf6f4938588f307"
  },
  {
   "cell_type": "code",
   "id": "initial_id",
   "metadata": {
    "collapsed": true,
    "ExecuteTime": {
     "end_time": "2025-10-04T04:31:48.648027Z",
     "start_time": "2025-10-04T04:31:48.643839Z"
    }
   },
   "source": "import numpy as np",
   "outputs": [],
   "execution_count": 2
  },
  {
   "metadata": {
    "ExecuteTime": {
     "end_time": "2025-10-04T04:32:29.966695Z",
     "start_time": "2025-10-04T04:32:29.960520Z"
    }
   },
   "cell_type": "code",
   "source": "np.arange(0,10,2).tolist()",
   "id": "284b9f76ab566857",
   "outputs": [
    {
     "data": {
      "text/plain": [
       "[0, 2, 4, 6, 8]"
      ]
     },
     "execution_count": 5,
     "metadata": {},
     "output_type": "execute_result"
    }
   ],
   "execution_count": 5
  },
  {
   "metadata": {
    "ExecuteTime": {
     "end_time": "2025-10-04T04:32:59.437115Z",
     "start_time": "2025-10-04T04:32:59.430441Z"
    }
   },
   "cell_type": "code",
   "source": "np.linspace(0,10,20) ## including the start and last",
   "id": "53ba8822791e7307",
   "outputs": [
    {
     "data": {
      "text/plain": [
       "array([ 0.        ,  0.52631579,  1.05263158,  1.57894737,  2.10526316,\n",
       "        2.63157895,  3.15789474,  3.68421053,  4.21052632,  4.73684211,\n",
       "        5.26315789,  5.78947368,  6.31578947,  6.84210526,  7.36842105,\n",
       "        7.89473684,  8.42105263,  8.94736842,  9.47368421, 10.        ])"
      ]
     },
     "execution_count": 7,
     "metadata": {},
     "output_type": "execute_result"
    }
   ],
   "execution_count": 7
  },
  {
   "metadata": {
    "ExecuteTime": {
     "end_time": "2025-10-04T04:34:02.568595Z",
     "start_time": "2025-10-04T04:34:02.562201Z"
    }
   },
   "cell_type": "code",
   "source": "np.zeros((2,3))",
   "id": "287dcdae2d96c8ba",
   "outputs": [
    {
     "data": {
      "text/plain": [
       "array([[0., 0., 0.],\n",
       "       [0., 0., 0.]])"
      ]
     },
     "execution_count": 8,
     "metadata": {},
     "output_type": "execute_result"
    }
   ],
   "execution_count": 8
  },
  {
   "metadata": {
    "ExecuteTime": {
     "end_time": "2025-10-04T04:34:21.525662Z",
     "start_time": "2025-10-04T04:34:21.519819Z"
    }
   },
   "cell_type": "code",
   "source": "np.ones((3,3))*20",
   "id": "5413e0c169ab4997",
   "outputs": [
    {
     "data": {
      "text/plain": [
       "array([[20., 20., 20.],\n",
       "       [20., 20., 20.],\n",
       "       [20., 20., 20.]])"
      ]
     },
     "execution_count": 9,
     "metadata": {},
     "output_type": "execute_result"
    }
   ],
   "execution_count": 9
  },
  {
   "metadata": {},
   "cell_type": "markdown",
   "source": "#### random /",
   "id": "66b4d5f687e02a15"
  },
  {
   "metadata": {
    "ExecuteTime": {
     "end_time": "2025-10-04T04:37:06.852646Z",
     "start_time": "2025-10-04T04:37:06.846799Z"
    }
   },
   "cell_type": "code",
   "source": "np.random.randint(0,100,5)",
   "id": "1377a6906392dec8",
   "outputs": [
    {
     "data": {
      "text/plain": [
       "array([16, 68, 34, 96, 46], dtype=int32)"
      ]
     },
     "execution_count": 13,
     "metadata": {},
     "output_type": "execute_result"
    }
   ],
   "execution_count": 13
  },
  {
   "metadata": {
    "ExecuteTime": {
     "end_time": "2025-10-04T04:38:45.315316Z",
     "start_time": "2025-10-04T04:38:45.308754Z"
    }
   },
   "cell_type": "code",
   "source": [
    "np.random.choice(10,5)\n",
    "#np.random.choice([1,2,34,5],2)"
   ],
   "id": "8a0538e29ada28e0",
   "outputs": [
    {
     "data": {
      "text/plain": [
       "array([4, 5, 5, 5, 9], dtype=int32)"
      ]
     },
     "execution_count": 21,
     "metadata": {},
     "output_type": "execute_result"
    }
   ],
   "execution_count": 21
  },
  {
   "metadata": {},
   "cell_type": "markdown",
   "source": "## Distributions",
   "id": "74f79272960df438"
  },
  {
   "metadata": {
    "ExecuteTime": {
     "end_time": "2025-10-04T04:40:27.311279Z",
     "start_time": "2025-10-04T04:40:27.305126Z"
    }
   },
   "cell_type": "code",
   "source": "np.random.randn(4,2) ## mean=0,std =1",
   "id": "91ad6d3a85a0637",
   "outputs": [
    {
     "data": {
      "text/plain": [
       "array([[ 0.64842495, -0.84576649],\n",
       "       [-1.02854504, -1.93533923],\n",
       "       [-0.58685027, -0.96463186],\n",
       "       [-1.43254236,  0.47399132]])"
      ]
     },
     "execution_count": 24,
     "metadata": {},
     "output_type": "execute_result"
    }
   ],
   "execution_count": 24
  },
  {
   "metadata": {
    "ExecuteTime": {
     "end_time": "2025-10-04T04:41:28.057093Z",
     "start_time": "2025-10-04T04:41:28.048912Z"
    }
   },
   "cell_type": "code",
   "source": "np.random.normal(1,5,12) ## means =1 and std =5",
   "id": "5c8d72fb437bcaf3",
   "outputs": [
    {
     "data": {
      "text/plain": [
       "array([ 1.51753917e+00,  8.95302105e+00,  7.10849345e+00, -1.67389033e+00,\n",
       "        2.16258299e+00,  6.76887046e+00,  4.39787384e+00,  6.69135942e+00,\n",
       "       -1.03002452e+01,  9.81675594e-01,  5.82655955e-03,  5.07477573e+00])"
      ]
     },
     "execution_count": 25,
     "metadata": {},
     "output_type": "execute_result"
    }
   ],
   "execution_count": 25
  },
  {
   "metadata": {
    "ExecuteTime": {
     "end_time": "2025-10-04T04:43:03.230144Z",
     "start_time": "2025-10-04T04:43:03.223082Z"
    }
   },
   "cell_type": "code",
   "source": "np.random.uniform(0,10,5)",
   "id": "730d634a9891165",
   "outputs": [
    {
     "data": {
      "text/plain": [
       "array([4.43481044, 9.14986625, 0.71029674, 1.76674725, 5.91580964])"
      ]
     },
     "execution_count": 26,
     "metadata": {},
     "output_type": "execute_result"
    }
   ],
   "execution_count": 26
  },
  {
   "metadata": {},
   "cell_type": "markdown",
   "source": "## Basic ops filter aggregate",
   "id": "e665cb74a1b63ded"
  },
  {
   "metadata": {
    "ExecuteTime": {
     "end_time": "2025-10-04T05:01:55.427523Z",
     "start_time": "2025-10-04T05:01:55.423040Z"
    }
   },
   "cell_type": "code",
   "source": "arr=np.arange(1,11)",
   "id": "7501d77d2c62a1ee",
   "outputs": [],
   "execution_count": 50
  },
  {
   "metadata": {
    "ExecuteTime": {
     "end_time": "2025-10-04T05:01:55.725036Z",
     "start_time": "2025-10-04T05:01:55.719689Z"
    }
   },
   "cell_type": "code",
   "source": "print(f\"min:{arr.min()},max:{arr.max()},var:{arr.var()},Std:{arr.std()},sum:{arr.sum()}\")\n",
   "id": "3af32983fe7a83ef",
   "outputs": [
    {
     "name": "stdout",
     "output_type": "stream",
     "text": [
      "min:1,max:10,var:8.25,Std:2.8722813232690143,sum:55\n"
     ]
    }
   ],
   "execution_count": 51
  },
  {
   "metadata": {
    "ExecuteTime": {
     "end_time": "2025-10-04T05:01:56.054889Z",
     "start_time": "2025-10-04T05:01:56.047945Z"
    }
   },
   "cell_type": "code",
   "source": "arr[(arr>2 )& (arr<6)]",
   "id": "74fe8093468adc09",
   "outputs": [
    {
     "data": {
      "text/plain": [
       "array([3, 4, 5])"
      ]
     },
     "execution_count": 52,
     "metadata": {},
     "output_type": "execute_result"
    }
   ],
   "execution_count": 52
  },
  {
   "metadata": {
    "ExecuteTime": {
     "end_time": "2025-10-04T05:01:56.322489Z",
     "start_time": "2025-10-04T05:01:56.316211Z"
    }
   },
   "cell_type": "code",
   "source": [
    "list=arr[:5]\n",
    "list"
   ],
   "id": "7e1e96fb489f16a4",
   "outputs": [
    {
     "data": {
      "text/plain": [
       "array([1, 2, 3, 4, 5])"
      ]
     },
     "execution_count": 53,
     "metadata": {},
     "output_type": "execute_result"
    }
   ],
   "execution_count": 53
  },
  {
   "metadata": {},
   "cell_type": "markdown",
   "source": "## ***very imp concept***",
   "id": "35ce99c2b804e563"
  },
  {
   "metadata": {
    "ExecuteTime": {
     "end_time": "2025-10-04T05:05:32.367033Z",
     "start_time": "2025-10-04T05:05:32.360885Z"
    }
   },
   "cell_type": "code",
   "source": [
    "arr=np.arange(1,11)\n",
    "print(id(arr))\n",
    "list=arr[:5]\n",
    "print(list)\n",
    "print(id(list))\n",
    "list[:]=100 ## only possible in np array\n",
    "print(list)\n",
    "print(id(list))\n",
    "print(arr)\n",
    "print(id(arr))"
   ],
   "id": "624c4dc7294a1a29",
   "outputs": [
    {
     "name": "stdout",
     "output_type": "stream",
     "text": [
      "1882088465744\n",
      "[1 2 3 4 5]\n",
      "1882088456336\n",
      "[100 100 100 100 100]\n",
      "1882088456336\n",
      "[100 100 100 100 100   6   7   8   9  10]\n",
      "1882088465744\n"
     ]
    }
   ],
   "execution_count": 60
  },
  {
   "metadata": {
    "ExecuteTime": {
     "end_time": "2025-10-04T05:21:48.015986Z",
     "start_time": "2025-10-04T05:21:48.009105Z"
    }
   },
   "cell_type": "code",
   "source": [
    "arr=np.arange(1,11)\n",
    "l=arr[:5].copy()\n",
    "l[:]=55\n",
    "print(l)\n",
    "print(arr)"
   ],
   "id": "1385a073bcff27fc",
   "outputs": [
    {
     "name": "stdout",
     "output_type": "stream",
     "text": [
      "[55 55 55 55 55]\n",
      "[ 1  2  3  4  5  6  7  8  9 10]\n"
     ]
    }
   ],
   "execution_count": 75
  },
  {
   "metadata": {},
   "cell_type": "markdown",
   "source": "##### In list it create a new array",
   "id": "388031efbae4b580"
  },
  {
   "metadata": {
    "ExecuteTime": {
     "end_time": "2025-10-04T05:17:13.272760Z",
     "start_time": "2025-10-04T05:17:13.266612Z"
    }
   },
   "cell_type": "code",
   "source": [
    "arr=np.arange(1,11)\n",
    "l=arr[:5].tolist()\n",
    "l[:]=[12]*len(l)\n",
    "print(arr)\n",
    "print(l)"
   ],
   "id": "64ec6d2383f13109",
   "outputs": [
    {
     "name": "stdout",
     "output_type": "stream",
     "text": [
      "[ 1  2  3  4  5  6  7  8  9 10]\n",
      "[12, 12, 12, 12, 12]\n"
     ]
    }
   ],
   "execution_count": 74
  },
  {
   "metadata": {},
   "cell_type": "markdown",
   "source": "### There is a Catch",
   "id": "82e15140d99aecd8"
  },
  {
   "metadata": {
    "ExecuteTime": {
     "end_time": "2025-10-04T05:27:57.388662Z",
     "start_time": "2025-10-04T05:27:57.381324Z"
    }
   },
   "cell_type": "code",
   "source": [
    "arr=[[1],[2],[3],[4],[5]]\n",
    "l=arr[:3]\n",
    "l[0][0]=55\n",
    "print(arr)\n",
    "print(l)\n",
    "\n",
    "print('Deep Copy')\n",
    "# Use the deep copy (because the list containing the mutable obj)\n",
    "import copy\n",
    "arr=[[1],[2],[3],[4],[5]]\n",
    "l=copy.deepcopy(arr[:3])\n",
    "l[0][0]=55\n",
    "print(arr)\n",
    "print(l)\n"
   ],
   "id": "bcb671efeca9b30a",
   "outputs": [
    {
     "name": "stdout",
     "output_type": "stream",
     "text": [
      "[[55], [2], [3], [4], [5]]\n",
      "[[55], [2], [3]]\n",
      "Deep Copy\n",
      "[[1], [2], [3], [4], [5]]\n",
      "[[55], [2], [3]]\n"
     ]
    }
   ],
   "execution_count": 81
  },
  {
   "metadata": {},
   "cell_type": "code",
   "outputs": [],
   "execution_count": null,
   "source": "",
   "id": "41c5fc9f3d1ebf43"
  }
 ],
 "metadata": {
  "kernelspec": {
   "display_name": "Python 3",
   "language": "python",
   "name": "python3"
  },
  "language_info": {
   "codemirror_mode": {
    "name": "ipython",
    "version": 2
   },
   "file_extension": ".py",
   "mimetype": "text/x-python",
   "name": "python",
   "nbconvert_exporter": "python",
   "pygments_lexer": "ipython2",
   "version": "2.7.6"
  }
 },
 "nbformat": 4,
 "nbformat_minor": 5
}
