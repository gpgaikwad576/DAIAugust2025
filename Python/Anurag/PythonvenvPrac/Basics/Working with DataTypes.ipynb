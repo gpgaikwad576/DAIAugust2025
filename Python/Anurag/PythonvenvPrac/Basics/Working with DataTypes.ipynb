{
 "cells": [
  {
   "metadata": {},
   "cell_type": "markdown",
   "source": "# Iterator\n",
   "id": "462fddfc9b655aaa"
  },
  {
   "metadata": {
    "ExecuteTime": {
     "end_time": "2025-09-13T05:01:49.217154Z",
     "start_time": "2025-09-13T05:01:49.212233Z"
    }
   },
   "cell_type": "code",
   "source": [
    "def square(it):\n",
    "    l=[]\n",
    "    while True:\n",
    "        try:\n",
    "            x=next(it)\n",
    "            l.append(x*x)\n",
    "        except StopIteration:\n",
    "            print(\"\")\n",
    "            break\n",
    "\n",
    "    return l\n"
   ],
   "id": "705b484ce5617aab",
   "outputs": [],
   "execution_count": 17
  },
  {
   "metadata": {
    "ExecuteTime": {
     "end_time": "2025-09-13T05:01:49.550321Z",
     "start_time": "2025-09-13T05:01:49.544858Z"
    }
   },
   "cell_type": "code",
   "source": [
    "l=[x for  x in range(0,10+1)]\n",
    "\n",
    "i=iter(l)\n",
    "\n",
    "print(square(i))\n"
   ],
   "id": "d74a5e231d75c9be",
   "outputs": [
    {
     "name": "stdout",
     "output_type": "stream",
     "text": [
      "\n",
      "[0, 1, 4, 9, 16, 25, 36, 49, 64, 81, 100]\n"
     ]
    }
   ],
   "execution_count": 18
  },
  {
   "metadata": {},
   "cell_type": "markdown",
   "source": "## Create Dict using the two list",
   "id": "646a6dda17aae205"
  },
  {
   "metadata": {
    "ExecuteTime": {
     "end_time": "2025-09-13T05:37:36.457953Z",
     "start_time": "2025-09-13T05:37:36.450393Z"
    }
   },
   "cell_type": "code",
   "source": [
    "def comb(l,s):\n",
    "    return (l,s)\n",
    "d={}\n",
    "name=[\"abc\",\"def\",\"ghi\",'jkl','mno']\n",
    "marks=[90,80,70,45,60]\n",
    "print(dict(map(comb,name,marks)))\n"
   ],
   "id": "ae6e671cb15ce5d9",
   "outputs": [
    {
     "name": "stdout",
     "output_type": "stream",
     "text": [
      "{'abc': 90, 'def': 80, 'ghi': 70, 'jkl': 45, 'mno': 60}\n"
     ]
    }
   ],
   "execution_count": 51
  },
  {
   "metadata": {
    "ExecuteTime": {
     "end_time": "2025-09-13T05:37:43.863849Z",
     "start_time": "2025-09-13T05:37:43.856714Z"
    }
   },
   "cell_type": "code",
   "source": "print(dict(map(lambda x:(x[0],x[1]),zip(name,marks))))\n",
   "id": "33587727d46635fd",
   "outputs": [
    {
     "name": "stdout",
     "output_type": "stream",
     "text": [
      "{'abc': 90, 'def': 80, 'ghi': 70, 'jkl': 45, 'mno': 60}\n"
     ]
    }
   ],
   "execution_count": 53
  },
  {
   "metadata": {},
   "cell_type": "markdown",
   "source": "## Q1 convert to uppercase using listcomp",
   "id": "c8d8bfe83140a730"
  },
  {
   "metadata": {
    "ExecuteTime": {
     "end_time": "2025-09-13T05:40:15.508816Z",
     "start_time": "2025-09-13T05:40:15.496414Z"
    }
   },
   "cell_type": "code",
   "source": [
    "l=\"Anurag Vaibhav Riya Aman Denny Spare Alice\".split()\n",
    "print([word.upper() for word in l if word[0].lower()==\"a\"])"
   ],
   "id": "c35db08b5690a7c8",
   "outputs": [
    {
     "name": "stdout",
     "output_type": "stream",
     "text": [
      "['ANURAG', 'AMAN', 'ALICE']\n"
     ]
    }
   ],
   "execution_count": 54
  },
  {
   "metadata": {},
   "cell_type": "markdown",
   "source": "## Q2 List of even odd using list comp",
   "id": "2ba978a24ae008bd"
  },
  {
   "metadata": {
    "ExecuteTime": {
     "end_time": "2025-09-13T05:45:49.756789Z",
     "start_time": "2025-09-13T05:45:49.742123Z"
    }
   },
   "cell_type": "code",
   "source": "print({x:\"Odd\" if x%2!=0 else \"even\" for x in range(1,10+1)})",
   "id": "f437e664e9c0e587",
   "outputs": [
    {
     "name": "stdout",
     "output_type": "stream",
     "text": [
      "{1: 'Odd', 2: 'even', 3: 'Odd', 4: 'even', 5: 'Odd', 6: 'even', 7: 'Odd', 8: 'even', 9: 'Odd', 10: 'even'}\n"
     ]
    }
   ],
   "execution_count": 55
  },
  {
   "metadata": {},
   "cell_type": "markdown",
   "source": "## Q3 dict using the zip",
   "id": "3063477fdac407bf"
  },
  {
   "metadata": {
    "ExecuteTime": {
     "end_time": "2025-09-13T05:51:34.692736Z",
     "start_time": "2025-09-13T05:51:34.687172Z"
    }
   },
   "cell_type": "code",
   "source": "d={x[0]:x[1] for x in zip(name,marks)}",
   "id": "76b5efa53295d627",
   "outputs": [],
   "execution_count": 66
  },
  {
   "metadata": {},
   "cell_type": "markdown",
   "source": "## reversal of key,values\n",
   "id": "76a100a6bf3a168e"
  },
  {
   "metadata": {
    "ExecuteTime": {
     "end_time": "2025-09-13T05:52:07.409657Z",
     "start_time": "2025-09-13T05:52:07.402822Z"
    }
   },
   "cell_type": "code",
   "source": "print({y:x for x,y in d.items()})",
   "id": "80a94f57846149f1",
   "outputs": [
    {
     "name": "stdout",
     "output_type": "stream",
     "text": [
      "{90: 'abc', 80: 'def', 70: 'ghi', 45: 'jkl', 60: 'mno'}\n"
     ]
    }
   ],
   "execution_count": 67
  },
  {
   "metadata": {
    "ExecuteTime": {
     "end_time": "2025-09-13T05:56:01.885677Z",
     "start_time": "2025-09-13T05:56:01.870227Z"
    }
   },
   "cell_type": "code",
   "source": [
    "def isprime(n):\n",
    "    for i in range(2,n//2+1):\n",
    "        if n%i==0:\n",
    "            return False\n",
    "\n",
    "    else:\n",
    "        return True\n",
    "\n",
    "print([(x,x**2) for x in range(2,100+1) if isprime(x)])\n"
   ],
   "id": "fccf803f47600a3e",
   "outputs": [
    {
     "name": "stdout",
     "output_type": "stream",
     "text": [
      "[(2, 4), (3, 9), (5, 25), (7, 49), (11, 121), (13, 169), (17, 289), (19, 361), (23, 529), (29, 841), (31, 961), (37, 1369), (41, 1681), (43, 1849), (47, 2209), (53, 2809), (59, 3481), (61, 3721), (67, 4489), (71, 5041), (73, 5329), (79, 6241), (83, 6889), (89, 7921), (97, 9409)]\n"
     ]
    }
   ],
   "execution_count": 69
  },
  {
   "metadata": {
    "ExecuteTime": {
     "end_time": "2025-09-13T05:59:24.512277Z",
     "start_time": "2025-09-13T05:59:24.505654Z"
    }
   },
   "cell_type": "code",
   "source": [
    "s=\"aa12bb4c3d56\"\n",
    "print([int(c) for c in s if c.isnumeric()])"
   ],
   "id": "83e3b395ad7bb36c",
   "outputs": [
    {
     "name": "stdout",
     "output_type": "stream",
     "text": [
      "[1, 2, 4, 3, 5, 6]\n"
     ]
    }
   ],
   "execution_count": 72
  },
  {
   "metadata": {},
   "cell_type": "code",
   "outputs": [],
   "execution_count": null,
   "source": "",
   "id": "e52372d4f2cf4ff6"
  }
 ],
 "metadata": {
  "kernelspec": {
   "name": "python3",
   "language": "python",
   "display_name": "Python 3 (ipykernel)"
  }
 },
 "nbformat": 4,
 "nbformat_minor": 5
}
