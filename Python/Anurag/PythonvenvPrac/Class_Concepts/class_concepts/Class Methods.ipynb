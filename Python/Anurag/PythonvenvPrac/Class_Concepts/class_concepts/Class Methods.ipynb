{
 "cells": [
  {
   "metadata": {},
   "cell_type": "markdown",
   "source": "## class Methods",
   "id": "ea5ee7e123af1811"
  },
  {
   "cell_type": "code",
   "id": "initial_id",
   "metadata": {
    "collapsed": true,
    "ExecuteTime": {
     "end_time": "2025-09-18T05:30:04.283131Z",
     "start_time": "2025-09-18T05:30:04.272419Z"
    }
   },
   "source": [
    "class Employee:\n",
    "    cnt=0\n",
    "    def __init__(self,id,name,salary):\n",
    "        self.empid=id\n",
    "        self.name=name\n",
    "        self.salary=salary\n",
    "        Employee.cnt+=1\n",
    "\n",
    "    # def __str__(self):\n",
    "    #     return f\"Emid:{self.empid},Empname:{self.name},EmpSalary{self.salary}\"\n",
    "    def __repr__(self):\n",
    "        return f\"EmpId:{self.empid},Name:{self.name},Salary:{self.salary}\"\n",
    "\n",
    "    # def __lt__(self, other):\n",
    "    #     return self.name<other.name if self.empid==other.empid else self.empid<other.empid\n",
    "\n",
    "    def __gt__(self, other):\n",
    "        return self.salary<other.salary\n",
    "    def __eq__(self, other):\n",
    "        return self.empid==other.empid\n",
    "\n",
    "\n",
    "e2=Employee(1,\"Vaibhav\",100000)\n",
    "e1=Employee(1,\"Anurag\",50000)\n",
    "e3=Employee(2,\"Achintya\",40000)\n",
    "e4=Employee(2,\"Abhay\",41000)\n",
    "\n",
    "l=[e1,e2,e3,e4]\n",
    "print(e1==e2)\n",
    "l.sort()\n",
    "print(l)\n",
    "\n",
    "\n",
    "print(\"Total\",Employee.cnt)"
   ],
   "outputs": [
    {
     "name": "stdout",
     "output_type": "stream",
     "text": [
      "True\n",
      "[EmpId:1,Name:Vaibhav,Salary:100000, EmpId:1,Name:Anurag,Salary:50000, EmpId:2,Name:Abhay,Salary:41000, EmpId:2,Name:Achintya,Salary:40000]\n",
      "Total 4\n"
     ]
    }
   ],
   "execution_count": 9
  },
  {
   "metadata": {},
   "cell_type": "code",
   "outputs": [],
   "execution_count": null,
   "source": "",
   "id": "74a8cbbc00d76044"
  }
 ],
 "metadata": {
  "kernelspec": {
   "display_name": "Python 3",
   "language": "python",
   "name": "python3"
  },
  "language_info": {
   "codemirror_mode": {
    "name": "ipython",
    "version": 2
   },
   "file_extension": ".py",
   "mimetype": "text/x-python",
   "name": "python",
   "nbconvert_exporter": "python",
   "pygments_lexer": "ipython2",
   "version": "2.7.6"
  }
 },
 "nbformat": 4,
 "nbformat_minor": 5
}
