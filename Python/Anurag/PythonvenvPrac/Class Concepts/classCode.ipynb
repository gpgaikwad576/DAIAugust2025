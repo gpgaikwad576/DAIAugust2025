{
 "cells": [
  {
   "metadata": {},
   "cell_type": "markdown",
   "source": "## Class Concept\n",
   "id": "9d49cb0503ed6597"
  },
  {
   "cell_type": "code",
   "id": "initial_id",
   "metadata": {
    "collapsed": true,
    "ExecuteTime": {
     "end_time": "2025-09-17T04:59:13.127892Z",
     "start_time": "2025-09-17T04:59:13.120398Z"
    }
   },
   "source": [
    "class Student:\n",
    "    __cnt=1\n",
    "    def __init__(self,name,age):\n",
    "        self.name=name\n",
    "        self.age=age\n",
    "        self.id=self.__cnt\n",
    "        Student.__cnt+=1\n",
    "\n",
    "\n",
    "    def __str__(self):\n",
    "        return f\"id:{self.id},name:{self.name},age:{self.age}\"\n",
    "\n",
    "s1=Student(\"Anurag\",23)\n",
    "s2=Student(\"Achintya\",25)\n",
    "\n",
    "print(s1)\n",
    "print(s2)\n",
    "\n"
   ],
   "outputs": [
    {
     "name": "stdout",
     "output_type": "stream",
     "text": [
      "id:1,name:Anurag,age:23\n",
      "id:2,name:Achintya,age:25\n"
     ]
    }
   ],
   "execution_count": 14
  },
  {
   "metadata": {},
   "cell_type": "markdown",
   "source": "## Student Question",
   "id": "19c125704a1cb214"
  },
  {
   "metadata": {
    "ExecuteTime": {
     "end_time": "2025-09-17T05:20:38.205038Z",
     "start_time": "2025-09-17T05:20:38.195383Z"
    }
   },
   "cell_type": "code",
   "source": [
    "class Student:\n",
    "    __l=[]\n",
    "    def __init__(self,name,marks):\n",
    "        self.name=name\n",
    "        self.marks=marks\n",
    "\n",
    "    def add_student(self):\n",
    "        Student.__l.append(self)\n",
    "\n",
    "\n",
    "    def __str__(self):\n",
    "        return f\"Name:{self.name},Marks:{self.marks}\"\n",
    "\n",
    "    @classmethod\n",
    "    def display(cls):\n",
    "        for obj in cls.__l:\n",
    "            print(obj)\n",
    "\n",
    "s1=Student(\"Anurag\",{\"Eng\":90,\"Math\":90,\"Chem\":60})\n",
    "s2=Student(\"Achintya\",{\"Eng\":90,\"Math\":90,\"Chem\":70})\n",
    "\n",
    "s1.add_student()\n",
    "s2.add_student()\n",
    "\n",
    "Student.display()"
   ],
   "id": "d08a05e77efca911",
   "outputs": [
    {
     "name": "stdout",
     "output_type": "stream",
     "text": [
      "Name:Anurag,Marks:{'Eng': 90, 'Math': 90, 'Chem': 60}\n",
      "Name:Achintya,Marks:{'Eng': 90, 'Math': 90, 'Chem': 70}\n"
     ]
    }
   ],
   "execution_count": 24
  },
  {
   "metadata": {},
   "cell_type": "markdown",
   "source": "## Multiple Inheritance(MRO)",
   "id": "982a05601506fac9"
  },
  {
   "metadata": {
    "ExecuteTime": {
     "end_time": "2025-09-17T05:08:04.519283Z",
     "start_time": "2025-09-17T05:08:04.502490Z"
    }
   },
   "cell_type": "code",
   "source": [
    "class o:\n",
    "    def hello(self):\n",
    "        print(\"Hello class 0\")\n",
    "class A(o):\n",
    "    def hello(self):\n",
    "        print(\"Hello class A\")\n",
    "\n",
    "class B(o):\n",
    "    def hello(self):\n",
    "        print(\"Hello Class B\")\n",
    "\n",
    "class C(A,B):\n",
    "    def hello(self):\n",
    "        print(\"Hello Class C\")\n",
    "\n",
    "\n",
    "obj=C()\n",
    "obj.hello()\n"
   ],
   "id": "3acc7f0e30125267",
   "outputs": [
    {
     "name": "stdout",
     "output_type": "stream",
     "text": [
      "Hello Class C\n"
     ]
    }
   ],
   "execution_count": 23
  },
  {
   "metadata": {},
   "cell_type": "markdown",
   "source": "# Employee Manager Problem",
   "id": "46dee032fab1902a"
  },
  {
   "metadata": {},
   "cell_type": "markdown",
   "source": "## Super Class",
   "id": "7f91184d50e657bc"
  },
  {
   "metadata": {
    "ExecuteTime": {
     "end_time": "2025-09-18T05:34:46.601812Z",
     "start_time": "2025-09-18T05:34:46.591992Z"
    }
   },
   "cell_type": "code",
   "source": [
    "from abc import ABC,abstractmethod\n",
    "class Super(ABC):\n",
    "    @abstractmethod\n",
    "    def get_gross(self)->float:\n",
    "        pass\n",
    "    @abstractmethod\n",
    "    def get_net(self)->float:\n",
    "        pass"
   ],
   "id": "6a28dc170faacd16",
   "outputs": [],
   "execution_count": 1
  },
  {
   "metadata": {},
   "cell_type": "markdown",
   "source": "### Employee",
   "id": "91034aede4205dac"
  },
  {
   "metadata": {
    "ExecuteTime": {
     "end_time": "2025-09-18T05:34:46.623080Z",
     "start_time": "2025-09-18T05:34:46.613500Z"
    }
   },
   "cell_type": "code",
   "source": [
    "class Employee(Super):\n",
    "    # Constructor\n",
    "    def __init__(self,empid,empname,basicSalary,pf,pt,hra,medicaAllowance):\n",
    "        self.empid=empid\n",
    "        self.empname=empname\n",
    "        self.__pf=pf\n",
    "        self.__basicSalary=basicSalary\n",
    "        self.__pt=pt\n",
    "        self.__hra=hra\n",
    "        self.__medicalAllowance=medicaAllowance\n",
    "\n",
    "    # getter\n",
    "    def get_basic_salary(self):\n",
    "        return self.__basicSalary\n",
    "\n",
    "    def get_pf_deduct(self):\n",
    "        return (self.__basicSalary*self.__pf)/100\n",
    "\n",
    "    def get_pt_deduct(self):\n",
    "        return self.__pt\n",
    "\n",
    "    def get_hra_deduct(self):\n",
    "        return (self.__basicSalary*self.__hra)/100\n",
    "    def get_medical_allowance(self):\n",
    "        return self.__medicalAllowance\n",
    "    def get_gross(self):\n",
    "        return self.__basicSalary+self.get_hra_deduct()+self.get_medical_allowance()\n",
    "\n",
    "    def get_net(self):\n",
    "        return self.get_gross()-self.get_pf_deduct()-self.get_pt_deduct()\n",
    "\n",
    "    # Display\n",
    "    def __str__(self):\n",
    "        return f\"Empid:{self.empid},EmpName:{self.empname},Salary:{self.get_basic_salary()},Pf:{self.get_pf_deduct()},pt:{self.get_pt_deduct()},Hra:{self.get_hra_deduct()},gross:{self.get_gross()},Net:{self.get_net()}\"\n",
    "\n",
    "\n",
    "\n",
    "\n"
   ],
   "id": "d0e31937212b89f0",
   "outputs": [],
   "execution_count": 2
  },
  {
   "metadata": {},
   "cell_type": "markdown",
   "source": "### Manager",
   "id": "633f9f5a2386680b"
  },
  {
   "metadata": {
    "ExecuteTime": {
     "end_time": "2025-09-18T05:34:46.647651Z",
     "start_time": "2025-09-18T05:34:46.640033Z"
    }
   },
   "cell_type": "code",
   "source": [
    "class Manager(Employee,Super):\n",
    "    # Constructor\n",
    "    def __init__(self,empid,empname,basicSalary,pf,pt,hra,medicaAllowance,managerAllowance,foodAllowance,otherAllowance):\n",
    "        super().__init__(empid,empname,basicSalary,pf,pt,hra,medicaAllowance)\n",
    "        self.__managerAllowance=managerAllowance\n",
    "        self.__foodAllowance=foodAllowance\n",
    "        self.__otherAllowance=otherAllowance\n",
    "\n",
    "    # getter\n",
    "    def get_manager_allowance(self):\n",
    "        return (self.get_basic_salary()*self.__managerAllowance)/100\n",
    "    def get_food_allowance(self):\n",
    "        return (self.get_basic_salary()*self.__foodAllowance)/100\n",
    "    def get_other_allowance(self):\n",
    "        return (self.get_basic_salary()*self.__otherAllowance)/100\n",
    "    def get_gross(self):\n",
    "        return super().get_gross()+self.get_manager_allowance()+self.get_food_allowance()+self.get_other_allowance()\n",
    "    # def get_net(self):\n",
    "        return self.get_gross()-self.get_pf_deduct()-self.get_pt_deduct()\n",
    "\n",
    "    # Display\n",
    "    def __str__(self):\n",
    "        return f\"Empid:{self.empid},EmpName:{self.empname},Salary:{self.get_basic_salary()},ManagerAllowance:{self.get_manager_allowance()},Food Allowance:{self.get_food_allowance()},Other Allowance:{self.get_other_allowance()},Gross salary:{self.get_gross()},Net Salary:{self.get_net()}\"\n"
   ],
   "id": "97de7fa0fe83e7e8",
   "outputs": [],
   "execution_count": 3
  },
  {
   "metadata": {},
   "cell_type": "markdown",
   "source": "## Marketing",
   "id": "4333cfb5817f8683"
  },
  {
   "metadata": {
    "ExecuteTime": {
     "end_time": "2025-09-18T05:34:47.625107Z",
     "start_time": "2025-09-18T05:34:47.612263Z"
    }
   },
   "cell_type": "code",
   "source": [
    "class MarketingExecutive(Employee,Super):\n",
    "    # Constructor\n",
    "    def __init__(self,empid,empname,basicsalary,pf,pt,hra,medicaallowance,travel,phoneallowance):\n",
    "        super().__init__(empid,empname,basicsalary,pf,pt,hra,medicaallowance)\n",
    "        self.__travel=travel\n",
    "        self.__phoneallowance=phoneallowance\n",
    "\n",
    "    # Getter\n",
    "    def get_travel_allowance(self):\n",
    "        return self.__travel*5\n",
    "    def get_phone_allowance(self):\n",
    "        return self.__phoneallowance\n",
    "\n",
    "    def get_gross(self):\n",
    "        return super().get_gross()+self.get_travel_allowance()+self.get_phone_allowance()\n",
    "    # def get_net(self):\n",
    "    #     return self.get_gross()-self.get_pf_deduct()-self.get_pt_deduct()\n",
    "\n",
    "    # Display\n",
    "    def __str__(self):\n",
    "        return f\"Empid:{self.empid},EmpName:{self.empname},Salary:{self.get_basic_salary()},Travel Allowance:{self.get_travel_allowance()},Phone Allowance:{self.get_phone_allowance()},Gross Salary:{self.get_gross()},Net Salary:{self.get_net()}\"\n",
    "\n"
   ],
   "id": "189063bc2b4af8a6",
   "outputs": [],
   "execution_count": 4
  },
  {
   "metadata": {},
   "cell_type": "markdown",
   "source": "## Main",
   "id": "25fad57dd3f5a1ae"
  },
  {
   "metadata": {
    "ExecuteTime": {
     "end_time": "2025-09-18T05:34:48.502736Z",
     "start_time": "2025-09-18T05:34:48.496870Z"
    }
   },
   "cell_type": "code",
   "source": [
    "e1=Employee(1,\"Anurag\",50000,12,200,50,10000)\n",
    "m1=Manager(2,\"Aniketh\",100000,12,200,50,10000,8,10,3)\n",
    "me1=MarketingExecutive(3,\"Bhura\",40000,12,200,50,10000,50,1000)\n",
    "\n",
    "print(e1)\n",
    "print(m1)\n",
    "print(me1)"
   ],
   "id": "868fc1d0091340ba",
   "outputs": [
    {
     "name": "stdout",
     "output_type": "stream",
     "text": [
      "Empid:1,EmpName:Anurag,Salary:50000,Pf:6000.0,pt:200,Hra:25000.0,gross:85000.0,Net:78800.0\n",
      "Empid:2,EmpName:Aniketh,Salary:100000,ManagerAllowance:8000.0,Food Allowance:10000.0,Other Allowance:3000.0,Gross salary:181000.0,Net Salary:168800.0\n",
      "Empid:3,EmpName:Bhura,Salary:40000,Travel Allowance:250,Phone Allowance:1000,Gross Salary:71250.0,Net Salary:66250.0\n"
     ]
    }
   ],
   "execution_count": 5
  },
  {
   "metadata": {},
   "cell_type": "markdown",
   "source": "# **Library Management**",
   "id": "98772c893ff69450"
  },
  {
   "metadata": {},
   "cell_type": "markdown",
   "source": "## Book Class",
   "id": "848b262ab0544a9b"
  },
  {
   "metadata": {
    "ExecuteTime": {
     "end_time": "2025-09-18T05:53:32.373350Z",
     "start_time": "2025-09-18T05:53:32.367606Z"
    }
   },
   "cell_type": "code",
   "source": [
    "class Book:\n",
    "    def __init__(self,id,title,author,status):\n",
    "        self.id=id\n",
    "        self.title=title\n",
    "        self.author=author\n",
    "        self.status=status\n",
    "    def __str__(self):\n",
    "        return f\"Id:{self.id},Title:{self.title},Author:{self.author},Status:{self.status}\"\n",
    "\n"
   ],
   "id": "405899cd11200916",
   "outputs": [],
   "execution_count": 8
  },
  {
   "metadata": {},
   "cell_type": "markdown",
   "source": "## Member Class",
   "id": "7c090db1990c4719"
  },
  {
   "metadata": {
    "ExecuteTime": {
     "end_time": "2025-09-18T05:55:19.955318Z",
     "start_time": "2025-09-18T05:55:19.949734Z"
    }
   },
   "cell_type": "code",
   "source": [
    "class Member:\n",
    "    def __init__(self,id,name,issued_book):\n",
    "        self.id=id\n",
    "        self.name=name\n",
    "        self.issued_book=issued_book\n",
    "\n",
    "    def __str__(self):\n",
    "        return f\"Id:{self.id},Name:{self.name},Issued_book:{self.issued_book}\"\n",
    "\n",
    "    def add_book(self,obj):\n",
    "        self.issued_book.append(print(obj))\n",
    "\n",
    "\n"
   ],
   "id": "d6f4fb76b4933c",
   "outputs": [],
   "execution_count": 10
  },
  {
   "metadata": {},
   "cell_type": "markdown",
   "source": "## Library Class",
   "id": "fda869424cde80d5"
  },
  {
   "metadata": {},
   "cell_type": "code",
   "outputs": [],
   "execution_count": null,
   "source": [
    "class Library:\n",
    "    __books=[]\n",
    "    def add_book(self,id,title,author,status):\n",
    "\n",
    "\n",
    "\n",
    "    def show\n"
   ],
   "id": "55d08a2617492823"
  }
 ],
 "metadata": {
  "kernelspec": {
   "display_name": "Python 3",
   "language": "python",
   "name": "python3"
  },
  "language_info": {
   "codemirror_mode": {
    "name": "ipython",
    "version": 2
   },
   "file_extension": ".py",
   "mimetype": "text/x-python",
   "name": "python",
   "nbconvert_exporter": "python",
   "pygments_lexer": "ipython2",
   "version": "2.7.6"
  }
 },
 "nbformat": 4,
 "nbformat_minor": 5
}
