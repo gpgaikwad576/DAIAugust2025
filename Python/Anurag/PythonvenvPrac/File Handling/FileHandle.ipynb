{
 "cells": [
  {
   "cell_type": "code",
   "id": "initial_id",
   "metadata": {
    "collapsed": true,
    "ExecuteTime": {
     "end_time": "2025-09-19T05:33:41.402411Z",
     "start_time": "2025-09-19T05:33:41.397383Z"
    }
   },
   "source": [
    "f=open(\"text.txt\",\"w\")\n",
    "f.write(\"Hello Wrold\")\n",
    "f.close()"
   ],
   "outputs": [],
   "execution_count": 5
  },
  {
   "metadata": {
    "ExecuteTime": {
     "end_time": "2025-09-19T05:33:43.222113Z",
     "start_time": "2025-09-19T05:33:43.217348Z"
    }
   },
   "cell_type": "code",
   "source": [
    "with open(\"text.txt\",\"a\") as f:\n",
    "    f.write(\" Welcome To Future\")\n",
    "\n"
   ],
   "id": "a8f1e226e9a5e238",
   "outputs": [],
   "execution_count": 6
  },
  {
   "metadata": {
    "ExecuteTime": {
     "end_time": "2025-09-19T05:34:53.058954Z",
     "start_time": "2025-09-19T05:34:53.051379Z"
    }
   },
   "cell_type": "code",
   "source": [
    "with open(\"text.txt\",\"r\")as f:\n",
    "    data=f.read()\n",
    "    print(data)"
   ],
   "id": "ecf95ac02c5c9a9",
   "outputs": [
    {
     "name": "stdout",
     "output_type": "stream",
     "text": [
      "Hello Wrold Welcome To Future\n",
      "My Name is Allu Bhai\n",
      "\n"
     ]
    }
   ],
   "execution_count": 7
  },
  {
   "metadata": {
    "ExecuteTime": {
     "end_time": "2025-09-19T05:37:42.281758Z",
     "start_time": "2025-09-19T05:37:42.270091Z"
    }
   },
   "cell_type": "code",
   "source": [
    "with open(\"text.txt\",\"r\")as f:\n",
    "    data=f.read()\n",
    "    f.seek(5)\n",
    "    print(f.read())"
   ],
   "id": "c5107d60663649b7",
   "outputs": [
    {
     "name": "stdout",
     "output_type": "stream",
     "text": [
      " World Welcome To Future\n",
      "My Name is Allu Bhai\n",
      "\n"
     ]
    }
   ],
   "execution_count": 14
  },
  {
   "metadata": {
    "ExecuteTime": {
     "end_time": "2025-09-19T05:43:50.504714Z",
     "start_time": "2025-09-19T05:43:50.497232Z"
    }
   },
   "cell_type": "code",
   "source": [
    "f=open(\"text.txt\",\"r\")\n",
    "data=f.readlines()\n",
    "print(data)\n",
    "f.close()\n"
   ],
   "id": "ebb9fed2efd65387",
   "outputs": [
    {
     "name": "stdout",
     "output_type": "stream",
     "text": [
      "['Hello World Welcome To Future\\n', 'My Name is Allu Bhai\\n']\n"
     ]
    }
   ],
   "execution_count": 23
  },
  {
   "metadata": {},
   "cell_type": "markdown",
   "source": "## 1. Write a program to find no of vowels in file",
   "id": "65340fd1f6f93104"
  },
  {
   "metadata": {
    "ExecuteTime": {
     "end_time": "2025-09-19T05:54:29.421787Z",
     "start_time": "2025-09-19T05:54:29.416076Z"
    }
   },
   "cell_type": "code",
   "source": [
    "cnt=0\n",
    "with open(\"text.txt\",\"r\") as f:\n",
    "    data=f.read()\n",
    "    for i in data:\n",
    "        if i==\"a\" or i==\"e\" or i==\"i\" or i==\"o\" or i==\"u\":\n",
    "            cnt+=1\n",
    "print(cnt)"
   ],
   "id": "c71f77a902bb4bce",
   "outputs": [
    {
     "name": "stdout",
     "output_type": "stream",
     "text": [
      "16\n"
     ]
    }
   ],
   "execution_count": 28
  },
  {
   "metadata": {},
   "cell_type": "markdown",
   "source": "## 2. Word count program",
   "id": "c20b9071f35a149b"
  },
  {
   "metadata": {
    "ExecuteTime": {
     "end_time": "2025-09-19T05:59:11.487526Z",
     "start_time": "2025-09-19T05:59:11.481427Z"
    }
   },
   "cell_type": "code",
   "source": [
    "cnt=0\n",
    "with open(\"text.txt\",\"r\") as f:\n",
    "\n",
    "    for line in f.readlines():\n",
    "        for word in line.split():\n",
    "            cnt+=1\n",
    "\n",
    "print(cnt)"
   ],
   "id": "64a8be9e52675df9",
   "outputs": [
    {
     "name": "stdout",
     "output_type": "stream",
     "text": [
      "10\n"
     ]
    }
   ],
   "execution_count": 37
  },
  {
   "metadata": {},
   "cell_type": "markdown",
   "source": "## 3. Write a program to remove blank lines from files and save it.",
   "id": "d12c4427c42999ae"
  },
  {
   "metadata": {
    "ExecuteTime": {
     "end_time": "2025-09-19T07:44:42.571474Z",
     "start_time": "2025-09-19T07:44:42.560143Z"
    }
   },
   "cell_type": "code",
   "source": [
    "data=[]\n",
    "with open(\"text.txt\",\"r\") as f:\n",
    "    for line in f:\n",
    "        if line!=\"\\n\":\n",
    "            data.append(line[:])\n",
    "\n",
    "print(data)\n",
    "with open(\"Noblanktext.txt\",\"w\") as f:\n",
    "    for line in data:\n",
    "        f.write(line)\n",
    "\n",
    "\n",
    "\n"
   ],
   "id": "d36048627df7e0ec",
   "outputs": [
    {
     "name": "stdout",
     "output_type": "stream",
     "text": [
      "['Hello world\\n', 'welcome to Universe\\n', 'this is India']\n"
     ]
    }
   ],
   "execution_count": 22
  },
  {
   "metadata": {},
   "cell_type": "markdown",
   "source": "## 4. Program to merge data of 2 file in one file",
   "id": "3c88cf081375b3a2"
  },
  {
   "metadata": {
    "ExecuteTime": {
     "end_time": "2025-09-19T07:51:30.406192Z",
     "start_time": "2025-09-19T07:51:30.331167Z"
    }
   },
   "cell_type": "code",
   "source": [
    "with open(\"mergeresult.txt\",\"w\") as res:\n",
    "    data=[]\n",
    "    with open(\"text.txt\",'r') as f1:\n",
    "        for line in f1:\n",
    "            data.append(line)\n",
    "\n",
    "    with open(\"Noblanktext.txt\",\"r\") as f2:\n",
    "        for line in f1:\n",
    "            data.append(line)\n",
    "    for line in data:\n",
    "        res.write(line)\n",
    "\n"
   ],
   "id": "83acb58ba9eb14c9",
   "outputs": [
    {
     "ename": "ValueError",
     "evalue": "I/O operation on closed file.",
     "output_type": "error",
     "traceback": [
      "\u001B[31m---------------------------------------------------------------------------\u001B[39m",
      "\u001B[31mValueError\u001B[39m                                Traceback (most recent call last)",
      "\u001B[36mCell\u001B[39m\u001B[36m \u001B[39m\u001B[32mIn[23]\u001B[39m\u001B[32m, line 8\u001B[39m\n\u001B[32m      5\u001B[39m         data.append(line)\n\u001B[32m      7\u001B[39m \u001B[38;5;28;01mwith\u001B[39;00m \u001B[38;5;28mopen\u001B[39m(\u001B[33m\"\u001B[39m\u001B[33mNoblanktext.txt\u001B[39m\u001B[33m\"\u001B[39m,\u001B[33m\"\u001B[39m\u001B[33mr\u001B[39m\u001B[33m\"\u001B[39m) \u001B[38;5;28;01mas\u001B[39;00m f2:\n\u001B[32m----> \u001B[39m\u001B[32m8\u001B[39m \u001B[43m    \u001B[49m\u001B[38;5;28;43;01mfor\u001B[39;49;00m\u001B[43m \u001B[49m\u001B[43mline\u001B[49m\u001B[43m \u001B[49m\u001B[38;5;129;43;01min\u001B[39;49;00m\u001B[43m \u001B[49m\u001B[43mf1\u001B[49m\u001B[43m:\u001B[49m\n\u001B[32m      9\u001B[39m \u001B[43m        \u001B[49m\u001B[43mdata\u001B[49m\u001B[43m.\u001B[49m\u001B[43mappend\u001B[49m\u001B[43m(\u001B[49m\u001B[43mline\u001B[49m\u001B[43m)\u001B[49m\n\u001B[32m     10\u001B[39m \u001B[38;5;28;01mfor\u001B[39;00m line \u001B[38;5;129;01min\u001B[39;00m data:\n",
      "\u001B[31mValueError\u001B[39m: I/O operation on closed file."
     ]
    }
   ],
   "execution_count": 23
  },
  {
   "metadata": {
    "ExecuteTime": {
     "end_time": "2025-09-20T04:13:02.562281Z",
     "start_time": "2025-09-20T04:13:00.575490Z"
    }
   },
   "cell_type": "code",
   "source": "",
   "id": "ee023cc9882d181f",
   "outputs": [
    {
     "name": "stdout",
     "output_type": "stream",
     "text": [
      "Requirement already satisfied: pymysql in d:\\daiaugust2025\\python\\anurag\\.venv\\lib\\site-packages (1.1.2)\n"
     ]
    }
   ],
   "execution_count": 2
  },
  {
   "metadata": {},
   "cell_type": "code",
   "outputs": [],
   "execution_count": null,
   "source": "",
   "id": "b8a2796b693af082"
  }
 ],
 "metadata": {
  "kernelspec": {
   "display_name": "Python 3",
   "language": "python",
   "name": "python3"
  },
  "language_info": {
   "codemirror_mode": {
    "name": "ipython",
    "version": 2
   },
   "file_extension": ".py",
   "mimetype": "text/x-python",
   "name": "python",
   "nbconvert_exporter": "python",
   "pygments_lexer": "ipython2",
   "version": "2.7.6"
  }
 },
 "nbformat": 4,
 "nbformat_minor": 5
}
