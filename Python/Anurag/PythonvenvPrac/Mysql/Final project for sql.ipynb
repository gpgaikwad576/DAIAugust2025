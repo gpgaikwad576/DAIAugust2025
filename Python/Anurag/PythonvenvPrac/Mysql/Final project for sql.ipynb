{
 "cells": [
  {
   "metadata": {},
   "cell_type": "markdown",
   "source": "## Database connection with the class",
   "id": "dae1494e5e01534c"
  },
  {
   "cell_type": "code",
   "id": "initial_id",
   "metadata": {
    "collapsed": true,
    "ExecuteTime": {
     "end_time": "2025-09-20T07:19:44.173411Z",
     "start_time": "2025-09-20T07:19:44.123222Z"
    }
   },
   "source": "import Main as m",
   "outputs": [],
   "execution_count": 1
  },
  {
   "metadata": {
    "ExecuteTime": {
     "end_time": "2025-09-20T07:27:13.007338Z",
     "start_time": "2025-09-20T07:27:12.943115Z"
    }
   },
   "cell_type": "code",
   "source": [
    "import pymysql as p\n",
    "def execute_query(query,params=None,fetchall=True):\n",
    "    con=p.connect(host=\"localhost\",user='root',password=\"Anurag@1\",database='pgdai_anurag',autocommit=True)\n",
    "    cur=con.cursor()\n",
    "    try:\n",
    "        if params:\n",
    "            cur.execute(query,params)\n",
    "        else:\n",
    "            cur.execute(query)\n",
    "        if fetchall:\n",
    "            return cur.fetchall()\n",
    "        else:\n",
    "            return cur.fetchone()\n",
    "    except Exception as e:\n",
    "        print(f\"Error:{e}\")\n",
    "        return None\n",
    "    finally:\n",
    "        cur.close()\n",
    "        con.close()\n",
    "\n"
   ],
   "id": "44900328ebc2c8f6",
   "outputs": [
    {
     "data": {
      "text/plain": [
       "[]"
      ]
     },
     "execution_count": 2,
     "metadata": {},
     "output_type": "execute_result"
    }
   ],
   "execution_count": 2
  },
  {
   "metadata": {
    "ExecuteTime": {
     "end_time": "2025-09-20T09:10:41.814090Z",
     "start_time": "2025-09-20T09:10:41.658387Z"
    }
   },
   "cell_type": "code",
   "source": [
    "execute_query(\"\"\"create table workforce (empid int AUTO_INCREMENT PRIMARY KEY,empname varchar(100),basicsalary float )\"\"\")\n",
    "\n",
    "# empid,empname,basicSalary,pf,pt,hra,medicaAllowance\n",
    "execute_query(\"\"\"create table employee (empid int references workforce(empid),pf float,pt float,hra float,medical float )\"\"\")\n",
    "\n",
    "#empid,empname,basicSalary,pf,pt,hra,medicaAllowance,managerAllowance,foodAllowance,otherAllowance\n",
    "execute_query(\"\"\"create table manager (empid int references workforce(empid), pf float,pt float,hra float,medical float,managerallowance float,foodallowance float,otherallowance float )\"\"\")\n",
    "\n",
    "#empid,empname,basicsalary,pf,pt,hra,medicaallowance,travel,phoneallowance\n",
    "execute_query(\"\"\"create table marketingExecutive (empid int references workforce(empid), pf float,pt float,hra float,medical float,travel float,phoneallowance float )\"\"\")"
   ],
   "id": "7cfe34458d115a03",
   "outputs": [
    {
     "data": {
      "text/plain": [
       "[]"
      ]
     },
     "execution_count": 5,
     "metadata": {},
     "output_type": "execute_result"
    }
   ],
   "execution_count": 5
  },
  {
   "metadata": {},
   "cell_type": "code",
   "outputs": [],
   "execution_count": null,
   "source": "",
   "id": "77fb236fc352625"
  }
 ],
 "metadata": {
  "kernelspec": {
   "display_name": "Python 3",
   "language": "python",
   "name": "python3"
  },
  "language_info": {
   "codemirror_mode": {
    "name": "ipython",
    "version": 2
   },
   "file_extension": ".py",
   "mimetype": "text/x-python",
   "name": "python",
   "nbconvert_exporter": "python",
   "pygments_lexer": "ipython2",
   "version": "2.7.6"
  }
 },
 "nbformat": 4,
 "nbformat_minor": 5
}
