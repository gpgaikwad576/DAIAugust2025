{
 "cells": [
  {
   "metadata": {},
   "cell_type": "markdown",
   "source": "## Working with Function",
   "id": "77ec148e7d2aaa60"
  },
  {
   "cell_type": "code",
   "id": "initial_id",
   "metadata": {
    "collapsed": true,
    "ExecuteTime": {
     "end_time": "2025-09-11T03:37:30.919158Z",
     "start_time": "2025-09-11T03:37:30.908019Z"
    }
   },
   "source": [
    "def func(l):\n",
    "    sum=0\n",
    "    for i in l:\n",
    "        sum=sum+i\n",
    "    return sum\n",
    "\n",
    "print(func([x for x in range(1,101)]))"
   ],
   "outputs": [
    {
     "name": "stdout",
     "output_type": "stream",
     "text": [
      "5050\n"
     ]
    }
   ],
   "execution_count": 2
  },
  {
   "metadata": {
    "ExecuteTime": {
     "end_time": "2025-09-11T03:47:19.893764Z",
     "start_time": "2025-09-11T03:47:19.887838Z"
    }
   },
   "cell_type": "code",
   "source": [
    "def func(**kwargs):\n",
    "    for i in kwargs.values():\n",
    "        print(i)\n",
    "\n",
    "func(a=1,b=2,c=5,d=5,name=\"Anurag\",course=\"DAI\")\n",
    "\n"
   ],
   "id": "da1f8412540fa273",
   "outputs": [
    {
     "name": "stdout",
     "output_type": "stream",
     "text": [
      "1\n",
      "2\n",
      "5\n",
      "5\n",
      "Anurag\n",
      "DAI\n"
     ]
    }
   ],
   "execution_count": 12
  },
  {
   "metadata": {},
   "cell_type": "markdown",
   "source": "## even odd list",
   "id": "84873ecdcf2f365b"
  },
  {
   "metadata": {
    "ExecuteTime": {
     "end_time": "2025-09-11T03:55:17.740554Z",
     "start_time": "2025-09-11T03:55:17.734939Z"
    }
   },
   "cell_type": "code",
   "source": [
    "def func(l):\n",
    "    return f\"\"\"Even List:{[x for x in l if x % 2 == 0]}\n",
    "Odd List:{[x for x in l if x % 2 != 0]}\"\"\"\n",
    "\n",
    "print(func([x for x in range(1,100+1)]))\n"
   ],
   "id": "447dee199e480b15",
   "outputs": [
    {
     "name": "stdout",
     "output_type": "stream",
     "text": [
      "Even List:[2, 4, 6, 8, 10, 12, 14, 16, 18, 20, 22, 24, 26, 28, 30, 32, 34, 36, 38, 40, 42, 44, 46, 48, 50, 52, 54, 56, 58, 60, 62, 64, 66, 68, 70, 72, 74, 76, 78, 80, 82, 84, 86, 88, 90, 92, 94, 96, 98, 100]\n",
      "Odd List:[1, 3, 5, 7, 9, 11, 13, 15, 17, 19, 21, 23, 25, 27, 29, 31, 33, 35, 37, 39, 41, 43, 45, 47, 49, 51, 53, 55, 57, 59, 61, 63, 65, 67, 69, 71, 73, 75, 77, 79, 81, 83, 85, 87, 89, 91, 93, 95, 97, 99]\n"
     ]
    }
   ],
   "execution_count": 21
  },
  {
   "metadata": {
    "ExecuteTime": {
     "end_time": "2025-09-11T04:06:43.386842Z",
     "start_time": "2025-09-11T04:06:43.381258Z"
    }
   },
   "cell_type": "code",
   "source": [
    "def func(l,min,max):\n",
    "    l.sort()\n",
    "    return sum(l[l.index(min):l.index(max)])\n",
    "\n",
    "print(func([2,54,64,3,63,2,1,5,6],2,54))\n"
   ],
   "id": "2e1ba970f27e2b56",
   "outputs": [
    {
     "name": "stdout",
     "output_type": "stream",
     "text": [
      "18\n"
     ]
    }
   ],
   "execution_count": 24
  },
  {
   "metadata": {},
   "cell_type": "code",
   "outputs": [],
   "execution_count": null,
   "source": "",
   "id": "4b6f692e21b11ea8"
  }
 ],
 "metadata": {
  "kernelspec": {
   "display_name": "Python 3",
   "language": "python",
   "name": "python3"
  },
  "language_info": {
   "codemirror_mode": {
    "name": "ipython",
    "version": 2
   },
   "file_extension": ".py",
   "mimetype": "text/x-python",
   "name": "python",
   "nbconvert_exporter": "python",
   "pygments_lexer": "ipython2",
   "version": "2.7.6"
  }
 },
 "nbformat": 4,
 "nbformat_minor": 5
}
