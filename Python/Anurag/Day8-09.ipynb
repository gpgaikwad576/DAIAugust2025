{
 "cells": [
  {
   "cell_type": "markdown",
   "id": "e5ac55ac",
   "metadata": {},
   "source": [
    "## Create  a Function for even odd"
   ]
  },
  {
   "cell_type": "code",
   "execution_count": 3,
   "id": "eb0fc85c",
   "metadata": {},
   "outputs": [
    {
     "name": "stdout",
     "output_type": "stream",
     "text": [
      "even\n"
     ]
    }
   ],
   "source": [
    "def isevenodd(x):\n",
    "    if x%2==0:\n",
    "        return \"even\"\n",
    "    else:\n",
    "        return \"odd\"\n",
    "    \n",
    "\n",
    "x=int(input(\"Enter the Number:\"))\n",
    "print(isevenodd(x))"
   ]
  },
  {
   "cell_type": "markdown",
   "id": "16ea26e5",
   "metadata": {},
   "source": [
    "## Create Function for Factorial"
   ]
  },
  {
   "cell_type": "code",
   "execution_count": 7,
   "id": "d976b4b5",
   "metadata": {},
   "outputs": [
    {
     "name": "stdout",
     "output_type": "stream",
     "text": [
      "720\n"
     ]
    }
   ],
   "source": [
    "def fact(x):\n",
    "    res=1\n",
    "    for i in range(1,x+1):\n",
    "        res*=i\n",
    "    return res\n",
    "\n",
    "x=int(input(\"Enter the Number:\"))\n",
    "print(fact(x))"
   ]
  },
  {
   "cell_type": "markdown",
   "id": "c41ff5ca",
   "metadata": {},
   "source": [
    "## Create Fuction for Prime"
   ]
  },
  {
   "cell_type": "code",
   "execution_count": 9,
   "id": "cc637260",
   "metadata": {},
   "outputs": [
    {
     "name": "stdout",
     "output_type": "stream",
     "text": [
      "False\n"
     ]
    }
   ],
   "source": [
    "def isprime(x):\n",
    "    if x<2 and x>=0:\n",
    "        return False\n",
    "    else:\n",
    "        for i in range(2,x//2+1):\n",
    "            if x%i==0:\n",
    "                return False\n",
    "        else:\n",
    "            return True\n",
    "\n",
    "\n",
    "x=int(input(\"Enter the Number:\"))\n",
    "print(isprime(x))"
   ]
  },
  {
   "cell_type": "markdown",
   "id": "4b22290d",
   "metadata": {},
   "source": [
    "## Named Parameter Functions"
   ]
  },
  {
   "cell_type": "code",
   "execution_count": 11,
   "id": "b7282b88",
   "metadata": {},
   "outputs": [
    {
     "name": "stdout",
     "output_type": "stream",
     "text": [
      "50\n"
     ]
    }
   ],
   "source": [
    "def fun(a=0,b=0):\n",
    "    return a+b\n",
    "\n",
    "print(fun(20,30))"
   ]
  },
  {
   "cell_type": "code",
   "execution_count": null,
   "id": "bc642377",
   "metadata": {},
   "outputs": [],
   "source": []
  }
 ],
 "metadata": {
  "kernelspec": {
   "display_name": ".venv",
   "language": "python",
   "name": "python3"
  },
  "language_info": {
   "codemirror_mode": {
    "name": "ipython",
    "version": 3
   },
   "file_extension": ".py",
   "mimetype": "text/x-python",
   "name": "python",
   "nbconvert_exporter": "python",
   "pygments_lexer": "ipython3",
   "version": "3.13.7"
  }
 },
 "nbformat": 4,
 "nbformat_minor": 5
}
