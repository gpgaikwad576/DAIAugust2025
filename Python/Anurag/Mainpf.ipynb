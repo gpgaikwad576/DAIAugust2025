{
 "cells": [
  {
   "cell_type": "markdown",
   "id": "0bb0c2f7",
   "metadata": {},
   "source": [
    "## 12. From given list of strings create another list of strings having 2 or more vowels"
   ]
  },
  {
   "cell_type": "code",
   "execution_count": 1,
   "id": "eec2e408",
   "metadata": {},
   "outputs": [
    {
     "name": "stdout",
     "output_type": "stream",
     "text": [
      "['Anurag', 'vaibhav', 'Riya', 'Vaishnavi', 'Pawan']\n"
     ]
    }
   ],
   "source": [
    "l=[\"Anurag\",\"Raj\",\"vaibhav\",\"Riya\",\"Vaishnavi\",\"Pawan\"]\n",
    "res=[]\n",
    "for item in l:\n",
    "    cnt=0\n",
    "    for s in item:\n",
    "        if s.lower() ==\"a\" or s.lower()==\"e\"or s.lower() ==\"i\" or s.lower()==\"o\" or s.lower()==\"u\":\n",
    "            cnt+=1\n",
    "    if cnt>=2:\n",
    "        res.append(item)\n",
    "\n",
    "print(res)\n",
    "\n"
   ]
  },
  {
   "cell_type": "markdown",
   "id": "e09d7eb6",
   "metadata": {},
   "source": [
    "## 13. Find out total count of prime numbers and odd numbers in given tuple"
   ]
  },
  {
   "cell_type": "code",
   "execution_count": 10,
   "id": "1b34dcb8",
   "metadata": {},
   "outputs": [],
   "source": [
    "def isPrime(x):\n",
    "    if x<2 and x>=0:\n",
    "        return False\n",
    "    elif x==2:\n",
    "        return True\n",
    "    else:\n",
    "        for i in range(2,x//2+1):\n",
    "            if x%i==0:\n",
    "                return False\n",
    "            \n",
    "        else:\n",
    "            return True\n"
   ]
  },
  {
   "cell_type": "code",
   "execution_count": 25,
   "id": "cd19a408",
   "metadata": {},
   "outputs": [
    {
     "name": "stdout",
     "output_type": "stream",
     "text": [
      "prime cnt:6, odd cnt:6\n"
     ]
    }
   ],
   "source": [
    "t=(1,2,3,4,5,6,7,88,6,11,12,13,14)\n",
    "primecnt=oddcnt=0\n",
    "for x in t:\n",
    "    if isPrime(x):\n",
    "        primecnt+=1\n",
    "    if x%2!=0:\n",
    "        oddcnt+=1\n",
    "\n",
    "print(f\"prime cnt:{primecnt}, odd cnt:{oddcnt}\")"
   ]
  },
  {
   "cell_type": "markdown",
   "id": "6b6a5d34",
   "metadata": {},
   "source": [
    "## 14. Write a program to reverse given string."
   ]
  },
  {
   "cell_type": "code",
   "execution_count": null,
   "id": "3d5fcb14",
   "metadata": {},
   "outputs": [
    {
     "name": "stdout",
     "output_type": "stream",
     "text": [
      "garunA\n"
     ]
    }
   ],
   "source": [
    "s=\"Anurag\"\n",
    "print(s[::-1])\n"
   ]
  },
  {
   "cell_type": "markdown",
   "id": "f96eb3fb",
   "metadata": {},
   "source": [
    "## 15. Write a program to find if given string is pangram (it should have all characters from a to z)"
   ]
  },
  {
   "cell_type": "code",
   "execution_count": 13,
   "id": "64946833",
   "metadata": {},
   "outputs": [
    {
     "name": "stdout",
     "output_type": "stream",
     "text": [
      "Panagram\n"
     ]
    }
   ],
   "source": [
    "s=\"The Quick brown Fox jumps over the lazy dog\"\n",
    "l=[0]*26\n",
    "for i in s:\n",
    "    if i!=\" \":\n",
    "        if l[ord(i.lower())-ord('a')]==0:\n",
    "            l[ord(i.lower()) - ord('a')]+=1\n",
    "cnt0=0\n",
    "for i in l:\n",
    "    if i==0:\n",
    "        cnt0+=1\n",
    "\n",
    "if cnt0!=0:\n",
    "    print(\"Not a Panagram\")\n",
    "else:\n",
    "    print(\"Panagram\")\n"
   ]
  },
  {
   "cell_type": "markdown",
   "id": "4caabdd2",
   "metadata": {},
   "source": [
    "## 16. Write a program to find if given string is anagram (it should have same charachters in any rotation)"
   ]
  },
  {
   "cell_type": "code",
   "execution_count": 17,
   "id": "3c721ea2",
   "metadata": {},
   "outputs": [
    {
     "name": "stdout",
     "output_type": "stream",
     "text": [
      "Anagram\n"
     ]
    }
   ],
   "source": [
    "s1=\"listen\"\n",
    "s2=\"silent\"\n",
    "\n",
    "if sorted(s1)==sorted(s2):\n",
    "    print(\"Anagram\")\n",
    "else:\n",
    "    print(\"Not an Anagram\")\n"
   ]
  },
  {
   "cell_type": "markdown",
   "id": "f0655c1f",
   "metadata": {},
   "source": [
    "## 17. Change the case of each vowel in given string (e.g. hEllo should be converted to hellO ,uppercase should be converted to lower and vice versa)"
   ]
  },
  {
   "cell_type": "code",
   "execution_count": 18,
   "id": "b311d73b",
   "metadata": {},
   "outputs": [
    {
     "name": "stdout",
     "output_type": "stream",
     "text": [
      "HeLLO\n"
     ]
    }
   ],
   "source": [
    "s=\"hEllo\"\n",
    "res=\"\"\n",
    "\n",
    "for i in s:\n",
    "    if i.islower():\n",
    "        res+=i.upper()\n",
    "    else:\n",
    "        res+=i.lower()\n",
    "print(res)"
   ]
  },
  {
   "cell_type": "markdown",
   "id": "90624726",
   "metadata": {},
   "source": [
    "## 18. Reverse every word in given sentence. (\"hello world how are you\" should be converted to \"olleh dlrow woh era uoy\")"
   ]
  },
  {
   "cell_type": "code",
   "execution_count": 19,
   "id": "eafccbdc",
   "metadata": {},
   "outputs": [
    {
     "name": "stdout",
     "output_type": "stream",
     "text": [
      "olleh dlrow woh era uoy\n"
     ]
    }
   ],
   "source": [
    "s=\"hello world how are you\"\n",
    "\n",
    "l=s.split(\" \")\n",
    "print(\" \".join([word[::-1] for word in l]))"
   ]
  },
  {
   "cell_type": "code",
   "execution_count": 20,
   "id": "3e2b7c67",
   "metadata": {},
   "outputs": [
    {
     "name": "stdout",
     "output_type": "stream",
     "text": [
      "olleh dlrow woh era uoy\n"
     ]
    }
   ],
   "source": [
    "print(\" \".join([word[::-1] for word in s.split(\" \")]))"
   ]
  },
  {
   "cell_type": "markdown",
   "id": "f07fc16d",
   "metadata": {},
   "source": [
    "##### 19. In cryptography, a Caesar cipher is a very simple encryption techniques in which each letter in the plain text is replaced by a letter some fixed number of positions down the alphabet. For example, with a shift of 3, A would be replaced by D, B would become E, and so on. The method is named after Julius Caesar, who used it to communicate with his generals. ROT-13 (\"rotate by 13 places\") is a widely used example of a Caesar cipher where the shift is 13. In Python, the key for ROT-13 may be represented by means of the following dictionary:"
   ]
  },
  {
   "cell_type": "code",
   "execution_count": 23,
   "id": "5284c19e",
   "metadata": {},
   "outputs": [
    {
     "name": "stdout",
     "output_type": "stream",
     "text": [
      "Caesar cipher? I much prefer Caesar salad!\n"
     ]
    }
   ],
   "source": [
    "key = {'a':'n', 'b':'o', 'c':'p', 'd':'q', 'e':'r', 'f':'s', 'g':'t', 'h':'u', 'i':'v', 'j':'w', 'k':'x', 'l':'y',\n",
    "'m':'z', 'n':'a','o':'b',\n",
    "'p':'c', 'q':'d', 'r':'e', 's':'f', 't':'g', 'u':'h', 'v':'i', 'w':'j', 'x':'k', 'y':'l', 'z':'m', 'A':'N', 'B':'O',\n",
    "'C':'P', 'D':'Q','E':'R',\n",
    "'F':'S', 'G':'T', 'H':'U', 'I':'V', 'J':'W', 'K':'X', 'L':'Y', 'M':'Z', 'N':'A', 'O':'B', 'P':'C', 'Q':'D', 'R':'E',\n",
    "'S':'F', 'T':'G', 'U':'H', 'V':'I', 'W':'J', 'X':'K', 'Y':'L', 'Z':'M'}\n",
    "\n",
    "s=\"Pnrfne pvcure? V zhpu cersre Pnrfne fnynq!\"\n",
    "res=[]\n",
    "for i in s:\n",
    "    if i==\"?\" or i==\" \" or i==\"!\":\n",
    "        res.append(i)\n",
    "    else:\n",
    "        res.append(key[i])\n",
    "\n",
    "print(\"\".join(res))"
   ]
  },
  {
   "cell_type": "code",
   "execution_count": null,
   "id": "1aa857cc",
   "metadata": {},
   "outputs": [],
   "source": []
  }
 ],
 "metadata": {
  "kernelspec": {
   "display_name": ".venv",
   "language": "python",
   "name": "python3"
  },
  "language_info": {
   "codemirror_mode": {
    "name": "ipython",
    "version": 3
   },
   "file_extension": ".py",
   "mimetype": "text/x-python",
   "name": "python",
   "nbconvert_exporter": "python",
   "pygments_lexer": "ipython3",
   "version": "3.13.7"
  }
 },
 "nbformat": 4,
 "nbformat_minor": 5
}
