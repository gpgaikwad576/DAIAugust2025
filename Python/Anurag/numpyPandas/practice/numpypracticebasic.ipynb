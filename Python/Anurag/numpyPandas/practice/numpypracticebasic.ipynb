{
 "cells": [
  {
   "cell_type": "code",
   "id": "initial_id",
   "metadata": {
    "collapsed": true,
    "ExecuteTime": {
     "end_time": "2025-09-26T05:48:16.303042Z",
     "start_time": "2025-09-26T05:48:16.298410Z"
    }
   },
   "source": [
    "import numpy as np\n",
    "from pprint import pprint\n",
    "\n",
    "from numpy.ma.core import shape"
   ],
   "outputs": [],
   "execution_count": 30
  },
  {
   "metadata": {
    "ExecuteTime": {
     "end_time": "2025-09-26T05:48:17.734539Z",
     "start_time": "2025-09-26T05:48:17.728584Z"
    }
   },
   "cell_type": "code",
   "source": [
    "l=[10,20,30,40]\n",
    "n=np.array(l,dtype=\"int64\")\n",
    "print(n)"
   ],
   "id": "4f5c2884878a8ef6",
   "outputs": [
    {
     "name": "stdout",
     "output_type": "stream",
     "text": [
      "[10 20 30 40]\n"
     ]
    }
   ],
   "execution_count": 31
  },
  {
   "metadata": {},
   "cell_type": "markdown",
   "source": "## Basic methods\n",
   "id": "bfed52a28880564"
  },
  {
   "metadata": {
    "ExecuteTime": {
     "end_time": "2025-09-26T05:48:23.304989Z",
     "start_time": "2025-09-26T05:48:23.297701Z"
    }
   },
   "cell_type": "code",
   "source": [
    "a=np.random.randint(1,10,(3,3))\n",
    "b=np.random.randint(1,10,(3,3))\n",
    "pprint(a)\n",
    "pprint(b)\n",
    "print('\\n')\n",
    "print(\"Add:\",a+b)\n",
    "print(\"Sub:\",a-b)\n",
    "print(\"Mult:\",a*b)\n",
    "print(\"Divide\",a/b)\n",
    "# print(a@b)"
   ],
   "id": "8e745a1558223731",
   "outputs": [
    {
     "name": "stdout",
     "output_type": "stream",
     "text": [
      "array([[5, 7, 6],\n",
      "       [1, 5, 5],\n",
      "       [8, 5, 9]], dtype=int32)\n",
      "array([[4, 6, 1],\n",
      "       [4, 4, 5],\n",
      "       [2, 5, 4]], dtype=int32)\n",
      "\n",
      "\n",
      "Add: [[ 9 13  7]\n",
      " [ 5  9 10]\n",
      " [10 10 13]]\n",
      "Sub: [[ 1  1  5]\n",
      " [-3  1  0]\n",
      " [ 6  0  5]]\n",
      "Mult: [[20 42  6]\n",
      " [ 4 20 25]\n",
      " [16 25 36]]\n",
      "Divide [[1.25       1.16666667 6.        ]\n",
      " [0.25       1.25       1.        ]\n",
      " [4.         1.         2.25      ]]\n"
     ]
    }
   ],
   "execution_count": 33
  },
  {
   "metadata": {},
   "cell_type": "markdown",
   "source": [
    "## reshape, resize\n",
    "(new array(id change), data remains same),(original array(id change) update,can add or delete data)\n",
    "\n",
    "(No padding),(padding)"
   ],
   "id": "6a86b5107e1e9da2"
  },
  {
   "metadata": {
    "ExecuteTime": {
     "end_time": "2025-09-26T06:15:02.680596Z",
     "start_time": "2025-09-26T06:15:02.673874Z"
    }
   },
   "cell_type": "code",
   "source": [
    "a=np.array([1,2,3,4,5,6,7,8,9])\n",
    "print(id(a))\n",
    "print(id(a.reshape((3,3))))\n",
    "print(a)\n",
    "\n",
    "a=np.array([1,2,3,4,5,6,7,8,9])\n",
    "print(id(a))\n",
    "print(id(a.resize((2,2))))\n",
    "print(a)"
   ],
   "id": "9f729fd24c81e540",
   "outputs": [
    {
     "name": "stdout",
     "output_type": "stream",
     "text": [
      "2166440469264\n",
      "2166440707056\n",
      "[1 2 3 4 5 6 7 8 9]\n",
      "2166440707056\n",
      "140732722573808\n",
      "[[1 2]\n",
      " [3 4]]\n"
     ]
    }
   ],
   "execution_count": 75
  },
  {
   "metadata": {},
   "cell_type": "markdown",
   "source": "## Concatenate",
   "id": "805135a7bda9dde"
  },
  {
   "metadata": {
    "ExecuteTime": {
     "end_time": "2025-09-26T06:04:30.749880Z",
     "start_time": "2025-09-26T06:04:30.743547Z"
    }
   },
   "cell_type": "code",
   "source": [
    "a=np.array([[1,2,3],[2,3,4]])\n",
    "b=np.array([[1,4,3],[6,3,4]])\n",
    "\n",
    "pprint(np.concatenate((a,b),axis=0))\n",
    "\n",
    "pprint(np.concatenate((a,b),axis=1))"
   ],
   "id": "4f049c3816919d6",
   "outputs": [
    {
     "name": "stdout",
     "output_type": "stream",
     "text": [
      "array([[1, 2, 3],\n",
      "       [2, 3, 4],\n",
      "       [1, 4, 3],\n",
      "       [6, 3, 4]])\n",
      "array([[1, 2, 3, 1, 4, 3],\n",
      "       [2, 3, 4, 6, 3, 4]])\n"
     ]
    }
   ],
   "execution_count": 61
  },
  {
   "metadata": {
    "ExecuteTime": {
     "end_time": "2025-09-26T06:23:13.681897Z",
     "start_time": "2025-09-26T06:23:13.674882Z"
    }
   },
   "cell_type": "code",
   "source": "np.arange(0,20,5)",
   "id": "7940451da57cd4a7",
   "outputs": [
    {
     "data": {
      "text/plain": [
       "array([ 0,  5, 10, 15])"
      ]
     },
     "execution_count": 77,
     "metadata": {},
     "output_type": "execute_result"
    }
   ],
   "execution_count": 77
  },
  {
   "metadata": {
    "ExecuteTime": {
     "end_time": "2025-09-26T06:25:41.957926Z",
     "start_time": "2025-09-26T06:25:41.952032Z"
    }
   },
   "cell_type": "code",
   "source": [
    "x=np.random.choice([1,2,3,54,6,78])\n",
    "print(x)"
   ],
   "id": "350f5f65ef45627c",
   "outputs": [
    {
     "name": "stdout",
     "output_type": "stream",
     "text": [
      "1\n"
     ]
    }
   ],
   "execution_count": 84
  },
  {
   "metadata": {
    "ExecuteTime": {
     "end_time": "2025-09-26T06:28:42.169873Z",
     "start_time": "2025-09-26T06:28:42.167124Z"
    }
   },
   "cell_type": "code",
   "source": "",
   "id": "ec8038b99517de20",
   "outputs": [],
   "execution_count": null
  },
  {
   "metadata": {},
   "cell_type": "code",
   "outputs": [],
   "execution_count": null,
   "source": "",
   "id": "6ed85e2f4bea164e"
  }
 ],
 "metadata": {
  "kernelspec": {
   "display_name": "Python 3",
   "language": "python",
   "name": "python3"
  },
  "language_info": {
   "codemirror_mode": {
    "name": "ipython",
    "version": 2
   },
   "file_extension": ".py",
   "mimetype": "text/x-python",
   "name": "python",
   "nbconvert_exporter": "python",
   "pygments_lexer": "ipython2",
   "version": "2.7.6"
  }
 },
 "nbformat": 4,
 "nbformat_minor": 5
}
