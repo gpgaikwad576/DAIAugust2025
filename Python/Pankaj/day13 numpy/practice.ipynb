{
 "cells": [
  {
   "metadata": {},
   "cell_type": "markdown",
   "source": "## numpy",
   "id": "c413127bf85f7cb1"
  },
  {
   "cell_type": "code",
   "id": "initial_id",
   "metadata": {
    "collapsed": true,
    "ExecuteTime": {
     "end_time": "2025-09-26T07:04:43.313356Z",
     "start_time": "2025-09-26T07:04:43.309046Z"
    }
   },
   "source": [
    "import numpy as np\n",
    "import pandas as pd"
   ],
   "outputs": [],
   "execution_count": 25
  },
  {
   "metadata": {
    "ExecuteTime": {
     "end_time": "2025-09-26T07:01:15.574792Z",
     "start_time": "2025-09-26T07:01:15.570526Z"
    }
   },
   "cell_type": "code",
   "source": "emps = np.array([[1,'abc',99000],[2,'mno',28000]])",
   "id": "a9c1fe0c11924c8c",
   "outputs": [],
   "execution_count": 21
  },
  {
   "metadata": {
    "ExecuteTime": {
     "end_time": "2025-09-26T06:44:19.962577Z",
     "start_time": "2025-09-26T06:44:16.338634Z"
    }
   },
   "cell_type": "code",
   "source": [
    "name = input()\n",
    "for emp in emps:\n",
    "    if emp[1].lower().strip() == name:\n",
    "        print(emp[1],\": \",emp[0],emp[2])\n",
    "\n"
   ],
   "id": "6d6b8f110c8d95af",
   "outputs": [
    {
     "name": "stdout",
     "output_type": "stream",
     "text": [
      "abc :  1 99000\n"
     ]
    }
   ],
   "execution_count": 7
  },
  {
   "metadata": {
    "ExecuteTime": {
     "end_time": "2025-09-26T07:51:22.731039Z",
     "start_time": "2025-09-26T07:51:22.725221Z"
    }
   },
   "cell_type": "code",
   "source": [
    "my_dict = {'a': 10, 'b': 20, 'c': 30, 'd': 40}\n",
    "print(np.array(list(my_dict.values())))"
   ],
   "id": "6d71c3761eb83dbb",
   "outputs": [
    {
     "name": "stdout",
     "output_type": "stream",
     "text": [
      "[10 20 30 40]\n"
     ]
    }
   ],
   "execution_count": 64
  },
  {
   "metadata": {
    "ExecuteTime": {
     "end_time": "2025-09-26T07:59:42.703394Z",
     "start_time": "2025-09-26T07:59:42.697631Z"
    }
   },
   "cell_type": "code",
   "source": [
    "data_dict = {\n",
    "    'temperatures': [25, 30, 28, 32],\n",
    "    'humidity': [60, 65, 70, 55],\n",
    "    'pressure': [1013, 1015, 1010, 1012]\n",
    "}\n",
    "print(np.array(list(data_dict.values())))"
   ],
   "id": "d5fd0aa7a73390fb",
   "outputs": [
    {
     "name": "stdout",
     "output_type": "stream",
     "text": [
      "[[  25   30   28   32]\n",
      " [  60   65   70   55]\n",
      " [1013 1015 1010 1012]]\n"
     ]
    }
   ],
   "execution_count": 70
  },
  {
   "metadata": {
    "ExecuteTime": {
     "end_time": "2025-09-26T08:06:40.140212Z",
     "start_time": "2025-09-26T08:06:40.130821Z"
    }
   },
   "cell_type": "code",
   "source": [
    "person_dict = {\n",
    "    'names': ['Alice', 'Bob', 'Charlie'],\n",
    "    'ages': [25, 30, 35],\n",
    "    'scores': [85.5, 92.0, 78.5]\n",
    "}\n",
    "print(np.array(list(person_dict.values())))\n",
    "print()\n",
    "dtype = [('names','U10'),('ages','i4'),('scores','f4')]\n",
    "np.array(list(zip(person_dict['names'],person_dict['ages'],person_dict['scores'])))"
   ],
   "id": "fa7fd3d333e70cdf",
   "outputs": [
    {
     "name": "stdout",
     "output_type": "stream",
     "text": [
      "[['Alice' 'Bob' 'Charlie']\n",
      " ['25' '30' '35']\n",
      " ['85.5' '92.0' '78.5']]\n",
      "\n"
     ]
    },
    {
     "data": {
      "text/plain": [
       "array([['Alice', '25', '85.5'],\n",
       "       ['Bob', '30', '92.0'],\n",
       "       ['Charlie', '35', '78.5']], dtype='<U32')"
      ]
     },
     "execution_count": 81,
     "metadata": {},
     "output_type": "execute_result"
    }
   ],
   "execution_count": 81
  },
  {
   "metadata": {},
   "cell_type": "markdown",
   "source": "## Pandas",
   "id": "3d998c1317f27757"
  },
  {
   "metadata": {
    "ExecuteTime": {
     "end_time": "2025-09-26T07:07:02.867301Z",
     "start_time": "2025-09-26T07:07:02.860973Z"
    }
   },
   "cell_type": "code",
   "source": [
    "l =[10,20,30,40,\"50\"]\n",
    "print(pd.Series(l,index=['a','b','c','d','e']))"
   ],
   "id": "6c25789dcb0c8abc",
   "outputs": [
    {
     "name": "stdout",
     "output_type": "stream",
     "text": [
      "a    10\n",
      "b    20\n",
      "c    30\n",
      "d    40\n",
      "e    50\n",
      "dtype: object\n"
     ]
    }
   ],
   "execution_count": 30
  },
  {
   "metadata": {
    "ExecuteTime": {
     "end_time": "2025-09-26T07:18:02.789660Z",
     "start_time": "2025-09-26T07:18:02.784685Z"
    }
   },
   "cell_type": "code",
   "source": [
    "x={\"empid\":[1,2],\"ename\":[\"abc\",\"mno\"],\"salary\":[88,34]}\n",
    "y=[{\"eid\":1,\"name\":\"Pankaj\",\"salary\":88},{\"eid\":2,\"name\":\"Suraj\",\"salary\":34}]"
   ],
   "id": "122187371b2817f",
   "outputs": [],
   "execution_count": 45
  },
  {
   "metadata": {
    "ExecuteTime": {
     "end_time": "2025-09-26T07:18:03.989511Z",
     "start_time": "2025-09-26T07:18:03.968334Z"
    }
   },
   "cell_type": "code",
   "source": [
    "tb=pd.DataFrame(x)\n",
    "print(tb)\n",
    "print()\n",
    "print(tb.describe())\n",
    "print()\n",
    "\n",
    "tb2=pd.DataFrame(y)\n",
    "print(tb2.describe())"
   ],
   "id": "94fe3988d373b755",
   "outputs": [
    {
     "name": "stdout",
     "output_type": "stream",
     "text": [
      "   empid ename  salary\n",
      "0      1   abc      88\n",
      "1      2   mno      34\n",
      "\n",
      "          empid     salary\n",
      "count  2.000000   2.000000\n",
      "mean   1.500000  61.000000\n",
      "std    0.707107  38.183766\n",
      "min    1.000000  34.000000\n",
      "25%    1.250000  47.500000\n",
      "50%    1.500000  61.000000\n",
      "75%    1.750000  74.500000\n",
      "max    2.000000  88.000000\n",
      "\n",
      "            eid     salary\n",
      "count  2.000000   2.000000\n",
      "mean   1.500000  61.000000\n",
      "std    0.707107  38.183766\n",
      "min    1.000000  34.000000\n",
      "25%    1.250000  47.500000\n",
      "50%    1.500000  61.000000\n",
      "75%    1.750000  74.500000\n",
      "max    2.000000  88.000000\n"
     ]
    }
   ],
   "execution_count": 46
  },
  {
   "metadata": {
    "ExecuteTime": {
     "end_time": "2025-09-26T07:24:48.302333Z",
     "start_time": "2025-09-26T07:24:48.267750Z"
    }
   },
   "cell_type": "code",
   "source": [
    "emp_list = list()\n",
    "class Employee:\n",
    "    _eid =1\n",
    "    def __init__(self,ename,basic_sal):\n",
    "        Employee._eid+=1\n",
    "        self._ename = ename\n",
    "        self._basic_sal = basic_sal\n",
    "        self._pfp = 12\n",
    "        self._pt = 200\n",
    "        self._hrap = 50\n",
    "        self._ma = 1000\n",
    "\n",
    "    def calc_gross(self):\n",
    "        pf = self._pfp*self._basic_sal/100\n",
    "        hra = self._hrap*self._basic_sal/100\n",
    "        return self._basic_sal+hra+self._ma\n",
    "\n",
    "    def calc_net(self):\n",
    "        pf = self._pfp*self._basic_sal/100\n",
    "        return self.calc_gross()-pf-self._pt\n",
    "\n",
    "    def __str__(self):\n",
    "        return f\"{self._eid} {self._ename} {self._basic_sal} {self._pfp} {self._pt} {self._hrap} {self._ma} {self.calc_net()} {self.calc_net()}\"\n",
    "\n",
    "\n",
    "class Manager(Employee):\n",
    "    def __init__(self,ename,basic_sal):\n",
    "        super().__init__(ename,basic_sal)\n",
    "        self.man_allow_per = 8\n",
    "        self.food_allow_per = 10\n",
    "        self.other_allow_per = 3\n",
    "\n",
    "    def calc_gross(self):\n",
    "        return super().calc_gross()+self.man_allow_per*self._basic_sal/100+self.food_allow_per*self._basic_sal/100+self.other_allow_per*self._basic_sal/100\n",
    "\n",
    "    def calc_net(self):\n",
    "        pf = self._pfp*self._basic_sal/100\n",
    "        return self.calc_gross()-pf-self._pt\n",
    "\n",
    "    # def __str__(self):\n",
    "    #     return f\"{self._eid} {self._ename} {self._basic_sal} {self._pfp} {self._pt} {self._hrap} {self._ma} {self.man_allow_per} {self.food_allow_per} {self.other_allow_per}\"\n",
    "\n",
    "class MarkExecutive(Employee):\n",
    "    def __init__(self,ename,basic_sal,kms_travelled):\n",
    "        super().__init__(ename,basic_sal)\n",
    "        self.kms_travelled = kms_travelled\n",
    "        self.phone_allow = 1000\n",
    "        self.travel_allow = 5*kms_travelled\n",
    "\n",
    "    def calc_gross(self):\n",
    "        return super().calc_gross()+self.phone_allow+self.travel_allow\n",
    "\n",
    "    def calc_net(self):\n",
    "        pf = self._pfp*self._basic_sal/100\n",
    "        return self.calc_gross()-pf-self._pt\n",
    "\n",
    "    # def __str__(self):\n",
    "    #     return f\"{self._eid} {self._ename} {self._basic_sal} {self._pfp} {self._pt} {self._hrap} {self._ma} {self.kms_travelled} {self.phone_allow} {self.travel_allow}\""
   ],
   "id": "ebf2cea1fd673749",
   "outputs": [],
   "execution_count": 47
  },
  {
   "metadata": {
    "ExecuteTime": {
     "end_time": "2025-09-26T07:27:12.575584Z",
     "start_time": "2025-09-26T07:27:12.568895Z"
    }
   },
   "cell_type": "code",
   "source": [
    "e = Employee(\"Pankaj\",50000)\n",
    "m = Manager(\"Suraj\",60000)\n",
    "\n",
    "e2 = Employee(\"Ravi\",70000)\n",
    "m2 = Manager(\"Raj\",80000)\n",
    "emp_list = {\"employees\":[e,e2],\"managers\":[m,m2]}\n",
    "print(pd.DataFrame(emp_list).columns)\n"
   ],
   "id": "1ae4804172ec7564",
   "outputs": [
    {
     "name": "stdout",
     "output_type": "stream",
     "text": [
      "Index(['employees', 'managers'], dtype='object')\n"
     ]
    }
   ],
   "execution_count": 50
  },
  {
   "metadata": {
    "ExecuteTime": {
     "end_time": "2025-09-26T07:38:28.251323Z",
     "start_time": "2025-09-26T07:38:28.240417Z"
    }
   },
   "cell_type": "code",
   "source": [
    "dat = pd.read_csv('C:\\\\Users\\\\dai\\\\Downloads\\\\emp_sal.csv')\n",
    "print(dat.head(2))\n",
    "print()\n",
    "print(dat.tail(1))"
   ],
   "id": "55290da11a861fd0",
   "outputs": [
    {
     "name": "stdout",
     "output_type": "stream",
     "text": [
      "   eid     name  salary\n",
      "0    1  Ganpati   30000\n",
      "1    2   Ramesh   40000\n",
      "   eid    name  salary\n",
      "1    2  Ramesh   40000\n"
     ]
    }
   ],
   "execution_count": 60
  },
  {
   "metadata": {},
   "cell_type": "code",
   "outputs": [],
   "execution_count": null,
   "source": "",
   "id": "1e129ed654262615"
  }
 ],
 "metadata": {
  "kernelspec": {
   "display_name": "Python 3",
   "language": "python",
   "name": "python3"
  },
  "language_info": {
   "codemirror_mode": {
    "name": "ipython",
    "version": 2
   },
   "file_extension": ".py",
   "mimetype": "text/x-python",
   "name": "python",
   "nbconvert_exporter": "python",
   "pygments_lexer": "ipython2",
   "version": "2.7.6"
  }
 },
 "nbformat": 4,
 "nbformat_minor": 5
}
