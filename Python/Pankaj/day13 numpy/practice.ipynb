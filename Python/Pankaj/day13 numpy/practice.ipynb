{
 "cells": [
  {
   "cell_type": "code",
   "id": "initial_id",
   "metadata": {
    "collapsed": true,
    "ExecuteTime": {
     "end_time": "2025-09-27T03:46:32.903582Z",
     "start_time": "2025-09-27T03:46:31.867211Z"
    }
   },
   "source": [
    "import numpy as np\n",
    "import pandas as pd\n",
    "import kagglehub\n",
    "\n",
    "# Download latest version\n",
    "# path = kagglehub.dataset_download(\"nxtwaveda/data-analyst\")\n",
    "#\n",
    "# print(\"Path to dataset files:\", path)"
   ],
   "outputs": [
    {
     "name": "stdout",
     "output_type": "stream",
     "text": [
      "Path to dataset files: C:\\Users\\dai\\.cache\\kagglehub\\datasets\\nxtwaveda\\data-analyst\\versions\\2\n"
     ]
    }
   ],
   "execution_count": 27
  },
  {
   "metadata": {},
   "cell_type": "markdown",
   "source": "## numpy",
   "id": "73293d6f054bc382"
  },
  {
   "metadata": {
    "ExecuteTime": {
     "end_time": "2025-09-26T07:01:15.574792Z",
     "start_time": "2025-09-26T07:01:15.570526Z"
    }
   },
   "cell_type": "code",
   "source": "emps = np.array([[1,'abc',99000],[2,'mno',28000]])",
   "id": "a9c1fe0c11924c8c",
   "outputs": [],
   "execution_count": 21
  },
  {
   "metadata": {
    "ExecuteTime": {
     "end_time": "2025-09-26T06:44:19.962577Z",
     "start_time": "2025-09-26T06:44:16.338634Z"
    }
   },
   "cell_type": "code",
   "source": [
    "name = input()\n",
    "for emp in emps:\n",
    "    if emp[1].lower().strip() == name:\n",
    "        print(emp[1],\": \",emp[0],emp[2])\n",
    "\n"
   ],
   "id": "6d6b8f110c8d95af",
   "outputs": [
    {
     "name": "stdout",
     "output_type": "stream",
     "text": [
      "abc :  1 99000\n"
     ]
    }
   ],
   "execution_count": 7
  },
  {
   "metadata": {
    "ExecuteTime": {
     "end_time": "2025-09-26T07:51:22.731039Z",
     "start_time": "2025-09-26T07:51:22.725221Z"
    }
   },
   "cell_type": "code",
   "source": [
    "my_dict = {'a': 10, 'b': 20, 'c': 30, 'd': 40}\n",
    "print(np.array(list(my_dict.values())))"
   ],
   "id": "6d71c3761eb83dbb",
   "outputs": [
    {
     "name": "stdout",
     "output_type": "stream",
     "text": [
      "[10 20 30 40]\n"
     ]
    }
   ],
   "execution_count": 64
  },
  {
   "metadata": {
    "ExecuteTime": {
     "end_time": "2025-09-26T07:59:42.703394Z",
     "start_time": "2025-09-26T07:59:42.697631Z"
    }
   },
   "cell_type": "code",
   "source": [
    "data_dict = {\n",
    "    'temperatures': [25, 30, 28, 32],\n",
    "    'humidity': [60, 65, 70, 55],\n",
    "    'pressure': [1013, 1015, 1010, 1012]\n",
    "}\n",
    "print(np.array(list(data_dict.values())))"
   ],
   "id": "d5fd0aa7a73390fb",
   "outputs": [
    {
     "name": "stdout",
     "output_type": "stream",
     "text": [
      "[[  25   30   28   32]\n",
      " [  60   65   70   55]\n",
      " [1013 1015 1010 1012]]\n"
     ]
    }
   ],
   "execution_count": 70
  },
  {
   "metadata": {
    "ExecuteTime": {
     "end_time": "2025-09-26T08:06:40.140212Z",
     "start_time": "2025-09-26T08:06:40.130821Z"
    }
   },
   "cell_type": "code",
   "source": [
    "person_dict = {\n",
    "    'names': ['Alice', 'Bob', 'Charlie'],\n",
    "    'ages': [25, 30, 35],\n",
    "    'scores': [85.5, 92.0, 78.5]\n",
    "}\n",
    "print(np.array(list(person_dict.values())))\n",
    "print()\n",
    "dtype = [('names','U10'),('ages','i4'),('scores','f4')]\n",
    "np.array(list(zip(person_dict['names'],person_dict['ages'],person_dict['scores'])))"
   ],
   "id": "fa7fd3d333e70cdf",
   "outputs": [
    {
     "name": "stdout",
     "output_type": "stream",
     "text": [
      "[['Alice' 'Bob' 'Charlie']\n",
      " ['25' '30' '35']\n",
      " ['85.5' '92.0' '78.5']]\n",
      "\n"
     ]
    },
    {
     "data": {
      "text/plain": [
       "array([['Alice', '25', '85.5'],\n",
       "       ['Bob', '30', '92.0'],\n",
       "       ['Charlie', '35', '78.5']], dtype='<U32')"
      ]
     },
     "execution_count": 81,
     "metadata": {},
     "output_type": "execute_result"
    }
   ],
   "execution_count": 81
  },
  {
   "metadata": {},
   "cell_type": "markdown",
   "source": "## Pandas",
   "id": "3d998c1317f27757"
  },
  {
   "metadata": {
    "ExecuteTime": {
     "end_time": "2025-09-26T07:07:02.867301Z",
     "start_time": "2025-09-26T07:07:02.860973Z"
    }
   },
   "cell_type": "code",
   "source": [
    "l =[10,20,30,40,\"50\"]\n",
    "print(pd.Series(l,index=['a','b','c','d','e']))"
   ],
   "id": "6c25789dcb0c8abc",
   "outputs": [
    {
     "name": "stdout",
     "output_type": "stream",
     "text": [
      "a    10\n",
      "b    20\n",
      "c    30\n",
      "d    40\n",
      "e    50\n",
      "dtype: object\n"
     ]
    }
   ],
   "execution_count": 30
  },
  {
   "metadata": {
    "ExecuteTime": {
     "end_time": "2025-09-27T03:40:41.167527Z",
     "start_time": "2025-09-27T03:40:41.161459Z"
    }
   },
   "cell_type": "code",
   "source": [
    "x={\"empid\":[1,2],\"ename\":[\"abc\",\"mno\"],\"salary\":[88,34]}\n",
    "y=[{\"eid\":1,\"name\":\"Pankaj\",\"salary\":88},{\"eid\":2,\"name\":\"Suraj\",\"salary\":34}]"
   ],
   "id": "122187371b2817f",
   "outputs": [],
   "execution_count": 22
  },
  {
   "metadata": {
    "ExecuteTime": {
     "end_time": "2025-09-27T03:41:30.356421Z",
     "start_time": "2025-09-27T03:41:30.331668Z"
    }
   },
   "cell_type": "code",
   "source": [
    "tb=pd.DataFrame(x)\n",
    "print(tb)\n",
    "print()\n",
    "print(tb.describe())\n",
    "print()\n",
    "\n",
    "tb2=pd.DataFrame(y)\n",
    "print(tb2)\n",
    "print(tb2.describe())"
   ],
   "id": "94fe3988d373b755",
   "outputs": [
    {
     "name": "stdout",
     "output_type": "stream",
     "text": [
      "   empid ename  salary\n",
      "0      1   abc      88\n",
      "1      2   mno      34\n",
      "\n",
      "          empid     salary\n",
      "count  2.000000   2.000000\n",
      "mean   1.500000  61.000000\n",
      "std    0.707107  38.183766\n",
      "min    1.000000  34.000000\n",
      "25%    1.250000  47.500000\n",
      "50%    1.500000  61.000000\n",
      "75%    1.750000  74.500000\n",
      "max    2.000000  88.000000\n",
      "\n",
      "   eid    name  salary\n",
      "0    1  Pankaj      88\n",
      "1    2   Suraj      34\n",
      "            eid     salary\n",
      "count  2.000000   2.000000\n",
      "mean   1.500000  61.000000\n",
      "std    0.707107  38.183766\n",
      "min    1.000000  34.000000\n",
      "25%    1.250000  47.500000\n",
      "50%    1.500000  61.000000\n",
      "75%    1.750000  74.500000\n",
      "max    2.000000  88.000000\n"
     ]
    }
   ],
   "execution_count": 24
  },
  {
   "metadata": {
    "ExecuteTime": {
     "end_time": "2025-09-26T07:24:48.302333Z",
     "start_time": "2025-09-26T07:24:48.267750Z"
    }
   },
   "cell_type": "code",
   "source": [
    "emp_list = list()\n",
    "class Employee:\n",
    "    _eid =1\n",
    "    def __init__(self,ename,basic_sal):\n",
    "        Employee._eid+=1\n",
    "        self._ename = ename\n",
    "        self._basic_sal = basic_sal\n",
    "        self._pfp = 12\n",
    "        self._pt = 200\n",
    "        self._hrap = 50\n",
    "        self._ma = 1000\n",
    "\n",
    "    def calc_gross(self):\n",
    "        pf = self._pfp*self._basic_sal/100\n",
    "        hra = self._hrap*self._basic_sal/100\n",
    "        return self._basic_sal+hra+self._ma\n",
    "\n",
    "    def calc_net(self):\n",
    "        pf = self._pfp*self._basic_sal/100\n",
    "        return self.calc_gross()-pf-self._pt\n",
    "\n",
    "    def __str__(self):\n",
    "        return f\"{self._eid} {self._ename} {self._basic_sal} {self._pfp} {self._pt} {self._hrap} {self._ma} {self.calc_net()} {self.calc_net()}\"\n",
    "\n",
    "\n",
    "class Manager(Employee):\n",
    "    def __init__(self,ename,basic_sal):\n",
    "        super().__init__(ename,basic_sal)\n",
    "        self.man_allow_per = 8\n",
    "        self.food_allow_per = 10\n",
    "        self.other_allow_per = 3\n",
    "\n",
    "    def calc_gross(self):\n",
    "        return super().calc_gross()+self.man_allow_per*self._basic_sal/100+self.food_allow_per*self._basic_sal/100+self.other_allow_per*self._basic_sal/100\n",
    "\n",
    "    def calc_net(self):\n",
    "        pf = self._pfp*self._basic_sal/100\n",
    "        return self.calc_gross()-pf-self._pt\n",
    "\n",
    "    # def __str__(self):\n",
    "    #     return f\"{self._eid} {self._ename} {self._basic_sal} {self._pfp} {self._pt} {self._hrap} {self._ma} {self.man_allow_per} {self.food_allow_per} {self.other_allow_per}\"\n",
    "\n",
    "class MarkExecutive(Employee):\n",
    "    def __init__(self,ename,basic_sal,kms_travelled):\n",
    "        super().__init__(ename,basic_sal)\n",
    "        self.kms_travelled = kms_travelled\n",
    "        self.phone_allow = 1000\n",
    "        self.travel_allow = 5*kms_travelled\n",
    "\n",
    "    def calc_gross(self):\n",
    "        return super().calc_gross()+self.phone_allow+self.travel_allow\n",
    "\n",
    "    def calc_net(self):\n",
    "        pf = self._pfp*self._basic_sal/100\n",
    "        return self.calc_gross()-pf-self._pt\n",
    "\n",
    "    # def __str__(self):\n",
    "    #     return f\"{self._eid} {self._ename} {self._basic_sal} {self._pfp} {self._pt} {self._hrap} {self._ma} {self.kms_travelled} {self.phone_allow} {self.travel_allow}\""
   ],
   "id": "ebf2cea1fd673749",
   "outputs": [],
   "execution_count": 47
  },
  {
   "metadata": {
    "ExecuteTime": {
     "end_time": "2025-09-26T07:27:12.575584Z",
     "start_time": "2025-09-26T07:27:12.568895Z"
    }
   },
   "cell_type": "code",
   "source": [
    "e = Employee(\"Pankaj\",50000)\n",
    "m = Manager(\"Suraj\",60000)\n",
    "\n",
    "e2 = Employee(\"Ravi\",70000)\n",
    "m2 = Manager(\"Raj\",80000)\n",
    "emp_list = {\"employees\":[e,e2],\"managers\":[m,m2]}\n",
    "print(pd.DataFrame(emp_list).columns)\n"
   ],
   "id": "1ae4804172ec7564",
   "outputs": [
    {
     "name": "stdout",
     "output_type": "stream",
     "text": [
      "Index(['employees', 'managers'], dtype='object')\n"
     ]
    }
   ],
   "execution_count": 50
  },
  {
   "metadata": {
    "ExecuteTime": {
     "end_time": "2025-09-26T07:38:28.251323Z",
     "start_time": "2025-09-26T07:38:28.240417Z"
    }
   },
   "cell_type": "code",
   "source": [
    "dat = pd.read_csv('C:\\\\Users\\\\dai\\\\Downloads\\\\emp_sal.csv')\n",
    "print(dat.head(2))\n",
    "print()\n",
    "print(dat.tail(1))"
   ],
   "id": "55290da11a861fd0",
   "outputs": [
    {
     "name": "stdout",
     "output_type": "stream",
     "text": [
      "   eid     name  salary\n",
      "0    1  Ganpati   30000\n",
      "1    2   Ramesh   40000\n",
      "   eid    name  salary\n",
      "1    2  Ramesh   40000\n"
     ]
    }
   ],
   "execution_count": 60
  },
  {
   "metadata": {
    "ExecuteTime": {
     "end_time": "2025-09-27T03:05:00.675844Z",
     "start_time": "2025-09-27T03:05:00.613108Z"
    }
   },
   "cell_type": "code",
   "source": [
    "d =pd.DataFrame({\"empid\":[1,2,3],\"ename\":[\"abc\",\"mno\",\"pqr\"]},index=['one','two','three'])\n",
    "# for i in d:                              #prints column names\n",
    "#     print(i)\n",
    "\n",
    "print(d['ename','salary']) #series\n",
    "for i in d.loc('one'):   #for xlsx, you can only use loc(0)\n",
    "    print(i)\n",
    "print(d.iloc(0))  #when you have named indexes, pass indexes"
   ],
   "id": "1e129ed654262615",
   "outputs": [
    {
     "name": "stdout",
     "output_type": "stream",
     "text": [
      "one      abc\n",
      "two      mno\n",
      "three    pqr\n",
      "Name: ename, dtype: object\n"
     ]
    },
    {
     "ename": "ValueError",
     "evalue": "No axis named one for object type DataFrame",
     "output_type": "error",
     "traceback": [
      "\u001B[31m---------------------------------------------------------------------------\u001B[39m",
      "\u001B[31mKeyError\u001B[39m                                  Traceback (most recent call last)",
      "\u001B[32mD:\\DAIAugust2025\\Python\\Pankaj\\.venv\\Lib\\site-packages\\pandas\\core\\generic.py\u001B[39m in \u001B[36m?\u001B[39m\u001B[34m(cls, axis)\u001B[39m\n\u001B[32m    576\u001B[39m             \u001B[38;5;28;01mreturn\u001B[39;00m cls._AXIS_TO_AXIS_NUMBER[axis]\n\u001B[32m    577\u001B[39m         \u001B[38;5;28;01mexcept\u001B[39;00m KeyError:\n\u001B[32m--> \u001B[39m\u001B[32m578\u001B[39m             \u001B[38;5;28;01mraise\u001B[39;00m ValueError(f\"No axis named {axis} for object type {cls.__name__}\")\n",
      "\u001B[31mKeyError\u001B[39m: 'one'",
      "\nDuring handling of the above exception, another exception occurred:\n",
      "\u001B[31mValueError\u001B[39m                                Traceback (most recent call last)",
      "\u001B[32m~\\AppData\\Local\\Temp\\ipykernel_10352\\3289052957.py\u001B[39m in \u001B[36m?\u001B[39m\u001B[34m()\u001B[39m\n\u001B[32m      2\u001B[39m \u001B[38;5;66;03m# for i in d:                              #prints column names\u001B[39;00m\n\u001B[32m      3\u001B[39m \u001B[38;5;66;03m#     print(i)\u001B[39;00m\n\u001B[32m      4\u001B[39m \n\u001B[32m      5\u001B[39m print(d[\u001B[33m'ename'\u001B[39m]) \u001B[38;5;66;03m#series\u001B[39;00m\n\u001B[32m----> \u001B[39m\u001B[32m6\u001B[39m \u001B[38;5;28;01mfor\u001B[39;00m i \u001B[38;5;28;01min\u001B[39;00m d.loc(\u001B[33m'one'\u001B[39m):\n\u001B[32m      7\u001B[39m     print(i)\n\u001B[32m      8\u001B[39m print(d.iloc(\u001B[32m0\u001B[39m))\n",
      "\u001B[32mD:\\DAIAugust2025\\Python\\Pankaj\\.venv\\Lib\\site-packages\\pandas\\core\\indexing.py\u001B[39m in \u001B[36m?\u001B[39m\u001B[34m(self, axis)\u001B[39m\n\u001B[32m    734\u001B[39m         \u001B[38;5;66;03m# we need to return a copy of ourselves\u001B[39;00m\n\u001B[32m    735\u001B[39m         new_self = type(self)(self.name, self.obj)\n\u001B[32m    736\u001B[39m \n\u001B[32m    737\u001B[39m         \u001B[38;5;28;01mif\u001B[39;00m axis \u001B[38;5;28;01mis\u001B[39;00m \u001B[38;5;28;01mnot\u001B[39;00m \u001B[38;5;28;01mNone\u001B[39;00m:\n\u001B[32m--> \u001B[39m\u001B[32m738\u001B[39m             axis_int_none = self.obj._get_axis_number(axis)\n\u001B[32m    739\u001B[39m         \u001B[38;5;28;01melse\u001B[39;00m:\n\u001B[32m    740\u001B[39m             axis_int_none = axis\n\u001B[32m    741\u001B[39m         new_self.axis = axis_int_none\n",
      "\u001B[32mD:\\DAIAugust2025\\Python\\Pankaj\\.venv\\Lib\\site-packages\\pandas\\core\\generic.py\u001B[39m in \u001B[36m?\u001B[39m\u001B[34m(cls, axis)\u001B[39m\n\u001B[32m    574\u001B[39m     \u001B[38;5;28;01mdef\u001B[39;00m _get_axis_number(cls, axis: Axis) -> AxisInt:\n\u001B[32m    575\u001B[39m         \u001B[38;5;28;01mtry\u001B[39;00m:\n\u001B[32m    576\u001B[39m             \u001B[38;5;28;01mreturn\u001B[39;00m cls._AXIS_TO_AXIS_NUMBER[axis]\n\u001B[32m    577\u001B[39m         \u001B[38;5;28;01mexcept\u001B[39;00m KeyError:\n\u001B[32m--> \u001B[39m\u001B[32m578\u001B[39m             \u001B[38;5;28;01mraise\u001B[39;00m ValueError(f\"No axis named {axis} for object type {cls.__name__}\")\n",
      "\u001B[31mValueError\u001B[39m: No axis named one for object type DataFrame"
     ]
    }
   ],
   "execution_count": 7
  },
  {
   "metadata": {},
   "cell_type": "markdown",
   "source": "#read data from csv",
   "id": "422cd461d19a145d"
  },
  {
   "metadata": {
    "ExecuteTime": {
     "end_time": "2025-09-27T03:08:23.687787Z",
     "start_time": "2025-09-27T03:08:23.678589Z"
    }
   },
   "cell_type": "code",
   "source": [
    "data = pd.read_csv('C:\\\\Users\\\\dai\\\\Downloads\\\\emp_sal.csv')\n",
    "data = pd.read_csv('C:\\\\Users\\\\dai\\\\Downloads\\\\emp_sal.csv')\n",
    "print(data)"
   ],
   "id": "88c72acc46e28124",
   "outputs": [
    {
     "name": "stdout",
     "output_type": "stream",
     "text": [
      "   eid     name  salary\n",
      "0    1  Ganpati   30000\n",
      "1    2   Ramesh   40000\n",
      "2    3      abc   35456\n",
      "3    4      tyu   67890\n",
      "4    5      ggd   98980\n",
      "5    6     jkjk   75646\n",
      "6    7      NaN   64788\n"
     ]
    }
   ],
   "execution_count": 10
  },
  {
   "metadata": {},
   "cell_type": "markdown",
   "source": "#read data from xlsx",
   "id": "1f26ecc63046be18"
  },
  {
   "metadata": {
    "ExecuteTime": {
     "end_time": "2025-09-27T03:34:03.470654Z",
     "start_time": "2025-09-27T03:34:03.449809Z"
    }
   },
   "cell_type": "code",
   "source": [
    "emp = pd.read_excel('C:\\\\Users\\\\dai\\\\Downloads\\\\emp_sal_xl.xls',sheet_name=\"emp\")\n",
    "print(emp)\n",
    "print()\n",
    "print(emp['salary'])\n",
    "print()\n",
    "for i in emp.info:\n",
    "    print(i)\n",
    "print()\n",
    "print(emp.describe())"
   ],
   "id": "fe5f75a010d3f773",
   "outputs": [
    {
     "name": "stdout",
     "output_type": "stream",
     "text": [
      "   eid     name  salary\n",
      "0    1  Ganpati   30000\n",
      "1    2   Ramesh   40000\n",
      "2    3      abc   35456\n",
      "3    4      tyu   67890\n",
      "4    5      ggd   98980\n",
      "5    6     jkjk   75646\n",
      "6    7      NaN   64788\n",
      "0    30000\n",
      "1    40000\n",
      "2    35456\n",
      "3    67890\n",
      "4    98980\n",
      "5    75646\n",
      "6    64788\n",
      "Name: salary, dtype: int64\n",
      "<bound method DataFrame.info of    eid     name  salary\n",
      "0    1  Ganpati   30000\n",
      "1    2   Ramesh   40000\n",
      "2    3      abc   35456\n",
      "3    4      tyu   67890\n",
      "4    5      ggd   98980\n",
      "5    6     jkjk   75646\n",
      "6    7      NaN   64788>\n",
      "            eid        salary\n",
      "count  7.000000      7.000000\n",
      "mean   4.000000  58965.714286\n",
      "std    2.160247  24981.107753\n",
      "min    1.000000  30000.000000\n",
      "25%    2.500000  37728.000000\n",
      "50%    4.000000  64788.000000\n",
      "75%    5.500000  71768.000000\n",
      "max    7.000000  98980.000000\n"
     ]
    }
   ],
   "execution_count": 19
  },
  {
   "metadata": {
    "ExecuteTime": {
     "end_time": "2025-09-27T04:14:40.896699Z",
     "start_time": "2025-09-27T04:14:40.882344Z"
    }
   },
   "cell_type": "code",
   "source": [
    "emp_50k = emp[emp['salary']>50000]\n",
    "emp_50k.to_csv('new.csv')\n",
    "x = pd.read_csv('new.csv',index_col=\"name\")  #can add delimeter also\n",
    "print(x)"
   ],
   "id": "ab7754f7c318235f",
   "outputs": [
    {
     "name": "stdout",
     "output_type": "stream",
     "text": [
      "      Unnamed: 0  eid  salary\n",
      "name                         \n",
      "tyu            3    4   67890\n",
      "ggd            4    5   98980\n",
      "jkjk           5    6   75646\n",
      "NaN            6    7   64788\n"
     ]
    }
   ],
   "execution_count": 38
  },
  {
   "metadata": {},
   "cell_type": "code",
   "outputs": [],
   "execution_count": null,
   "source": "",
   "id": "d3faa74609e95b99"
  },
  {
   "metadata": {},
   "cell_type": "markdown",
   "source": "## Data Analyst Dataset",
   "id": "aea6065bf8026564"
  },
  {
   "metadata": {
    "ExecuteTime": {
     "end_time": "2025-09-27T03:50:25.413589Z",
     "start_time": "2025-09-27T03:50:25.041916Z"
    }
   },
   "cell_type": "code",
   "source": "dad = pd.read_csv('C:\\\\Users\\\\dai\\\\.cache\\\\kagglehub\\\\datasets\\\\nxtwaveda\\\\data-analyst\\\\versions\\\\2')",
   "id": "eb3bc38e1aff532",
   "outputs": [
    {
     "ename": "PermissionError",
     "evalue": "[Errno 13] Permission denied: 'C:\\\\Users\\\\dai\\\\.cache\\\\kagglehub\\\\datasets\\\\nxtwaveda\\\\data-analyst\\\\versions\\\\2'",
     "output_type": "error",
     "traceback": [
      "\u001B[31m---------------------------------------------------------------------------\u001B[39m",
      "\u001B[31mPermissionError\u001B[39m                           Traceback (most recent call last)",
      "\u001B[36mCell\u001B[39m\u001B[36m \u001B[39m\u001B[32mIn[29]\u001B[39m\u001B[32m, line 1\u001B[39m\n\u001B[32m----> \u001B[39m\u001B[32m1\u001B[39m dad = \u001B[43mpd\u001B[49m\u001B[43m.\u001B[49m\u001B[43mread_csv\u001B[49m\u001B[43m(\u001B[49m\u001B[33;43m'\u001B[39;49m\u001B[33;43mC:\u001B[39;49m\u001B[38;5;130;43;01m\\\\\u001B[39;49;00m\u001B[33;43mUsers\u001B[39;49m\u001B[38;5;130;43;01m\\\\\u001B[39;49;00m\u001B[33;43mdai\u001B[39;49m\u001B[38;5;130;43;01m\\\\\u001B[39;49;00m\u001B[33;43m.cache\u001B[39;49m\u001B[38;5;130;43;01m\\\\\u001B[39;49;00m\u001B[33;43mkagglehub\u001B[39;49m\u001B[38;5;130;43;01m\\\\\u001B[39;49;00m\u001B[33;43mdatasets\u001B[39;49m\u001B[38;5;130;43;01m\\\\\u001B[39;49;00m\u001B[33;43mnxtwaveda\u001B[39;49m\u001B[38;5;130;43;01m\\\\\u001B[39;49;00m\u001B[33;43mdata-analyst\u001B[39;49m\u001B[38;5;130;43;01m\\\\\u001B[39;49;00m\u001B[33;43mversions\u001B[39;49m\u001B[38;5;130;43;01m\\\\\u001B[39;49;00m\u001B[33;43m2\u001B[39;49m\u001B[33;43m'\u001B[39;49m\u001B[43m)\u001B[49m\n",
      "\u001B[36mFile \u001B[39m\u001B[32mD:\\DAIAugust2025\\Python\\Pankaj\\.venv\\Lib\\site-packages\\pandas\\io\\parsers\\readers.py:1026\u001B[39m, in \u001B[36mread_csv\u001B[39m\u001B[34m(filepath_or_buffer, sep, delimiter, header, names, index_col, usecols, dtype, engine, converters, true_values, false_values, skipinitialspace, skiprows, skipfooter, nrows, na_values, keep_default_na, na_filter, verbose, skip_blank_lines, parse_dates, infer_datetime_format, keep_date_col, date_parser, date_format, dayfirst, cache_dates, iterator, chunksize, compression, thousands, decimal, lineterminator, quotechar, quoting, doublequote, escapechar, comment, encoding, encoding_errors, dialect, on_bad_lines, delim_whitespace, low_memory, memory_map, float_precision, storage_options, dtype_backend)\u001B[39m\n\u001B[32m   1013\u001B[39m kwds_defaults = _refine_defaults_read(\n\u001B[32m   1014\u001B[39m     dialect,\n\u001B[32m   1015\u001B[39m     delimiter,\n\u001B[32m   (...)\u001B[39m\u001B[32m   1022\u001B[39m     dtype_backend=dtype_backend,\n\u001B[32m   1023\u001B[39m )\n\u001B[32m   1024\u001B[39m kwds.update(kwds_defaults)\n\u001B[32m-> \u001B[39m\u001B[32m1026\u001B[39m \u001B[38;5;28;01mreturn\u001B[39;00m \u001B[43m_read\u001B[49m\u001B[43m(\u001B[49m\u001B[43mfilepath_or_buffer\u001B[49m\u001B[43m,\u001B[49m\u001B[43m \u001B[49m\u001B[43mkwds\u001B[49m\u001B[43m)\u001B[49m\n",
      "\u001B[36mFile \u001B[39m\u001B[32mD:\\DAIAugust2025\\Python\\Pankaj\\.venv\\Lib\\site-packages\\pandas\\io\\parsers\\readers.py:620\u001B[39m, in \u001B[36m_read\u001B[39m\u001B[34m(filepath_or_buffer, kwds)\u001B[39m\n\u001B[32m    617\u001B[39m _validate_names(kwds.get(\u001B[33m\"\u001B[39m\u001B[33mnames\u001B[39m\u001B[33m\"\u001B[39m, \u001B[38;5;28;01mNone\u001B[39;00m))\n\u001B[32m    619\u001B[39m \u001B[38;5;66;03m# Create the parser.\u001B[39;00m\n\u001B[32m--> \u001B[39m\u001B[32m620\u001B[39m parser = \u001B[43mTextFileReader\u001B[49m\u001B[43m(\u001B[49m\u001B[43mfilepath_or_buffer\u001B[49m\u001B[43m,\u001B[49m\u001B[43m \u001B[49m\u001B[43m*\u001B[49m\u001B[43m*\u001B[49m\u001B[43mkwds\u001B[49m\u001B[43m)\u001B[49m\n\u001B[32m    622\u001B[39m \u001B[38;5;28;01mif\u001B[39;00m chunksize \u001B[38;5;129;01mor\u001B[39;00m iterator:\n\u001B[32m    623\u001B[39m     \u001B[38;5;28;01mreturn\u001B[39;00m parser\n",
      "\u001B[36mFile \u001B[39m\u001B[32mD:\\DAIAugust2025\\Python\\Pankaj\\.venv\\Lib\\site-packages\\pandas\\io\\parsers\\readers.py:1620\u001B[39m, in \u001B[36mTextFileReader.__init__\u001B[39m\u001B[34m(self, f, engine, **kwds)\u001B[39m\n\u001B[32m   1617\u001B[39m     \u001B[38;5;28mself\u001B[39m.options[\u001B[33m\"\u001B[39m\u001B[33mhas_index_names\u001B[39m\u001B[33m\"\u001B[39m] = kwds[\u001B[33m\"\u001B[39m\u001B[33mhas_index_names\u001B[39m\u001B[33m\"\u001B[39m]\n\u001B[32m   1619\u001B[39m \u001B[38;5;28mself\u001B[39m.handles: IOHandles | \u001B[38;5;28;01mNone\u001B[39;00m = \u001B[38;5;28;01mNone\u001B[39;00m\n\u001B[32m-> \u001B[39m\u001B[32m1620\u001B[39m \u001B[38;5;28mself\u001B[39m._engine = \u001B[38;5;28;43mself\u001B[39;49m\u001B[43m.\u001B[49m\u001B[43m_make_engine\u001B[49m\u001B[43m(\u001B[49m\u001B[43mf\u001B[49m\u001B[43m,\u001B[49m\u001B[43m \u001B[49m\u001B[38;5;28;43mself\u001B[39;49m\u001B[43m.\u001B[49m\u001B[43mengine\u001B[49m\u001B[43m)\u001B[49m\n",
      "\u001B[36mFile \u001B[39m\u001B[32mD:\\DAIAugust2025\\Python\\Pankaj\\.venv\\Lib\\site-packages\\pandas\\io\\parsers\\readers.py:1880\u001B[39m, in \u001B[36mTextFileReader._make_engine\u001B[39m\u001B[34m(self, f, engine)\u001B[39m\n\u001B[32m   1878\u001B[39m     \u001B[38;5;28;01mif\u001B[39;00m \u001B[33m\"\u001B[39m\u001B[33mb\u001B[39m\u001B[33m\"\u001B[39m \u001B[38;5;129;01mnot\u001B[39;00m \u001B[38;5;129;01min\u001B[39;00m mode:\n\u001B[32m   1879\u001B[39m         mode += \u001B[33m\"\u001B[39m\u001B[33mb\u001B[39m\u001B[33m\"\u001B[39m\n\u001B[32m-> \u001B[39m\u001B[32m1880\u001B[39m \u001B[38;5;28mself\u001B[39m.handles = \u001B[43mget_handle\u001B[49m\u001B[43m(\u001B[49m\n\u001B[32m   1881\u001B[39m \u001B[43m    \u001B[49m\u001B[43mf\u001B[49m\u001B[43m,\u001B[49m\n\u001B[32m   1882\u001B[39m \u001B[43m    \u001B[49m\u001B[43mmode\u001B[49m\u001B[43m,\u001B[49m\n\u001B[32m   1883\u001B[39m \u001B[43m    \u001B[49m\u001B[43mencoding\u001B[49m\u001B[43m=\u001B[49m\u001B[38;5;28;43mself\u001B[39;49m\u001B[43m.\u001B[49m\u001B[43moptions\u001B[49m\u001B[43m.\u001B[49m\u001B[43mget\u001B[49m\u001B[43m(\u001B[49m\u001B[33;43m\"\u001B[39;49m\u001B[33;43mencoding\u001B[39;49m\u001B[33;43m\"\u001B[39;49m\u001B[43m,\u001B[49m\u001B[43m \u001B[49m\u001B[38;5;28;43;01mNone\u001B[39;49;00m\u001B[43m)\u001B[49m\u001B[43m,\u001B[49m\n\u001B[32m   1884\u001B[39m \u001B[43m    \u001B[49m\u001B[43mcompression\u001B[49m\u001B[43m=\u001B[49m\u001B[38;5;28;43mself\u001B[39;49m\u001B[43m.\u001B[49m\u001B[43moptions\u001B[49m\u001B[43m.\u001B[49m\u001B[43mget\u001B[49m\u001B[43m(\u001B[49m\u001B[33;43m\"\u001B[39;49m\u001B[33;43mcompression\u001B[39;49m\u001B[33;43m\"\u001B[39;49m\u001B[43m,\u001B[49m\u001B[43m \u001B[49m\u001B[38;5;28;43;01mNone\u001B[39;49;00m\u001B[43m)\u001B[49m\u001B[43m,\u001B[49m\n\u001B[32m   1885\u001B[39m \u001B[43m    \u001B[49m\u001B[43mmemory_map\u001B[49m\u001B[43m=\u001B[49m\u001B[38;5;28;43mself\u001B[39;49m\u001B[43m.\u001B[49m\u001B[43moptions\u001B[49m\u001B[43m.\u001B[49m\u001B[43mget\u001B[49m\u001B[43m(\u001B[49m\u001B[33;43m\"\u001B[39;49m\u001B[33;43mmemory_map\u001B[39;49m\u001B[33;43m\"\u001B[39;49m\u001B[43m,\u001B[49m\u001B[43m \u001B[49m\u001B[38;5;28;43;01mFalse\u001B[39;49;00m\u001B[43m)\u001B[49m\u001B[43m,\u001B[49m\n\u001B[32m   1886\u001B[39m \u001B[43m    \u001B[49m\u001B[43mis_text\u001B[49m\u001B[43m=\u001B[49m\u001B[43mis_text\u001B[49m\u001B[43m,\u001B[49m\n\u001B[32m   1887\u001B[39m \u001B[43m    \u001B[49m\u001B[43merrors\u001B[49m\u001B[43m=\u001B[49m\u001B[38;5;28;43mself\u001B[39;49m\u001B[43m.\u001B[49m\u001B[43moptions\u001B[49m\u001B[43m.\u001B[49m\u001B[43mget\u001B[49m\u001B[43m(\u001B[49m\u001B[33;43m\"\u001B[39;49m\u001B[33;43mencoding_errors\u001B[39;49m\u001B[33;43m\"\u001B[39;49m\u001B[43m,\u001B[49m\u001B[43m \u001B[49m\u001B[33;43m\"\u001B[39;49m\u001B[33;43mstrict\u001B[39;49m\u001B[33;43m\"\u001B[39;49m\u001B[43m)\u001B[49m\u001B[43m,\u001B[49m\n\u001B[32m   1888\u001B[39m \u001B[43m    \u001B[49m\u001B[43mstorage_options\u001B[49m\u001B[43m=\u001B[49m\u001B[38;5;28;43mself\u001B[39;49m\u001B[43m.\u001B[49m\u001B[43moptions\u001B[49m\u001B[43m.\u001B[49m\u001B[43mget\u001B[49m\u001B[43m(\u001B[49m\u001B[33;43m\"\u001B[39;49m\u001B[33;43mstorage_options\u001B[39;49m\u001B[33;43m\"\u001B[39;49m\u001B[43m,\u001B[49m\u001B[43m \u001B[49m\u001B[38;5;28;43;01mNone\u001B[39;49;00m\u001B[43m)\u001B[49m\u001B[43m,\u001B[49m\n\u001B[32m   1889\u001B[39m \u001B[43m\u001B[49m\u001B[43m)\u001B[49m\n\u001B[32m   1890\u001B[39m \u001B[38;5;28;01massert\u001B[39;00m \u001B[38;5;28mself\u001B[39m.handles \u001B[38;5;129;01mis\u001B[39;00m \u001B[38;5;129;01mnot\u001B[39;00m \u001B[38;5;28;01mNone\u001B[39;00m\n\u001B[32m   1891\u001B[39m f = \u001B[38;5;28mself\u001B[39m.handles.handle\n",
      "\u001B[36mFile \u001B[39m\u001B[32mD:\\DAIAugust2025\\Python\\Pankaj\\.venv\\Lib\\site-packages\\pandas\\io\\common.py:873\u001B[39m, in \u001B[36mget_handle\u001B[39m\u001B[34m(path_or_buf, mode, encoding, compression, memory_map, is_text, errors, storage_options)\u001B[39m\n\u001B[32m    868\u001B[39m \u001B[38;5;28;01melif\u001B[39;00m \u001B[38;5;28misinstance\u001B[39m(handle, \u001B[38;5;28mstr\u001B[39m):\n\u001B[32m    869\u001B[39m     \u001B[38;5;66;03m# Check whether the filename is to be opened in binary mode.\u001B[39;00m\n\u001B[32m    870\u001B[39m     \u001B[38;5;66;03m# Binary mode does not support 'encoding' and 'newline'.\u001B[39;00m\n\u001B[32m    871\u001B[39m     \u001B[38;5;28;01mif\u001B[39;00m ioargs.encoding \u001B[38;5;129;01mand\u001B[39;00m \u001B[33m\"\u001B[39m\u001B[33mb\u001B[39m\u001B[33m\"\u001B[39m \u001B[38;5;129;01mnot\u001B[39;00m \u001B[38;5;129;01min\u001B[39;00m ioargs.mode:\n\u001B[32m    872\u001B[39m         \u001B[38;5;66;03m# Encoding\u001B[39;00m\n\u001B[32m--> \u001B[39m\u001B[32m873\u001B[39m         handle = \u001B[38;5;28;43mopen\u001B[39;49m\u001B[43m(\u001B[49m\n\u001B[32m    874\u001B[39m \u001B[43m            \u001B[49m\u001B[43mhandle\u001B[49m\u001B[43m,\u001B[49m\n\u001B[32m    875\u001B[39m \u001B[43m            \u001B[49m\u001B[43mioargs\u001B[49m\u001B[43m.\u001B[49m\u001B[43mmode\u001B[49m\u001B[43m,\u001B[49m\n\u001B[32m    876\u001B[39m \u001B[43m            \u001B[49m\u001B[43mencoding\u001B[49m\u001B[43m=\u001B[49m\u001B[43mioargs\u001B[49m\u001B[43m.\u001B[49m\u001B[43mencoding\u001B[49m\u001B[43m,\u001B[49m\n\u001B[32m    877\u001B[39m \u001B[43m            \u001B[49m\u001B[43merrors\u001B[49m\u001B[43m=\u001B[49m\u001B[43merrors\u001B[49m\u001B[43m,\u001B[49m\n\u001B[32m    878\u001B[39m \u001B[43m            \u001B[49m\u001B[43mnewline\u001B[49m\u001B[43m=\u001B[49m\u001B[33;43m\"\u001B[39;49m\u001B[33;43m\"\u001B[39;49m\u001B[43m,\u001B[49m\n\u001B[32m    879\u001B[39m \u001B[43m        \u001B[49m\u001B[43m)\u001B[49m\n\u001B[32m    880\u001B[39m     \u001B[38;5;28;01melse\u001B[39;00m:\n\u001B[32m    881\u001B[39m         \u001B[38;5;66;03m# Binary mode\u001B[39;00m\n\u001B[32m    882\u001B[39m         handle = \u001B[38;5;28mopen\u001B[39m(handle, ioargs.mode)\n",
      "\u001B[31mPermissionError\u001B[39m: [Errno 13] Permission denied: 'C:\\\\Users\\\\dai\\\\.cache\\\\kagglehub\\\\datasets\\\\nxtwaveda\\\\data-analyst\\\\versions\\\\2'"
     ]
    }
   ],
   "execution_count": 29
  },
  {
   "metadata": {},
   "cell_type": "markdown",
   "source": "##  SQL connectivity",
   "id": "5a3c086a53901fed"
  },
  {
   "metadata": {},
   "cell_type": "code",
   "outputs": [],
   "execution_count": null,
   "source": [
    "#con.commit()\n",
    "#con.close()"
   ],
   "id": "5bfb672cddc43cfd"
  },
  {
   "metadata": {
    "ExecuteTime": {
     "end_time": "2025-09-27T03:57:45.973166Z",
     "start_time": "2025-09-27T03:57:45.509400Z"
    }
   },
   "cell_type": "code",
   "outputs": [],
   "execution_count": 30,
   "source": "import pymysql as pms",
   "id": "a55d5552941e2055"
  },
  {
   "metadata": {
    "ExecuteTime": {
     "end_time": "2025-09-27T03:59:31.880034Z",
     "start_time": "2025-09-27T03:59:31.871707Z"
    }
   },
   "cell_type": "code",
   "outputs": [],
   "execution_count": 34,
   "source": "con = pms.connect(host=\"localhost\",user=\"root\",password=\"Anurag@1\",database = \"empman\",autocommit = True)",
   "id": "cfb1119aad40c65c"
  },
  {
   "metadata": {
    "ExecuteTime": {
     "end_time": "2025-09-27T03:59:32.849457Z",
     "start_time": "2025-09-27T03:59:32.840230Z"
    }
   },
   "cell_type": "code",
   "outputs": [
    {
     "name": "stderr",
     "output_type": "stream",
     "text": [
      "C:\\Users\\dai\\AppData\\Local\\Temp\\ipykernel_10352\\1482970939.py:1: UserWarning: pandas only supports SQLAlchemy connectable (engine/connection) or database string URI or sqlite3 DBAPI2 connection. Other DBAPI2 objects are not tested. Please consider using SQLAlchemy.\n",
      "  sql_data = pd.read_sql('select * from employee_employee',con)\n"
     ]
    }
   ],
   "execution_count": 35,
   "source": "sql_data = pd.read_sql('select * from employee_employee',con)\n",
   "id": "205cb2d68b2772d2"
  }
 ],
 "metadata": {
  "kernelspec": {
   "display_name": "Python 3",
   "language": "python",
   "name": "python3"
  },
  "language_info": {
   "codemirror_mode": {
    "name": "ipython",
    "version": 2
   },
   "file_extension": ".py",
   "mimetype": "text/x-python",
   "name": "python",
   "nbconvert_exporter": "python",
   "pygments_lexer": "ipython2",
   "version": "2.7.6"
  }
 },
 "nbformat": 4,
 "nbformat_minor": 5
}
