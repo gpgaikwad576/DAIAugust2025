{
 "cells": [
  {
   "cell_type": "code",
   "id": "initial_id",
   "metadata": {
    "collapsed": true,
    "ExecuteTime": {
     "end_time": "2025-09-16T06:29:06.040632Z",
     "start_time": "2025-09-16T06:29:06.033702Z"
    }
   },
   "source": [
    "from prometheus_client.openmetrics.exposition import escape_label_name\n",
    "\n",
    "\n",
    "class Employee:\n",
    "    def __init__(self,empid,ename,salary):\n",
    "        self.empid = empid\n",
    "        self.ename = ename\n",
    "        self.salary = salary\n",
    "\n",
    "    def hello(self):\n",
    "        print(\"EMPID: \",self.empid)\n",
    "        print(\"ENAME: \",self.ename)\n",
    "        print(\"SALARY: \",self.salary)\n",
    "\n",
    "e = Employee(1,\"ravi\",999900)\n",
    "e.hello()\n"
   ],
   "outputs": [
    {
     "name": "stdout",
     "output_type": "stream",
     "text": [
      "EMPID:  1\n",
      "ENAME:  ravi\n",
      "SALARY:  999900\n"
     ]
    }
   ],
   "execution_count": 3
  },
  {
   "metadata": {
    "ExecuteTime": {
     "end_time": "2025-09-16T06:43:37.541722Z",
     "start_time": "2025-09-16T06:43:37.535218Z"
    }
   },
   "cell_type": "code",
   "source": [
    "class Calculator:\n",
    "    def sub(self,a,b):\n",
    "        return a - b\n",
    "    def add(self,a,b):\n",
    "        return a+b\n",
    "    def multi(self,a,b):\n",
    "        return a * b\n",
    "    def divide(self,a,b):\n",
    "        return a/b\n",
    "\n",
    "c =Calculator()\n",
    "print(c.sub(8,4),c.add(8,4),c.multi(8,4),c.divide(8,4))\n"
   ],
   "id": "24a399ac9f3418b4",
   "outputs": [
    {
     "name": "stdout",
     "output_type": "stream",
     "text": [
      "4 12 32 2.0\n"
     ]
    }
   ],
   "execution_count": 9
  }
 ],
 "metadata": {
  "kernelspec": {
   "display_name": "Python 3",
   "language": "python",
   "name": "python3"
  },
  "language_info": {
   "codemirror_mode": {
    "name": "ipython",
    "version": 2
   },
   "file_extension": ".py",
   "mimetype": "text/x-python",
   "name": "python",
   "nbconvert_exporter": "python",
   "pygments_lexer": "ipython2",
   "version": "2.7.6"
  }
 },
 "nbformat": 4,
 "nbformat_minor": 5
}
