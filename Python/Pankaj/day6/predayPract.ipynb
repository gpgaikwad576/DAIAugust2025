{
 "cells": [
  {
   "metadata": {
    "ExecuteTime": {
     "end_time": "2025-09-16T09:02:25.897791Z",
     "start_time": "2025-09-16T09:02:25.876825Z"
    }
   },
   "cell_type": "code",
   "source": [
    " def apply(exp):\n",
    "    return eval(exp)\n",
    "\n",
    " print(apply(\"2+3-9\"))"
   ],
   "id": "963a930ffb828f8e",
   "outputs": [
    {
     "name": "stdout",
     "output_type": "stream",
     "text": [
      "-4\n"
     ]
    }
   ],
   "execution_count": 11
  },
  {
   "metadata": {
    "ExecuteTime": {
     "end_time": "2025-09-16T15:37:49.575909Z",
     "start_time": "2025-09-16T15:37:49.571807Z"
    }
   },
   "cell_type": "code",
   "source": [
    "#Bank Managent System\n",
    "mp = {111:[\"Pankaj\",4000],112:[\"Suraj\",5000]}"
   ],
   "id": "33feb264ec9061",
   "outputs": [],
   "execution_count": 85
  },
  {
   "metadata": {
    "ExecuteTime": {
     "end_time": "2025-09-16T15:37:50.604869Z",
     "start_time": "2025-09-16T15:37:50.596324Z"
    }
   },
   "cell_type": "code",
   "source": [
    "\n",
    "def create_account(name, balance=0):\n",
    "    last_accno=int(list(mp.keys())[-1])\n",
    "    mp[last_accno+1]=[name,balance]\n",
    "\n",
    "def withdraw(accno,amount):\n",
    "    try:\n",
    "        mp[accno][1]-=amount\n",
    "        return True\n",
    "    except:\n",
    "        return False\n",
    "def deposite(accno,amount):\n",
    "    try:\n",
    "        mp[accno][1]+=amount\n",
    "        return True\n",
    "    except:\n",
    "        return False\n",
    "\n",
    "def check_balance(accno):\n",
    "    return mp[accno][1]\n",
    "\n",
    "def transfer_money(sender_accno, receiver_accno,amount):\n",
    "    if(withdraw(sender_accno,amount)):\n",
    "        if(deposite(receiver_accno,amount)):\n",
    "            return True\n",
    "        deposite(sender_accno,amount)\n",
    "        return False\n",
    "    return False\n",
    "\n",
    "if __name__ == \"__main__\":\n",
    "    create_account(\"Ravi\",8000)\n",
    "    withdraw(111,2000)\n",
    "    deposite(113,2000)\n",
    "    print(mp)\n",
    "\n",
    "    transfer_money(112,111,3000)\n",
    "    print(mp)\n",
    "\n"
   ],
   "id": "aae2a685f0069245",
   "outputs": [
    {
     "name": "stdout",
     "output_type": "stream",
     "text": [
      "{111: ['Pankaj', 2000], 112: ['Suraj', 5000], 113: ['Ravi', 10000]}\n",
      "{111: ['Pankaj', 5000], 112: ['Suraj', 2000], 113: ['Ravi', 10000]}\n"
     ]
    }
   ],
   "execution_count": 86
  },
  {
   "metadata": {},
   "cell_type": "markdown",
   "source": "## Map, Filter demo programs",
   "id": "88312dd8fbb8aa8f"
  },
  {
   "metadata": {
    "ExecuteTime": {
     "end_time": "2025-09-17T02:31:54.331221Z",
     "start_time": "2025-09-17T02:31:54.325672Z"
    }
   },
   "cell_type": "code",
   "source": [
    "#From the list of strings filter out all palindrome strings\n",
    "def isPallindrome(str):\n",
    "    for i in range(len(str)//2+1):\n",
    "        if(str[i] != str[-i-1]):\n",
    "            return False\n",
    "    return True\n",
    "\n",
    "lst = [\"eye\",\"pen\",\"mam\",\"sys\"]\n",
    "print(list(filter(isPallindrome,lst)))"
   ],
   "id": "b55a24b66c4352ff",
   "outputs": [
    {
     "name": "stdout",
     "output_type": "stream",
     "text": [
      "['eye', 'mam', 'sys']\n"
     ]
    }
   ],
   "execution_count": 4
  },
  {
   "metadata": {
    "ExecuteTime": {
     "end_time": "2025-09-17T03:42:41.122167Z",
     "start_time": "2025-09-17T03:42:41.113974Z"
    }
   },
   "cell_type": "code",
   "source": [
    "#given list, make every odd number square\n",
    "lst =[1,2,3,4,5,6,7,8]\n",
    "print(list(map(lambda x: x**2,list(filter(lambda x: x%2!=0,lst)))))"
   ],
   "id": "d9ad3ffa83c931cf",
   "outputs": [
    {
     "name": "stdout",
     "output_type": "stream",
     "text": [
      "[1, 9, 25, 49]\n"
     ]
    }
   ],
   "execution_count": 5
  },
  {
   "metadata": {
    "ExecuteTime": {
     "end_time": "2025-09-17T02:20:09.404635Z",
     "start_time": "2025-09-17T02:20:09.400364Z"
    }
   },
   "cell_type": "code",
   "source": "#given list, filter all strings which have at least one charcater duplicate\n",
   "id": "629396863f822a54",
   "outputs": [],
   "execution_count": 2
  },
  {
   "metadata": {},
   "cell_type": "code",
   "outputs": [],
   "execution_count": null,
   "source": "#Apply swapcase() to those strings, which are not titles in given list",
   "id": "eae6fbf9976fd925"
  },
  {
   "metadata": {},
   "cell_type": "code",
   "outputs": [],
   "execution_count": null,
   "source": "",
   "id": "4baf0c973b8c2298"
  },
  {
   "metadata": {},
   "cell_type": "code",
   "outputs": [],
   "execution_count": null,
   "source": "",
   "id": "7146d8b8a4cb81a4"
  }
 ],
 "metadata": {
  "kernelspec": {
   "display_name": "Python 3",
   "language": "python",
   "name": "python3"
  },
  "language_info": {
   "codemirror_mode": {
    "name": "ipython",
    "version": 2
   },
   "file_extension": ".py",
   "mimetype": "text/x-python",
   "name": "python",
   "nbconvert_exporter": "python",
   "pygments_lexer": "ipython2",
   "version": "2.7.6"
  }
 },
 "nbformat": 4,
 "nbformat_minor": 5
}
