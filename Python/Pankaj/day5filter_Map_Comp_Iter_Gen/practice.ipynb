{
 "cells": [
  {
   "cell_type": "code",
   "id": "initial_id",
   "metadata": {
    "collapsed": true,
    "ExecuteTime": {
     "end_time": "2025-09-13T07:01:47.182504Z",
     "start_time": "2025-09-13T07:01:47.168376Z"
    }
   },
   "source": [
    "#Make list of words containing two vowels\n",
    "def isTwoVowel(word):\n",
    "    count=0\n",
    "    for c in word:\n",
    "        if(c in ('a','e','o','u','i','A','E','I','O','U')):\n",
    "            count+=1\n",
    "    if(count >=2): return True\n",
    "    return False\n",
    "\n",
    "lst = [\"mango\",\"apple\",\"pear\",\"pen\"]\n",
    "print([x for x in iter(filter(isTwoVowel,lst))])"
   ],
   "outputs": [
    {
     "name": "stdout",
     "output_type": "stream",
     "text": [
      "['mango', 'apple', 'pear']\n"
     ]
    }
   ],
   "execution_count": 2
  },
  {
   "metadata": {
    "ExecuteTime": {
     "end_time": "2025-09-13T07:27:51.532894Z",
     "start_time": "2025-09-13T07:27:51.051951Z"
    }
   },
   "cell_type": "code",
   "source": [
    "#Create list of names starting with 'a', do uppercase\n",
    "def makeFirstCharCap(w):\n",
    "    t=w[0].upper()\n",
    "    return return t+w[1:len(w)]\n",
    "\n",
    "lst=['sony','Aibhav','auraj','Ankaj']\n",
    "lst2=[x for x in iter(filter(lambda w: w[0]=='a' or w[0]=='A',lst))]\n",
    "gen = (x for x in map(makeFirstCharCap,lst2))\n",
    "while True:\n",
    "    try:\n",
    "        next(gen)\n",
    "    except StopIteration:\n",
    "        break\n",
    "print(\"Exec successful\")\n",
    "\n"
   ],
   "id": "94a545d1a37f1652",
   "outputs": [
    {
     "ename": "TypeError",
     "evalue": "str.join() takes exactly one argument (2 given)",
     "output_type": "error",
     "traceback": [
      "\u001B[31m---------------------------------------------------------------------------\u001B[39m",
      "\u001B[31mTypeError\u001B[39m                                 Traceback (most recent call last)",
      "\u001B[36mCell\u001B[39m\u001B[36m \u001B[39m\u001B[32mIn[3]\u001B[39m\u001B[32m, line 11\u001B[39m\n\u001B[32m      9\u001B[39m \u001B[38;5;28;01mwhile\u001B[39;00m \u001B[38;5;28;01mTrue\u001B[39;00m:\n\u001B[32m     10\u001B[39m     \u001B[38;5;28;01mtry\u001B[39;00m:\n\u001B[32m---> \u001B[39m\u001B[32m11\u001B[39m         \u001B[38;5;28;43mnext\u001B[39;49m\u001B[43m(\u001B[49m\u001B[43mgen\u001B[49m\u001B[43m)\u001B[49m\n\u001B[32m     12\u001B[39m     \u001B[38;5;28;01mexcept\u001B[39;00m \u001B[38;5;167;01mStopIteration\u001B[39;00m:\n\u001B[32m     13\u001B[39m         \u001B[38;5;28;01mbreak\u001B[39;00m\n",
      "\u001B[36mCell\u001B[39m\u001B[36m \u001B[39m\u001B[32mIn[3]\u001B[39m\u001B[32m, line 8\u001B[39m, in \u001B[36m<genexpr>\u001B[39m\u001B[34m(.0)\u001B[39m\n\u001B[32m      6\u001B[39m lst=[\u001B[33m'\u001B[39m\u001B[33msony\u001B[39m\u001B[33m'\u001B[39m,\u001B[33m'\u001B[39m\u001B[33mAibhav\u001B[39m\u001B[33m'\u001B[39m,\u001B[33m'\u001B[39m\u001B[33mauraj\u001B[39m\u001B[33m'\u001B[39m,\u001B[33m'\u001B[39m\u001B[33mAnkaj\u001B[39m\u001B[33m'\u001B[39m]\n\u001B[32m      7\u001B[39m lst2=[x \u001B[38;5;28;01mfor\u001B[39;00m x \u001B[38;5;129;01min\u001B[39;00m \u001B[38;5;28miter\u001B[39m(\u001B[38;5;28mfilter\u001B[39m(\u001B[38;5;28;01mlambda\u001B[39;00m w: w[\u001B[32m0\u001B[39m]==\u001B[33m'\u001B[39m\u001B[33ma\u001B[39m\u001B[33m'\u001B[39m \u001B[38;5;129;01mor\u001B[39;00m w[\u001B[32m0\u001B[39m]==\u001B[33m'\u001B[39m\u001B[33mA\u001B[39m\u001B[33m'\u001B[39m,lst))]\n\u001B[32m----> \u001B[39m\u001B[32m8\u001B[39m gen = \u001B[43m(\u001B[49m\u001B[43mx\u001B[49m\u001B[43m \u001B[49m\u001B[38;5;28;43;01mfor\u001B[39;49;00m\u001B[43m \u001B[49m\u001B[43mx\u001B[49m\u001B[43m \u001B[49m\u001B[38;5;129;43;01min\u001B[39;49;00m\u001B[43m \u001B[49m\u001B[38;5;28;43mmap\u001B[39;49m\u001B[43m(\u001B[49m\u001B[43mmakeFirstCharCap\u001B[49m\u001B[43m,\u001B[49m\u001B[43mlst2\u001B[49m\u001B[43m)\u001B[49m\u001B[43m)\u001B[49m\n\u001B[32m      9\u001B[39m \u001B[38;5;28;01mwhile\u001B[39;00m \u001B[38;5;28;01mTrue\u001B[39;00m:\n\u001B[32m     10\u001B[39m     \u001B[38;5;28;01mtry\u001B[39;00m:\n",
      "\u001B[36mCell\u001B[39m\u001B[36m \u001B[39m\u001B[32mIn[3]\u001B[39m\u001B[32m, line 4\u001B[39m, in \u001B[36mmakeFirstCharCap\u001B[39m\u001B[34m(w)\u001B[39m\n\u001B[32m      2\u001B[39m \u001B[38;5;28;01mdef\u001B[39;00m\u001B[38;5;250m \u001B[39m\u001B[34mmakeFirstCharCap\u001B[39m(w):\n\u001B[32m      3\u001B[39m     t=w[\u001B[32m0\u001B[39m].upper()\n\u001B[32m----> \u001B[39m\u001B[32m4\u001B[39m     \u001B[38;5;28;01mreturn\u001B[39;00m \u001B[33;43m'\u001B[39;49m\u001B[33;43m'\u001B[39;49m\u001B[43m.\u001B[49m\u001B[43mjoin\u001B[49m\u001B[43m(\u001B[49m\u001B[43mt\u001B[49m\u001B[43m,\u001B[49m\u001B[43mw\u001B[49m\u001B[43m[\u001B[49m\u001B[32;43m1\u001B[39;49m\u001B[43m:\u001B[49m\u001B[38;5;28;43mlen\u001B[39;49m\u001B[43m(\u001B[49m\u001B[43mw\u001B[49m\u001B[43m)\u001B[49m\u001B[43m]\u001B[49m\u001B[43m)\u001B[49m\n",
      "\u001B[31mTypeError\u001B[39m: str.join() takes exactly one argument (2 given)"
     ]
    }
   ],
   "execution_count": 3
  },
  {
   "metadata": {},
   "cell_type": "code",
   "outputs": [],
   "execution_count": null,
   "source": "",
   "id": "eb10d1a5f3c9f33e"
  }
 ],
 "metadata": {
  "kernelspec": {
   "display_name": "Python 3",
   "language": "python",
   "name": "python3"
  },
  "language_info": {
   "codemirror_mode": {
    "name": "ipython",
    "version": 2
   },
   "file_extension": ".py",
   "mimetype": "text/x-python",
   "name": "python",
   "nbconvert_exporter": "python",
   "pygments_lexer": "ipython2",
   "version": "2.7.6"
  }
 },
 "nbformat": 4,
 "nbformat_minor": 5
}
