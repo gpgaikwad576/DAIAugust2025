{
 "cells": [
  {
   "cell_type": "code",
   "id": "initial_id",
   "metadata": {
    "collapsed": true,
    "ExecuteTime": {
     "end_time": "2025-09-13T07:01:47.182504Z",
     "start_time": "2025-09-13T07:01:47.168376Z"
    }
   },
   "source": [
    "#Make list of words containing two vowels\n",
    "def isTwoVowel(word):\n",
    "    count=0\n",
    "    for c in word:\n",
    "        if(c in ('a','e','o','u','i','A','E','I','O','U')):\n",
    "            count+=1\n",
    "    if(count >=2): return True\n",
    "    return False\n",
    "\n",
    "lst = [\"mango\",\"apple\",\"pear\",\"pen\"]\n",
    "print([x for x in iter(filter(isTwoVowel,lst))])"
   ],
   "outputs": [
    {
     "name": "stdout",
     "output_type": "stream",
     "text": [
      "['mango', 'apple', 'pear']\n"
     ]
    }
   ],
   "execution_count": 2
  },
  {
   "metadata": {
    "ExecuteTime": {
     "end_time": "2025-09-16T04:45:51.808131Z",
     "start_time": "2025-09-16T04:45:51.801206Z"
    }
   },
   "cell_type": "code",
   "source": [
    "#Create list of names starting with 'a', do uppercase\n",
    "def makeFirstCharCap(w):\n",
    "    t=w[0].upper()\n",
    "    return t+w[1:len(w)]\n",
    "\n",
    "lst=['sony','Aibhav','auraj','Ankaj']\n",
    "lst2=[x for x in iter(filter(lambda w: w[0]=='a' or w[0]=='A',lst))]\n",
    "gen = (x for x in map(makeFirstCharCap,lst2))\n",
    "while True:\n",
    "    try:\n",
    "        print(next(gen))\n",
    "    except StopIteration:\n",
    "        break\n",
    "print(\"Exec successful\")\n",
    "\n"
   ],
   "id": "94a545d1a37f1652",
   "outputs": [
    {
     "name": "stdout",
     "output_type": "stream",
     "text": [
      "Aibhav\n",
      "Auraj\n",
      "Ankaj\n",
      "Exec successful\n"
     ]
    }
   ],
   "execution_count": 5
  },
  {
   "metadata": {},
   "cell_type": "code",
   "outputs": [],
   "execution_count": null,
   "source": "",
   "id": "eb10d1a5f3c9f33e"
  }
 ],
 "metadata": {
  "kernelspec": {
   "display_name": "Python 3",
   "language": "python",
   "name": "python3"
  },
  "language_info": {
   "codemirror_mode": {
    "name": "ipython",
    "version": 2
   },
   "file_extension": ".py",
   "mimetype": "text/x-python",
   "name": "python",
   "nbconvert_exporter": "python",
   "pygments_lexer": "ipython2",
   "version": "2.7.6"
  }
 },
 "nbformat": 4,
 "nbformat_minor": 5
}
