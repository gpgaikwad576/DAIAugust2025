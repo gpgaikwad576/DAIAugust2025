{
 "cells": [
  {
   "cell_type": "code",
   "id": "initial_id",
   "metadata": {
    "collapsed": true,
    "ExecuteTime": {
     "end_time": "2025-09-20T11:08:43.621346Z",
     "start_time": "2025-09-20T11:08:43.483599Z"
    }
   },
   "source": "import pymongo",
   "outputs": [],
   "execution_count": 1
  },
  {
   "metadata": {
    "ExecuteTime": {
     "end_time": "2025-09-20T11:09:46.969033Z",
     "start_time": "2025-09-20T11:09:46.826371Z"
    }
   },
   "cell_type": "code",
   "source": "client = pymongo.MongoClient(\"mongodb://localhost:27017/\")",
   "id": "6e6518b2f0b8816f",
   "outputs": [],
   "execution_count": 2
  },
  {
   "metadata": {
    "ExecuteTime": {
     "end_time": "2025-09-20T11:11:05.292602Z",
     "start_time": "2025-09-20T11:11:05.282958Z"
    }
   },
   "cell_type": "code",
   "source": "print(client.list_database_names())",
   "id": "fe505d17fee94ce4",
   "outputs": [
    {
     "name": "stdout",
     "output_type": "stream",
     "text": [
      "['admin', 'cdac', 'config', 'employee', 'employee2db', 'local']\n"
     ]
    }
   ],
   "execution_count": 3
  },
  {
   "metadata": {
    "ExecuteTime": {
     "end_time": "2025-09-20T11:11:36.101069Z",
     "start_time": "2025-09-20T11:11:36.096750Z"
    }
   },
   "cell_type": "code",
   "source": "db = client[\"employee2db\"]",
   "id": "29e4b40d7cc80951",
   "outputs": [],
   "execution_count": 4
  },
  {
   "metadata": {
    "ExecuteTime": {
     "end_time": "2025-09-20T11:26:07.206569Z",
     "start_time": "2025-09-20T11:26:07.198907Z"
    }
   },
   "cell_type": "code",
   "source": [
    "emptb = db[\"employee\"]\n",
    "print(list(emptb.find()))"
   ],
   "id": "22a15c33fe639f26",
   "outputs": [
    {
     "name": "stdout",
     "output_type": "stream",
     "text": [
      "[{'_id': ObjectId('68ce80baf034e77de5cebea4'), 'empid': 1, 'ename': 'abc', 'salary': 99000}, {'_id': ObjectId('68ce80e3f034e77de5cebea5'), 'empid': 1, 'ename': 'abc', 'salary': 99000}, {'_id': 1, 'ename': 'abc', 'salary': 100000}, {'_id': 4, 'ename': 'abc4', 'salary': 75000}]\n"
     ]
    }
   ],
   "execution_count": 6
  },
  {
   "metadata": {
    "ExecuteTime": {
     "end_time": "2025-09-20T11:26:25.913383Z",
     "start_time": "2025-09-20T11:26:25.902117Z"
    }
   },
   "cell_type": "code",
   "source": [
    "data = {\"empid\":100,\"ename\":\"abcd\",\"salary\":67000}\n",
    "emptb.insert_one(data)"
   ],
   "id": "9f6a1cbca548f436",
   "outputs": [
    {
     "data": {
      "text/plain": [
       "InsertOneResult(ObjectId('68ce8f61f312666773dfada2'), acknowledged=True)"
      ]
     },
     "execution_count": 7,
     "metadata": {},
     "output_type": "execute_result"
    }
   ],
   "execution_count": 7
  },
  {
   "metadata": {
    "ExecuteTime": {
     "end_time": "2025-09-20T11:27:30.186824Z",
     "start_time": "2025-09-20T11:27:30.180367Z"
    }
   },
   "cell_type": "code",
   "source": "print(list(emptb.find()))",
   "id": "7c5d3a2141b9688a",
   "outputs": [
    {
     "name": "stdout",
     "output_type": "stream",
     "text": [
      "[{'_id': ObjectId('68ce80baf034e77de5cebea4'), 'empid': 1, 'ename': 'abc', 'salary': 99000}, {'_id': ObjectId('68ce80e3f034e77de5cebea5'), 'empid': 1, 'ename': 'abc', 'salary': 99000}, {'_id': 1, 'ename': 'abc', 'salary': 100000}, {'_id': 4, 'ename': 'abc4', 'salary': 75000}, {'_id': ObjectId('68ce8f61f312666773dfada2'), 'empid': 100, 'ename': 'abcd', 'salary': 67000}]\n"
     ]
    }
   ],
   "execution_count": 9
  },
  {
   "metadata": {},
   "cell_type": "code",
   "outputs": [],
   "execution_count": null,
   "source": "",
   "id": "cba20dc28768508e"
  }
 ],
 "metadata": {
  "kernelspec": {
   "display_name": "Python 3",
   "language": "python",
   "name": "python3"
  },
  "language_info": {
   "codemirror_mode": {
    "name": "ipython",
    "version": 2
   },
   "file_extension": ".py",
   "mimetype": "text/x-python",
   "name": "python",
   "nbconvert_exporter": "python",
   "pygments_lexer": "ipython2",
   "version": "2.7.6"
  }
 },
 "nbformat": 4,
 "nbformat_minor": 5
}
