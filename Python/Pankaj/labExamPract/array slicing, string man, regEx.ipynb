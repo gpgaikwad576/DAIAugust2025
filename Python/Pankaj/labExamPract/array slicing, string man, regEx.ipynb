{
 "cells": [
  {
   "metadata": {
    "ExecuteTime": {
     "end_time": "2025-10-05T10:53:13.510416Z",
     "start_time": "2025-10-05T10:53:13.493335Z"
    }
   },
   "cell_type": "code",
   "source": "import re",
   "id": "d4735c6e50129bae",
   "outputs": [],
   "execution_count": 83
  },
  {
   "metadata": {},
   "cell_type": "markdown",
   "source": "Slicing",
   "id": "c5d40fdc97fda736"
  },
  {
   "cell_type": "code",
   "id": "initial_id",
   "metadata": {
    "collapsed": true,
    "ExecuteTime": {
     "end_time": "2025-10-05T07:32:53.596697Z",
     "start_time": "2025-10-05T07:32:53.584053Z"
    }
   },
   "source": "numbers = [0,1,2,3,4,5,6,7,8,9]",
   "outputs": [],
   "execution_count": 1
  },
  {
   "metadata": {
    "ExecuteTime": {
     "end_time": "2025-10-05T07:36:25.376621Z",
     "start_time": "2025-10-05T07:36:25.369650Z"
    }
   },
   "cell_type": "code",
   "source": [
    "#postive indexes\n",
    "numbers[2:6]\n",
    "numbers[:4]\n",
    "numbers[5:]\n",
    "numbers[:]\n",
    "numbers[::2]\n",
    "numbers[0:5:2]\n",
    "numbers[:7:2]\n",
    "numbers[3::2]\n",
    "\n",
    "\n"
   ],
   "id": "9cd6551c307756dd",
   "outputs": [
    {
     "data": {
      "text/plain": [
       "[3, 5, 7, 9]"
      ]
     },
     "execution_count": 11,
     "metadata": {},
     "output_type": "execute_result"
    }
   ],
   "execution_count": 11
  },
  {
   "metadata": {
    "ExecuteTime": {
     "end_time": "2025-10-05T07:49:26.057623Z",
     "start_time": "2025-10-05T07:49:26.050823Z"
    }
   },
   "cell_type": "code",
   "source": [
    "#negative\n",
    "numbers[:-2]\n",
    "numbers[-2:]\n",
    "numbers[-5:-2]\n",
    "numbers[::-2]\n",
    "numbers[-2:-5:-2]\n",
    "numbers[:-2:2]\n",
    "numbers[-10::2]\n"
   ],
   "id": "8c8e57daf2b084bb",
   "outputs": [
    {
     "data": {
      "text/plain": [
       "[0, 2, 4, 6, 8]"
      ]
     },
     "execution_count": 28,
     "metadata": {},
     "output_type": "execute_result"
    }
   ],
   "execution_count": 28
  },
  {
   "metadata": {
    "ExecuteTime": {
     "end_time": "2025-10-08T14:21:59.172097Z",
     "start_time": "2025-10-08T14:21:59.165462Z"
    }
   },
   "cell_type": "code",
   "source": [
    "#multidimensional\n",
    "m = [[1,2,3,4],\n",
    "          [5,6,7,8],\n",
    "          [9,10,11,12]]\n",
    "\n",
    "# print(matrix[:2])\n",
    "[row[1:3] for row in m[0:5]]\n",
    "m[1][2]\n",
    "m[0:2][0:2]\n"
   ],
   "id": "4e7ca95c172eb9b1",
   "outputs": [
    {
     "data": {
      "text/plain": [
       "[[1, 2, 3, 4], [5, 6, 7, 8]]"
      ]
     },
     "execution_count": 17,
     "metadata": {},
     "output_type": "execute_result"
    }
   ],
   "execution_count": 17
  },
  {
   "metadata": {
    "ExecuteTime": {
     "end_time": "2025-10-05T07:58:06.145399Z",
     "start_time": "2025-10-05T07:58:06.137915Z"
    }
   },
   "cell_type": "code",
   "source": [
    "#practical use\n",
    "data = ['a', 'b', 'c', 'd', 'e', 'f', 'g']\n",
    "mid = len(data)//2\n",
    "first_half = data[:mid]\n",
    "second_half = data[mid:]\n",
    "first_half,second_half"
   ],
   "id": "e007f28afb7403ff",
   "outputs": [
    {
     "data": {
      "text/plain": [
       "(['a', 'b', 'c'], ['d', 'e', 'f', 'g'])"
      ]
     },
     "execution_count": 47,
     "metadata": {},
     "output_type": "execute_result"
    }
   ],
   "execution_count": 47
  },
  {
   "metadata": {},
   "cell_type": "markdown",
   "source": "String manipulation",
   "id": "a76311c42f3b30d7"
  },
  {
   "metadata": {
    "ExecuteTime": {
     "end_time": "2025-10-05T08:21:49.918690Z",
     "start_time": "2025-10-05T08:21:49.910891Z"
    }
   },
   "cell_type": "code",
   "source": [
    "#exploration\n",
    "text = \"hEllo python\"\n",
    "len(text)\n",
    "text.count('o')\n",
    "text.index('o')\n",
    "text.find('o')\n",
    "\n",
    "text.index('python')\n",
    "text.find('pyu')\n",
    "text.startswith('Hello')\n",
    "text.endswith(\"python\")\n",
    "'python' in text\n",
    "\n",
    "name =\"Alice123\"\n",
    "name.isalpha()\n",
    "name.isnumeric()\n",
    "name.isdigit()\n",
    "name.isalnum()\n",
    "name.islower()\n",
    "name.isupper()\n",
    "\"  \".isspace()"
   ],
   "id": "1cba44b00b3270cd",
   "outputs": [
    {
     "data": {
      "text/plain": [
       "True"
      ]
     },
     "execution_count": 70,
     "metadata": {},
     "output_type": "execute_result"
    }
   ],
   "execution_count": 70
  },
  {
   "metadata": {
    "ExecuteTime": {
     "end_time": "2025-10-05T08:22:48.544720Z",
     "start_time": "2025-10-05T08:22:48.537889Z"
    }
   },
   "cell_type": "code",
   "source": [
    "#string manipulation\n",
    "text.upper()\n",
    "text.lower()\n",
    "text.title()\n",
    "text.capitalize()\n",
    "text.swapcase()\n"
   ],
   "id": "f4502634359da53",
   "outputs": [
    {
     "data": {
      "text/plain": [
       "'HeLLO PYTHON'"
      ]
     },
     "execution_count": 74,
     "metadata": {},
     "output_type": "execute_result"
    }
   ],
   "execution_count": 74
  },
  {
   "metadata": {
    "ExecuteTime": {
     "end_time": "2025-10-05T08:27:02.019684Z",
     "start_time": "2025-10-05T08:27:02.012762Z"
    }
   },
   "cell_type": "code",
   "source": [
    "#whitespace,replace,split,join\n",
    "text = \"   hello world   \"\n",
    "text.strip()\n",
    "text.lstrip()\n",
    "text.rstrip()\n",
    "\n",
    "text = \"apple,banana,cherry\"\n",
    "text.replace(',','-')\n",
    "fruits = text.split(\",\")\n",
    "\",\".join(fruits)"
   ],
   "id": "769f4528a6d82259",
   "outputs": [
    {
     "data": {
      "text/plain": [
       "'apple,banana,cherry'"
      ]
     },
     "execution_count": 79,
     "metadata": {},
     "output_type": "execute_result"
    }
   ],
   "execution_count": 79
  },
  {
   "metadata": {
    "ExecuteTime": {
     "end_time": "2025-10-05T08:29:00.053915Z",
     "start_time": "2025-10-05T08:29:00.047702Z"
    }
   },
   "cell_type": "code",
   "source": [
    "text2 = f\"my name is {text} end of the era\"\n",
    "text2"
   ],
   "id": "453a695af1acb6f0",
   "outputs": [
    {
     "data": {
      "text/plain": [
       "'my name is apple,banana,cherry end of the era'"
      ]
     },
     "execution_count": 80,
     "metadata": {},
     "output_type": "execute_result"
    }
   ],
   "execution_count": 80
  },
  {
   "metadata": {},
   "cell_type": "markdown",
   "source": "## RegEx",
   "id": "7ce7162c647c01e"
  },
  {
   "metadata": {
    "ExecuteTime": {
     "end_time": "2025-10-05T11:29:12.240694Z",
     "start_time": "2025-10-05T11:29:12.234171Z"
    }
   },
   "cell_type": "code",
   "source": [
    "emails = [\"user@examplcom\",\"invalid-email\",\"test.user@domain.co.uk\"]\n",
    "pattern = r'^[a-zA-Z0-9._%+-]+@[a-zA-Z0-9.-]+\\.[a-zA-Z]{2,}$'\n",
    "for email in emails:\n",
    "    if re.match(pattern, email):\n",
    "        print(True)"
   ],
   "id": "920350df8e98fa33",
   "outputs": [
    {
     "name": "stdout",
     "output_type": "stream",
     "text": [
      "True\n"
     ]
    }
   ],
   "execution_count": 94
  },
  {
   "metadata": {
    "ExecuteTime": {
     "end_time": "2025-10-05T12:08:16.798743Z",
     "start_time": "2025-10-05T12:08:16.790001Z"
    }
   },
   "cell_type": "code",
   "source": [
    "text = \"Call me at 123-456-7890. Emergency: 911. Address: 123 Main St\"\n",
    "pattern = r'\\b(\\d{3}[-.\\s]?\\d{3}[-.\\s]?\\d{4}|\\d{3})\\b'\n",
    "re.findall(pattern,text)"
   ],
   "id": "fc620b98e7c8a44a",
   "outputs": [
    {
     "data": {
      "text/plain": [
       "['123-456-7890', '911', '123']"
      ]
     },
     "execution_count": 96,
     "metadata": {},
     "output_type": "execute_result"
    }
   ],
   "execution_count": 96
  },
  {
   "metadata": {
    "ExecuteTime": {
     "end_time": "2025-10-05T12:35:38.750225Z",
     "start_time": "2025-10-05T12:35:38.743109Z"
    }
   },
   "cell_type": "code",
   "source": [
    "urls = [\n",
    "    \"https://www.example.com/path\",\n",
    "    \"http://sub.domain.co.uk:8080/page?query=1\",\n",
    "    \"ftp://files.server.org\"\n",
    "]\n",
    "pattern = r'(\\w+)://([^/]+)(/.*)?'\n",
    "\n",
    "for url in urls:\n",
    "    match = re.search(pattern,url)\n",
    "    if match:\n",
    "        protocol,domain,path = match.groups()\n",
    "        print(protocol, domain, path)\n"
   ],
   "id": "3c10e1ec8fc67bd4",
   "outputs": [
    {
     "name": "stdout",
     "output_type": "stream",
     "text": [
      "https www.example.com /path\n",
      "http sub.domain.co.uk:8080 /page?query=1\n",
      "ftp files.server.org None\n"
     ]
    }
   ],
   "execution_count": 99
  },
  {
   "metadata": {},
   "cell_type": "markdown",
   "source": "# compreh",
   "id": "5d2dce766973c981"
  },
  {
   "metadata": {
    "ExecuteTime": {
     "end_time": "2025-10-05T13:00:08.872733Z",
     "start_time": "2025-10-05T13:00:08.866773Z"
    }
   },
   "cell_type": "code",
   "source": [
    "even_squares = [x**2 if x % 2 == 0 else 5 for x in range(10)]\n",
    "print(even_squares)  # [0, 4, 16, 36, 64]"
   ],
   "id": "465b01c3ec4df4c",
   "outputs": [
    {
     "name": "stdout",
     "output_type": "stream",
     "text": [
      "[0, 5, 4, 5, 16, 5, 36, 5, 64, 5]\n"
     ]
    }
   ],
   "execution_count": 101
  },
  {
   "metadata": {},
   "cell_type": "code",
   "outputs": [],
   "execution_count": null,
   "source": [
    "fruits = ['apple', 'banana', 'orange']\n",
    "removed = fruits.pop(1)\n",
    "print(removed)  # 'banana'\n",
    "print(fruits)   # ['apple', 'orange']"
   ],
   "id": "f1ee95b460466e8b"
  },
  {
   "metadata": {},
   "cell_type": "markdown",
   "source": "# list",
   "id": "bc74b3eba73823b3"
  },
  {
   "metadata": {
    "ExecuteTime": {
     "end_time": "2025-10-05T13:23:32.655460Z",
     "start_time": "2025-10-05T13:23:32.647143Z"
    }
   },
   "cell_type": "code",
   "source": [
    "numbers = [3, 1, 4, 2]\n",
    "# print(sorted(numbers))  # [1, 2, 3, 4]\n",
    "fruits = ['banana','apple', 'vani','vani']\n",
    "fruits.insert(1,'orange')\n",
    "# fruits.remove('apple')\n",
    "# fruits.pop(1)\n",
    "# fruits.clear()\n",
    "fruits.index('vani')\n",
    "print(fruits.count('vani'))\n",
    "fruits.sort(reverse =True)\n",
    "numbers.reverse()\n",
    "copied = numbers.copy()\n",
    "numbers.extend(fruits)\n",
    "fruits,numbers\n"
   ],
   "id": "154f8613574f41b",
   "outputs": [
    {
     "name": "stdout",
     "output_type": "stream",
     "text": [
      "2\n"
     ]
    },
    {
     "data": {
      "text/plain": [
       "(['vani', 'vani', 'orange', 'banana', 'apple'],\n",
       " [2, 4, 1, 3, 'vani', 'vani', 'orange', 'banana', 'apple'])"
      ]
     },
     "execution_count": 119,
     "metadata": {},
     "output_type": "execute_result"
    }
   ],
   "execution_count": 119
  },
  {
   "metadata": {},
   "cell_type": "markdown",
   "source": "# Dict",
   "id": "b336107ebb2bcbf4"
  },
  {
   "metadata": {
    "ExecuteTime": {
     "end_time": "2025-10-05T13:46:32.124656Z",
     "start_time": "2025-10-05T13:46:32.069648Z"
    }
   },
   "cell_type": "code",
   "source": [
    "student = {'name': 'John', 'age': 20}\n",
    "student.get(\"name\")\n",
    "student.get(\"name\",\"NA\")\n",
    "student.keys()\n",
    "student.values()\n",
    "student.items()\n",
    "student.update({\"grade\":\"A\",\"city\":\"NYC\"})\n",
    "student.pop('age')\n",
    "student.popitem()\n",
    "# student.clear()\n",
    "student.copy()"
   ],
   "id": "af813751dcd280d4",
   "outputs": [
    {
     "ename": "AttributeError",
     "evalue": "'dict' object has no attribute 'deepcopy'",
     "output_type": "error",
     "traceback": [
      "\u001B[31m---------------------------------------------------------------------------\u001B[39m",
      "\u001B[31mAttributeError\u001B[39m                            Traceback (most recent call last)",
      "\u001B[36mCell\u001B[39m\u001B[36m \u001B[39m\u001B[32mIn[131]\u001B[39m\u001B[32m, line 12\u001B[39m\n\u001B[32m     10\u001B[39m \u001B[38;5;66;03m# student.clear()\u001B[39;00m\n\u001B[32m     11\u001B[39m student.copy()\n\u001B[32m---> \u001B[39m\u001B[32m12\u001B[39m \u001B[43mstudent\u001B[49m\u001B[43m.\u001B[49m\u001B[43mdeepcopy\u001B[49m()\n",
      "\u001B[31mAttributeError\u001B[39m: 'dict' object has no attribute 'deepcopy'"
     ]
    }
   ],
   "execution_count": 131
  },
  {
   "metadata": {},
   "cell_type": "markdown",
   "source": "# Set",
   "id": "e12bcea82abf77f"
  },
  {
   "metadata": {
    "ExecuteTime": {
     "end_time": "2025-10-05T14:00:06.434790Z",
     "start_time": "2025-10-05T14:00:06.427347Z"
    }
   },
   "cell_type": "code",
   "source": [
    "fruits = {'apple', 'banana', 'orange'}\n",
    "len(fruits)\n",
    "fruits.add('orange')\n",
    "fruits.update(['orange','grape'])\n",
    "# fruits.remove('banana')\n",
    "fruits.discard(\"apple\")\n",
    "fruits.pop()\n",
    "# fruits.clear()\n",
    "copied = fruits.copy()\n",
    "fruits,copied"
   ],
   "id": "7aa35c1f2d27eb9f",
   "outputs": [
    {
     "data": {
      "text/plain": [
       "({'grape', 'orange'}, {'grape', 'orange'})"
      ]
     },
     "execution_count": 141,
     "metadata": {},
     "output_type": "execute_result"
    }
   ],
   "execution_count": 141
  },
  {
   "metadata": {
    "ExecuteTime": {
     "end_time": "2025-10-05T14:07:38.462528Z",
     "start_time": "2025-10-05T14:07:38.455423Z"
    }
   },
   "cell_type": "code",
   "source": [
    "set1 = {1, 2, 3}\n",
    "set2 = {3, 4, 5}\n",
    "result = set1.union(set2)\n",
    "set1.intersection(set2)\n"
   ],
   "id": "b97614e7448b7eb4",
   "outputs": [
    {
     "data": {
      "text/plain": [
       "{3}"
      ]
     },
     "execution_count": 143,
     "metadata": {},
     "output_type": "execute_result"
    }
   ],
   "execution_count": 143
  },
  {
   "metadata": {
    "ExecuteTime": {
     "end_time": "2025-10-05T14:41:06.914802Z",
     "start_time": "2025-10-05T14:41:06.910634Z"
    }
   },
   "cell_type": "code",
   "source": "from functools import reduce",
   "id": "739d394cc6953e0c",
   "outputs": [],
   "execution_count": 145
  },
  {
   "metadata": {
    "ExecuteTime": {
     "end_time": "2025-10-05T14:48:33.196819Z",
     "start_time": "2025-10-05T14:48:33.189634Z"
    }
   },
   "cell_type": "code",
   "source": [
    "words = ['apple', 'apeb', 'banana', 'aped']\n",
    "# Sort by length first, then alphabetically # ['ape', 'ball', 'apple', 'banana']\n",
    "sorted(words,key= lambda x:(len(x),x))"
   ],
   "id": "9e29bd2ce9a31194",
   "outputs": [
    {
     "data": {
      "text/plain": [
       "['apeb', 'aped', 'apple', 'banana']"
      ]
     },
     "execution_count": 148,
     "metadata": {},
     "output_type": "execute_result"
    }
   ],
   "execution_count": 148
  },
  {
   "metadata": {
    "ExecuteTime": {
     "end_time": "2025-10-05T14:57:51.007719Z",
     "start_time": "2025-10-05T14:57:51.001859Z"
    }
   },
   "cell_type": "code",
   "source": [
    "names = ['Alice', 'Bob', 'Charlie']\n",
    "ages = [25, 30, 35]\n",
    "cities = ['NYC', 'London', 'Paris']\n",
    "\n",
    "# Combine into tuples\n",
    "combined = zip(names, ages, cities)\n",
    "print(list(combined))"
   ],
   "id": "8f3cc65ddbf66f75",
   "outputs": [
    {
     "name": "stdout",
     "output_type": "stream",
     "text": [
      "[('Alice', 25, 'NYC'), ('Bob', 30, 'London'), ('Charlie', 35, 'Paris')]\n"
     ]
    }
   ],
   "execution_count": 150
  },
  {
   "metadata": {},
   "cell_type": "code",
   "outputs": [],
   "execution_count": null,
   "source": [
    "# Unzipping\n",
    "pairs = [('a', 1), ('b', 2), ('c', 3)]\n",
    "letters, numbers = zip(*pairs)\n",
    "print(list(letters))   # ['a', 'b', 'c']\n",
    "print(list(numbers))   # [1, 2, 3]"
   ],
   "id": "5b8977511f138b5c"
  },
  {
   "metadata": {
    "ExecuteTime": {
     "end_time": "2025-10-05T14:59:57.047323Z",
     "start_time": "2025-10-05T14:59:57.041410Z"
    }
   },
   "cell_type": "code",
   "source": [
    "pairs = [('a',1),('b',2)]\n",
    "letters,numbers =zip(*pairs)\n",
    "print(letters,numbers)"
   ],
   "id": "edada5e9cfd80aca",
   "outputs": [
    {
     "name": "stdout",
     "output_type": "stream",
     "text": [
      "('a', 'b') (1, 2)\n"
     ]
    }
   ],
   "execution_count": 152
  },
  {
   "metadata": {
    "ExecuteTime": {
     "end_time": "2025-10-05T15:01:22.344874Z",
     "start_time": "2025-10-05T15:01:22.338118Z"
    }
   },
   "cell_type": "code",
   "source": [
    "\n",
    "# With custom start\n",
    "for index, fruit in enumerate(fruits, start=1):\n",
    "    print(f\"{index}: {fruit}\")"
   ],
   "id": "c85e4c122bf6fa09",
   "outputs": [
    {
     "name": "stdout",
     "output_type": "stream",
     "text": [
      "1: orange\n",
      "2: grape\n"
     ]
    }
   ],
   "execution_count": 153
  },
  {
   "metadata": {
    "ExecuteTime": {
     "end_time": "2025-10-05T15:01:53.193195Z",
     "start_time": "2025-10-05T15:01:53.187268Z"
    }
   },
   "cell_type": "code",
   "source": [
    "for index, fruit in enumerate(fruits, start=2):\n",
    "    print(index,fruit)"
   ],
   "id": "f35a56afbf7eea9f",
   "outputs": [
    {
     "name": "stdout",
     "output_type": "stream",
     "text": [
      "2 orange\n",
      "3 grape\n"
     ]
    }
   ],
   "execution_count": 154
  },
  {
   "metadata": {
    "ExecuteTime": {
     "end_time": "2025-10-05T15:05:53.111310Z",
     "start_time": "2025-10-05T15:05:53.104800Z"
    }
   },
   "cell_type": "code",
   "source": [
    "ages = [25, 30, 35, 40]\n",
    "# print(any(age > 35 for age in ages))  # True\n",
    "# print(all(age >= 25 for age in ages)) # True\n",
    "\n",
    "print(any([age>35 for age in ages]))\n",
    "print(all(age>35 for age in ages))"
   ],
   "id": "a7e3d4cc2576058a",
   "outputs": [
    {
     "name": "stdout",
     "output_type": "stream",
     "text": [
      "True\n",
      "False\n"
     ]
    }
   ],
   "execution_count": 158
  },
  {
   "metadata": {
    "ExecuteTime": {
     "end_time": "2025-10-05T15:07:10.713259Z",
     "start_time": "2025-10-05T15:07:10.707166Z"
    }
   },
   "cell_type": "code",
   "source": "type(age>35 for age in ages)",
   "id": "5f23337e516ed8e6",
   "outputs": [
    {
     "data": {
      "text/plain": [
       "generator"
      ]
     },
     "execution_count": 159,
     "metadata": {},
     "output_type": "execute_result"
    }
   ],
   "execution_count": 159
  },
  {
   "metadata": {},
   "cell_type": "code",
   "outputs": [],
   "execution_count": null,
   "source": "",
   "id": "7f47dee78a76f1eb"
  }
 ],
 "metadata": {
  "kernelspec": {
   "display_name": "Python 3",
   "language": "python",
   "name": "python3"
  },
  "language_info": {
   "codemirror_mode": {
    "name": "ipython",
    "version": 2
   },
   "file_extension": ".py",
   "mimetype": "text/x-python",
   "name": "python",
   "nbconvert_exporter": "python",
   "pygments_lexer": "ipython2",
   "version": "2.7.6"
  }
 },
 "nbformat": 4,
 "nbformat_minor": 5
}
