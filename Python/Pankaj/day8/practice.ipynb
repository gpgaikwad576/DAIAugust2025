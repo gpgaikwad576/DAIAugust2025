{
 "cells": [
  {
   "cell_type": "code",
   "id": "initial_id",
   "metadata": {
    "collapsed": true,
    "ExecuteTime": {
     "end_time": "2025-09-19T06:30:06.768813Z",
     "start_time": "2025-09-19T06:30:06.757985Z"
    }
   },
   "source": [
    "# File Handling\n",
    "\n",
    "\n",
    "\n",
    "# Write a function replaceDataInFile (source, destination) where it should replace the word provided in source by the word provided in destination in given file\n",
    "# Write a program to read csv file and display the data in table format\n",
    "# Write a program to store EmployeeDb records (empid,ename, salary) in file and retrieve them from file\n",
    "# Write a program to read large file and splits lines into many small file (e.g. you have file with 9 lines so you should create 3 files with 3 lines each)\n",
    "# Write a program to read log file and print only ERROR logs"
   ],
   "outputs": [
    {
     "ename": "SyntaxError",
     "evalue": "invalid syntax (2165954281.py, line 1)",
     "output_type": "error",
     "traceback": [
      "  \u001B[36mCell\u001B[39m\u001B[36m \u001B[39m\u001B[32mIn[1]\u001B[39m\u001B[32m, line 1\u001B[39m\n\u001B[31m    \u001B[39m\u001B[31mWrite a program to find no of vowles in file\u001B[39m\n          ^\n\u001B[31mSyntaxError\u001B[39m\u001B[31m:\u001B[39m invalid syntax\n"
     ]
    }
   ],
   "execution_count": 1
  },
  {
   "metadata": {
    "ExecuteTime": {
     "end_time": "2025-09-19T07:20:12.703780Z",
     "start_time": "2025-09-19T07:20:12.697199Z"
    }
   },
   "cell_type": "code",
   "source": [
    "# Word count program for file and write result in another file\n",
    "file = open(\"text.txt\",\"r\")\n",
    "while True:\n",
    "    line = file.readline()\n",
    "    if not line:\n",
    "        break\n",
    "    print(line.strip())"
   ],
   "id": "4c36f00f2522d173",
   "outputs": [
    {
     "name": "stdout",
     "output_type": "stream",
     "text": [
      "Hello how are you\n",
      "Ho\n",
      "do you\n",
      "do\n"
     ]
    }
   ],
   "execution_count": 4
  },
  {
   "metadata": {},
   "cell_type": "code",
   "outputs": [],
   "execution_count": null,
   "source": [
    "file = open(\"text.txt\",\"r\")\n",
    "print([line.strip() for line in file.readlines()])"
   ],
   "id": "fe1f06201d36375b"
  },
  {
   "metadata": {
    "ExecuteTime": {
     "end_time": "2025-09-19T06:54:05.376724Z",
     "start_time": "2025-09-19T06:54:05.370026Z"
    }
   },
   "cell_type": "code",
   "source": [
    "# Write a program to find no of vowles in file\n",
    "f =open(\"text.txt\", 'r')\n",
    "try:\n",
    "    string = f.read()\n",
    "    count=0\n",
    "    for c in string:\n",
    "        if(c in ('a','e','i','o','u', 'A','E','I','O','U')):\n",
    "            count+=1\n",
    "    print(count)\n",
    "finally:\n",
    "    f.close()"
   ],
   "id": "ceb42ff863c1dc90",
   "outputs": [
    {
     "name": "stdout",
     "output_type": "stream",
     "text": [
      "0\n"
     ]
    }
   ],
   "execution_count": 7
  },
  {
   "metadata": {
    "ExecuteTime": {
     "end_time": "2025-09-19T09:00:55.945455Z",
     "start_time": "2025-09-19T09:00:55.937893Z"
    }
   },
   "cell_type": "code",
   "source": [
    "#2 Word count program for file and write result in another file\n",
    "count=0\n",
    "with open(\"text.txt\") as file:\n",
    "    for line in file:\n",
    "        for c in line.strip():\n",
    "            if(not c.isalpha()):\n",
    "                break\n",
    "        count+=1\n",
    "\n",
    "print(count)\n",
    "\n"
   ],
   "id": "65ea02ad845f06b6",
   "outputs": [
    {
     "name": "stdout",
     "output_type": "stream",
     "text": [
      "4\n"
     ]
    }
   ],
   "execution_count": 15
  },
  {
   "metadata": {
    "ExecuteTime": {
     "end_time": "2025-09-19T09:06:22.914977Z",
     "start_time": "2025-09-19T09:06:22.908404Z"
    }
   },
   "cell_type": "code",
   "source": [
    "# write a program to remove all blank lines from file and save result in new file\n",
    "\n",
    "with open('text.txt','r') as file:\n",
    "    non_blank_lines = [line for line in file if line.strip()]\n",
    "\n",
    "with open('text2.txt','w') as file:\n",
    "    file.writelines(non_blank_lines)"
   ],
   "id": "558e9baa442534b",
   "outputs": [],
   "execution_count": 19
  },
  {
   "metadata": {
    "ExecuteTime": {
     "end_time": "2025-09-19T16:01:59.719498Z",
     "start_time": "2025-09-19T16:01:59.703786Z"
    }
   },
   "cell_type": "code",
   "source": [
    "#4. write a program to merge data of two files into one new file\n",
    "try:\n",
    "    file3 = open(\"text3.txt\",\"a\")\n",
    "    with open(\"text.txt\",\"r\")as file,open(\"text2.txt\",\"r\") as file2:\n",
    "        lines = file.readlines()\n",
    "        file3.writelines(lines)\n",
    "        lines = file2.readlines()\n",
    "        file3.writelines(lines)\n",
    "\n",
    "    file3 = open(\"text3.txt\",\"r\")\n",
    "    print(file3.read())\n",
    "except Exception as e:\n",
    "    print(\"Internal Error: \"+e)\n",
    "finally:\n",
    "    file.close()\n",
    "    file2.close()\n",
    "    file3.close()\n",
    "\n"
   ],
   "id": "822d4fd764266c7",
   "outputs": [
    {
     "name": "stdout",
     "output_type": "stream",
     "text": [
      "Hello\n",
      "Hi\n",
      "\n",
      "How are yougood byeHello\n",
      "Hi\n",
      "\n",
      "How are yougood byeHello\n",
      "Hi\n",
      "\n",
      "How are yougood byeCaesar cipher? I much prefer Caesar salad!good byeCaesar cipher? I much prefer Caesar salad!good bye\n"
     ]
    }
   ],
   "execution_count": 41
  },
  {
   "metadata": {
    "ExecuteTime": {
     "end_time": "2025-09-19T17:39:32.894023Z",
     "start_time": "2025-09-19T17:39:32.881873Z"
    }
   },
   "cell_type": "code",
   "source": [
    "#4 Write a program to encrypt content of one file into other using Ceaser Cipher and have decrypt functionality as well\n",
    "# str=\"Caesar cipher? I much prefer Caesar salad!\"\n",
    "# str=\"Pnrfne pvcure? V zhpu cersre Pnrfne fnynq!\"\n",
    "\n",
    "class CaesarCipher:\n",
    "    key = {'a':'n', 'b':'o', 'c':'p', 'd':'q', 'e':'r', 'f':'s', 'g':'t', 'h':'u', 'i':'v', 'j':'w', 'k':'x', 'l':'y',\n",
    "    'm':'z', 'n':'a','o':'b',\n",
    "    'p':'c', 'q':'d', 'r':'e', 's':'f', 't':'g', 'u':'h', 'v':'i', 'w':'j', 'x':'k', 'y':'l', 'z':'m', 'A':'N', 'B':'O',\n",
    "    'C':'P', 'D':'Q','E':'R',\n",
    "    'F':'S', 'G':'T', 'H':'U', 'I':'V', 'J':'W', 'K':'X', 'L':'Y', 'M':'Z', 'N':'A', 'O':'B', 'P':'C', 'Q':'D', 'R':'E',\n",
    "    'S':'F', 'T':'G', 'U':'H', 'V':'I', 'W':'J', 'X':'K', 'Y':'L', 'Z':'M'}\n",
    "\n",
    "    @classmethod\n",
    "    def cipher(cls,text):\n",
    "        lst =list()\n",
    "        for t in text:\n",
    "            if t in cls.key:\n",
    "                lst.append(cls.key[t])\n",
    "            else:\n",
    "                lst.append(t)\n",
    "        return \"\".join(lst)\n",
    "\n",
    "\n",
    "\n",
    "try:\n",
    "    file = open(\"text.txt\",\"r\")\n",
    "    file2 = open(\"text2.txt\",\"w\")\n",
    "    file2.write(CaesarCipher.cipher(\" \".join(file.readlines())))\n",
    "    file2.close()\n",
    "    file2 = open(\"text2.txt\",\"r\")\n",
    "    # file2.seek(0)\n",
    "    print(file2.read())\n",
    "    print(CaesarCipher.cipher(file2.read()))\n",
    "    #\n",
    "    # with open(\"text.txt\",\"r\") as file, open(\"text2.text\",\"w\") as file2:\n",
    "    #     file2.write(CaesarCipher.cipher(\" \".join(file.readlines())))\n",
    "    #\n",
    "    # with open(\"text2\",\"r\") as file2:\n",
    "    #     file2.readlines()\n",
    "\n",
    "\n",
    "\n",
    "\n",
    "\n",
    "except FileExistsError as e:\n",
    "    print(\"Internal Error: \"+e)\n",
    "except FileNotFoundError as e:\n",
    "    print(\"Internal Error: \"+e)\n",
    "except Exception as e:\n",
    "    print(\"Internal Error: \"+e)\n",
    "# finally:\n",
    "#     file.close()\n",
    "#     file2.close()\n",
    "\n",
    "\n",
    "\n",
    "\n"
   ],
   "id": "ed788f1ab642f775",
   "outputs": [
    {
     "name": "stdout",
     "output_type": "stream",
     "text": [
      "Pnrfne pvcure? V zhpu cersre Pnrfne fnynq!\n",
      "\n"
     ]
    }
   ],
   "execution_count": 82
  },
  {
   "metadata": {},
   "cell_type": "code",
   "outputs": [],
   "execution_count": null,
   "source": "",
   "id": "61af0dd7e5682217"
  },
  {
   "metadata": {},
   "cell_type": "code",
   "outputs": [],
   "execution_count": null,
   "source": "",
   "id": "6b4765c902759329"
  }
 ],
 "metadata": {
  "kernelspec": {
   "display_name": "Python 3",
   "language": "python",
   "name": "python3"
  },
  "language_info": {
   "codemirror_mode": {
    "name": "ipython",
    "version": 2
   },
   "file_extension": ".py",
   "mimetype": "text/x-python",
   "name": "python",
   "nbconvert_exporter": "python",
   "pygments_lexer": "ipython2",
   "version": "2.7.6"
  }
 },
 "nbformat": 4,
 "nbformat_minor": 5
}
