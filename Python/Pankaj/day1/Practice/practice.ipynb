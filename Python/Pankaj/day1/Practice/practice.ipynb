{
 "cells": [
  {
   "cell_type": "code",
   "id": "initial_id",
   "metadata": {
    "collapsed": true,
    "ExecuteTime": {
     "end_time": "2025-09-11T06:42:02.728785Z",
     "start_time": "2025-09-11T06:42:02.722740Z"
    }
   },
   "source": [
    "##4.\n",
    "##take expression as string arguement\n",
    "\n",
    "def  isPanagram(str):\n",
    "    s=set(str)\n",
    "    print(s)\n",
    "\n",
    "isPanagram(\"dfdh dfdjfkdfj sdsd\")"
   ],
   "outputs": [
    {
     "name": "stdout",
     "output_type": "stream",
     "text": [
      "{'d', 'k', 's', 'j', 'f', 'h', ' '}\n"
     ]
    }
   ],
   "execution_count": 1
  },
  {
   "metadata": {},
   "cell_type": "code",
   "outputs": [],
   "execution_count": null,
   "source": "",
   "id": "bbda74770100d1da"
  }
 ],
 "metadata": {
  "kernelspec": {
   "display_name": "Python 3",
   "language": "python",
   "name": "python3"
  },
  "language_info": {
   "codemirror_mode": {
    "name": "ipython",
    "version": 2
   },
   "file_extension": ".py",
   "mimetype": "text/x-python",
   "name": "python",
   "nbconvert_exporter": "python",
   "pygments_lexer": "ipython2",
   "version": "2.7.6"
  }
 },
 "nbformat": 4,
 "nbformat_minor": 5
}
