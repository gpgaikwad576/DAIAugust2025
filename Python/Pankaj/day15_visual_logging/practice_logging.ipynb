{
 "cells": [
  {
   "cell_type": "code",
   "id": "initial_id",
   "metadata": {
    "collapsed": true,
    "ExecuteTime": {
     "end_time": "2025-10-01T10:11:25.373852Z",
     "start_time": "2025-10-01T10:11:25.368898Z"
    }
   },
   "source": "import logging",
   "outputs": [],
   "execution_count": 19
  },
  {
   "metadata": {
    "ExecuteTime": {
     "end_time": "2025-10-01T10:11:42.438917Z",
     "start_time": "2025-10-01T10:11:42.434494Z"
    }
   },
   "cell_type": "code",
   "source": [
    "FORMAT = '%(asctime)s %(levelname)s %(message)s'\n",
    "logging.basicConfig(level =logging.DEBUG,format=FORMAT)"
   ],
   "id": "7cc4277792b8e799",
   "outputs": [],
   "execution_count": 22
  },
  {
   "metadata": {
    "ExecuteTime": {
     "end_time": "2025-10-01T10:11:44.077890Z",
     "start_time": "2025-10-01T10:11:44.069139Z"
    }
   },
   "cell_type": "code",
   "source": [
    "# Test all levels\n",
    "logging.debug(\"Debug message\")\n",
    "logging.info(\"Info message\")\n",
    "logging.warning(\"Warning message\")\n",
    "logging.error(\"Error message\")\n",
    "logging.critical(\"Critical message\")"
   ],
   "id": "ab4ed1f32282b606",
   "outputs": [
    {
     "name": "stderr",
     "output_type": "stream",
     "text": [
      "WARNING:root:Warning message\n",
      "ERROR:root:Error message\n",
      "CRITICAL:root:Critical message\n"
     ]
    }
   ],
   "execution_count": 23
  },
  {
   "metadata": {
    "ExecuteTime": {
     "end_time": "2025-10-01T09:42:52.852782Z",
     "start_time": "2025-10-01T09:42:52.849385Z"
    }
   },
   "cell_type": "code",
   "source": "\"",
   "id": "e1e3beb759dfa1ad",
   "outputs": [],
   "execution_count": null
  }
 ],
 "metadata": {
  "kernelspec": {
   "display_name": "Python 3",
   "language": "python",
   "name": "python3"
  },
  "language_info": {
   "codemirror_mode": {
    "name": "ipython",
    "version": 2
   },
   "file_extension": ".py",
   "mimetype": "text/x-python",
   "name": "python",
   "nbconvert_exporter": "python",
   "pygments_lexer": "ipython2",
   "version": "2.7.6"
  }
 },
 "nbformat": 4,
 "nbformat_minor": 5
}
