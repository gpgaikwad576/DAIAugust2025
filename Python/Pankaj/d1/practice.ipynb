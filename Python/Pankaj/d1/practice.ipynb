{
 "cells": [
  {
   "metadata": {},
   "cell_type": "markdown",
   "source": "day3",
   "id": "3bee74f1b667a8b6"
  },
  {
   "cell_type": "code",
   "id": "initial_id",
   "metadata": {
    "collapsed": true,
    "ExecuteTime": {
     "end_time": "2025-09-11T06:42:02.728785Z",
     "start_time": "2025-09-11T06:42:02.722740Z"
    }
   },
   "source": [
    "##4.\n",
    "##take expression as string arguement\n",
    "\n",
    "def  isPanagram(str):\n",
    "    s=set(str)\n",
    "    print(s)\n",
    "\n",
    "isPanagram(\"dfdh dfdjfkdfj sdsd\")"
   ],
   "outputs": [
    {
     "name": "stdout",
     "output_type": "stream",
     "text": [
      "{'d', 'k', 's', 'j', 'f', 'h', ' '}\n"
     ]
    }
   ],
   "execution_count": 1
  },
  {
   "metadata": {},
   "cell_type": "markdown",
   "source": "day4",
   "id": "e343c8faad11296f"
  },
  {
   "metadata": {
    "ExecuteTime": {
     "end_time": "2025-09-12T03:54:50.218811Z",
     "start_time": "2025-09-12T03:54:50.212345Z"
    }
   },
   "cell_type": "code",
   "source": [
    "#write a function analyse_text(String) to perform following operations:\n",
    "#count no of words\n",
    "#no of unique words\n",
    "#no of vowels\n",
    "#longest word\n",
    "#shortest word\n",
    "#most common length word"
   ],
   "id": "85aa37a095d38735",
   "outputs": [],
   "execution_count": 3
  },
  {
   "metadata": {},
   "cell_type": "code",
   "outputs": [],
   "execution_count": null,
   "source": "def analyse_text(str):\n",
   "id": "4288cec8ea8b54f5"
  }
 ],
 "metadata": {
  "kernelspec": {
   "display_name": "Python 3",
   "language": "python",
   "name": "python3"
  },
  "language_info": {
   "codemirror_mode": {
    "name": "ipython",
    "version": 2
   },
   "file_extension": ".py",
   "mimetype": "text/x-python",
   "name": "python",
   "nbconvert_exporter": "python",
   "pygments_lexer": "ipython2",
   "version": "2.7.6"
  }
 },
 "nbformat": 4,
 "nbformat_minor": 5
}
