{
 "cells": [
  {
   "metadata": {},
   "cell_type": "markdown",
   "source": "# Function overloading",
   "id": "a726316317873d44"
  },
  {
   "metadata": {},
   "cell_type": "markdown",
   "source": "## Method Overriding",
   "id": "3f4bc597aee6b13c"
  },
  {
   "metadata": {
    "ExecuteTime": {
     "end_time": "2025-09-17T03:53:02.233249Z",
     "start_time": "2025-09-17T03:53:02.226365Z"
    }
   },
   "cell_type": "code",
   "source": [
    "\n",
    "class Calculator:\n",
    "    def add(self,a,b):\n",
    "        return a+b\n",
    "\n",
    "class AdvCalc(Calculator):\n",
    "    def add(self,a,b):\n",
    "        return super().add(a,b)\n",
    "        # return a+b+2\n",
    "\n",
    "c=Calculator()\n",
    "print(c.add(4,5))\n",
    "\n",
    "d=AdvCalc()\n",
    "print(d.add(4,5))"
   ],
   "id": "21f71b0916781f29",
   "outputs": [
    {
     "name": "stdout",
     "output_type": "stream",
     "text": [
      "9\n",
      "9\n"
     ]
    }
   ],
   "execution_count": 7
  },
  {
   "metadata": {
    "ExecuteTime": {
     "end_time": "2025-09-17T04:14:37.222579Z",
     "start_time": "2025-09-17T04:14:37.214591Z"
    }
   },
   "cell_type": "code",
   "source": [
    "#class Student with attribute name, marks\n",
    "lst =[]\n",
    "class Student:\n",
    "    def __init__(self,name=\"noOne\",*args):\n",
    "        self.marks = {}\n",
    "        self.name = name\n",
    "        for i in range(0,len(args),2):\n",
    "            self.marks[args[i]] = args[i+1]\n",
    "\n",
    "    def calcPer(self):\n",
    "        tm=0\n",
    "        for k,v in self.marks.items():\n",
    "           tm+=v\n",
    "        return tm/len(self.marks)\n",
    "\n",
    "    def max_per_stu(self):\n",
    "        mx = 0\n",
    "        rs = Student()\n",
    "        for s in lst:\n",
    "            per =s.calcPer()\n",
    "            if(per>mx):\n",
    "                mx = per\n",
    "                rs=s\n",
    "        return rs\n",
    "\n",
    "    def min_per_stu(self):\n",
    "        mx = 0\n",
    "        rs = Student()\n",
    "        for s in lst:\n",
    "            per =s.calcPer()\n",
    "            if(per>mx):\n",
    "                mx = per\n",
    "                rs=s\n",
    "        return rs\n",
    "\n",
    "\n",
    "\n",
    "\n",
    "if __name__ ==\"__main__\":\n",
    "    s=Student(\"Pankaj\",\"CS\",50,\"EC\",70,\"EE\",90)\n",
    "    s2=Student(\"Ravi\",\"CS\",40,\"EC\",80,\"EE\",60)\n",
    "    s3=Student(\"Suraj\",\"CS\",40,\"EC\",40,\"EE\",40)\n",
    "\n",
    "    lst.append(s,s2,s3)\n",
    "    print(f\"{s.name}: {s.marks}\")\n",
    "    print(f\"{s2.name}: {s2.marks}\")\n",
    "    print(f\"{s3.name}: {s3.marks}\")\n",
    "#1. calculate percentage of a student\n",
    "\n",
    "\n",
    "#2. print info of a student\n",
    "#3. store multipke student in the list and find student with max and min percentage"
   ],
   "id": "fd6fb7c28a29073f",
   "outputs": [
    {
     "name": "stdout",
     "output_type": "stream",
     "text": [
      "Pankaj: {'CS': 50, 'EC': 70, 'EE': 90}\n",
      "Ravi: {'CS': 40, 'EC': 80, 'EE': 60}\n",
      "Suraj: {'CS': 40, 'EC': 40, 'EE': 40}\n"
     ]
    }
   ],
   "execution_count": 12
  },
  {
   "metadata": {},
   "cell_type": "markdown",
   "source": "## Employee heirarchy problem",
   "id": "2044e27d89a68c67"
  },
  {
   "metadata": {
    "ExecuteTime": {
     "end_time": "2025-09-17T14:45:24.645688Z",
     "start_time": "2025-09-17T14:45:24.637826Z"
    }
   },
   "cell_type": "code",
   "source": [
    "## Create a Empoyee class: empid, empname,basicsalary,pf,pt,hra,medicalAllowance, necessary constructor\n",
    "##method to calculate gross and net salary\n",
    "##show details of employee\n",
    "\n",
    "##a subclass manager with extra attributes, managerAllowanc,foodAllowance,otherAllowance"
   ],
   "id": "690ff04c52de8acd",
   "outputs": [],
   "execution_count": 1
  },
  {
   "metadata": {
    "ExecuteTime": {
     "end_time": "2025-09-17T17:26:36.446827Z",
     "start_time": "2025-09-17T17:26:36.430599Z"
    }
   },
   "cell_type": "code",
   "source": [
    "emp_list = list()\n",
    "class Employee:\n",
    "    _eid =1\n",
    "    def __init__(self,ename,basic_sal):\n",
    "        Employee._eid+=1\n",
    "        self._ename = ename\n",
    "        self._basic_sal = basic_sal\n",
    "        self._pfp = 12\n",
    "        self._pt = 200\n",
    "        self._hrap = 50\n",
    "        self._ma = 1000\n",
    "\n",
    "    def calc_gross(self):\n",
    "        pf = self._pfp*self._basic_sal/100\n",
    "        hra = self._hrap*self._basic_sal/100\n",
    "        return self._basic_sal+hra+self._ma\n",
    "\n",
    "    def calc_net(self):\n",
    "        pf = self._pfp*self._basic_sal/100\n",
    "        return self.calc_gross()-pf-self._pt\n",
    "\n",
    "    def __str__(self):\n",
    "        return f\"{self._eid} {self._ename} {self._basic_sal} {self._pfp} {self._pt} {self._hrap} {self._ma}\"\n",
    "\n",
    "\n",
    "class Manager(Employee):\n",
    "    def __init__(self,ename,basic_sal):\n",
    "        super().__init__(ename,basic_sal)\n",
    "        self.man_allow_per = 8\n",
    "        self.food_allow_per = 10\n",
    "        self.other_allow_per = 3\n",
    "\n",
    "    def calc_gross(self):\n",
    "        return super().calc_gross()+self.man_allow_per*self._basic_sal/100+self.food_allow_per*self._basic_sal/100+self.other_allow_per*self._basic_sal/100\n",
    "\n",
    "    def calc_net(self):\n",
    "        pf = self._pfp*self._basic_sal/100\n",
    "        return self.calc_gross()-pf-self._pt\n",
    "\n",
    "    def __str__(self):\n",
    "        return f\"{self._eid} {self._ename} {self._basic_sal} {self._pfp} {self._pt} {self._hrap} {self._ma} {self.man_allow_per} {self.food_allow_per} {self.other_allow_per}\"\n",
    "\n",
    "class MarkExecutive(Employee):\n",
    "    def __init__(self,ename,basic_sal,kms_travelled):\n",
    "        super().__init__(ename,basic_sal)\n",
    "        self.kms_travelled = kms_travelled\n",
    "        self.phone_allow = 1000\n",
    "        self.travel_allow = 5*kms_travelled\n",
    "\n",
    "    def calc_gross(self):\n",
    "        return super().calc_gross()+self.phone_allow+self.travel_allow\n",
    "\n",
    "    def calc_net(self):\n",
    "        pf = self._pfp*self._basic_sal/100\n",
    "        return self.calc_gross()-pf-self._pt\n",
    "\n",
    "    def __str__(self):\n",
    "        return f\"{self._eid} {self._ename} {self._basic_sal} {self._pfp} {self._pt} {self._hrap} {self._ma} {self.kms_travelled} {self.phone_allow} {self.travel_allow}\""
   ],
   "id": "39d9f4c72d2b1bb2",
   "outputs": [],
   "execution_count": 17
  },
  {
   "metadata": {
    "ExecuteTime": {
     "end_time": "2025-09-17T15:27:15.677879Z",
     "start_time": "2025-09-17T15:27:15.671337Z"
    }
   },
   "cell_type": "code",
   "source": [
    "if __name__ == \"__main__\":\n",
    "    e = Employee(\"Pankaj\",50000)\n",
    "    e2 = Employee(\"Suraj\",30000)\n",
    "    emp_list.append(e)\n",
    "    emp_list.append(e2)\n",
    "\n",
    "    print(e,\": \",e.calc_gross(),e.calc_net())\n",
    "    print(e2,\": \",e2.calc_gross(),e2.calc_net())"
   ],
   "id": "b6e5719309a5165f",
   "outputs": [
    {
     "name": "stdout",
     "output_type": "stream",
     "text": [
      "5 Pankaj 50000 12 200 50 1000 :  76000.0 69800.0\n",
      "5 Suraj 30000 12 200 50 1000 :  46000.0 42200.0\n"
     ]
    }
   ],
   "execution_count": 12
  },
  {
   "metadata": {},
   "cell_type": "markdown",
   "source": "## Book Library System",
   "id": "95f0814bb1053781"
  },
  {
   "metadata": {
    "ExecuteTime": {
     "end_time": "2025-09-17T17:55:32.293413Z",
     "start_time": "2025-09-17T17:55:32.272370Z"
    }
   },
   "cell_type": "code",
   "source": [
    "from datetime import datetime,timedelta\n",
    "class Book:\n",
    "    __book_id=1\n",
    "    def __init__(self,title,author):\n",
    "        Book.__book_id +=1\n",
    "        self.__title =title\n",
    "        self.__author = author\n",
    "        self.__status = True\n",
    "\n",
    "    def __str__(self):\n",
    "        return f\"title: {self.__title} author:{self.__author} status:{self.__status}\"\n",
    "\n",
    "class Member:\n",
    "    __member_id =1\n",
    "    def __init__(self,name):\n",
    "        Member.__member_id+=1\n",
    "        self.__name = name\n",
    "        self.__borrowings=[]\n",
    "\n",
    "    def __str__(self):\n",
    "        return f\"name: {self.__name} borrowings: {self.__borrowings}\"\n",
    "\n",
    "\n",
    "\n",
    "class Library:\n",
    "    __lib_id =1\n",
    "    def __init__(self):\n",
    "        Library.__lib_id+=1\n",
    "        self.__books =[]\n",
    "        self.__members =[]\n",
    "\n",
    "    def get_books(self):\n",
    "        return self.__books\n",
    "\n",
    "    def get_members(self):\n",
    "        return self.__members\n",
    "\n",
    "    def add_books(self,*books):\n",
    "        try:\n",
    "            self.__books.extend(books)\n",
    "            return True\n",
    "        except Exception as e:\n",
    "            print(f\"Internal Error: {e}\")\n",
    "            return False\n",
    "\n",
    "    def add_member(self,member):\n",
    "        try:\n",
    "            self.__members.add(member)\n",
    "        except Exception as e:\n",
    "            print(f\"Internal Error: {e}\")\n",
    "            return False\n",
    "\n",
    "    def display_books_status(self):\n",
    "        gen = (book for book in self.__books)\n",
    "        while True:\n",
    "            try:\n",
    "                book =next(gen)\n",
    "                print(book.__title,book.__status)\n",
    "            except StopIteration:\n",
    "                break\n",
    "\n",
    "    def issue_book(self,book_id,member):\n",
    "        for book in self.__books:\n",
    "            if book.__book_id == book_id:\n",
    "                book.__status = False\n",
    "                member.__borrowings((book,datetime.today()))\n",
    "                return True\n",
    "        return False\n",
    "\n",
    "    @staticmethod\n",
    "    def apply_fine(borrowing):\n",
    "        return 10*(datetime.today()-borrowing[1]-7)\n",
    "\n",
    "    def returned_book(self,borrowing,member):\n",
    "        for book in self.__books:\n",
    "            if book.__book_id == borrowing[0]:\n",
    "                if(datetime.today()-borrowing[1]) >7:\n",
    "                    print(f\" fine of {Library.apply_fine(borrowing)} rs applied\")\n",
    "                book.__status = True\n",
    "                member.__issued_books.remove(book)\n",
    "                return True\n",
    "        return False\n",
    "\n",
    "\n"
   ],
   "id": "701cad1aa7b450a9",
   "outputs": [],
   "execution_count": 22
  },
  {
   "metadata": {
    "ExecuteTime": {
     "end_time": "2025-09-17T17:55:49.723546Z",
     "start_time": "2025-09-17T17:55:49.636547Z"
    }
   },
   "cell_type": "code",
   "source": [
    "if __name__ == \"__main__\":\n",
    "    lib = Library()\n",
    "    m = Member(\"Pankaj\")\n",
    "    m2 = Member(\"Rahul\")\n",
    "\n",
    "    b = Book(\"The Shore\",\"Ravi Ashwin\")\n",
    "    b2 = Book(\"Th Elephant\",\"Krishna Murthy\")\n",
    "\n",
    "    lib.add_books(b,b2)\n",
    "    lib.add_member(m)\n",
    "    lib.add_member(m2)\n",
    "\n",
    "    print(lib.display_books_status())\n",
    "    print(lib.get_members())\n",
    "    print()\n",
    "\n",
    "    lib.issue_book(2)\n",
    "    print(lib.display_books_status())\n",
    "    print()\n",
    "    lib.returned_book(2)\n",
    "    print(lib.display_books_status())\n",
    "    print()\n",
    "\n"
   ],
   "id": "844239416307e9ce",
   "outputs": [
    {
     "name": "stdout",
     "output_type": "stream",
     "text": [
      "Internal Error: 'list' object has no attribute 'add'\n",
      "Internal Error: 'list' object has no attribute 'add'\n"
     ]
    },
    {
     "ename": "AttributeError",
     "evalue": "'Book' object has no attribute '_Library__title'",
     "output_type": "error",
     "traceback": [
      "\u001B[31m---------------------------------------------------------------------------\u001B[39m",
      "\u001B[31mAttributeError\u001B[39m                            Traceback (most recent call last)",
      "\u001B[36mCell\u001B[39m\u001B[36m \u001B[39m\u001B[32mIn[24]\u001B[39m\u001B[32m, line 13\u001B[39m\n\u001B[32m     10\u001B[39m lib.add_member(m)\n\u001B[32m     11\u001B[39m lib.add_member(m2)\n\u001B[32m---> \u001B[39m\u001B[32m13\u001B[39m \u001B[38;5;28mprint\u001B[39m(\u001B[43mlib\u001B[49m\u001B[43m.\u001B[49m\u001B[43mdisplay_books_status\u001B[49m\u001B[43m(\u001B[49m\u001B[43m)\u001B[49m)\n\u001B[32m     14\u001B[39m \u001B[38;5;28mprint\u001B[39m(lib.get_members())\n\u001B[32m     15\u001B[39m \u001B[38;5;28mprint\u001B[39m()\n",
      "\u001B[36mCell\u001B[39m\u001B[36m \u001B[39m\u001B[32mIn[22]\u001B[39m\u001B[32m, line 58\u001B[39m, in \u001B[36mLibrary.display_books_status\u001B[39m\u001B[34m(self)\u001B[39m\n\u001B[32m     56\u001B[39m \u001B[38;5;28;01mtry\u001B[39;00m:\n\u001B[32m     57\u001B[39m     book =\u001B[38;5;28mnext\u001B[39m(gen)\n\u001B[32m---> \u001B[39m\u001B[32m58\u001B[39m     \u001B[38;5;28mprint\u001B[39m(\u001B[43mbook\u001B[49m\u001B[43m.\u001B[49m\u001B[43m__title\u001B[49m,book.__status)\n\u001B[32m     59\u001B[39m \u001B[38;5;28;01mexcept\u001B[39;00m \u001B[38;5;167;01mStopIteration\u001B[39;00m:\n\u001B[32m     60\u001B[39m     \u001B[38;5;28;01mbreak\u001B[39;00m\n",
      "\u001B[31mAttributeError\u001B[39m: 'Book' object has no attribute '_Library__title'"
     ]
    }
   ],
   "execution_count": 24
  }
 ],
 "metadata": {
  "kernelspec": {
   "display_name": "Python 3",
   "language": "python",
   "name": "python3"
  },
  "language_info": {
   "codemirror_mode": {
    "name": "ipython",
    "version": 2
   },
   "file_extension": ".py",
   "mimetype": "text/x-python",
   "name": "python",
   "nbconvert_exporter": "python",
   "pygments_lexer": "ipython2",
   "version": "2.7.6"
  }
 },
 "nbformat": 4,
 "nbformat_minor": 5
}
