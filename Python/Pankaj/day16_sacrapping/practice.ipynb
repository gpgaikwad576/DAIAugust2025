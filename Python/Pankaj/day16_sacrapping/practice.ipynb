{
 "cells": [
  {
   "cell_type": "code",
   "id": "initial_id",
   "metadata": {
    "collapsed": true,
    "ExecuteTime": {
     "end_time": "2025-10-03T04:04:56.369736Z",
     "start_time": "2025-10-03T04:04:56.231693Z"
    }
   },
   "source": [
    "import requests\n",
    "from bs4 import BeautifulSoup as bs"
   ],
   "outputs": [],
   "execution_count": 5
  },
  {
   "metadata": {
    "ExecuteTime": {
     "end_time": "2025-10-03T04:05:18.812966Z",
     "start_time": "2025-10-03T04:05:18.341511Z"
    }
   },
   "cell_type": "code",
   "source": [
    "r = requests.get(\"https://www.saucedemo.com/v1/inventory.html\")\n",
    "print(r.status_code)\n",
    "print(r.text)"
   ],
   "id": "4fccb3ce089f3019",
   "outputs": [
    {
     "name": "stdout",
     "output_type": "stream",
     "text": [
      "200\n",
      "<!DOCTYPE html>\n",
      "<html>\n",
      "<head>\n",
      "    <meta charset=\"UTF-8\">\n",
      "    <meta name=\"viewport\" content=\"width=device-width, initial-scale=1, maximum-scale=1\">\n",
      "    <title>Swag Labs</title>\n",
      "    <link rel=\"stylesheet\" type=\"text/css\" href=\"css/sample-app-web.css\">\n",
      "\n",
      "</head>\n",
      "<body class=\"main-body\">\n",
      "<div id=\"page_wrapper\" class=\"page_wrapper\">\n",
      "    <div id=\"menu_button_container\"></div>\n",
      "    <div id=\"contents_wrapper\">\n",
      "        <div id=\"header_container\" class=\"header_container\">\n",
      "            <div class=\"header_label\">\n",
      "                <div class=\"app_logo\"></div>\n",
      "            </div>\n",
      "            <div id=\"shopping_cart_container\" class=\"shopping_cart_container\"></div>\n",
      "        </div>\n",
      "        <div id=\"inventory_container\"></div>\n",
      "    </div>\n",
      "    <div class=\"push\"></div>\n",
      "</div>\n",
      "<footer class=\"footer\">\n",
      "\n",
      "    <ul class=\"social\">\n",
      "        <li class=\"social_twitter\">Twitter</li>\n",
      "        <li class=\"social_facebook\">Facebook</li>\n",
      "        <li class=\"social_linkedin\">LinkedIn</li>\n",
      "    </ul>\n",
      "\n",
      "    <div class=\"footer_copy\">&copy; 2020 Sauce Labs. All Rights Reserved. Terms of Service | Privacy Policy</div>\n",
      "    <img class=\"footer_robot\" src=\"img/SwagBot_Footer_graphic.png\">\n",
      "</footer>\n",
      "<script type=\"text/javascript\" src=\"main.js\"></script></body>\n",
      "</html>\n",
      "\n"
     ]
    }
   ],
   "execution_count": 6
  },
  {
   "metadata": {
    "ExecuteTime": {
     "end_time": "2025-10-03T03:51:50.106267Z",
     "start_time": "2025-10-03T03:51:48.600087Z"
    }
   },
   "cell_type": "code",
   "source": [
    "r = requests.get(\"https://httpbin.org/get\")\n",
    "print(r.status_code)\n",
    "print(r.text)"
   ],
   "id": "f25b40e1a7f944fc",
   "outputs": [
    {
     "name": "stdout",
     "output_type": "stream",
     "text": [
      "200\n",
      "{\n",
      "  \"args\": {}, \n",
      "  \"headers\": {\n",
      "    \"Accept\": \"*/*\", \n",
      "    \"Accept-Encoding\": \"gzip, deflate\", \n",
      "    \"Host\": \"httpbin.org\", \n",
      "    \"User-Agent\": \"python-requests/2.32.5\", \n",
      "    \"X-Amzn-Trace-Id\": \"Root=1-68df4869-1d13b4d637b975d23a7a81c9\"\n",
      "  }, \n",
      "  \"origin\": \"196.1.1.6\", \n",
      "  \"url\": \"https://httpbin.org/get\"\n",
      "}\n",
      "\n"
     ]
    }
   ],
   "execution_count": 3
  },
  {
   "metadata": {
    "ExecuteTime": {
     "end_time": "2025-10-03T03:52:36.778844Z",
     "start_time": "2025-10-03T03:52:35.330Z"
    }
   },
   "cell_type": "code",
   "source": [
    "r = requests.delete(\"https://httpbin.org/delete\")\n",
    "print(r.status_code)\n",
    "print(r.text)"
   ],
   "id": "189739906ee51589",
   "outputs": [
    {
     "name": "stdout",
     "output_type": "stream",
     "text": [
      "200\n",
      "{\n",
      "  \"args\": {}, \n",
      "  \"data\": \"\", \n",
      "  \"files\": {}, \n",
      "  \"form\": {}, \n",
      "  \"headers\": {\n",
      "    \"Accept\": \"*/*\", \n",
      "    \"Accept-Encoding\": \"gzip, deflate\", \n",
      "    \"Content-Length\": \"0\", \n",
      "    \"Host\": \"httpbin.org\", \n",
      "    \"User-Agent\": \"python-requests/2.32.5\", \n",
      "    \"X-Amzn-Trace-Id\": \"Root=1-68df4898-277f12973e31047553ea85c7\"\n",
      "  }, \n",
      "  \"json\": null, \n",
      "  \"origin\": \"196.1.1.6\", \n",
      "  \"url\": \"https://httpbin.org/delete\"\n",
      "}\n",
      "\n"
     ]
    }
   ],
   "execution_count": 4
  },
  {
   "metadata": {
    "ExecuteTime": {
     "end_time": "2025-10-03T04:16:34.700745Z",
     "start_time": "2025-10-03T04:16:34.689918Z"
    }
   },
   "cell_type": "code",
   "source": [
    "soup = bs(r.text,'html.parser')\n",
    "li_lst = soup.find_all('li')\n",
    "print(li_lst)\n",
    "print()\n",
    "for li in li_lst:\n",
    "    print(li.get('class'))\n",
    "print()\n",
    "soup.li['class']"
   ],
   "id": "b3f66394ea889b",
   "outputs": [
    {
     "name": "stdout",
     "output_type": "stream",
     "text": [
      "[<li class=\"social_twitter\">Twitter</li>, <li class=\"social_facebook\">Facebook</li>, <li class=\"social_linkedin\">LinkedIn</li>]\n",
      "\n",
      "['social_twitter']\n",
      "['social_facebook']\n",
      "['social_linkedin']\n",
      "\n"
     ]
    },
    {
     "data": {
      "text/plain": [
       "['social_twitter']"
      ]
     },
     "execution_count": 13,
     "metadata": {},
     "output_type": "execute_result"
    }
   ],
   "execution_count": 13
  },
  {
   "metadata": {},
   "cell_type": "code",
   "outputs": [],
   "execution_count": null,
   "source": "",
   "id": "7e53fbf4b969bb84"
  }
 ],
 "metadata": {
  "kernelspec": {
   "display_name": "Python 3",
   "language": "python",
   "name": "python3"
  },
  "language_info": {
   "codemirror_mode": {
    "name": "ipython",
    "version": 2
   },
   "file_extension": ".py",
   "mimetype": "text/x-python",
   "name": "python",
   "nbconvert_exporter": "python",
   "pygments_lexer": "ipython2",
   "version": "2.7.6"
  }
 },
 "nbformat": 4,
 "nbformat_minor": 5
}
